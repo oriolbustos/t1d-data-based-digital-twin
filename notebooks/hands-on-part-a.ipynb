{
 "cells": [
  {
   "cell_type": "markdown",
   "id": "dcb2d621",
   "metadata": {},
   "source": [
    "<div style=\"background-color:#1e1e1e; padding:25px; border-radius:10px; display:table; width:100%;\">\n",
    "\n",
    "  <!-- Left column: text -->\n",
    "  <div style=\"display:table-cell; vertical-align:top; width:80%; padding-right:10px;\">\n",
    "    <h1 style=\"color:#4FC3F7; margin-bottom:10px;\">Hands-On Part A: Loading a Pretrained Model</h1>\n",
    "\n",
    "  <p style=\"font-size:18px; font-style:italic; color:#cccccc;\">\n",
    "    Workshop on T1D Simulator and Digital Twins for Personalized Care\n",
    "  </p>\n",
    "\n",
    "  <p style=\"font-size:15px; line-height:1.6; color:#dddddd;\">\n",
    "    This preparatory notebook demonstrates how to load a pretrained deep learning model \n",
    "    for type 1 diabetes (T1D) simulation, inspect its structure, and process patient data \n",
    "    using physiological approximations. We will use the data we process here for Part B.\n",
    "  </p>\n",
    "  </div>\n",
    "\n",
    "  <!-- Right column: logo -->\n",
    "  <div style=\"display:table-cell; vertical-align:middle; text-align:right; width:20%; padding-right:80px;\">\n",
    "    <img src=\"https://micelab.udg.edu/wp-content/uploads/2022/08/MICElab-letras_png-300x119.png\" alt=\"MiceLab Logo\" style=\"height:80px; border-radius:8px;\">\n",
    "  </div>\n",
    "\n",
    "</div>\n"
   ]
  },
  {
   "cell_type": "markdown",
   "id": "6211567f",
   "metadata": {},
   "source": [
    "<h2 style=\"color:#4FC3F7; border-bottom:2px solid #4FC3F7; padding-bottom:4px;\">\n",
    "0. Imports &amp; Set-Up\n",
    "</h2>"
   ]
  },
  {
   "cell_type": "code",
   "execution_count": null,
   "id": "dcc8fd9d",
   "metadata": {},
   "outputs": [],
   "source": [
    "import sys\n",
    "import os\n",
    "\n",
    "sys.path.append(os.path.abspath(\"..\"))\n",
    "sys.path.append(os.path.abspath(\"../scripts\"))"
   ]
  },
  {
   "cell_type": "code",
   "execution_count": null,
   "id": "280dcd9f",
   "metadata": {},
   "outputs": [],
   "source": [
    "%pip install tensorflow==2.13.0"
   ]
  },
  {
   "cell_type": "code",
   "execution_count": null,
   "id": "9253cf29",
   "metadata": {},
   "outputs": [],
   "source": [
    "%pip install netron pandas matplotlib scikit-learn tqdm"
   ]
  },
  {
   "cell_type": "code",
   "execution_count": null,
   "id": "fbcde00a",
   "metadata": {},
   "outputs": [],
   "source": [
    "%pip install -U pip setuptools wheel\n",
    "%pip uninstall -y typing_extensions\n",
    "%pip install typing_extensions==4.12.2\n",
    "%pip install -U ipykernel==6.29.5 jupyter-client traitlets"
   ]
  },
  {
   "cell_type": "code",
   "execution_count": null,
   "id": "4b650c01",
   "metadata": {},
   "outputs": [],
   "source": [
    "from pathlib import Path\n",
    "\n",
    "import matplotlib.pyplot as plt\n",
    "import netron\n",
    "import numpy as np\n",
    "import pandas as pd\n",
    "from scipy.integrate import odeint\n",
    "from tqdm import tqdm\n",
    "\n",
    "import tensorflow as tf"
   ]
  },
  {
   "cell_type": "markdown",
   "id": "272bf59d",
   "metadata": {},
   "source": [
    "<h2 style=\"color:#4FC3F7; border-bottom:2px solid #4FC3F7; padding-bottom:4px;\">\n",
    "1. Load Model\n",
    "</h2>"
   ]
  },
  {
   "cell_type": "markdown",
   "id": "51a7f13a",
   "metadata": {},
   "source": [
    "Setup path and model name."
   ]
  },
  {
   "cell_type": "code",
   "execution_count": null,
   "id": "5f53aefc",
   "metadata": {},
   "outputs": [],
   "source": [
    "path_to_model = \"../misc/\"\n",
    "model_name = \"pretrained-model.h5\"\n",
    "model_name = \"vae_decoder_epoch_010.h5\""
   ]
  },
  {
   "cell_type": "markdown",
   "id": "d029bac1",
   "metadata": {},
   "source": [
    "Load the .h5 using the `load_model` method from keras."
   ]
  },
  {
   "cell_type": "code",
   "execution_count": null,
   "id": "a5dd52f9",
   "metadata": {},
   "outputs": [],
   "source": [
    "model_filename = Path(path_to_model, model_name)\n",
    "pretrained_vae_model = tf.keras.models.load_model(model_filename)"
   ]
  },
  {
   "cell_type": "markdown",
   "id": "07c5e7ed",
   "metadata": {},
   "source": [
    "<h2 style=\"color:#4FC3F7; border-bottom:2px solid #4FC3F7; padding-bottom:4px;\">\n",
    "2. Inspect Model\n",
    "</h2>"
   ]
  },
  {
   "cell_type": "markdown",
   "id": "d7af4bb7",
   "metadata": {},
   "source": [
    "Let's explore the structure of the model we just loaded.\n",
    "\n",
    "Previous to this workshop, we trained a VAE (Variational AutoEncoder) model with some cohort's data. A VAE consists of two Neural Networks, an Encoder and a Decoder. The encoder converts real examples of the target data we want to synthesize, into a compressed representation of itself. This compressed space is called a Latent Space. Then the decoder learns to do the opposite process, from the compressed representation, reconstruct the original real samples. \n",
    "\n",
    "Once this VAE model is trained, we extract the decoder and put it inside a GAN as its generator. The genereator actually has the same task as the decoder, converting a latent vector into a real samples. In the GAN training process we use the same Latent Space structure so that the pretrained model can correctly use the previously learned information."
   ]
  },
  {
   "cell_type": "markdown",
   "id": "979ab93f",
   "metadata": {},
   "source": [
    "<h3 style=\"color:#4FC3F7; border-bottom:2px solid #4FC3F7; padding-bottom:4px;\">\n",
    "2.1 Text summary\n",
    "</h3>\n",
    "The `.summary()` method is usually the first step when inspecting a model, it shows in plain text each Layer's\n",
    "- Name and type\n",
    "- Output Shape (first element is always `None` since it will correspond to the batch size)\n",
    "- Number of Parameters\n",
    "- Layers it connects to\n",
    "- Whether it is set to trainable or  not (frozen, thus weights are not updated during backpropagation).\n",
    "\n",
    "It ends by showing the total number of parameters of the entire model."
   ]
  },
  {
   "cell_type": "code",
   "execution_count": null,
   "id": "5b9f4bfe",
   "metadata": {},
   "outputs": [],
   "source": [
    "pretrained_vae_model.summary(expand_nested=True, show_trainable=True)"
   ]
  },
  {
   "cell_type": "markdown",
   "id": "30cf2cdd",
   "metadata": {},
   "source": [
    "<h3 style=\"color:#4FC3F7; border-bottom:2px solid #4FC3F7; padding-bottom:4px;\">\n",
    "2.2 Netron: Interactive Diagram\n",
    "</h3>"
   ]
  },
  {
   "cell_type": "markdown",
   "id": "34fbc695",
   "metadata": {},
   "source": [
    "Netron is a tool for visualizing neural network models interactively in your browser. The `netron.start(model_filename)` command launches a web-based viewer, allowing you to explore the model’s architecture, layers, and parameters directly in your browser.\n",
    "\n",
    "\n",
    "After running the cell, open the provided link."
   ]
  },
  {
   "cell_type": "code",
   "execution_count": null,
   "id": "96cf2cd0",
   "metadata": {},
   "outputs": [],
   "source": [
    "netron.start(str(model_filename))"
   ]
  },
  {
   "cell_type": "markdown",
   "id": "a9ca4528",
   "metadata": {},
   "source": [
    "<h2 style=\"color:#4FC3F7; border-bottom:2px solid #4FC3F7; padding-bottom:4px;\">\n",
    "3. Load Data\n",
    "</h2>"
   ]
  },
  {
   "cell_type": "code",
   "execution_count": null,
   "id": "e6ff3cf5",
   "metadata": {},
   "outputs": [],
   "source": [
    "path_df = Path(\"../misc/data_filtered.csv\")\n",
    "\n",
    "df = pd.read_csv(path_df)\n",
    "\n",
    "display(df.head())"
   ]
  },
  {
   "cell_type": "markdown",
   "id": "a6d600a6",
   "metadata": {},
   "source": [
    "<h2 style=\"color:#4FC3F7; border-bottom:2px solid #4FC3F7; padding-bottom:4px;\">\n",
    "4. Physiological Approximations\n",
    "</h2>"
   ]
  },
  {
   "cell_type": "markdown",
   "id": "c6cde488",
   "metadata": {},
   "source": [
    "\n",
    "In this section, we use physiological models to approximate two key quantities for each patient:  \n",
    "- **PI (Plasma Insulin):** The effective insulin in the bloodstream, calculated from both bolus and basal insulin delivery using a compartmental model based on the Hovorka equations[\\[1\\]](#ref1).  \n",
    "- **RA (Rate of Appearance of Glucose):** The rate at which glucose enters the bloodstream after carbohydrate intake, also modeled using a compartmental approach[\\[1\\]](#ref1).\n",
    "\n",
    "These approximations transform raw insulin and carbohydrate data into physiologically meaningful features, which are more suitable for downstream modeling and simulation. The resulting columns, `PI` and `RA`, are added to the patient dataframes and will be used as inputs for the deep learning model in the next steps."
   ]
  },
  {
   "cell_type": "markdown",
   "id": "f60d3a8f",
   "metadata": {},
   "source": [
    "<h3 style=\"color:#4FC3F7; border-bottom:2px solid #4FC3F7; padding-bottom:4px;\">\n",
    "4.1 Equations\n",
    "</h3>\n",
    "\n",
    "Here are the implementations for solving the differential equations in Python functions."
   ]
  },
  {
   "cell_type": "code",
   "execution_count": null,
   "id": "edf7ca3f",
   "metadata": {},
   "outputs": [],
   "source": [
    "def process_pi(df: pd.DataFrame, params_pi: dict) -> pd.DataFrame:\n",
    "    \"\"\"\n",
    "    Process the 'PI' column of the dataframe using parameters from params_pi.\n",
    "\n",
    "    Args:\n",
    "        df (pd.DataFrame): Dataframe to process.\n",
    "        params_pi (dict): Dictionary containing parameter values.\n",
    "\n",
    "    Returns:\n",
    "        pd.DataFrame: Dataframe with processed 'PI' column.\n",
    "    \"\"\"\n",
    "\n",
    "    def system(y0, t, params, u_t_values):\n",
    "        s1, s2, ifa = y0  # Corrected N806\n",
    "        vi = params['VI']  # Corrected N806\n",
    "        ke = params['Ke']  # Corrected N806\n",
    "        tmaxi = params['tmaxI']  # Corrected N806\n",
    "        kdia = 1 / tmaxi  # Corrected N806\n",
    "        dt = params['dt']\n",
    "\n",
    "        u_t = u_t_values[int(t / dt)] if int(t / dt) < len(u_t_values) else 0  # Corrected SIM108\n",
    "\n",
    "        ds1 = u_t - kdia * s1  # Corrected N806\n",
    "        ds2 = kdia * (s1 - s2)  # Corrected N806\n",
    "        difa = (s2 / (tmaxi * vi)) - ke * ifa  # Corrected N806\n",
    "\n",
    "        return [ds1, ds2, difa]\n",
    "\n",
    "    # Fill missing data\n",
    "    df['bolus'] = df['bolus'].fillna(0)\n",
    "\n",
    "    bolus_by_id = {}\n",
    "    # Group by ID and process each group\n",
    "    for patient_id, group in tqdm(df.groupby('ID'), desc='Processing bolus PI', total=df['ID'].nunique()):  # Corrected N806\n",
    "        u_t_values = group['bolus'].values / params_pi['dt']\n",
    "        y0 = [0, 0, 0]  # Initial conditions\n",
    "        t = np.arange(0, len(group) * params_pi['dt'], params_pi['dt'])  # Time vector\n",
    "\n",
    "        # Solve ODE for the current group\n",
    "        sol = odeint(system, y0, t, args=(params_pi, u_t_values), hmax=params_pi['dt'])\n",
    "        bolus_by_id[patient_id] = sol[:, 2]  # Add solution for Ifa to the group's dataframe\n",
    "\n",
    "    # Fill missing data\n",
    "    df['basal'] = df['basal'].fillna(0)\n",
    "\n",
    "    basal_by_id = {}\n",
    "    # Group by ID and process each group\n",
    "    for patient_id, group in tqdm(df.groupby('ID'), desc='Processing basal PI', total=df['ID'].nunique()):  # Corrected N806\n",
    "        u_t_values = group['basal'].values / params_pi['dt']\n",
    "        y0 = [0, 0, 0]  # Initial conditions\n",
    "        t = np.arange(0, len(group) * params_pi['dt'], params_pi['dt'])  # Time vector\n",
    "\n",
    "        # Solve ODE for the current group\n",
    "        sol = odeint(system, y0, t, args=(params_pi, u_t_values), hmax=params_pi['dt'])\n",
    "        basal_by_id[patient_id] = sol[:, 2]  # Add solution for Ifa to the group's dataframe\n",
    "\n",
    "    for idx in df['ID'].unique():\n",
    "        # Retrieve the index positions for the current sub_id\n",
    "        index_positions = df[df['ID'] == idx].index\n",
    "\n",
    "        # Retrieve the corresponding values from each dictionary\n",
    "        boluses_values = bolus_by_id.get(idx, [0] * len(index_positions))\n",
    "        basal_values = basal_by_id.get(idx, [0] * len(index_positions))\n",
    "\n",
    "        pi_values = [-1*sum(x) for x in zip(boluses_values, basal_values, strict=False)]\n",
    "        df.loc[index_positions, 'PI'] = pi_values\n",
    "\n",
    "    return df\n",
    "\n",
    "\n",
    "def process_ra(df: pd.DataFrame, params_ra: dict) -> pd.DataFrame:\n",
    "    \"\"\"\n",
    "    Process the 'RA' column of the dataframe using parameters from params_ra.\n",
    "\n",
    "    Args:\n",
    "        df (pd.DataFrame): Dataframe to process.\n",
    "        params_ra (dict): Dictionary containing parameter values.\n",
    "\n",
    "    Returns:\n",
    "        pd.DataFrame: Dataframe with processed 'RA' column.\n",
    "    \"\"\"\n",
    "    dt = params_ra['dt']  # Extract time step for easier use later\n",
    "\n",
    "    def system(y0, t, params, u_t_values):\n",
    "        d1, d2 = y0  # Corrected N806\n",
    "        tau_d = params['tau_D']  # Corrected N806\n",
    "        a_g = params['A_G']  # Corrected N806\n",
    "\n",
    "        u_t = u_t_values[int(t / dt)] if int(t / dt) < len(u_t_values) else 0  # Corrected SIM108\n",
    "\n",
    "        # Rate equations\n",
    "        dd1 = a_g * u_t - 1 / tau_d * d1  # Corrected N806\n",
    "        dd2 = 1 / tau_d * d1 - 1 / tau_d * d2  # Corrected N806\n",
    "\n",
    "        return [dd1, dd2]\n",
    "\n",
    "    # Fill missing data\n",
    "    df['carbs'] = df['carbs'].fillna(0)\n",
    "\n",
    "    # Group by ID and process each group\n",
    "    for _, group in tqdm(df.groupby('ID'), desc='Processing RA', total=df['ID'].nunique()):  # Corrected N806, B007\n",
    "        u_t_values = group['carbs'].values\n",
    "        y0 = [0, 0]  # Initial conditions for D1 and D2\n",
    "        t = np.linspace(0, (len(group) - 1) * dt, len(group))  # Time vector\n",
    "\n",
    "        # Solve ODE for the current group\n",
    "        sol = odeint(system, y0, t, args=(params_ra, u_t_values), hmax=dt)\n",
    "\n",
    "        # Compute Ra from D2\n",
    "        d1, d2 = sol.T  # Corrected N806\n",
    "        ra = d2 / params_ra['tau_D']  # Corrected N806\n",
    "\n",
    "        # Store results in the group's dataframe\n",
    "        group['RA'] = ra\n",
    "        df.loc[group.index, 'RA'] = group['RA']\n",
    "\n",
    "    return df"
   ]
  },
  {
   "cell_type": "markdown",
   "id": "4ed5d380",
   "metadata": {},
   "source": [
    "<h3 style=\"color:#4FC3F7; border-bottom:2px solid #4FC3F7; padding-bottom:4px;\">\n",
    "4.2 Parameters\n",
    "</h3>"
   ]
  },
  {
   "cell_type": "markdown",
   "id": "f3603a67",
   "metadata": {},
   "source": [
    "These two dictionaries contain the parameters for the PI and RA physiological models, extracted from [\\[1\\]](#ref1).\n",
    "- **params_pi**:  \n",
    "    Dictionary of parameters for the plasma insulin (PI) physiological model:  \n",
    "    - `VI`: Insulin distribution volume (L/kg)  \n",
    "    - `Ke`: Insulin elimination rate constant (1/min)  \n",
    "    - `tmaxI`: Time-to-maximum insulin absorption (min)  \n",
    "    - `dt`: Time step for simulation (min)  \n",
    "\n",
    "- **params_ra**:  \n",
    "    Dictionary of parameters for the rate of appearance (RA) of glucose model:  \n",
    "    - `tau_D`: Time constant for glucose absorption (min)  \n",
    "    - `A_G`: Fraction of carbohydrate absorbed  \n",
    "    - `dt`: Time step for simulation (min)"
   ]
  },
  {
   "cell_type": "code",
   "execution_count": null,
   "id": "c98fb1bc",
   "metadata": {},
   "outputs": [],
   "source": [
    "params_pi: dict[str, float] = {'VI': 0.12,\n",
    "                               'Ke': 0.138,\n",
    "                               'tmaxI': 55,\n",
    "                               'dt': 5,\n",
    "                               }\n",
    "params_ra: dict[str, float] = {'tau_D': 40,\n",
    "                               'A_G': 0.8,\n",
    "                               'dt': 5\n",
    "                               }"
   ]
  },
  {
   "cell_type": "markdown",
   "id": "934eb1d7",
   "metadata": {},
   "source": [
    "<h3 style=\"color:#4FC3F7; border-bottom:2px solid #4FC3F7; padding-bottom:4px;\">\n",
    "4.3 Let's solve\n",
    "</h3>"
   ]
  },
  {
   "cell_type": "code",
   "execution_count": null,
   "id": "7057829b",
   "metadata": {},
   "outputs": [],
   "source": [
    "df = process_pi(df, params_pi)\n",
    "\n",
    "df = process_ra(df, params_ra)"
   ]
  },
  {
   "cell_type": "markdown",
   "id": "14f9869b",
   "metadata": {},
   "source": [
    "<h3 style=\"color:#4FC3F7; border-bottom:2px solid #4FC3F7; padding-bottom:4px;\">\n",
    "4.4 Plotting the Solved Equations\n",
    "</h3>\n",
    "Here we can see the original discrete signals (bolus and basal, and carbohydrate intake) plotted againsts the solved equations, which result in a continuus curve."
   ]
  },
  {
   "cell_type": "code",
   "execution_count": null,
   "id": "94190ea5",
   "metadata": {},
   "outputs": [],
   "source": [
    "length = 1000\n",
    "length = min(length, len(df))\n",
    "df_sliced = df.iloc[:length]\n",
    "df_sliced = df.iloc[:length]\n",
    "\n",
    "plt.figure(figsize=(6, 3))\n",
    "plt.plot(\n",
    "    df_sliced.index * 5,\n",
    "    df_sliced['PI'],\n",
    "    label='Solved PI',\n",
    "    color='blue',\n",
    ")\n",
    "plt.plot(df_sliced.index * 5, df_sliced['bolus'], label='Bolus', color='red')\n",
    "plt.plot(df_sliced.index * 5, df_sliced['basal'], label='Basal', color='green')\n",
    "\n",
    "plt.xlabel('Time (minutes)')\n",
    "plt.ylabel('Bolus Value')\n",
    "plt.title(f'Solved PI vs. Bolus and Basal for Patient 11 (First {length} Points / {length*5} minutes)')\n",
    "plt.legend(loc='best')\n",
    "plt.show()"
   ]
  },
  {
   "cell_type": "markdown",
   "id": "b7762ea0",
   "metadata": {},
   "source": [
    "Don't worry about the negative insulin, we flip the sign intentionally."
   ]
  },
  {
   "cell_type": "code",
   "execution_count": null,
   "id": "56eb4ee9",
   "metadata": {},
   "outputs": [],
   "source": [
    "length = 1000\n",
    "length = min(length, len(df))\n",
    "df_sliced = df.iloc[:length]\n",
    "df_sliced = df.iloc[:length]\n",
    "\n",
    "plt.figure(figsize=(6, 3))\n",
    "plt.plot(\n",
    "    df_sliced.index * 5,\n",
    "    df_sliced['RA']*10,\n",
    "    label='Solved RA',\n",
    "    color='blue',\n",
    ")\n",
    "plt.plot(df_sliced.index * 5, df_sliced['carbs'], label='Carbohydrates', color='red')\n",
    "\n",
    "plt.xlabel('Time (minutes)')\n",
    "plt.ylabel('Bolus Value')\n",
    "plt.title(f'Solved RA (scaled x10) vs. Carbohydrate Intake for Patient 11 (First {length} Points / {length*5} minutes)')\n",
    "plt.legend(loc='best')\n",
    "plt.show()"
   ]
  },
  {
   "cell_type": "markdown",
   "id": "8b8bec1a",
   "metadata": {},
   "source": [
    "For visualization purposes we have upscaled the solved RA vector."
   ]
  },
  {
   "cell_type": "markdown",
   "id": "aa6ad9d6",
   "metadata": {},
   "source": [
    "<h2 style=\"color:#4FC3F7; border-bottom:2px solid #4FC3F7; padding-bottom:4px;\">\n",
    "5. Save Processed Data for Modeling\n",
    "</h2>"
   ]
  },
  {
   "cell_type": "code",
   "execution_count": null,
   "id": "8c8eab1b",
   "metadata": {},
   "outputs": [],
   "source": [
    "columns_to_save = ['ID', 'BG', 'PI', 'RA']\n",
    "display(df[columns_to_save])\n",
    "df[columns_to_save].to_csv('../misc/data_processed.csv', index=False)"
   ]
  },
  {
   "cell_type": "markdown",
   "id": "febe8fd4",
   "metadata": {},
   "source": [
    "<h2 style=\"color:#4FC3F7; border-bottom:2px solid #4FC3F7; padding-bottom:4px;\">\n",
    "References\n",
    "</h2>\n",
    "<a id=\"ref1\"></a> [1] Hovorka R, Canonico V, Chassin LJ, Haueter U, Massi-Benedetti M, Orsini Federici M, et al. (2004). Nonlinear model predictive control of glucose concentration in subjects with type 1 diabetes. Physiological Measurement, 25(4), 905–920."
   ]
  }
 ],
 "metadata": {
  "kernelspec": {
   "display_name": ".venv",
   "language": "python",
   "name": "python3"
  },
  "language_info": {
   "codemirror_mode": {
    "name": "ipython",
    "version": 3
   },
   "file_extension": ".py",
   "mimetype": "text/x-python",
   "name": "python",
   "nbconvert_exporter": "python",
   "pygments_lexer": "ipython3",
   "version": "3.10.11"
  }
 },
 "nbformat": 4,
 "nbformat_minor": 5
}

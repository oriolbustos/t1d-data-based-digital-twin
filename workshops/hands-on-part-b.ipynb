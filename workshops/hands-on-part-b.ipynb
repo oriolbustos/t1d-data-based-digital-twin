{
 "cells": [
  {
   "cell_type": "markdown",
   "id": "9ea03d97",
   "metadata": {},
   "source": [
    "<div style=\"background-color:#1e1e1e; padding:25px; border-radius:10px; display:table; width:100%;\">\n",
    "\n",
    "  <!-- Left column: text -->\n",
    "  <div style=\"display:table-cell; vertical-align:top; width:70%; padding-right:10px;\">\n",
    "    <h1 style=\"color:#4FC3F7; margin-bottom:10px;\">Hands-On Part B: Personalization Methods</h1>\n",
    "\n",
    "  <p style=\"font-size:18px; font-style:italic; color:#cccccc;\">\n",
    "    Workshop on T1D Simulator and Digital Twins for Personalized Care\n",
    "  </p>\n",
    "\n",
    "  <p style=\"font-size:15px; line-height:1.6; color:#dddddd;\">\n",
    "fill\n",
    "  </p>\n",
    "  </div>\n",
    "\n",
    "  <!-- Right column: logo -->\n",
    "  <div style=\"display:table-cell; vertical-align:middle; text-align:left; width:30%; padding-right:50px;\">\n",
    "    <img src=\"https://micelab.udg.edu/wp-content/uploads/2022/08/MICElab-letras_png-300x119.png\" alt=\"MiceLab Logo\" style=\"height:80px; border-radius:8px;\">\n",
    "  </div>\n",
    "\n",
    "</div>\n"
   ]
  },
  {
   "cell_type": "markdown",
   "id": "4df3147c",
   "metadata": {},
   "source": [
    "<h2 style=\"color:#4FC3F7; border-bottom:2px solid #4FC3F7; padding-bottom:4px;\">\n",
    "0. Imports &amp; Set-Up\n",
    "</h2>"
   ]
  },
  {
   "cell_type": "code",
   "execution_count": 1,
   "id": "6827b06e",
   "metadata": {},
   "outputs": [],
   "source": [
    "import sys\n",
    "import os\n",
    "\n",
    "sys.path.append(os.path.abspath(\"..\"))\n",
    "sys.path.append(os.path.abspath(\"../scripts\"))"
   ]
  },
  {
   "cell_type": "code",
   "execution_count": 2,
   "id": "752529e0",
   "metadata": {},
   "outputs": [
    {
     "name": "stderr",
     "output_type": "stream",
     "text": [
      "2025-09-21 17:12:40.285566: I tensorflow/core/util/port.cc:110] oneDNN custom operations are on. You may see slightly different numerical results due to floating-point round-off errors from different computation orders. To turn them off, set the environment variable `TF_ENABLE_ONEDNN_OPTS=0`.\n",
      "2025-09-21 17:12:40.287645: I tensorflow/tsl/cuda/cudart_stub.cc:28] Could not find cuda drivers on your machine, GPU will not be used.\n",
      "2025-09-21 17:12:40.333069: I tensorflow/tsl/cuda/cudart_stub.cc:28] Could not find cuda drivers on your machine, GPU will not be used.\n",
      "2025-09-21 17:12:40.334867: I tensorflow/core/platform/cpu_feature_guard.cc:182] This TensorFlow binary is optimized to use available CPU instructions in performance-critical operations.\n",
      "To enable the following instructions: AVX2 AVX512F AVX512_VNNI FMA, in other operations, rebuild TensorFlow with the appropriate compiler flags.\n",
      "2025-09-21 17:12:41.829565: W tensorflow/compiler/tf2tensorrt/utils/py_utils.cc:38] TF-TRT Warning: Could not find TensorRT\n"
     ]
    }
   ],
   "source": [
    "from pathlib import Path\n",
    "import joblib\n",
    "import numpy as np\n",
    "import pandas as pd\n",
    "import matplotlib.pyplot as plt\n",
    "from dataclasses import dataclass\n",
    "\n",
    "from sklearn.model_selection import train_test_split\n",
    "\n",
    "from datetime import datetime\n",
    "from types import SimpleNamespace\n",
    "import pytz\n",
    "from tqdm import tqdm\n",
    "from scripts.data_classes import TrainingData\n",
    "from scripts.gan import GANModel\n",
    "from scripts.simulate import SimulatorVAEGAN"
   ]
  },
  {
   "cell_type": "markdown",
   "id": "1b00b7ad",
   "metadata": {},
   "source": [
    "Check GPU availability for TensorFlow, not essential."
   ]
  },
  {
   "cell_type": "code",
   "execution_count": 3,
   "id": "211efa1f",
   "metadata": {},
   "outputs": [
    {
     "name": "stdout",
     "output_type": "stream",
     "text": [
      "TensorFlow version: 2.13.0\n",
      "Num GPUs Available: 0\n",
      "GPUs: []\n"
     ]
    }
   ],
   "source": [
    "import os\n",
    "os.environ[\"CUDA_VISIBLE_DEVICES\"] = \"\"\n",
    "import tensorflow as tf\n",
    "\n",
    "print(\"TensorFlow version:\", tf.__version__)\n",
    "print(\"Num GPUs Available:\", len(tf.config.list_physical_devices('GPU')))\n",
    "print(\"GPUs:\", tf.config.list_physical_devices('GPU'))"
   ]
  },
  {
   "cell_type": "code",
   "execution_count": 4,
   "id": "2d5bfa9e",
   "metadata": {},
   "outputs": [],
   "source": [
    "import os, sys, contextlib, io\n",
    "\n",
    "os.environ['TF_CPP_MIN_LOG_LEVEL'] = '3'   # still useful for later logs\n",
    "os.environ['ABSL_LOG_LEVEL']      = '3'\n",
    "\n",
    "@contextlib.contextmanager\n",
    "def mute_tensorflow_startup():\n",
    "    \"\"\"Silence C++ factory/placer warnings emitted during the first TF import.\"\"\"\n",
    "    stderr_fileno = sys.stderr.fileno()\n",
    "    with open(os.devnull, 'w') as devnull:\n",
    "        saved_stderr = os.dup(stderr_fileno)\n",
    "        os.dup2(devnull.fileno(), stderr_fileno)   # redirect to /dev/null\n",
    "        try:\n",
    "            yield\n",
    "        finally:\n",
    "            os.dup2(saved_stderr, stderr_fileno)   # restore stderr\n",
    "            os.close(saved_stderr)\n",
    "\n",
    "with mute_tensorflow_startup():\n",
    "    import tensorflow as tf\n",
    "\n",
    "from tensorflow.python.ops.numpy_ops import np_config\n",
    "np_config.enable_numpy_behavior() # essential for indexing tensors, code crashes without this"
   ]
  },
  {
   "cell_type": "markdown",
   "id": "3a45fd20",
   "metadata": {},
   "source": [
    "<h2 style=\"color:#4FC3F7; border-bottom:2px solid #4FC3F7; padding-bottom:4px;\">\n",
    "1. Load Model & Data\n",
    "</h2>"
   ]
  },
  {
   "cell_type": "markdown",
   "id": "69c41e56",
   "metadata": {},
   "source": [
    "Setup path and model name."
   ]
  },
  {
   "cell_type": "code",
   "execution_count": 5,
   "id": "ddcfe1e0",
   "metadata": {},
   "outputs": [],
   "source": [
    "path_to_model = \"../misc/\"\n",
    "model_name = \"pretrained-model.h5\""
   ]
  },
  {
   "cell_type": "markdown",
   "id": "7049c173",
   "metadata": {},
   "source": [
    "Load the .h5 using the `load_model` method from keras."
   ]
  },
  {
   "cell_type": "code",
   "execution_count": 6,
   "id": "270297d5",
   "metadata": {},
   "outputs": [
    {
     "name": "stdout",
     "output_type": "stream",
     "text": [
      "WARNING:tensorflow:No training configuration found in the save file, so the model was *not* compiled. Compile it manually.\n"
     ]
    }
   ],
   "source": [
    "model_filename = Path(path_to_model, model_name)\n",
    "pretrained_vae_model = tf.keras.models.load_model(model_filename)"
   ]
  },
  {
   "cell_type": "code",
   "execution_count": 7,
   "id": "05d0ba9c",
   "metadata": {},
   "outputs": [
    {
     "data": {
      "application/vnd.microsoft.datawrangler.viewer.v0+json": {
       "columns": [
        {
         "name": "index",
         "rawType": "int64",
         "type": "integer"
        },
        {
         "name": "ID",
         "rawType": "object",
         "type": "string"
        },
        {
         "name": "BG",
         "rawType": "float64",
         "type": "float"
        },
        {
         "name": "PI",
         "rawType": "float64",
         "type": "float"
        },
        {
         "name": "RA",
         "rawType": "float64",
         "type": "float"
        }
       ],
       "ref": "2b1d95b3-9eee-4bda-8647-945cf58c2921",
       "rows": [
        [
         "0",
         "11_0",
         "134.0",
         "0.0",
         "0.0"
        ],
        [
         "1",
         "11_0",
         "125.0",
         "0.0002712096011543",
         "0.0"
        ],
        [
         "2",
         "11_0",
         "132.0",
         "0.0015104744754281",
         "0.0"
        ],
        [
         "3",
         "11_0",
         "132.0",
         "0.0034881639011847",
         "0.0"
        ],
        [
         "4",
         "11_0",
         "132.0",
         "0.0067405298863417",
         "0.0"
        ]
       ],
       "shape": {
        "columns": 4,
        "rows": 5
       }
      },
      "text/html": [
       "<div>\n",
       "<style scoped>\n",
       "    .dataframe tbody tr th:only-of-type {\n",
       "        vertical-align: middle;\n",
       "    }\n",
       "\n",
       "    .dataframe tbody tr th {\n",
       "        vertical-align: top;\n",
       "    }\n",
       "\n",
       "    .dataframe thead th {\n",
       "        text-align: right;\n",
       "    }\n",
       "</style>\n",
       "<table border=\"1\" class=\"dataframe\">\n",
       "  <thead>\n",
       "    <tr style=\"text-align: right;\">\n",
       "      <th></th>\n",
       "      <th>ID</th>\n",
       "      <th>BG</th>\n",
       "      <th>PI</th>\n",
       "      <th>RA</th>\n",
       "    </tr>\n",
       "  </thead>\n",
       "  <tbody>\n",
       "    <tr>\n",
       "      <th>0</th>\n",
       "      <td>11_0</td>\n",
       "      <td>134.0</td>\n",
       "      <td>0.000000</td>\n",
       "      <td>0.0</td>\n",
       "    </tr>\n",
       "    <tr>\n",
       "      <th>1</th>\n",
       "      <td>11_0</td>\n",
       "      <td>125.0</td>\n",
       "      <td>0.000271</td>\n",
       "      <td>0.0</td>\n",
       "    </tr>\n",
       "    <tr>\n",
       "      <th>2</th>\n",
       "      <td>11_0</td>\n",
       "      <td>132.0</td>\n",
       "      <td>0.001510</td>\n",
       "      <td>0.0</td>\n",
       "    </tr>\n",
       "    <tr>\n",
       "      <th>3</th>\n",
       "      <td>11_0</td>\n",
       "      <td>132.0</td>\n",
       "      <td>0.003488</td>\n",
       "      <td>0.0</td>\n",
       "    </tr>\n",
       "    <tr>\n",
       "      <th>4</th>\n",
       "      <td>11_0</td>\n",
       "      <td>132.0</td>\n",
       "      <td>0.006741</td>\n",
       "      <td>0.0</td>\n",
       "    </tr>\n",
       "  </tbody>\n",
       "</table>\n",
       "</div>"
      ],
      "text/plain": [
       "     ID     BG        PI   RA\n",
       "0  11_0  134.0  0.000000  0.0\n",
       "1  11_0  125.0  0.000271  0.0\n",
       "2  11_0  132.0  0.001510  0.0\n",
       "3  11_0  132.0  0.003488  0.0\n",
       "4  11_0  132.0  0.006741  0.0"
      ]
     },
     "metadata": {},
     "output_type": "display_data"
    }
   ],
   "source": [
    "path_df = Path(\"../data/data_processed.csv\")\n",
    "\n",
    "df = pd.read_csv(path_df)\n",
    "\n",
    "display(df.head())"
   ]
  },
  {
   "cell_type": "markdown",
   "id": "eea39e81",
   "metadata": {},
   "source": [
    "<h2 style=\"color:#4FC3F7; border-bottom:2px solid #4FC3F7; padding-bottom:4px;\">\n",
    "2. S\n",
    "</h2>"
   ]
  },
  {
   "cell_type": "code",
   "execution_count": 8,
   "id": "28f9f535",
   "metadata": {},
   "outputs": [],
   "source": [
    "settings = SimpleNamespace()"
   ]
  },
  {
   "cell_type": "code",
   "execution_count": 9,
   "id": "6e9840be",
   "metadata": {},
   "outputs": [],
   "source": [
    "# preprocessing settings\n",
    "settings.random_state = 0\n",
    "settings.scaler_range = (0, 1)\n",
    "settings.glucose_dim = int(90/5) # prediction horizon 90 min, data"
   ]
  },
  {
   "cell_type": "code",
   "execution_count": 10,
   "id": "e541fcfc",
   "metadata": {},
   "outputs": [],
   "source": [
    "# training settings\n",
    "settings.in_data_shape = (1, 1)\n",
    "settings.weight_clip = 1\n",
    "\n",
    "settings.learning_rate_discriminator = 0.0001\n",
    "settings.learning_rate_generator = 1e-04\n",
    "settings.ratio_generator_losses = [1, 1]\n",
    "\n",
    "settings.n_epochs_gan = 50\n",
    "settings.batch_size_gan = 32\n",
    "\n",
    "settings.y_real_label = 1\n",
    "settings.y_fake_label = -1"
   ]
  },
  {
   "cell_type": "code",
   "execution_count": 11,
   "id": "cc729f90",
   "metadata": {},
   "outputs": [],
   "source": [
    "# simulation settings\n",
    "settings.simulation_length = 2\n",
    "settings.padding_steps = 12 # 12*5min = 1h padding"
   ]
  },
  {
   "cell_type": "code",
   "execution_count": 12,
   "id": "9329c0fc",
   "metadata": {},
   "outputs": [],
   "source": [
    "# don't modify these unless you know what you're doing\n",
    "settings.gan_inputs = ['BG', 'PI', 'RA']\n",
    "settings.scalers_path = '../misc/'\n",
    "settings.out_data_shape = (1, settings.glucose_dim)\n",
    "settings.latent_dimensions = settings.glucose_dim"
   ]
  },
  {
   "cell_type": "code",
   "execution_count": 13,
   "id": "8e5e5f5e",
   "metadata": {},
   "outputs": [],
   "source": [
    "def manual_minmax_scaling(data: np.ndarray, scaler_range: tuple) -> tuple[np.ndarray, float, float]:\n",
    "    \"\"\"\n",
    "    Perform manual min-max scaling on the data.\n",
    "\n",
    "    Args:\n",
    "        data (np.ndarray): Data to scale.\n",
    "    Returns:\n",
    "        Tuple[np.ndarray, float, float]: Scaled data, minimum value, and maximum value.\n",
    "    \"\"\"\n",
    "    lower_bound = scaler_range[0]\n",
    "    upper_bound = scaler_range[1]\n",
    "    min_val = np.min(data)\n",
    "    max_val = np.max(data)\n",
    "    scaled_data = lower_bound + (upper_bound - lower_bound) * (data - min_val) / (max_val - min_val)\n",
    "\n",
    "    return scaled_data, min_val, max_val\n",
    "\n",
    "def individual_min_max_scaling(\n",
    "    df: pd.DataFrame, base_output_dir: Path, scaler_range: tuple, gan_inputs: list\n",
    ") -> pd.DataFrame:\n",
    "    \"\"\"\n",
    "    Perform individual min-max scaling on the dataframe columns.\n",
    "    Scale all three columns the same way and save only the scalers for 'BG'.\n",
    "\n",
    "    Args:\n",
    "        df (pd.DataFrame): Dataframe to scale.\n",
    "        base_output_dir (Path): Directory to save the scalers.\n",
    "    Returns:\n",
    "        pd.DataFrame: Scaled dataframe.\n",
    "    \"\"\"\n",
    "    scalers: dict[str, list[float]] = {'BG_min': [], 'BG_max': []}\n",
    "    scaled_dfs: list[pd.DataFrame] = []\n",
    "\n",
    "    for column in gan_inputs:\n",
    "        if column not in ['BG', 'IG']:\n",
    "            df[f'sc{column}'], _, _ = manual_minmax_scaling(df[column], scaler_range)\n",
    "\n",
    "    df['scBG'], min_val, max_val = (manual_minmax_scaling(df['BG'], scaler_range))\n",
    "\n",
    "    scalers['BG_min'].append(min_val)\n",
    "    scalers['BG_max'].append(max_val)\n",
    "\n",
    "    scaled_dfs.append(df)\n",
    "\n",
    "    scaled_df = pd.concat(scaled_dfs, ignore_index=True)\n",
    "    scaled_df = scaled_df.sort_values(by=['ID', 'iteration']).reset_index(drop=True)\n",
    "\n",
    "    save_scalers(pd.DataFrame(scalers), base_output_dir)\n",
    "\n",
    "    return scaled_df\n",
    "\n",
    "def save_scalers(scalers_df: pd.DataFrame, base_output_dir: Path) -> None:\n",
    "    \"\"\"\n",
    "    Save the scalers to a file.\n",
    "\n",
    "    Args:\n",
    "        scalers (Dict[str, List[float]]): Dictionary containing the scalers.\n",
    "        base_output_dir (Path): Directory to save the scalers.\n",
    "    \"\"\"\n",
    "    scalers_file: Path = Path(base_output_dir, 'bg_scalers.joblib')\n",
    "    joblib.dump(scalers_df, scalers_file)"
   ]
  },
  {
   "cell_type": "code",
   "execution_count": 14,
   "id": "a50a2c45",
   "metadata": {},
   "outputs": [
    {
     "data": {
      "application/vnd.microsoft.datawrangler.viewer.v0+json": {
       "columns": [
        {
         "name": "index",
         "rawType": "int64",
         "type": "integer"
        },
        {
         "name": "ID",
         "rawType": "object",
         "type": "string"
        },
        {
         "name": "BG",
         "rawType": "float64",
         "type": "float"
        },
        {
         "name": "PI",
         "rawType": "float64",
         "type": "float"
        },
        {
         "name": "RA",
         "rawType": "float64",
         "type": "float"
        },
        {
         "name": "iteration",
         "rawType": "int64",
         "type": "integer"
        },
        {
         "name": "scPI",
         "rawType": "float64",
         "type": "float"
        },
        {
         "name": "scRA",
         "rawType": "float64",
         "type": "float"
        },
        {
         "name": "scBG",
         "rawType": "float64",
         "type": "float"
        }
       ],
       "ref": "a577da29-8659-4696-93c8-cd51ba36622b",
       "rows": [
        [
         "0",
         "11_0",
         "134.0",
         "0.0",
         "0.0",
         "0",
         "-1.0",
         "-1.0",
         "-0.24603174603174605"
        ],
        [
         "1",
         "11_0",
         "125.0",
         "0.0002712096011543",
         "0.0",
         "1",
         "-0.9998051625603375",
         "-1.0",
         "-0.31746031746031744"
        ],
        [
         "2",
         "11_0",
         "132.0",
         "0.0015104744754281",
         "0.0",
         "2",
         "-0.9989148725627136",
         "-1.0",
         "-0.26190476190476186"
        ],
        [
         "3",
         "11_0",
         "132.0",
         "0.0034881639011847",
         "0.0",
         "3",
         "-0.997494097108887",
         "-1.0",
         "-0.26190476190476186"
        ],
        [
         "4",
         "11_0",
         "132.0",
         "0.0067405298863417",
         "0.0",
         "4",
         "-0.9951575918424934",
         "-1.0",
         "-0.26190476190476186"
        ],
        [
         "5",
         "11_0",
         "131.0",
         "0.0129393365033178",
         "0.0",
         "5",
         "-0.9907043586048996",
         "-1.0",
         "-0.2698412698412699"
        ],
        [
         "6",
         "11_0",
         "134.0",
         "0.0256317404356903",
         "0.0",
         "6",
         "-0.9815861139895868",
         "-1.0",
         "-0.24603174603174605"
        ],
        [
         "7",
         "11_0",
         "135.0",
         "0.0420716578881606",
         "0.0",
         "7",
         "-0.9697756492749524",
         "-1.0",
         "-0.23809523809523814"
        ],
        [
         "8",
         "11_0",
         "130.0",
         "0.0616813911615503",
         "0.0",
         "8",
         "-0.955687983472594",
         "-1.0",
         "-0.2777777777777778"
        ],
        [
         "9",
         "11_0",
         "128.0",
         "0.0880397676932727",
         "0.0",
         "9",
         "-0.9367520808524638",
         "-1.0",
         "-0.2936507936507936"
        ],
        [
         "10",
         "11_0",
         "116.0",
         "0.11713408565567",
         "0.0",
         "10",
         "-0.9158506732459666",
         "-1.0",
         "-0.38888888888888884"
        ],
        [
         "11",
         "11_0",
         "108.0",
         "0.1457365178565112",
         "0.0",
         "11",
         "-0.8953026372088392",
         "-1.0",
         "-0.45238095238095233"
        ],
        [
         "12",
         "11_0",
         "111.0",
         "0.1721609600760216",
         "0.0",
         "12",
         "-0.8763192728860135",
         "-1.0",
         "-0.4285714285714286"
        ],
        [
         "13",
         "11_0",
         "111.0",
         "0.195183606709018",
         "0.0",
         "13",
         "-0.8597797643098531",
         "-1.0",
         "-0.4285714285714286"
        ],
        [
         "14",
         "11_0",
         "106.0",
         "0.2152044952170755",
         "0.0",
         "14",
         "-0.8453967238862217",
         "-1.0",
         "-0.46825396825396826"
        ],
        [
         "15",
         "11_0",
         "97.0",
         "0.2327511224965241",
         "0.0",
         "15",
         "-0.8327911969458397",
         "-1.0",
         "-0.5396825396825398"
        ],
        [
         "16",
         "11_0",
         "96.0",
         "0.2479212219657367",
         "0.0",
         "16",
         "-0.8218929716343916",
         "-1.0",
         "-0.5476190476190477"
        ],
        [
         "17",
         "11_0",
         "96.0",
         "0.2600253283846003",
         "0.0",
         "17",
         "-0.8131973609553558",
         "-1.0",
         "-0.5476190476190477"
        ],
        [
         "18",
         "11_0",
         "97.0",
         "0.2688197692789591",
         "0.0",
         "18",
         "-0.8068794196294304",
         "-1.0",
         "-0.5396825396825398"
        ],
        [
         "19",
         "11_0",
         "99.0",
         "0.2747275106684613",
         "0.0",
         "19",
         "-0.802635288147285",
         "-1.0",
         "-0.5238095238095238"
        ],
        [
         "20",
         "11_0",
         "99.0",
         "0.2790324947786901",
         "0.0",
         "20",
         "-0.7995425802259761",
         "-1.0",
         "-0.5238095238095238"
        ],
        [
         "21",
         "11_0",
         "99.0",
         "0.282569792300377",
         "0.0",
         "21",
         "-0.7970013796581612",
         "-1.0",
         "-0.5238095238095238"
        ],
        [
         "22",
         "11_0",
         "98.0",
         "0.2857418307251193",
         "0.0",
         "22",
         "-0.7947225818480631",
         "-1.0",
         "-0.5317460317460317"
        ],
        [
         "23",
         "11_0",
         "96.0",
         "0.2887366093919735",
         "0.0",
         "23",
         "-0.7925711277501164",
         "-1.0",
         "-0.5476190476190477"
        ],
        [
         "24",
         "11_0",
         "94.0",
         "0.2916368386444795",
         "0.0",
         "24",
         "-0.790487598112568",
         "-1.0",
         "-0.5634920634920635"
        ],
        [
         "25",
         "11_0",
         "92.0",
         "0.2944743785811463",
         "0.0",
         "25",
         "-0.788449104586353",
         "-1.0",
         "-0.5793650793650793"
        ],
        [
         "26",
         "11_0",
         "91.0",
         "0.297257307335097",
         "0.0",
         "26",
         "-0.7864498438268692",
         "-1.0",
         "-0.5873015873015873"
        ],
        [
         "27",
         "11_0",
         "83.0",
         "0.2999832652270709",
         "0.0",
         "27",
         "-0.7844915110317189",
         "-1.0",
         "-0.6507936507936508"
        ],
        [
         "28",
         "11_0",
         "83.0",
         "0.3023747080486635",
         "0.0",
         "28",
         "-0.7827734944332084",
         "-1.0",
         "-0.6507936507936508"
        ],
        [
         "29",
         "11_0",
         "83.0",
         "0.3034564432537028",
         "0.0",
         "29",
         "-0.7819963740184235",
         "-1.0",
         "-0.6507936507936508"
        ],
        [
         "30",
         "11_0",
         "85.0",
         "0.3027545608533974",
         "0.0",
         "30",
         "-0.7825006075309454",
         "-1.0",
         "-0.6349206349206349"
        ],
        [
         "31",
         "11_0",
         "85.0",
         "0.3004992996600449",
         "0.0",
         "31",
         "-0.7841207910156485",
         "-1.0",
         "-0.6349206349206349"
        ],
        [
         "32",
         "11_0",
         "85.0",
         "0.297809175289697",
         "0.0",
         "32",
         "-0.7860533809477954",
         "-1.0",
         "-0.6349206349206349"
        ],
        [
         "33",
         "11_0",
         "85.0",
         "0.2953752311127746",
         "0.0",
         "33",
         "-0.7878019305924053",
         "-1.0",
         "-0.6349206349206349"
        ],
        [
         "34",
         "11_0",
         "83.0",
         "0.2934733840096654",
         "0.0",
         "34",
         "-0.789168220792392",
         "-1.0",
         "-0.6507936507936508"
        ],
        [
         "35",
         "11_0",
         "79.0",
         "0.2921800975434548",
         "0.0",
         "35",
         "-0.7900973199937265",
         "-1.0",
         "-0.6825396825396826"
        ],
        [
         "36",
         "11_0",
         "80.0",
         "0.2912082794731045",
         "0.0",
         "36",
         "-0.7907954757516309",
         "-1.0",
         "-0.6746031746031746"
        ],
        [
         "37",
         "11_0",
         "78.0",
         "0.2897669413906263",
         "0.0",
         "37",
         "-0.7918309354864005",
         "-1.0",
         "-0.6904761904761905"
        ],
        [
         "38",
         "11_0",
         "75.0",
         "0.2879171080404102",
         "0.0",
         "38",
         "-0.7931598589176674",
         "-1.0",
         "-0.7142857142857143"
        ],
        [
         "39",
         "11_0",
         "72.0",
         "0.285123442102573",
         "0.0",
         "39",
         "-0.7951668332883535",
         "-1.0",
         "-0.7380952380952381"
        ],
        [
         "40",
         "11_0",
         "67.0",
         "0.2811039905671352",
         "0.0",
         "40",
         "-0.79805441412133",
         "-1.0",
         "-0.7777777777777778"
        ],
        [
         "41",
         "11_0",
         "65.0",
         "0.2758621767096516",
         "0.0",
         "41",
         "-0.8018201421296048",
         "-1.0",
         "-0.7936507936507937"
        ],
        [
         "42",
         "11_0",
         "61.0",
         "0.2695250808438544",
         "0.0",
         "42",
         "-0.8063727225992231",
         "-1.0",
         "-0.8253968253968254"
        ],
        [
         "43",
         "11_0",
         "58.0",
         "0.2622646020542782",
         "0.0",
         "43",
         "-0.8115886629349063",
         "-1.0",
         "-0.8492063492063492"
        ],
        [
         "44",
         "11_0",
         "59.0",
         "0.2542599529580946",
         "0.0",
         "44",
         "-0.8173392164870654",
         "-1.0",
         "-0.8412698412698413"
        ],
        [
         "45",
         "11_0",
         "59.0",
         "0.2459131757104715",
         "0.0",
         "45",
         "-0.8233355554862709",
         "-1.0",
         "-0.8412698412698413"
        ],
        [
         "46",
         "11_0",
         "61.0",
         "0.2382070125067065",
         "0.0",
         "46",
         "-0.8288716762646393",
         "-1.0",
         "-0.8253968253968254"
        ],
        [
         "47",
         "11_0",
         "65.0",
         "0.2316763268260501",
         "0.0",
         "47",
         "-0.8335633319871667",
         "-1.0",
         "-0.7936507936507937"
        ],
        [
         "48",
         "11_0",
         "74.0",
         "0.2264675269254932",
         "0.0",
         "48",
         "-0.8373053427125232",
         "-1.0",
         "-0.7222222222222222"
        ],
        [
         "49",
         "11_0",
         "78.0",
         "0.2225469030392998",
         "0.0",
         "49",
         "-0.8401219255938613",
         "-1.0",
         "-0.6904761904761905"
        ]
       ],
       "shape": {
        "columns": 8,
        "rows": 1728
       }
      },
      "text/html": [
       "<div>\n",
       "<style scoped>\n",
       "    .dataframe tbody tr th:only-of-type {\n",
       "        vertical-align: middle;\n",
       "    }\n",
       "\n",
       "    .dataframe tbody tr th {\n",
       "        vertical-align: top;\n",
       "    }\n",
       "\n",
       "    .dataframe thead th {\n",
       "        text-align: right;\n",
       "    }\n",
       "</style>\n",
       "<table border=\"1\" class=\"dataframe\">\n",
       "  <thead>\n",
       "    <tr style=\"text-align: right;\">\n",
       "      <th></th>\n",
       "      <th>ID</th>\n",
       "      <th>BG</th>\n",
       "      <th>PI</th>\n",
       "      <th>RA</th>\n",
       "      <th>iteration</th>\n",
       "      <th>scPI</th>\n",
       "      <th>scRA</th>\n",
       "      <th>scBG</th>\n",
       "    </tr>\n",
       "  </thead>\n",
       "  <tbody>\n",
       "    <tr>\n",
       "      <th>0</th>\n",
       "      <td>11_0</td>\n",
       "      <td>134.0</td>\n",
       "      <td>0.000000</td>\n",
       "      <td>0.000000</td>\n",
       "      <td>0</td>\n",
       "      <td>-1.000000</td>\n",
       "      <td>-1.000000</td>\n",
       "      <td>-0.246032</td>\n",
       "    </tr>\n",
       "    <tr>\n",
       "      <th>1</th>\n",
       "      <td>11_0</td>\n",
       "      <td>125.0</td>\n",
       "      <td>0.000271</td>\n",
       "      <td>0.000000</td>\n",
       "      <td>1</td>\n",
       "      <td>-0.999805</td>\n",
       "      <td>-1.000000</td>\n",
       "      <td>-0.317460</td>\n",
       "    </tr>\n",
       "    <tr>\n",
       "      <th>2</th>\n",
       "      <td>11_0</td>\n",
       "      <td>132.0</td>\n",
       "      <td>0.001510</td>\n",
       "      <td>0.000000</td>\n",
       "      <td>2</td>\n",
       "      <td>-0.998915</td>\n",
       "      <td>-1.000000</td>\n",
       "      <td>-0.261905</td>\n",
       "    </tr>\n",
       "    <tr>\n",
       "      <th>3</th>\n",
       "      <td>11_0</td>\n",
       "      <td>132.0</td>\n",
       "      <td>0.003488</td>\n",
       "      <td>0.000000</td>\n",
       "      <td>3</td>\n",
       "      <td>-0.997494</td>\n",
       "      <td>-1.000000</td>\n",
       "      <td>-0.261905</td>\n",
       "    </tr>\n",
       "    <tr>\n",
       "      <th>4</th>\n",
       "      <td>11_0</td>\n",
       "      <td>132.0</td>\n",
       "      <td>0.006741</td>\n",
       "      <td>0.000000</td>\n",
       "      <td>4</td>\n",
       "      <td>-0.995158</td>\n",
       "      <td>-1.000000</td>\n",
       "      <td>-0.261905</td>\n",
       "    </tr>\n",
       "    <tr>\n",
       "      <th>...</th>\n",
       "      <td>...</td>\n",
       "      <td>...</td>\n",
       "      <td>...</td>\n",
       "      <td>...</td>\n",
       "      <td>...</td>\n",
       "      <td>...</td>\n",
       "      <td>...</td>\n",
       "      <td>...</td>\n",
       "    </tr>\n",
       "    <tr>\n",
       "      <th>1723</th>\n",
       "      <td>290_0</td>\n",
       "      <td>70.0</td>\n",
       "      <td>1.402729</td>\n",
       "      <td>0.052132</td>\n",
       "      <td>859</td>\n",
       "      <td>0.007723</td>\n",
       "      <td>-0.978783</td>\n",
       "      <td>-0.753968</td>\n",
       "    </tr>\n",
       "    <tr>\n",
       "      <th>1724</th>\n",
       "      <td>290_0</td>\n",
       "      <td>69.0</td>\n",
       "      <td>1.373106</td>\n",
       "      <td>0.047064</td>\n",
       "      <td>860</td>\n",
       "      <td>-0.013558</td>\n",
       "      <td>-0.980846</td>\n",
       "      <td>-0.761905</td>\n",
       "    </tr>\n",
       "    <tr>\n",
       "      <th>1725</th>\n",
       "      <td>290_0</td>\n",
       "      <td>69.0</td>\n",
       "      <td>1.344499</td>\n",
       "      <td>0.042466</td>\n",
       "      <td>861</td>\n",
       "      <td>-0.034110</td>\n",
       "      <td>-0.982717</td>\n",
       "      <td>-0.761905</td>\n",
       "    </tr>\n",
       "    <tr>\n",
       "      <th>1726</th>\n",
       "      <td>290_0</td>\n",
       "      <td>69.0</td>\n",
       "      <td>1.316954</td>\n",
       "      <td>0.038300</td>\n",
       "      <td>862</td>\n",
       "      <td>-0.053898</td>\n",
       "      <td>-0.984412</td>\n",
       "      <td>-0.761905</td>\n",
       "    </tr>\n",
       "    <tr>\n",
       "      <th>1727</th>\n",
       "      <td>290_0</td>\n",
       "      <td>67.0</td>\n",
       "      <td>1.290504</td>\n",
       "      <td>0.034526</td>\n",
       "      <td>863</td>\n",
       "      <td>-0.072899</td>\n",
       "      <td>-0.985948</td>\n",
       "      <td>-0.777778</td>\n",
       "    </tr>\n",
       "  </tbody>\n",
       "</table>\n",
       "<p>1728 rows × 8 columns</p>\n",
       "</div>"
      ],
      "text/plain": [
       "         ID     BG        PI        RA  iteration      scPI      scRA  \\\n",
       "0      11_0  134.0  0.000000  0.000000          0 -1.000000 -1.000000   \n",
       "1      11_0  125.0  0.000271  0.000000          1 -0.999805 -1.000000   \n",
       "2      11_0  132.0  0.001510  0.000000          2 -0.998915 -1.000000   \n",
       "3      11_0  132.0  0.003488  0.000000          3 -0.997494 -1.000000   \n",
       "4      11_0  132.0  0.006741  0.000000          4 -0.995158 -1.000000   \n",
       "...     ...    ...       ...       ...        ...       ...       ...   \n",
       "1723  290_0   70.0  1.402729  0.052132        859  0.007723 -0.978783   \n",
       "1724  290_0   69.0  1.373106  0.047064        860 -0.013558 -0.980846   \n",
       "1725  290_0   69.0  1.344499  0.042466        861 -0.034110 -0.982717   \n",
       "1726  290_0   69.0  1.316954  0.038300        862 -0.053898 -0.984412   \n",
       "1727  290_0   67.0  1.290504  0.034526        863 -0.072899 -0.985948   \n",
       "\n",
       "          scBG  \n",
       "0    -0.246032  \n",
       "1    -0.317460  \n",
       "2    -0.261905  \n",
       "3    -0.261905  \n",
       "4    -0.261905  \n",
       "...        ...  \n",
       "1723 -0.753968  \n",
       "1724 -0.761905  \n",
       "1725 -0.761905  \n",
       "1726 -0.761905  \n",
       "1727 -0.777778  \n",
       "\n",
       "[1728 rows x 8 columns]"
      ]
     },
     "execution_count": 14,
     "metadata": {},
     "output_type": "execute_result"
    }
   ],
   "source": [
    "df_scaled = df.copy(deep=True)\n",
    "\n",
    "df_scaled['iteration'] = df_scaled.groupby('ID').cumcount()\n",
    "df_scaled = individual_min_max_scaling(df_scaled, Path(settings.scalers_path), (-1, 1), settings.gan_inputs)\n",
    "df_scaled"
   ]
  },
  {
   "cell_type": "code",
   "execution_count": 15,
   "id": "f3e3c679",
   "metadata": {},
   "outputs": [],
   "source": [
    "def pack_data(df) -> None:\n",
    "    \"\"\"\n",
    "    Pack the data into vectors for each feature (BG).\n",
    "\n",
    "    This method creates packed vectors for blood glucose (BG)\n",
    "    by sliding a window over the time series data. The packed data is then\n",
    "    stored in new columns in the DataFrame.\n",
    "    \"\"\"\n",
    "    df = df.fillna(0)  # Fill NaN values with 0\n",
    "\n",
    "    # Pack blood glucose data\n",
    "    packed_bg_vectors: np.ndarray = np.array(\n",
    "        [\n",
    "            df.iloc[i : i + 18]['scBG'].values\n",
    "            for i in tqdm(range(len(df) - (18 - 1)), desc='Packing BG')\n",
    "        ]\n",
    "    )\n",
    "\n",
    "    df = df.iloc[: len(packed_bg_vectors)]\n",
    "    df['scBG_packed'] = list(packed_bg_vectors)\n",
    "    df.reset_index(drop=True, inplace=True)\n",
    "    return df"
   ]
  },
  {
   "cell_type": "code",
   "execution_count": 16,
   "id": "12d3519f",
   "metadata": {},
   "outputs": [
    {
     "name": "stderr",
     "output_type": "stream",
     "text": [
      "Packing BG: 100%|██████████| 1711/1711 [00:00<00:00, 17487.51it/s]\n"
     ]
    },
    {
     "data": {
      "application/vnd.microsoft.datawrangler.viewer.v0+json": {
       "columns": [
        {
         "name": "index",
         "rawType": "int64",
         "type": "integer"
        },
        {
         "name": "ID",
         "rawType": "object",
         "type": "string"
        },
        {
         "name": "BG",
         "rawType": "float64",
         "type": "float"
        },
        {
         "name": "PI",
         "rawType": "float64",
         "type": "float"
        },
        {
         "name": "RA",
         "rawType": "float64",
         "type": "float"
        },
        {
         "name": "iteration",
         "rawType": "int64",
         "type": "integer"
        },
        {
         "name": "scPI",
         "rawType": "float64",
         "type": "float"
        },
        {
         "name": "scRA",
         "rawType": "float64",
         "type": "float"
        },
        {
         "name": "scBG",
         "rawType": "float64",
         "type": "float"
        },
        {
         "name": "scBG_packed",
         "rawType": "object",
         "type": "unknown"
        }
       ],
       "ref": "b9a0f769-6fe6-4fbd-8853-3ef7b21f9073",
       "rows": [
        [
         "0",
         "11_0",
         "134.0",
         "0.0",
         "0.0",
         "0",
         "-1.0",
         "-1.0",
         "-0.24603174603174605",
         "[-0.24603175 -0.31746032 -0.26190476 -0.26190476 -0.26190476 -0.26984127\n -0.24603175 -0.23809524 -0.27777778 -0.29365079 -0.38888889 -0.45238095\n -0.42857143 -0.42857143 -0.46825397 -0.53968254 -0.54761905 -0.54761905]"
        ],
        [
         "1",
         "11_0",
         "125.0",
         "0.0002712096011543",
         "0.0",
         "1",
         "-0.9998051625603375",
         "-1.0",
         "-0.31746031746031744",
         "[-0.31746032 -0.26190476 -0.26190476 -0.26190476 -0.26984127 -0.24603175\n -0.23809524 -0.27777778 -0.29365079 -0.38888889 -0.45238095 -0.42857143\n -0.42857143 -0.46825397 -0.53968254 -0.54761905 -0.54761905 -0.53968254]"
        ],
        [
         "2",
         "11_0",
         "132.0",
         "0.0015104744754281",
         "0.0",
         "2",
         "-0.9989148725627136",
         "-1.0",
         "-0.26190476190476186",
         "[-0.26190476 -0.26190476 -0.26190476 -0.26984127 -0.24603175 -0.23809524\n -0.27777778 -0.29365079 -0.38888889 -0.45238095 -0.42857143 -0.42857143\n -0.46825397 -0.53968254 -0.54761905 -0.54761905 -0.53968254 -0.52380952]"
        ],
        [
         "3",
         "11_0",
         "132.0",
         "0.0034881639011847",
         "0.0",
         "3",
         "-0.997494097108887",
         "-1.0",
         "-0.26190476190476186",
         "[-0.26190476 -0.26190476 -0.26984127 -0.24603175 -0.23809524 -0.27777778\n -0.29365079 -0.38888889 -0.45238095 -0.42857143 -0.42857143 -0.46825397\n -0.53968254 -0.54761905 -0.54761905 -0.53968254 -0.52380952 -0.52380952]"
        ],
        [
         "4",
         "11_0",
         "132.0",
         "0.0067405298863417",
         "0.0",
         "4",
         "-0.9951575918424934",
         "-1.0",
         "-0.26190476190476186",
         "[-0.26190476 -0.26984127 -0.24603175 -0.23809524 -0.27777778 -0.29365079\n -0.38888889 -0.45238095 -0.42857143 -0.42857143 -0.46825397 -0.53968254\n -0.54761905 -0.54761905 -0.53968254 -0.52380952 -0.52380952 -0.52380952]"
        ],
        [
         "5",
         "11_0",
         "131.0",
         "0.0129393365033178",
         "0.0",
         "5",
         "-0.9907043586048996",
         "-1.0",
         "-0.2698412698412699",
         "[-0.26984127 -0.24603175 -0.23809524 -0.27777778 -0.29365079 -0.38888889\n -0.45238095 -0.42857143 -0.42857143 -0.46825397 -0.53968254 -0.54761905\n -0.54761905 -0.53968254 -0.52380952 -0.52380952 -0.52380952 -0.53174603]"
        ],
        [
         "6",
         "11_0",
         "134.0",
         "0.0256317404356903",
         "0.0",
         "6",
         "-0.9815861139895868",
         "-1.0",
         "-0.24603174603174605",
         "[-0.24603175 -0.23809524 -0.27777778 -0.29365079 -0.38888889 -0.45238095\n -0.42857143 -0.42857143 -0.46825397 -0.53968254 -0.54761905 -0.54761905\n -0.53968254 -0.52380952 -0.52380952 -0.52380952 -0.53174603 -0.54761905]"
        ],
        [
         "7",
         "11_0",
         "135.0",
         "0.0420716578881606",
         "0.0",
         "7",
         "-0.9697756492749524",
         "-1.0",
         "-0.23809523809523814",
         "[-0.23809524 -0.27777778 -0.29365079 -0.38888889 -0.45238095 -0.42857143\n -0.42857143 -0.46825397 -0.53968254 -0.54761905 -0.54761905 -0.53968254\n -0.52380952 -0.52380952 -0.52380952 -0.53174603 -0.54761905 -0.56349206]"
        ],
        [
         "8",
         "11_0",
         "130.0",
         "0.0616813911615503",
         "0.0",
         "8",
         "-0.955687983472594",
         "-1.0",
         "-0.2777777777777778",
         "[-0.27777778 -0.29365079 -0.38888889 -0.45238095 -0.42857143 -0.42857143\n -0.46825397 -0.53968254 -0.54761905 -0.54761905 -0.53968254 -0.52380952\n -0.52380952 -0.52380952 -0.53174603 -0.54761905 -0.56349206 -0.57936508]"
        ],
        [
         "9",
         "11_0",
         "128.0",
         "0.0880397676932727",
         "0.0",
         "9",
         "-0.9367520808524638",
         "-1.0",
         "-0.2936507936507936",
         "[-0.29365079 -0.38888889 -0.45238095 -0.42857143 -0.42857143 -0.46825397\n -0.53968254 -0.54761905 -0.54761905 -0.53968254 -0.52380952 -0.52380952\n -0.52380952 -0.53174603 -0.54761905 -0.56349206 -0.57936508 -0.58730159]"
        ],
        [
         "10",
         "11_0",
         "116.0",
         "0.11713408565567",
         "0.0",
         "10",
         "-0.9158506732459666",
         "-1.0",
         "-0.38888888888888884",
         "[-0.38888889 -0.45238095 -0.42857143 -0.42857143 -0.46825397 -0.53968254\n -0.54761905 -0.54761905 -0.53968254 -0.52380952 -0.52380952 -0.52380952\n -0.53174603 -0.54761905 -0.56349206 -0.57936508 -0.58730159 -0.65079365]"
        ],
        [
         "11",
         "11_0",
         "108.0",
         "0.1457365178565112",
         "0.0",
         "11",
         "-0.8953026372088392",
         "-1.0",
         "-0.45238095238095233",
         "[-0.45238095 -0.42857143 -0.42857143 -0.46825397 -0.53968254 -0.54761905\n -0.54761905 -0.53968254 -0.52380952 -0.52380952 -0.52380952 -0.53174603\n -0.54761905 -0.56349206 -0.57936508 -0.58730159 -0.65079365 -0.65079365]"
        ],
        [
         "12",
         "11_0",
         "111.0",
         "0.1721609600760216",
         "0.0",
         "12",
         "-0.8763192728860135",
         "-1.0",
         "-0.4285714285714286",
         "[-0.42857143 -0.42857143 -0.46825397 -0.53968254 -0.54761905 -0.54761905\n -0.53968254 -0.52380952 -0.52380952 -0.52380952 -0.53174603 -0.54761905\n -0.56349206 -0.57936508 -0.58730159 -0.65079365 -0.65079365 -0.65079365]"
        ],
        [
         "13",
         "11_0",
         "111.0",
         "0.195183606709018",
         "0.0",
         "13",
         "-0.8597797643098531",
         "-1.0",
         "-0.4285714285714286",
         "[-0.42857143 -0.46825397 -0.53968254 -0.54761905 -0.54761905 -0.53968254\n -0.52380952 -0.52380952 -0.52380952 -0.53174603 -0.54761905 -0.56349206\n -0.57936508 -0.58730159 -0.65079365 -0.65079365 -0.65079365 -0.63492063]"
        ],
        [
         "14",
         "11_0",
         "106.0",
         "0.2152044952170755",
         "0.0",
         "14",
         "-0.8453967238862217",
         "-1.0",
         "-0.46825396825396826",
         "[-0.46825397 -0.53968254 -0.54761905 -0.54761905 -0.53968254 -0.52380952\n -0.52380952 -0.52380952 -0.53174603 -0.54761905 -0.56349206 -0.57936508\n -0.58730159 -0.65079365 -0.65079365 -0.65079365 -0.63492063 -0.63492063]"
        ],
        [
         "15",
         "11_0",
         "97.0",
         "0.2327511224965241",
         "0.0",
         "15",
         "-0.8327911969458397",
         "-1.0",
         "-0.5396825396825398",
         "[-0.53968254 -0.54761905 -0.54761905 -0.53968254 -0.52380952 -0.52380952\n -0.52380952 -0.53174603 -0.54761905 -0.56349206 -0.57936508 -0.58730159\n -0.65079365 -0.65079365 -0.65079365 -0.63492063 -0.63492063 -0.63492063]"
        ],
        [
         "16",
         "11_0",
         "96.0",
         "0.2479212219657367",
         "0.0",
         "16",
         "-0.8218929716343916",
         "-1.0",
         "-0.5476190476190477",
         "[-0.54761905 -0.54761905 -0.53968254 -0.52380952 -0.52380952 -0.52380952\n -0.53174603 -0.54761905 -0.56349206 -0.57936508 -0.58730159 -0.65079365\n -0.65079365 -0.65079365 -0.63492063 -0.63492063 -0.63492063 -0.63492063]"
        ],
        [
         "17",
         "11_0",
         "96.0",
         "0.2600253283846003",
         "0.0",
         "17",
         "-0.8131973609553558",
         "-1.0",
         "-0.5476190476190477",
         "[-0.54761905 -0.53968254 -0.52380952 -0.52380952 -0.52380952 -0.53174603\n -0.54761905 -0.56349206 -0.57936508 -0.58730159 -0.65079365 -0.65079365\n -0.65079365 -0.63492063 -0.63492063 -0.63492063 -0.63492063 -0.65079365]"
        ],
        [
         "18",
         "11_0",
         "97.0",
         "0.2688197692789591",
         "0.0",
         "18",
         "-0.8068794196294304",
         "-1.0",
         "-0.5396825396825398",
         "[-0.53968254 -0.52380952 -0.52380952 -0.52380952 -0.53174603 -0.54761905\n -0.56349206 -0.57936508 -0.58730159 -0.65079365 -0.65079365 -0.65079365\n -0.63492063 -0.63492063 -0.63492063 -0.63492063 -0.65079365 -0.68253968]"
        ],
        [
         "19",
         "11_0",
         "99.0",
         "0.2747275106684613",
         "0.0",
         "19",
         "-0.802635288147285",
         "-1.0",
         "-0.5238095238095238",
         "[-0.52380952 -0.52380952 -0.52380952 -0.53174603 -0.54761905 -0.56349206\n -0.57936508 -0.58730159 -0.65079365 -0.65079365 -0.65079365 -0.63492063\n -0.63492063 -0.63492063 -0.63492063 -0.65079365 -0.68253968 -0.67460317]"
        ],
        [
         "20",
         "11_0",
         "99.0",
         "0.2790324947786901",
         "0.0",
         "20",
         "-0.7995425802259761",
         "-1.0",
         "-0.5238095238095238",
         "[-0.52380952 -0.52380952 -0.53174603 -0.54761905 -0.56349206 -0.57936508\n -0.58730159 -0.65079365 -0.65079365 -0.65079365 -0.63492063 -0.63492063\n -0.63492063 -0.63492063 -0.65079365 -0.68253968 -0.67460317 -0.69047619]"
        ],
        [
         "21",
         "11_0",
         "99.0",
         "0.282569792300377",
         "0.0",
         "21",
         "-0.7970013796581612",
         "-1.0",
         "-0.5238095238095238",
         "[-0.52380952 -0.53174603 -0.54761905 -0.56349206 -0.57936508 -0.58730159\n -0.65079365 -0.65079365 -0.65079365 -0.63492063 -0.63492063 -0.63492063\n -0.63492063 -0.65079365 -0.68253968 -0.67460317 -0.69047619 -0.71428571]"
        ],
        [
         "22",
         "11_0",
         "98.0",
         "0.2857418307251193",
         "0.0",
         "22",
         "-0.7947225818480631",
         "-1.0",
         "-0.5317460317460317",
         "[-0.53174603 -0.54761905 -0.56349206 -0.57936508 -0.58730159 -0.65079365\n -0.65079365 -0.65079365 -0.63492063 -0.63492063 -0.63492063 -0.63492063\n -0.65079365 -0.68253968 -0.67460317 -0.69047619 -0.71428571 -0.73809524]"
        ],
        [
         "23",
         "11_0",
         "96.0",
         "0.2887366093919735",
         "0.0",
         "23",
         "-0.7925711277501164",
         "-1.0",
         "-0.5476190476190477",
         "[-0.54761905 -0.56349206 -0.57936508 -0.58730159 -0.65079365 -0.65079365\n -0.65079365 -0.63492063 -0.63492063 -0.63492063 -0.63492063 -0.65079365\n -0.68253968 -0.67460317 -0.69047619 -0.71428571 -0.73809524 -0.77777778]"
        ],
        [
         "24",
         "11_0",
         "94.0",
         "0.2916368386444795",
         "0.0",
         "24",
         "-0.790487598112568",
         "-1.0",
         "-0.5634920634920635",
         "[-0.56349206 -0.57936508 -0.58730159 -0.65079365 -0.65079365 -0.65079365\n -0.63492063 -0.63492063 -0.63492063 -0.63492063 -0.65079365 -0.68253968\n -0.67460317 -0.69047619 -0.71428571 -0.73809524 -0.77777778 -0.79365079]"
        ],
        [
         "25",
         "11_0",
         "92.0",
         "0.2944743785811463",
         "0.0",
         "25",
         "-0.788449104586353",
         "-1.0",
         "-0.5793650793650793",
         "[-0.57936508 -0.58730159 -0.65079365 -0.65079365 -0.65079365 -0.63492063\n -0.63492063 -0.63492063 -0.63492063 -0.65079365 -0.68253968 -0.67460317\n -0.69047619 -0.71428571 -0.73809524 -0.77777778 -0.79365079 -0.82539683]"
        ],
        [
         "26",
         "11_0",
         "91.0",
         "0.297257307335097",
         "0.0",
         "26",
         "-0.7864498438268692",
         "-1.0",
         "-0.5873015873015873",
         "[-0.58730159 -0.65079365 -0.65079365 -0.65079365 -0.63492063 -0.63492063\n -0.63492063 -0.63492063 -0.65079365 -0.68253968 -0.67460317 -0.69047619\n -0.71428571 -0.73809524 -0.77777778 -0.79365079 -0.82539683 -0.84920635]"
        ],
        [
         "27",
         "11_0",
         "83.0",
         "0.2999832652270709",
         "0.0",
         "27",
         "-0.7844915110317189",
         "-1.0",
         "-0.6507936507936508",
         "[-0.65079365 -0.65079365 -0.65079365 -0.63492063 -0.63492063 -0.63492063\n -0.63492063 -0.65079365 -0.68253968 -0.67460317 -0.69047619 -0.71428571\n -0.73809524 -0.77777778 -0.79365079 -0.82539683 -0.84920635 -0.84126984]"
        ],
        [
         "28",
         "11_0",
         "83.0",
         "0.3023747080486635",
         "0.0",
         "28",
         "-0.7827734944332084",
         "-1.0",
         "-0.6507936507936508",
         "[-0.65079365 -0.65079365 -0.63492063 -0.63492063 -0.63492063 -0.63492063\n -0.65079365 -0.68253968 -0.67460317 -0.69047619 -0.71428571 -0.73809524\n -0.77777778 -0.79365079 -0.82539683 -0.84920635 -0.84126984 -0.84126984]"
        ],
        [
         "29",
         "11_0",
         "83.0",
         "0.3034564432537028",
         "0.0",
         "29",
         "-0.7819963740184235",
         "-1.0",
         "-0.6507936507936508",
         "[-0.65079365 -0.63492063 -0.63492063 -0.63492063 -0.63492063 -0.65079365\n -0.68253968 -0.67460317 -0.69047619 -0.71428571 -0.73809524 -0.77777778\n -0.79365079 -0.82539683 -0.84920635 -0.84126984 -0.84126984 -0.82539683]"
        ],
        [
         "30",
         "11_0",
         "85.0",
         "0.3027545608533974",
         "0.0",
         "30",
         "-0.7825006075309454",
         "-1.0",
         "-0.6349206349206349",
         "[-0.63492063 -0.63492063 -0.63492063 -0.63492063 -0.65079365 -0.68253968\n -0.67460317 -0.69047619 -0.71428571 -0.73809524 -0.77777778 -0.79365079\n -0.82539683 -0.84920635 -0.84126984 -0.84126984 -0.82539683 -0.79365079]"
        ],
        [
         "31",
         "11_0",
         "85.0",
         "0.3004992996600449",
         "0.0",
         "31",
         "-0.7841207910156485",
         "-1.0",
         "-0.6349206349206349",
         "[-0.63492063 -0.63492063 -0.63492063 -0.65079365 -0.68253968 -0.67460317\n -0.69047619 -0.71428571 -0.73809524 -0.77777778 -0.79365079 -0.82539683\n -0.84920635 -0.84126984 -0.84126984 -0.82539683 -0.79365079 -0.72222222]"
        ],
        [
         "32",
         "11_0",
         "85.0",
         "0.297809175289697",
         "0.0",
         "32",
         "-0.7860533809477954",
         "-1.0",
         "-0.6349206349206349",
         "[-0.63492063 -0.63492063 -0.65079365 -0.68253968 -0.67460317 -0.69047619\n -0.71428571 -0.73809524 -0.77777778 -0.79365079 -0.82539683 -0.84920635\n -0.84126984 -0.84126984 -0.82539683 -0.79365079 -0.72222222 -0.69047619]"
        ],
        [
         "33",
         "11_0",
         "85.0",
         "0.2953752311127746",
         "0.0",
         "33",
         "-0.7878019305924053",
         "-1.0",
         "-0.6349206349206349",
         "[-0.63492063 -0.65079365 -0.68253968 -0.67460317 -0.69047619 -0.71428571\n -0.73809524 -0.77777778 -0.79365079 -0.82539683 -0.84920635 -0.84126984\n -0.84126984 -0.82539683 -0.79365079 -0.72222222 -0.69047619 -0.66666667]"
        ],
        [
         "34",
         "11_0",
         "83.0",
         "0.2934733840096654",
         "0.0",
         "34",
         "-0.789168220792392",
         "-1.0",
         "-0.6507936507936508",
         "[-0.65079365 -0.68253968 -0.67460317 -0.69047619 -0.71428571 -0.73809524\n -0.77777778 -0.79365079 -0.82539683 -0.84920635 -0.84126984 -0.84126984\n -0.82539683 -0.79365079 -0.72222222 -0.69047619 -0.66666667 -0.64285714]"
        ],
        [
         "35",
         "11_0",
         "79.0",
         "0.2921800975434548",
         "0.0",
         "35",
         "-0.7900973199937265",
         "-1.0",
         "-0.6825396825396826",
         "[-0.68253968 -0.67460317 -0.69047619 -0.71428571 -0.73809524 -0.77777778\n -0.79365079 -0.82539683 -0.84920635 -0.84126984 -0.84126984 -0.82539683\n -0.79365079 -0.72222222 -0.69047619 -0.66666667 -0.64285714 -0.67460317]"
        ],
        [
         "36",
         "11_0",
         "80.0",
         "0.2912082794731045",
         "0.0",
         "36",
         "-0.7907954757516309",
         "-1.0",
         "-0.6746031746031746",
         "[-0.67460317 -0.69047619 -0.71428571 -0.73809524 -0.77777778 -0.79365079\n -0.82539683 -0.84920635 -0.84126984 -0.84126984 -0.82539683 -0.79365079\n -0.72222222 -0.69047619 -0.66666667 -0.64285714 -0.67460317 -0.70634921]"
        ],
        [
         "37",
         "11_0",
         "78.0",
         "0.2897669413906263",
         "0.0",
         "37",
         "-0.7918309354864005",
         "-1.0",
         "-0.6904761904761905",
         "[-0.69047619 -0.71428571 -0.73809524 -0.77777778 -0.79365079 -0.82539683\n -0.84920635 -0.84126984 -0.84126984 -0.82539683 -0.79365079 -0.72222222\n -0.69047619 -0.66666667 -0.64285714 -0.67460317 -0.70634921 -0.6984127 ]"
        ],
        [
         "38",
         "11_0",
         "75.0",
         "0.2879171080404102",
         "0.0",
         "38",
         "-0.7931598589176674",
         "-1.0",
         "-0.7142857142857143",
         "[-0.71428571 -0.73809524 -0.77777778 -0.79365079 -0.82539683 -0.84920635\n -0.84126984 -0.84126984 -0.82539683 -0.79365079 -0.72222222 -0.69047619\n -0.66666667 -0.64285714 -0.67460317 -0.70634921 -0.6984127  -0.6984127 ]"
        ],
        [
         "39",
         "11_0",
         "72.0",
         "0.285123442102573",
         "0.0",
         "39",
         "-0.7951668332883535",
         "-1.0",
         "-0.7380952380952381",
         "[-0.73809524 -0.77777778 -0.79365079 -0.82539683 -0.84920635 -0.84126984\n -0.84126984 -0.82539683 -0.79365079 -0.72222222 -0.69047619 -0.66666667\n -0.64285714 -0.67460317 -0.70634921 -0.6984127  -0.6984127  -0.70634921]"
        ],
        [
         "40",
         "11_0",
         "67.0",
         "0.2811039905671352",
         "0.0",
         "40",
         "-0.79805441412133",
         "-1.0",
         "-0.7777777777777778",
         "[-0.77777778 -0.79365079 -0.82539683 -0.84920635 -0.84126984 -0.84126984\n -0.82539683 -0.79365079 -0.72222222 -0.69047619 -0.66666667 -0.64285714\n -0.67460317 -0.70634921 -0.6984127  -0.6984127  -0.70634921 -0.71428571]"
        ],
        [
         "41",
         "11_0",
         "65.0",
         "0.2758621767096516",
         "0.0",
         "41",
         "-0.8018201421296048",
         "-1.0",
         "-0.7936507936507937",
         "[-0.79365079 -0.82539683 -0.84920635 -0.84126984 -0.84126984 -0.82539683\n -0.79365079 -0.72222222 -0.69047619 -0.66666667 -0.64285714 -0.67460317\n -0.70634921 -0.6984127  -0.6984127  -0.70634921 -0.71428571 -0.73015873]"
        ],
        [
         "42",
         "11_0",
         "61.0",
         "0.2695250808438544",
         "0.0",
         "42",
         "-0.8063727225992231",
         "-1.0",
         "-0.8253968253968254",
         "[-0.82539683 -0.84920635 -0.84126984 -0.84126984 -0.82539683 -0.79365079\n -0.72222222 -0.69047619 -0.66666667 -0.64285714 -0.67460317 -0.70634921\n -0.6984127  -0.6984127  -0.70634921 -0.71428571 -0.73015873 -0.73809524]"
        ],
        [
         "43",
         "11_0",
         "58.0",
         "0.2622646020542782",
         "0.0",
         "43",
         "-0.8115886629349063",
         "-1.0",
         "-0.8492063492063492",
         "[-0.84920635 -0.84126984 -0.84126984 -0.82539683 -0.79365079 -0.72222222\n -0.69047619 -0.66666667 -0.64285714 -0.67460317 -0.70634921 -0.6984127\n -0.6984127  -0.70634921 -0.71428571 -0.73015873 -0.73809524 -0.73015873]"
        ],
        [
         "44",
         "11_0",
         "59.0",
         "0.2542599529580946",
         "0.0",
         "44",
         "-0.8173392164870654",
         "-1.0",
         "-0.8412698412698413",
         "[-0.84126984 -0.84126984 -0.82539683 -0.79365079 -0.72222222 -0.69047619\n -0.66666667 -0.64285714 -0.67460317 -0.70634921 -0.6984127  -0.6984127\n -0.70634921 -0.71428571 -0.73015873 -0.73809524 -0.73015873 -0.6984127 ]"
        ],
        [
         "45",
         "11_0",
         "59.0",
         "0.2459131757104715",
         "0.0",
         "45",
         "-0.8233355554862709",
         "-1.0",
         "-0.8412698412698413",
         "[-0.84126984 -0.82539683 -0.79365079 -0.72222222 -0.69047619 -0.66666667\n -0.64285714 -0.67460317 -0.70634921 -0.6984127  -0.6984127  -0.70634921\n -0.71428571 -0.73015873 -0.73809524 -0.73015873 -0.6984127  -0.63492063]"
        ],
        [
         "46",
         "11_0",
         "61.0",
         "0.2382070125067065",
         "0.0",
         "46",
         "-0.8288716762646393",
         "-1.0",
         "-0.8253968253968254",
         "[-0.82539683 -0.79365079 -0.72222222 -0.69047619 -0.66666667 -0.64285714\n -0.67460317 -0.70634921 -0.6984127  -0.6984127  -0.70634921 -0.71428571\n -0.73015873 -0.73809524 -0.73015873 -0.6984127  -0.63492063 -0.5952381 ]"
        ],
        [
         "47",
         "11_0",
         "65.0",
         "0.2316763268260501",
         "0.0",
         "47",
         "-0.8335633319871667",
         "-1.0",
         "-0.7936507936507937",
         "[-0.79365079 -0.72222222 -0.69047619 -0.66666667 -0.64285714 -0.67460317\n -0.70634921 -0.6984127  -0.6984127  -0.70634921 -0.71428571 -0.73015873\n -0.73809524 -0.73015873 -0.6984127  -0.63492063 -0.5952381  -0.57142857]"
        ],
        [
         "48",
         "11_0",
         "74.0",
         "0.2264675269254932",
         "0.0",
         "48",
         "-0.8373053427125232",
         "-1.0",
         "-0.7222222222222222",
         "[-0.72222222 -0.69047619 -0.66666667 -0.64285714 -0.67460317 -0.70634921\n -0.6984127  -0.6984127  -0.70634921 -0.71428571 -0.73015873 -0.73809524\n -0.73015873 -0.6984127  -0.63492063 -0.5952381  -0.57142857 -0.55555556]"
        ],
        [
         "49",
         "11_0",
         "78.0",
         "0.2225469030392998",
         "0.0",
         "49",
         "-0.8401219255938613",
         "-1.0",
         "-0.6904761904761905",
         "[-0.69047619 -0.66666667 -0.64285714 -0.67460317 -0.70634921 -0.6984127\n -0.6984127  -0.70634921 -0.71428571 -0.73015873 -0.73809524 -0.73015873\n -0.6984127  -0.63492063 -0.5952381  -0.57142857 -0.55555556 -0.5952381 ]"
        ]
       ],
       "shape": {
        "columns": 9,
        "rows": 1711
       }
      },
      "text/html": [
       "<div>\n",
       "<style scoped>\n",
       "    .dataframe tbody tr th:only-of-type {\n",
       "        vertical-align: middle;\n",
       "    }\n",
       "\n",
       "    .dataframe tbody tr th {\n",
       "        vertical-align: top;\n",
       "    }\n",
       "\n",
       "    .dataframe thead th {\n",
       "        text-align: right;\n",
       "    }\n",
       "</style>\n",
       "<table border=\"1\" class=\"dataframe\">\n",
       "  <thead>\n",
       "    <tr style=\"text-align: right;\">\n",
       "      <th></th>\n",
       "      <th>ID</th>\n",
       "      <th>BG</th>\n",
       "      <th>PI</th>\n",
       "      <th>RA</th>\n",
       "      <th>iteration</th>\n",
       "      <th>scPI</th>\n",
       "      <th>scRA</th>\n",
       "      <th>scBG</th>\n",
       "      <th>scBG_packed</th>\n",
       "    </tr>\n",
       "  </thead>\n",
       "  <tbody>\n",
       "    <tr>\n",
       "      <th>0</th>\n",
       "      <td>11_0</td>\n",
       "      <td>134.0</td>\n",
       "      <td>0.000000</td>\n",
       "      <td>0.000000</td>\n",
       "      <td>0</td>\n",
       "      <td>-1.000000</td>\n",
       "      <td>-1.000000</td>\n",
       "      <td>-0.246032</td>\n",
       "      <td>[-0.24603174603174605, -0.31746031746031744, -...</td>\n",
       "    </tr>\n",
       "    <tr>\n",
       "      <th>1</th>\n",
       "      <td>11_0</td>\n",
       "      <td>125.0</td>\n",
       "      <td>0.000271</td>\n",
       "      <td>0.000000</td>\n",
       "      <td>1</td>\n",
       "      <td>-0.999805</td>\n",
       "      <td>-1.000000</td>\n",
       "      <td>-0.317460</td>\n",
       "      <td>[-0.31746031746031744, -0.26190476190476186, -...</td>\n",
       "    </tr>\n",
       "    <tr>\n",
       "      <th>2</th>\n",
       "      <td>11_0</td>\n",
       "      <td>132.0</td>\n",
       "      <td>0.001510</td>\n",
       "      <td>0.000000</td>\n",
       "      <td>2</td>\n",
       "      <td>-0.998915</td>\n",
       "      <td>-1.000000</td>\n",
       "      <td>-0.261905</td>\n",
       "      <td>[-0.26190476190476186, -0.26190476190476186, -...</td>\n",
       "    </tr>\n",
       "    <tr>\n",
       "      <th>3</th>\n",
       "      <td>11_0</td>\n",
       "      <td>132.0</td>\n",
       "      <td>0.003488</td>\n",
       "      <td>0.000000</td>\n",
       "      <td>3</td>\n",
       "      <td>-0.997494</td>\n",
       "      <td>-1.000000</td>\n",
       "      <td>-0.261905</td>\n",
       "      <td>[-0.26190476190476186, -0.26190476190476186, -...</td>\n",
       "    </tr>\n",
       "    <tr>\n",
       "      <th>4</th>\n",
       "      <td>11_0</td>\n",
       "      <td>132.0</td>\n",
       "      <td>0.006741</td>\n",
       "      <td>0.000000</td>\n",
       "      <td>4</td>\n",
       "      <td>-0.995158</td>\n",
       "      <td>-1.000000</td>\n",
       "      <td>-0.261905</td>\n",
       "      <td>[-0.26190476190476186, -0.2698412698412699, -0...</td>\n",
       "    </tr>\n",
       "    <tr>\n",
       "      <th>...</th>\n",
       "      <td>...</td>\n",
       "      <td>...</td>\n",
       "      <td>...</td>\n",
       "      <td>...</td>\n",
       "      <td>...</td>\n",
       "      <td>...</td>\n",
       "      <td>...</td>\n",
       "      <td>...</td>\n",
       "      <td>...</td>\n",
       "    </tr>\n",
       "    <tr>\n",
       "      <th>1706</th>\n",
       "      <td>290_0</td>\n",
       "      <td>189.0</td>\n",
       "      <td>1.856360</td>\n",
       "      <td>0.266009</td>\n",
       "      <td>842</td>\n",
       "      <td>0.333612</td>\n",
       "      <td>-0.891737</td>\n",
       "      <td>0.190476</td>\n",
       "      <td>[0.19047619047619047, 0.10317460317460325, 0.0...</td>\n",
       "    </tr>\n",
       "    <tr>\n",
       "      <th>1707</th>\n",
       "      <td>290_0</td>\n",
       "      <td>178.0</td>\n",
       "      <td>1.853454</td>\n",
       "      <td>0.243603</td>\n",
       "      <td>843</td>\n",
       "      <td>0.331524</td>\n",
       "      <td>-0.900856</td>\n",
       "      <td>0.103175</td>\n",
       "      <td>[0.10317460317460325, 0.031746031746031855, 0....</td>\n",
       "    </tr>\n",
       "    <tr>\n",
       "      <th>1708</th>\n",
       "      <td>290_0</td>\n",
       "      <td>169.0</td>\n",
       "      <td>1.843510</td>\n",
       "      <td>0.222789</td>\n",
       "      <td>844</td>\n",
       "      <td>0.324381</td>\n",
       "      <td>-0.909327</td>\n",
       "      <td>0.031746</td>\n",
       "      <td>[0.031746031746031855, 0.0, -0.047619047619047...</td>\n",
       "    </tr>\n",
       "    <tr>\n",
       "      <th>1709</th>\n",
       "      <td>290_0</td>\n",
       "      <td>165.0</td>\n",
       "      <td>1.827765</td>\n",
       "      <td>0.203503</td>\n",
       "      <td>845</td>\n",
       "      <td>0.313070</td>\n",
       "      <td>-0.917176</td>\n",
       "      <td>0.000000</td>\n",
       "      <td>[0.0, -0.04761904761904767, -0.103174603174603...</td>\n",
       "    </tr>\n",
       "    <tr>\n",
       "      <th>1710</th>\n",
       "      <td>290_0</td>\n",
       "      <td>159.0</td>\n",
       "      <td>1.807299</td>\n",
       "      <td>0.185674</td>\n",
       "      <td>846</td>\n",
       "      <td>0.298367</td>\n",
       "      <td>-0.924433</td>\n",
       "      <td>-0.047619</td>\n",
       "      <td>[-0.04761904761904767, -0.10317460317460314, -...</td>\n",
       "    </tr>\n",
       "  </tbody>\n",
       "</table>\n",
       "<p>1711 rows × 9 columns</p>\n",
       "</div>"
      ],
      "text/plain": [
       "         ID     BG        PI        RA  iteration      scPI      scRA  \\\n",
       "0      11_0  134.0  0.000000  0.000000          0 -1.000000 -1.000000   \n",
       "1      11_0  125.0  0.000271  0.000000          1 -0.999805 -1.000000   \n",
       "2      11_0  132.0  0.001510  0.000000          2 -0.998915 -1.000000   \n",
       "3      11_0  132.0  0.003488  0.000000          3 -0.997494 -1.000000   \n",
       "4      11_0  132.0  0.006741  0.000000          4 -0.995158 -1.000000   \n",
       "...     ...    ...       ...       ...        ...       ...       ...   \n",
       "1706  290_0  189.0  1.856360  0.266009        842  0.333612 -0.891737   \n",
       "1707  290_0  178.0  1.853454  0.243603        843  0.331524 -0.900856   \n",
       "1708  290_0  169.0  1.843510  0.222789        844  0.324381 -0.909327   \n",
       "1709  290_0  165.0  1.827765  0.203503        845  0.313070 -0.917176   \n",
       "1710  290_0  159.0  1.807299  0.185674        846  0.298367 -0.924433   \n",
       "\n",
       "          scBG                                        scBG_packed  \n",
       "0    -0.246032  [-0.24603174603174605, -0.31746031746031744, -...  \n",
       "1    -0.317460  [-0.31746031746031744, -0.26190476190476186, -...  \n",
       "2    -0.261905  [-0.26190476190476186, -0.26190476190476186, -...  \n",
       "3    -0.261905  [-0.26190476190476186, -0.26190476190476186, -...  \n",
       "4    -0.261905  [-0.26190476190476186, -0.2698412698412699, -0...  \n",
       "...        ...                                                ...  \n",
       "1706  0.190476  [0.19047619047619047, 0.10317460317460325, 0.0...  \n",
       "1707  0.103175  [0.10317460317460325, 0.031746031746031855, 0....  \n",
       "1708  0.031746  [0.031746031746031855, 0.0, -0.047619047619047...  \n",
       "1709  0.000000  [0.0, -0.04761904761904767, -0.103174603174603...  \n",
       "1710 -0.047619  [-0.04761904761904767, -0.10317460317460314, -...  \n",
       "\n",
       "[1711 rows x 9 columns]"
      ]
     },
     "metadata": {},
     "output_type": "display_data"
    }
   ],
   "source": [
    "df_packed = pack_data(df_scaled)\n",
    "display(df_packed)"
   ]
  },
  {
   "cell_type": "code",
   "execution_count": 17,
   "id": "3ca30c69",
   "metadata": {},
   "outputs": [],
   "source": [
    "dict_inputs = ['BG', 'scBG_packed', 'PI', 'RA', 'scPI', 'scRA']\n",
    "data_dict = {column: np.array(df_packed[column].tolist(), dtype=np.float32).reshape(df_packed.shape[0], 1, -1) for column in dict_inputs}"
   ]
  },
  {
   "cell_type": "code",
   "execution_count": 18,
   "id": "3a3f421a",
   "metadata": {},
   "outputs": [],
   "source": [
    "def load_training_data(df, dict_inputs) -> TrainingData:\n",
    "    train_data_dict = {}\n",
    "    for input_name in dict_inputs:\n",
    "        if input_name == 'scBG_packed':\n",
    "            train_data_dict['scBG'] = df[f'{input_name}']\n",
    "        elif input_name in ['BG', 'PI', 'RA']:\n",
    "            pass\n",
    "        else:\n",
    "            train_data_dict[f'{input_name}'] = df[f'{input_name}']\n",
    "\n",
    "    train_data = TrainingData(**train_data_dict)\n",
    "    return train_data"
   ]
  },
  {
   "cell_type": "code",
   "execution_count": 19,
   "id": "3768661a",
   "metadata": {},
   "outputs": [],
   "source": [
    "training_data = load_training_data(data_dict, dict_inputs)"
   ]
  },
  {
   "cell_type": "code",
   "execution_count": 20,
   "id": "6ec1ddec",
   "metadata": {},
   "outputs": [
    {
     "name": "stdout",
     "output_type": "stream",
     "text": [
      "WARNING:tensorflow:Model's `__init__()` arguments contain non-serializable objects. Please implement a `get_config()` method in the subclassed Model for proper saving and loading. Defaulting to empty config.\n"
     ]
    },
    {
     "name": "stderr",
     "output_type": "stream",
     "text": [
      "/home/oriol/workspace/t1d-data-based-digital-twin/.venv/lib/python3.10/site-packages/keras/src/engine/training.py:3000: UserWarning: You are saving your model as an HDF5 file via `model.save()`. This file format is considered legacy. We recommend using instead the native Keras format, e.g. `model.save('my_model.keras')`.\n",
      "  saving_api.save_model(\n"
     ]
    }
   ],
   "source": [
    "gan = GANModel(settings, pretrained_vae_model)\n",
    "\n",
    "timestamp = datetime.now(pytz.timezone('Europe/Madrid')).strftime(\"%Y%m%d_%H%M%S\")\n",
    "gan.gan_model.save(f\"../misc/gan_model_{timestamp}.h5\")"
   ]
  },
  {
   "cell_type": "code",
   "execution_count": 21,
   "id": "2872f12d",
   "metadata": {},
   "outputs": [
    {
     "name": "stderr",
     "output_type": "stream",
     "text": [
      "Serving '../misc/gan_model_20250921_171244.h5' at http://localhost:8080\n"
     ]
    },
    {
     "data": {
      "text/plain": [
       "('localhost', 8080)"
      ]
     },
     "execution_count": 21,
     "metadata": {},
     "output_type": "execute_result"
    }
   ],
   "source": [
    "import netron\n",
    "netron.start(f\"../misc/gan_model_{timestamp}.h5\")"
   ]
  },
  {
   "cell_type": "code",
   "execution_count": 22,
   "id": "e2d10a07",
   "metadata": {},
   "outputs": [
    {
     "name": "stderr",
     "output_type": "stream",
     "text": [
      "GAN Training:  13%|█▎        | 355/2650 [00:31<03:22, 11.33step/s]"
     ]
    },
    {
     "name": "stdout",
     "output_type": "stream",
     "text": [
      "Process interrupted by user\n"
     ]
    },
    {
     "name": "stderr",
     "output_type": "stream",
     "text": [
      "\n"
     ]
    }
   ],
   "source": [
    "try:\n",
    "    history = gan.train(training_data)\n",
    "except KeyboardInterrupt:\n",
    "    print('Process interrupted by user')"
   ]
  },
  {
   "cell_type": "code",
   "execution_count": null,
   "id": "6c5408be",
   "metadata": {},
   "outputs": [
    {
     "data": {
      "image/png": "[encoded data removed]",
      "text/plain": [
       "<Figure size 1200x600 with 1 Axes>"
      ]
     },
     "metadata": {},
     "output_type": "display_data"
    }
   ],
   "source": [
    "plt.figure(figsize=(12, 6))\n",
    "plt.plot(history['step'], history['d_loss_real'], label='Discriminator Loss Real')\n",
    "plt.plot(history['step'], history['d_loss_fake'], label='Discriminator Loss Fake')\n",
    "plt.plot(history['step'], history['g_adversarial'], label='Generator Adversarial')\n",
    "plt.plot(history['step'], history['g_l2'], label='Generator L2')\n",
    "plt.xlabel('Step')\n",
    "plt.ylabel('Loss')\n",
    "plt.title('GAN Training Losses')\n",
    "plt.legend()\n",
    "plt.grid(True)\n",
    "plt.show()"
   ]
  },
  {
   "cell_type": "code",
   "execution_count": null,
   "id": "8a9fa53d",
   "metadata": {},
   "outputs": [
    {
     "name": "stdout",
     "output_type": "stream",
     "text": [
      "WARNING:tensorflow:Compiled the loaded model, but the compiled metrics have yet to be built. `model.compile_metrics` will be empty until you train or evaluate the model.\n"
     ]
    },
    {
     "name": "stderr",
     "output_type": "stream",
     "text": [
      "/home/oriol/workspace/t1d-data-based-digital-twin/.venv/lib/python3.10/site-packages/keras/src/engine/training.py:3000: UserWarning: You are saving your model as an HDF5 file via `model.save()`. This file format is considered legacy. We recommend using instead the native Keras format, e.g. `model.save('my_model.keras')`.\n",
      "  saving_api.save_model(\n",
      "Compiled the loaded model, but the compiled metrics have yet to be built. `model.compile_metrics` will be empty until you train or evaluate the model.\n"
     ]
    }
   ],
   "source": [
    "timezone = pytz.timezone('Europe/Madrid')\n",
    "timestamp = datetime.now(timezone).strftime('%Y%m%d_%H%M%S')\n",
    "gan.g_model.save(f'../misc/generator_model_{timestamp}.h5')"
   ]
  },
  {
   "cell_type": "markdown",
   "id": "570873dd",
   "metadata": {},
   "source": [
    "## Simulation"
   ]
  },
  {
   "cell_type": "code",
   "execution_count": 23,
   "id": "0121d662",
   "metadata": {},
   "outputs": [],
   "source": [
    "@dataclass\n",
    "class SimulationData:\n",
    "    \"\"\"\n",
    "    Data class containing the simulation dynamical inputs, results and some minor settings.\n",
    "    \"\"\"\n",
    "    # Blood Glucose\n",
    "    gen_bg_scaled_arrays: np.ndarray\n",
    "\n",
    "    real_bg_scaled: np.ndarray\n",
    "    real_bg_unscaled: np.ndarray\n",
    "    gen_bg_unscaled: np.ndarray = None\n",
    "\n",
    "    PI_scaled: np.ndarray = None\n",
    "    RA_scaled: np.ndarray = None\n",
    "    PA_scaled: np.ndarray = None\n",
    "    IG_scaled: np.ndarray = None\n",
    "\n",
    "    # Plotting data\n",
    "    PI_unscaled: np.ndarray = None\n",
    "    RA_unscaled: np.ndarray = None\n",
    "    PA_unscaled: np.ndarray = None\n",
    "    IG_unscaled: np.ndarray = None"
   ]
  },
  {
   "cell_type": "code",
   "execution_count": 24,
   "id": "32ad2fb9",
   "metadata": {},
   "outputs": [],
   "source": [
    "def load_patient_sim_data(data_dict, simulation_length: int) -> SimulationData:\n",
    "    real_bg_unscaled = data_dict['BG']  # take the original vector to compare against the generated profile\n",
    "    real_bg_scaled = data_dict['scBG_packed']  # this is packed\n",
    "    gan_inputs = ['BG', 'scBG_packed', 'PI', 'RA']\n",
    "\n",
    "    # Calculate the number of days to simulate\n",
    "    days_to_simulate = min(len(real_bg_unscaled) / 288, simulation_length)\n",
    "    time_steps = int(288 * days_to_simulate)\n",
    "\n",
    "    sim_data_dict = {\n",
    "        'real_bg_unscaled': real_bg_unscaled.ravel()[:time_steps],\n",
    "        'real_bg_scaled': real_bg_scaled[:, 0, 0][:time_steps],\n",
    "    }\n",
    "\n",
    "    for input_name in gan_inputs:\n",
    "        if input_name != 'BG' and input_name != 'scBG_packed':\n",
    "            sim_data_dict[f'{input_name}_scaled'] = data_dict[f'sc{input_name}'][:time_steps]\n",
    "            sim_data_dict[f'{input_name}_unscaled'] = data_dict[input_name][:time_steps]\n",
    "\n",
    "    sim_data_dict['gen_bg_scaled_arrays'] = np.zeros(\n",
    "        (\n",
    "            1,\n",
    "            time_steps,\n",
    "            time_steps + 18,\n",
    "        )\n",
    "    )\n",
    "\n",
    "    sim_data = SimulationData(**sim_data_dict)\n",
    "    return sim_data"
   ]
  },
  {
   "cell_type": "code",
   "execution_count": 25,
   "id": "93eef336",
   "metadata": {},
   "outputs": [],
   "source": [
    "timestamp = '20250921_155140'"
   ]
  },
  {
   "cell_type": "code",
   "execution_count": 26,
   "id": "c0ae396a",
   "metadata": {},
   "outputs": [
    {
     "name": "stdout",
     "output_type": "stream",
     "text": [
      "WARNING:tensorflow:No training configuration found in the save file, so the model was *not* compiled. Compile it manually.\n"
     ]
    },
    {
     "name": "stderr",
     "output_type": "stream",
     "text": [
      "No training configuration found in the save file, so the model was *not* compiled. Compile it manually.\n"
     ]
    }
   ],
   "source": [
    "# load from misc the .h5\n",
    "generator = tf.keras.models.load_model(f'../misc/generator_model_{timestamp}.h5')"
   ]
  },
  {
   "cell_type": "code",
   "execution_count": 28,
   "id": "3d51100c",
   "metadata": {},
   "outputs": [
    {
     "name": "stderr",
     "output_type": "stream",
     "text": [
      "100%|██████████| 575/575 [00:10<00:00, 52.32it/s]\n"
     ]
    }
   ],
   "source": [
    "simulation_length = 2\n",
    "scalers_path = '../misc/'\n",
    "\n",
    "input_sim_data = load_patient_sim_data(data_dict, simulation_length=simulation_length)\n",
    "simulator_instance = SimulatorVAEGAN(settings)\n",
    "simulated_data = simulator_instance.simulate(input_sim_data, generator)"
   ]
  },
  {
   "cell_type": "code",
   "execution_count": 29,
   "id": "52b35e67",
   "metadata": {},
   "outputs": [
    {
     "data": {
      "image/png": "[encoded data removed]",
      "text/plain": [
       "<Figure size 1500x1000 with 3 Axes>"
      ]
     },
     "metadata": {},
     "output_type": "display_data"
    }
   ],
   "source": [
    "num_points = len(simulated_data.gen_bg_unscaled)\n",
    "x_hours = np.arange(num_points) * 5 / 60  # 5 min per sample, convert to hours\n",
    "\n",
    "plt.figure(figsize=(15, 10))\n",
    "\n",
    "# First subplot: Blood glucose comparison\n",
    "plt.subplot(3, 1, 1)\n",
    "plt.plot(x_hours, simulated_data.gen_bg_unscaled, label='Simulated BG', color='blue')\n",
    "plt.plot(x_hours, simulated_data.real_bg_unscaled, label='Real BG', color='red')\n",
    "plt.xlabel('Time (hours)')\n",
    "plt.ylabel('Plasma Glucose Concentration (mg/dL)')\n",
    "plt.title('Blood Glucose Comparison')\n",
    "plt.xticks(\n",
    "    ticks=np.arange(0, x_hours[-1]+1, 2),\n",
    "    labels=[f\"{int(t)}\" for t in np.arange(0, x_hours[-1]+1, 2)]\n",
    ")\n",
    "plt.xlim([0, x_hours[-1]])\n",
    "plt.legend()\n",
    "plt.grid(True)\n",
    "\n",
    "# Second subplot: Plasma Insulin (PI)\n",
    "plt.subplot(3, 1, 2)\n",
    "plt.plot(x_hours, simulated_data.PI_unscaled.flatten(), label='Plasma Insulin (PI)', color='green')\n",
    "plt.xlabel('Time (hours)')\n",
    "plt.ylabel('Plasma Insulin (U/L)')\n",
    "plt.title('Plasma Insulin Input')\n",
    "plt.xticks(\n",
    "    ticks=np.arange(0, x_hours[-1]+1, 2),\n",
    "    labels=[f\"{int(t)}\" for t in np.arange(0, x_hours[-1]+1, 2)]\n",
    ")\n",
    "plt.xlim([0, x_hours[-1]])\n",
    "plt.legend()\n",
    "plt.grid(True)\n",
    "\n",
    "# Third subplot: Rate of Appearance (RA)\n",
    "plt.subplot(3, 1, 3)\n",
    "plt.plot(x_hours, simulated_data.RA_unscaled.flatten(), label='Rate of Appearance (RA)', color='orange')\n",
    "plt.xlabel('Time (hours)')\n",
    "plt.ylabel('Rate of Appearance (mg/kg/min)')\n",
    "plt.title('Rate of Appearance Input')\n",
    "plt.xticks(\n",
    "    ticks=np.arange(0, x_hours[-1]+1, 2),\n",
    "    labels=[f\"{int(t)}\" for t in np.arange(0, x_hours[-1]+1, 2)]\n",
    ")\n",
    "plt.xlim([0, x_hours[-1]])\n",
    "plt.legend()\n",
    "plt.grid(True)\n",
    "\n",
    "plt.tight_layout()\n",
    "plt.show()"
   ]
  },
  {
   "cell_type": "code",
   "execution_count": 30,
   "id": "fe1093bb",
   "metadata": {},
   "outputs": [
    {
     "data": {
      "application/vnd.microsoft.datawrangler.viewer.v0+json": {
       "columns": [
        {
         "name": "index",
         "rawType": "int64",
         "type": "integer"
        },
        {
         "name": "Metric",
         "rawType": "object",
         "type": "string"
        },
        {
         "name": "Real",
         "rawType": "float64",
         "type": "float"
        },
        {
         "name": "Simulated",
         "rawType": "float64",
         "type": "float"
        }
       ],
       "ref": "8b09b59c-3bd2-41b2-b8c7-1e2a8b5a8b4a",
       "rows": [
        [
         "0",
         "Mean BG (mg/dL)",
         "103.43",
         "91.62"
        ],
        [
         "1",
         "Std BG (mg/dL)",
         "24.66",
         "12.97"
        ],
        [
         "2",
         "CV (%)",
         "23.84",
         "14.15"
        ],
        [
         "3",
         "Min BG (mg/dL)",
         "47.0",
         "66.38"
        ],
        [
         "4",
         "Max BG (mg/dL)",
         "175.0",
         "126.47"
        ],
        [
         "5",
         "TBR (<70 mg/dL, %)",
         "5.32",
         "0.89"
        ],
        [
         "6",
         "TIR (70-180 mg/dL, %)",
         "94.68",
         "99.11"
        ],
        [
         "7",
         "TAR (>180 mg/dL, %)",
         "0.0",
         "0.0"
        ],
        [
         "8",
         "TITR (70-140 mg/dL, %)",
         "85.99",
         "99.11"
        ]
       ],
       "shape": {
        "columns": 3,
        "rows": 9
       }
      },
      "text/html": [
       "<div>\n",
       "<style scoped>\n",
       "    .dataframe tbody tr th:only-of-type {\n",
       "        vertical-align: middle;\n",
       "    }\n",
       "\n",
       "    .dataframe tbody tr th {\n",
       "        vertical-align: top;\n",
       "    }\n",
       "\n",
       "    .dataframe thead th {\n",
       "        text-align: right;\n",
       "    }\n",
       "</style>\n",
       "<table border=\"1\" class=\"dataframe\">\n",
       "  <thead>\n",
       "    <tr style=\"text-align: right;\">\n",
       "      <th></th>\n",
       "      <th>Metric</th>\n",
       "      <th>Real</th>\n",
       "      <th>Simulated</th>\n",
       "    </tr>\n",
       "  </thead>\n",
       "  <tbody>\n",
       "    <tr>\n",
       "      <th>0</th>\n",
       "      <td>Mean BG (mg/dL)</td>\n",
       "      <td>103.43</td>\n",
       "      <td>91.62</td>\n",
       "    </tr>\n",
       "    <tr>\n",
       "      <th>1</th>\n",
       "      <td>Std BG (mg/dL)</td>\n",
       "      <td>24.66</td>\n",
       "      <td>12.97</td>\n",
       "    </tr>\n",
       "    <tr>\n",
       "      <th>2</th>\n",
       "      <td>CV (%)</td>\n",
       "      <td>23.84</td>\n",
       "      <td>14.15</td>\n",
       "    </tr>\n",
       "    <tr>\n",
       "      <th>3</th>\n",
       "      <td>Min BG (mg/dL)</td>\n",
       "      <td>47.00</td>\n",
       "      <td>66.38</td>\n",
       "    </tr>\n",
       "    <tr>\n",
       "      <th>4</th>\n",
       "      <td>Max BG (mg/dL)</td>\n",
       "      <td>175.00</td>\n",
       "      <td>126.47</td>\n",
       "    </tr>\n",
       "    <tr>\n",
       "      <th>5</th>\n",
       "      <td>TBR (&lt;70 mg/dL, %)</td>\n",
       "      <td>5.32</td>\n",
       "      <td>0.89</td>\n",
       "    </tr>\n",
       "    <tr>\n",
       "      <th>6</th>\n",
       "      <td>TIR (70-180 mg/dL, %)</td>\n",
       "      <td>94.68</td>\n",
       "      <td>99.11</td>\n",
       "    </tr>\n",
       "    <tr>\n",
       "      <th>7</th>\n",
       "      <td>TAR (&gt;180 mg/dL, %)</td>\n",
       "      <td>0.00</td>\n",
       "      <td>0.00</td>\n",
       "    </tr>\n",
       "    <tr>\n",
       "      <th>8</th>\n",
       "      <td>TITR (70-140 mg/dL, %)</td>\n",
       "      <td>85.99</td>\n",
       "      <td>99.11</td>\n",
       "    </tr>\n",
       "  </tbody>\n",
       "</table>\n",
       "</div>"
      ],
      "text/plain": [
       "                   Metric    Real  Simulated\n",
       "0         Mean BG (mg/dL)  103.43      91.62\n",
       "1          Std BG (mg/dL)   24.66      12.97\n",
       "2                  CV (%)   23.84      14.15\n",
       "3          Min BG (mg/dL)   47.00      66.38\n",
       "4          Max BG (mg/dL)  175.00     126.47\n",
       "5      TBR (<70 mg/dL, %)    5.32       0.89\n",
       "6   TIR (70-180 mg/dL, %)   94.68      99.11\n",
       "7     TAR (>180 mg/dL, %)    0.00       0.00\n",
       "8  TITR (70-140 mg/dL, %)   85.99      99.11"
      ]
     },
     "metadata": {},
     "output_type": "display_data"
    }
   ],
   "source": [
    "def calculate_metrics(bg_data, label):\n",
    "    \"\"\"Calculate metrics for a single BG array\"\"\"\n",
    "    mean_bg = np.mean(bg_data)\n",
    "    std_bg = np.std(bg_data)\n",
    "    cv = (std_bg / mean_bg) * 100  # Coefficient of variation as percentage\n",
    "    min_bg = np.min(bg_data)\n",
    "    max_bg = np.max(bg_data)\n",
    "    \n",
    "    time_below_range = (np.sum(bg_data < 70) / len(bg_data)) * 100  # TBR\n",
    "    time_in_range = (np.sum((bg_data >= 70) & (bg_data <= 180)) / len(bg_data)) * 100  # TIR\n",
    "    time_above_range = (np.sum(bg_data > 180) / len(bg_data)) * 100  # TAR\n",
    "    time_in_tight_range = (np.sum((bg_data >= 70) & (bg_data <= 140)) / len(bg_data)) * 100  # TITR\n",
    "    \n",
    "    return {\n",
    "        f'Mean BG (mg/dL) - {label}': mean_bg,\n",
    "        f'Std BG (mg/dL) - {label}': std_bg,\n",
    "        f'CV (%) - {label}': cv,\n",
    "        f'Min BG (mg/dL) - {label}': min_bg,\n",
    "        f'Max BG (mg/dL) - {label}': max_bg,\n",
    "        f'TBR (<70 mg/dL, %) - {label}': time_below_range,\n",
    "        f'TIR (70-180 mg/dL, %) - {label}': time_in_range,\n",
    "        f'TAR (>180 mg/dL, %) - {label}': time_above_range,\n",
    "        f'TITR (70-140 mg/dL, %) - {label}': time_in_tight_range\n",
    "    }\n",
    "\n",
    "def compute_glycemic_metrics(simulated_data: SimulationData) -> pd.DataFrame:    \n",
    "    real_bg = simulated_data.real_bg_unscaled\n",
    "    sim_bg = simulated_data.gen_bg_unscaled\n",
    "    \n",
    "    min_length = min(len(real_bg), len(sim_bg))\n",
    "    real_bg = real_bg[:min_length]\n",
    "    sim_bg = sim_bg[:min_length]\n",
    "\n",
    "    real_metrics = calculate_metrics(real_bg, 'Real')\n",
    "    sim_metrics = calculate_metrics(sim_bg, 'Simulated')\n",
    "    \n",
    "    all_metrics = {**real_metrics, **sim_metrics}\n",
    "    \n",
    "    metrics_data = {\n",
    "        'Metric': [],\n",
    "        'Real': [],\n",
    "        'Simulated': []\n",
    "    }\n",
    "    \n",
    "    metric_names = [\n",
    "        'Mean BG (mg/dL)',\n",
    "        'Std BG (mg/dL)', \n",
    "        'CV (%)',\n",
    "        'Min BG (mg/dL)',\n",
    "        'Max BG (mg/dL)',\n",
    "        'TBR (<70 mg/dL, %)',\n",
    "        'TIR (70-180 mg/dL, %)',\n",
    "        'TAR (>180 mg/dL, %)',\n",
    "        'TITR (70-140 mg/dL, %)'\n",
    "    ]\n",
    "    \n",
    "    for metric in metric_names:\n",
    "        metrics_data['Metric'].append(metric)\n",
    "        metrics_data['Real'].append(all_metrics[f'{metric} - Real'])\n",
    "        metrics_data['Simulated'].append(all_metrics[f'{metric} - Simulated'])\n",
    "    \n",
    "    metrics_df = pd.DataFrame(metrics_data)\n",
    "    \n",
    "    metrics_df['Real'] = metrics_df['Real'].round(2)\n",
    "    metrics_df['Simulated'] = metrics_df['Simulated'].round(2)\n",
    "    \n",
    "    return metrics_df\n",
    "\n",
    "glycemic_metrics_table = compute_glycemic_metrics(simulated_data)\n",
    "display(glycemic_metrics_table)"
   ]
  }
 ],
 "metadata": {
  "kernelspec": {
   "display_name": ".venv",
   "language": "python",
   "name": "python3"
  },
  "language_info": {
   "codemirror_mode": {
    "name": "ipython",
    "version": 3
   },
   "file_extension": ".py",
   "mimetype": "text/x-python",
   "name": "python",
   "nbconvert_exporter": "python",
   "pygments_lexer": "ipython3",
   "version": "3.10.18"
  }
 },
 "nbformat": 4,
 "nbformat_minor": 5
}

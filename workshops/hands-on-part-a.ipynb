{
 "cells": [
  {
   "cell_type": "markdown",
   "id": "dcb2d621",
   "metadata": {},
   "source": [
    "<div style=\"background-color:#1e1e1e; padding:25px; border-radius:10px; display:table; width:100%;\">\n",
    "\n",
    "  <!-- Left column: text -->\n",
    "  <div style=\"display:table-cell; vertical-align:top; width:80%; padding-right:10px;\">\n",
    "    <h1 style=\"color:#4FC3F7; margin-bottom:10px;\">Hands-On Part A: Loading a Pretrained Model</h1>\n",
    "\n",
    "  <p style=\"font-size:18px; font-style:italic; color:#cccccc;\">\n",
    "    Workshop on T1D Simulator and Digital Twins for Personalized Care\n",
    "  </p>\n",
    "\n",
    "  <p style=\"font-size:15px; line-height:1.6; color:#dddddd;\">\n",
    "    This preparatory notebook demonstrates how to load a pretrained deep learning model \n",
    "    for type 1 diabetes (T1D) simulation, inspect its structure, and process patient data \n",
    "    using physiological approximations. We will use the data we process here for Part B.\n",
    "  </p>\n",
    "  </div>\n",
    "\n",
    "  <!-- Right column: logo -->\n",
    "  <div style=\"display:table-cell; vertical-align:middle; text-align:right; width:20%; padding-right:80px;\">\n",
    "    <img src=\"https://micelab.udg.edu/wp-content/uploads/2022/08/MICElab-letras_png-300x119.png\" alt=\"MiceLab Logo\" style=\"height:80px; border-radius:8px;\">\n",
    "  </div>\n",
    "\n",
    "</div>\n"
   ]
  },
  {
   "cell_type": "markdown",
   "id": "6211567f",
   "metadata": {},
   "source": [
    "<h2 style=\"color:#4FC3F7; border-bottom:2px solid #4FC3F7; padding-bottom:4px;\">\n",
    "0. Imports &amp; Set-Up\n",
    "</h2>"
   ]
  },
  {
   "cell_type": "code",
   "execution_count": 33,
   "id": "dcc8fd9d",
   "metadata": {},
   "outputs": [],
   "source": [
    "import sys\n",
    "import os\n",
    "\n",
    "sys.path.append(os.path.abspath(\"..\"))\n",
    "sys.path.append(os.path.abspath(\"../scripts\"))"
   ]
  },
  {
   "cell_type": "code",
   "execution_count": 48,
   "id": "cfc13a4d",
   "metadata": {},
   "outputs": [
    {
     "name": "stdout",
     "output_type": "stream",
     "text": [
      "Requirement already satisfied: tensorflow==2.13.0 in /home/oriol/workspace/t1d-data-based-digital-twin/.venv/lib/python3.10/site-packages (2.13.0)\n",
      "Requirement already satisfied: absl-py>=1.0.0 in /home/oriol/workspace/t1d-data-based-digital-twin/.venv/lib/python3.10/site-packages (from tensorflow==2.13.0) (2.3.1)\n",
      "Requirement already satisfied: astunparse>=1.6.0 in /home/oriol/workspace/t1d-data-based-digital-twin/.venv/lib/python3.10/site-packages (from tensorflow==2.13.0) (1.6.3)\n",
      "Collecting typing-extensions<4.6.0,>=3.6.6\n",
      "  Using cached typing_extensions-4.5.0-py3-none-any.whl (27 kB)\n",
      "Requirement already satisfied: opt-einsum>=2.3.2 in /home/oriol/workspace/t1d-data-based-digital-twin/.venv/lib/python3.10/site-packages (from tensorflow==2.13.0) (3.4.0)\n",
      "Requirement already satisfied: tensorflow-estimator<2.14,>=2.13.0 in /home/oriol/workspace/t1d-data-based-digital-twin/.venv/lib/python3.10/site-packages (from tensorflow==2.13.0) (2.13.0)\n",
      "Requirement already satisfied: tensorboard<2.14,>=2.13 in /home/oriol/workspace/t1d-data-based-digital-twin/.venv/lib/python3.10/site-packages (from tensorflow==2.13.0) (2.13.0)\n",
      "Requirement already satisfied: six>=1.12.0 in /home/oriol/workspace/t1d-data-based-digital-twin/.venv/lib/python3.10/site-packages (from tensorflow==2.13.0) (1.17.0)\n",
      "Requirement already satisfied: keras<2.14,>=2.13.1 in /home/oriol/workspace/t1d-data-based-digital-twin/.venv/lib/python3.10/site-packages (from tensorflow==2.13.0) (2.13.1)\n",
      "Requirement already satisfied: numpy<=1.24.3,>=1.22 in /home/oriol/workspace/t1d-data-based-digital-twin/.venv/lib/python3.10/site-packages (from tensorflow==2.13.0) (1.24.3)\n",
      "Requirement already satisfied: wrapt>=1.11.0 in /home/oriol/workspace/t1d-data-based-digital-twin/.venv/lib/python3.10/site-packages (from tensorflow==2.13.0) (1.17.3)\n",
      "Requirement already satisfied: setuptools in /home/oriol/workspace/t1d-data-based-digital-twin/.venv/lib/python3.10/site-packages (from tensorflow==2.13.0) (59.6.0)\n",
      "Requirement already satisfied: tensorflow-io-gcs-filesystem>=0.23.1 in /home/oriol/workspace/t1d-data-based-digital-twin/.venv/lib/python3.10/site-packages (from tensorflow==2.13.0) (0.37.1)\n",
      "Requirement already satisfied: flatbuffers>=23.1.21 in /home/oriol/workspace/t1d-data-based-digital-twin/.venv/lib/python3.10/site-packages (from tensorflow==2.13.0) (25.2.10)\n",
      "Requirement already satisfied: packaging in /home/oriol/workspace/t1d-data-based-digital-twin/.venv/lib/python3.10/site-packages (from tensorflow==2.13.0) (25.0)\n",
      "Requirement already satisfied: protobuf!=4.21.0,!=4.21.1,!=4.21.2,!=4.21.3,!=4.21.4,!=4.21.5,<5.0.0dev,>=3.20.3 in /home/oriol/workspace/t1d-data-based-digital-twin/.venv/lib/python3.10/site-packages (from tensorflow==2.13.0) (4.25.8)\n",
      "Requirement already satisfied: termcolor>=1.1.0 in /home/oriol/workspace/t1d-data-based-digital-twin/.venv/lib/python3.10/site-packages (from tensorflow==2.13.0) (3.1.0)\n",
      "Requirement already satisfied: gast<=0.4.0,>=0.2.1 in /home/oriol/workspace/t1d-data-based-digital-twin/.venv/lib/python3.10/site-packages (from tensorflow==2.13.0) (0.4.0)\n",
      "Requirement already satisfied: google-pasta>=0.1.1 in /home/oriol/workspace/t1d-data-based-digital-twin/.venv/lib/python3.10/site-packages (from tensorflow==2.13.0) (0.2.0)\n",
      "Requirement already satisfied: libclang>=13.0.0 in /home/oriol/workspace/t1d-data-based-digital-twin/.venv/lib/python3.10/site-packages (from tensorflow==2.13.0) (18.1.1)\n",
      "Requirement already satisfied: h5py>=2.9.0 in /home/oriol/workspace/t1d-data-based-digital-twin/.venv/lib/python3.10/site-packages (from tensorflow==2.13.0) (3.14.0)\n",
      "Requirement already satisfied: grpcio<2.0,>=1.24.3 in /home/oriol/workspace/t1d-data-based-digital-twin/.venv/lib/python3.10/site-packages (from tensorflow==2.13.0) (1.74.0)\n",
      "Requirement already satisfied: wheel<1.0,>=0.23.0 in /home/oriol/workspace/t1d-data-based-digital-twin/.venv/lib/python3.10/site-packages (from astunparse>=1.6.0->tensorflow==2.13.0) (0.45.1)\n",
      "Requirement already satisfied: requests<3,>=2.21.0 in /home/oriol/workspace/t1d-data-based-digital-twin/.venv/lib/python3.10/site-packages (from tensorboard<2.14,>=2.13->tensorflow==2.13.0) (2.32.5)\n",
      "Requirement already satisfied: tensorboard-data-server<0.8.0,>=0.7.0 in /home/oriol/workspace/t1d-data-based-digital-twin/.venv/lib/python3.10/site-packages (from tensorboard<2.14,>=2.13->tensorflow==2.13.0) (0.7.2)\n",
      "Requirement already satisfied: werkzeug>=1.0.1 in /home/oriol/workspace/t1d-data-based-digital-twin/.venv/lib/python3.10/site-packages (from tensorboard<2.14,>=2.13->tensorflow==2.13.0) (3.1.3)\n",
      "Requirement already satisfied: markdown>=2.6.8 in /home/oriol/workspace/t1d-data-based-digital-twin/.venv/lib/python3.10/site-packages (from tensorboard<2.14,>=2.13->tensorflow==2.13.0) (3.9)\n",
      "Requirement already satisfied: google-auth<3,>=1.6.3 in /home/oriol/workspace/t1d-data-based-digital-twin/.venv/lib/python3.10/site-packages (from tensorboard<2.14,>=2.13->tensorflow==2.13.0) (2.40.3)\n",
      "Requirement already satisfied: google-auth-oauthlib<1.1,>=0.5 in /home/oriol/workspace/t1d-data-based-digital-twin/.venv/lib/python3.10/site-packages (from tensorboard<2.14,>=2.13->tensorflow==2.13.0) (1.0.0)\n",
      "Requirement already satisfied: cachetools<6.0,>=2.0.0 in /home/oriol/workspace/t1d-data-based-digital-twin/.venv/lib/python3.10/site-packages (from google-auth<3,>=1.6.3->tensorboard<2.14,>=2.13->tensorflow==2.13.0) (5.5.2)\n",
      "Requirement already satisfied: rsa<5,>=3.1.4 in /home/oriol/workspace/t1d-data-based-digital-twin/.venv/lib/python3.10/site-packages (from google-auth<3,>=1.6.3->tensorboard<2.14,>=2.13->tensorflow==2.13.0) (4.9.1)\n",
      "Requirement already satisfied: pyasn1-modules>=0.2.1 in /home/oriol/workspace/t1d-data-based-digital-twin/.venv/lib/python3.10/site-packages (from google-auth<3,>=1.6.3->tensorboard<2.14,>=2.13->tensorflow==2.13.0) (0.4.2)\n",
      "Requirement already satisfied: requests-oauthlib>=0.7.0 in /home/oriol/workspace/t1d-data-based-digital-twin/.venv/lib/python3.10/site-packages (from google-auth-oauthlib<1.1,>=0.5->tensorboard<2.14,>=2.13->tensorflow==2.13.0) (2.0.0)\n",
      "Requirement already satisfied: certifi>=2017.4.17 in /home/oriol/workspace/t1d-data-based-digital-twin/.venv/lib/python3.10/site-packages (from requests<3,>=2.21.0->tensorboard<2.14,>=2.13->tensorflow==2.13.0) (2025.8.3)\n",
      "Requirement already satisfied: urllib3<3,>=1.21.1 in /home/oriol/workspace/t1d-data-based-digital-twin/.venv/lib/python3.10/site-packages (from requests<3,>=2.21.0->tensorboard<2.14,>=2.13->tensorflow==2.13.0) (2.5.0)\n",
      "Requirement already satisfied: charset_normalizer<4,>=2 in /home/oriol/workspace/t1d-data-based-digital-twin/.venv/lib/python3.10/site-packages (from requests<3,>=2.21.0->tensorboard<2.14,>=2.13->tensorflow==2.13.0) (3.4.3)\n",
      "Requirement already satisfied: idna<4,>=2.5 in /home/oriol/workspace/t1d-data-based-digital-twin/.venv/lib/python3.10/site-packages (from requests<3,>=2.21.0->tensorboard<2.14,>=2.13->tensorflow==2.13.0) (3.10)\n",
      "Requirement already satisfied: MarkupSafe>=2.1.1 in /home/oriol/workspace/t1d-data-based-digital-twin/.venv/lib/python3.10/site-packages (from werkzeug>=1.0.1->tensorboard<2.14,>=2.13->tensorflow==2.13.0) (3.0.2)\n",
      "Requirement already satisfied: pyasn1<0.7.0,>=0.6.1 in /home/oriol/workspace/t1d-data-based-digital-twin/.venv/lib/python3.10/site-packages (from pyasn1-modules>=0.2.1->google-auth<3,>=1.6.3->tensorboard<2.14,>=2.13->tensorflow==2.13.0) (0.6.1)\n",
      "Requirement already satisfied: oauthlib>=3.0.0 in /home/oriol/workspace/t1d-data-based-digital-twin/.venv/lib/python3.10/site-packages (from requests-oauthlib>=0.7.0->google-auth-oauthlib<1.1,>=0.5->tensorboard<2.14,>=2.13->tensorflow==2.13.0) (3.3.1)\n",
      "Installing collected packages: typing-extensions\n",
      "  Attempting uninstall: typing-extensions\n",
      "    Found existing installation: typing_extensions 4.15.0\n",
      "    Uninstalling typing_extensions-4.15.0:\n",
      "      Successfully uninstalled typing_extensions-4.15.0\n",
      "\u001b[31mERROR: pip's dependency resolver does not currently take into account all the packages that are installed. This behaviour is the source of the following dependency conflicts.\n",
      "ipython 8.37.0 requires typing_extensions>=4.6; python_version < \"3.12\", but you have typing-extensions 4.5.0 which is incompatible.\n",
      "exceptiongroup 1.3.0 requires typing-extensions>=4.6.0; python_version < \"3.13\", but you have typing-extensions 4.5.0 which is incompatible.\u001b[0m\u001b[31m\n",
      "\u001b[0mSuccessfully installed typing-extensions-4.5.0\n",
      "Note: you may need to restart the kernel to use updated packages.\n"
     ]
    }
   ],
   "source": [
    "%pip install tensorflow==2.13.0"
   ]
  },
  {
   "cell_type": "code",
   "execution_count": 47,
   "id": "9253cf29",
   "metadata": {},
   "outputs": [
    {
     "name": "stdout",
     "output_type": "stream",
     "text": [
      "Requirement already satisfied: netron in /home/oriol/workspace/t1d-data-based-digital-twin/.venv/lib/python3.10/site-packages (8.6.4)\n",
      "Requirement already satisfied: pandas in /home/oriol/workspace/t1d-data-based-digital-twin/.venv/lib/python3.10/site-packages (2.3.2)\n",
      "Requirement already satisfied: matplotlib in /home/oriol/workspace/t1d-data-based-digital-twin/.venv/lib/python3.10/site-packages (3.10.6)\n",
      "Requirement already satisfied: scikit-learn in /home/oriol/workspace/t1d-data-based-digital-twin/.venv/lib/python3.10/site-packages (1.7.2)\n",
      "Requirement already satisfied: numpy>=1.22.4 in /home/oriol/workspace/t1d-data-based-digital-twin/.venv/lib/python3.10/site-packages (from pandas) (1.24.3)\n",
      "Requirement already satisfied: tzdata>=2022.7 in /home/oriol/workspace/t1d-data-based-digital-twin/.venv/lib/python3.10/site-packages (from pandas) (2025.2)\n",
      "Requirement already satisfied: python-dateutil>=2.8.2 in /home/oriol/workspace/t1d-data-based-digital-twin/.venv/lib/python3.10/site-packages (from pandas) (2.9.0.post0)\n",
      "Requirement already satisfied: pytz>=2020.1 in /home/oriol/workspace/t1d-data-based-digital-twin/.venv/lib/python3.10/site-packages (from pandas) (2025.2)\n",
      "Requirement already satisfied: cycler>=0.10 in /home/oriol/workspace/t1d-data-based-digital-twin/.venv/lib/python3.10/site-packages (from matplotlib) (0.12.1)\n",
      "Requirement already satisfied: kiwisolver>=1.3.1 in /home/oriol/workspace/t1d-data-based-digital-twin/.venv/lib/python3.10/site-packages (from matplotlib) (1.4.9)\n",
      "Requirement already satisfied: pyparsing>=2.3.1 in /home/oriol/workspace/t1d-data-based-digital-twin/.venv/lib/python3.10/site-packages (from matplotlib) (3.2.4)\n",
      "Requirement already satisfied: pillow>=8 in /home/oriol/workspace/t1d-data-based-digital-twin/.venv/lib/python3.10/site-packages (from matplotlib) (11.3.0)\n",
      "Requirement already satisfied: fonttools>=4.22.0 in /home/oriol/workspace/t1d-data-based-digital-twin/.venv/lib/python3.10/site-packages (from matplotlib) (4.59.2)\n",
      "Requirement already satisfied: contourpy>=1.0.1 in /home/oriol/workspace/t1d-data-based-digital-twin/.venv/lib/python3.10/site-packages (from matplotlib) (1.3.2)\n",
      "Requirement already satisfied: packaging>=20.0 in /home/oriol/workspace/t1d-data-based-digital-twin/.venv/lib/python3.10/site-packages (from matplotlib) (25.0)\n",
      "Requirement already satisfied: joblib>=1.2.0 in /home/oriol/workspace/t1d-data-based-digital-twin/.venv/lib/python3.10/site-packages (from scikit-learn) (1.5.2)\n",
      "Requirement already satisfied: scipy>=1.8.0 in /home/oriol/workspace/t1d-data-based-digital-twin/.venv/lib/python3.10/site-packages (from scikit-learn) (1.15.3)\n",
      "Requirement already satisfied: threadpoolctl>=3.1.0 in /home/oriol/workspace/t1d-data-based-digital-twin/.venv/lib/python3.10/site-packages (from scikit-learn) (3.6.0)\n",
      "Requirement already satisfied: six>=1.5 in /home/oriol/workspace/t1d-data-based-digital-twin/.venv/lib/python3.10/site-packages (from python-dateutil>=2.8.2->pandas) (1.17.0)\n",
      "Note: you may need to restart the kernel to use updated packages.\n"
     ]
    }
   ],
   "source": [
    "%pip install netron pandas matplotlib scikit-learn"
   ]
  },
  {
   "cell_type": "code",
   "execution_count": 34,
   "id": "4b650c01",
   "metadata": {},
   "outputs": [],
   "source": [
    "from pathlib import Path\n",
    "\n",
    "import matplotlib.pyplot as plt\n",
    "import netron\n",
    "import numpy as np\n",
    "import pandas as pd\n",
    "from scipy.integrate import odeint\n",
    "from tqdm import tqdm\n",
    "\n",
    "import tensorflow as tf\n",
    "from tensorflow.keras.utils import plot_model\n"
   ]
  },
  {
   "cell_type": "markdown",
   "id": "272bf59d",
   "metadata": {},
   "source": [
    "<h2 style=\"color:#4FC3F7; border-bottom:2px solid #4FC3F7; padding-bottom:4px;\">\n",
    "1. Load Model\n",
    "</h2>"
   ]
  },
  {
   "cell_type": "markdown",
   "id": "51a7f13a",
   "metadata": {},
   "source": [
    "Setup path and model name."
   ]
  },
  {
   "cell_type": "code",
   "execution_count": 35,
   "id": "5f53aefc",
   "metadata": {},
   "outputs": [],
   "source": [
    "path_to_model = \"../misc/\"\n",
    "model_name = \"pretrained-model.h5\""
   ]
  },
  {
   "cell_type": "markdown",
   "id": "d029bac1",
   "metadata": {},
   "source": [
    "Load the .h5 using the `load_model` method from keras."
   ]
  },
  {
   "cell_type": "code",
   "execution_count": 36,
   "id": "a5dd52f9",
   "metadata": {},
   "outputs": [
    {
     "name": "stdout",
     "output_type": "stream",
     "text": [
      "WARNING:tensorflow:Layer lstm_1 will not use cuDNN kernels since it doesn't meet the criteria. It will use a generic GPU kernel as fallback when running on GPU.\n"
     ]
    },
    {
     "name": "stderr",
     "output_type": "stream",
     "text": [
      "Layer lstm_1 will not use cuDNN kernels since it doesn't meet the criteria. It will use a generic GPU kernel as fallback when running on GPU.\n"
     ]
    },
    {
     "name": "stdout",
     "output_type": "stream",
     "text": [
      "WARNING:tensorflow:No training configuration found in the save file, so the model was *not* compiled. Compile it manually.\n"
     ]
    },
    {
     "name": "stderr",
     "output_type": "stream",
     "text": [
      "No training configuration found in the save file, so the model was *not* compiled. Compile it manually.\n"
     ]
    }
   ],
   "source": [
    "model_filename = Path(path_to_model, model_name)\n",
    "pretrained_vae_model = tf.keras.models.load_model(model_filename)"
   ]
  },
  {
   "cell_type": "markdown",
   "id": "07c5e7ed",
   "metadata": {},
   "source": [
    "<h2 style=\"color:#4FC3F7; border-bottom:2px solid #4FC3F7; padding-bottom:4px;\">\n",
    "2. Inspect Model\n",
    "</h2>"
   ]
  },
  {
   "cell_type": "markdown",
   "id": "d7af4bb7",
   "metadata": {},
   "source": [
    "Let's explore the structure of the model we just loaded."
   ]
  },
  {
   "cell_type": "markdown",
   "id": "979ab93f",
   "metadata": {},
   "source": [
    "<h3 style=\"color:#4FC3F7; border-bottom:2px solid #4FC3F7; padding-bottom:4px;\">\n",
    "2.1 Text summary\n",
    "</h3>\n",
    "The `.summary()` method is usually the first step when inspecting a model, it shows in plain text each Layer's\n",
    "- Name and type\n",
    "- Output Shape (first element is always `None` since it will correspond to the batch size)\n",
    "- Number of Parameters\n",
    "- Layers it connects to\n",
    "- Whether it is set to trainable or  not (frozen, thus weights are not updated during backpropagation).\n",
    "\n",
    "It ends by showing the total number of parameters of the entire model."
   ]
  },
  {
   "cell_type": "code",
   "execution_count": 37,
   "id": "5b9f4bfe",
   "metadata": {},
   "outputs": [
    {
     "name": "stdout",
     "output_type": "stream",
     "text": [
      "Model: \"decoder\"\n",
      "_____________________________________________________________________________________________________________\n",
      " Layer (type)                Output Shape                 Param #   Connected to                  Trainable  \n",
      "=============================================================================================================\n",
      " in_lat_gen (InputLayer)     [(None, 18)]                 0         []                            Y          \n",
      "                                                                                                             \n",
      " dense_latent (Dense)        (None, 18)                   342       ['in_lat_gen[0][0]']          Y          \n",
      "                                                                                                             \n",
      " PI (InputLayer)             [(None, 1, 1)]               0         []                            Y          \n",
      "                                                                                                             \n",
      " RA (InputLayer)             [(None, 1, 1)]               0         []                            Y          \n",
      "                                                                                                             \n",
      " leaky_re_lu (LeakyReLU)     (None, 18)                   0         ['dense_latent[0][0]']        Y          \n",
      "                                                                                                             \n",
      " dense_PI (Dense)            (None, 1, 18)                36        ['PI[0][0]']                  Y          \n",
      "                                                                                                             \n",
      " dense_RA (Dense)            (None, 1, 18)                36        ['RA[0][0]']                  Y          \n",
      "                                                                                                             \n",
      " reshape_latent (Reshape)    (None, 1, 18)                0         ['leaky_re_lu[0][0]']         Y          \n",
      "                                                                                                             \n",
      " reshape_PI (Reshape)        (None, 1, 18)                0         ['dense_PI[0][0]']            Y          \n",
      "                                                                                                             \n",
      " reshape_RA (Reshape)        (None, 1, 18)                0         ['dense_RA[0][0]']            Y          \n",
      "                                                                                                             \n",
      " concatenate_1 (Concatenate  (None, 1, 54)                0         ['reshape_latent[0][0]',      Y          \n",
      " )                                                                   'reshape_PI[0][0]',                     \n",
      "                                                                     'reshape_RA[0][0]']                     \n",
      "                                                                                                             \n",
      " lstm_1 (LSTM)               (None, 1, 100)               62000     ['concatenate_1[0][0]']       Y          \n",
      "                                                                                                             \n",
      " leaky_re_lu_1 (LeakyReLU)   (None, 1, 100)               0         ['lstm_1[0][0]']              Y          \n",
      "                                                                                                             \n",
      " dropout (Dropout)           (None, 1, 100)               0         ['leaky_re_lu_1[0][0]']       Y          \n",
      "                                                                                                             \n",
      " dense_1 (Dense)             (None, 1, 18)                1818      ['dropout[0][0]']             Y          \n",
      "                                                                                                             \n",
      " reshape_1 (Reshape)         (None, 1, 18)                0         ['dense_1[0][0]']             Y          \n",
      "                                                                                                             \n",
      "=============================================================================================================\n",
      "Total params: 64232 (250.91 KB)\n",
      "Trainable params: 64232 (250.91 KB)\n",
      "Non-trainable params: 0 (0.00 Byte)\n",
      "_____________________________________________________________________________________________________________\n"
     ]
    }
   ],
   "source": [
    "pretrained_vae_model.summary(expand_nested=True, show_trainable=True)"
   ]
  },
  {
   "cell_type": "markdown",
   "id": "30cf2cdd",
   "metadata": {},
   "source": [
    "<h3 style=\"color:#4FC3F7; border-bottom:2px solid #4FC3F7; padding-bottom:4px;\">\n",
    "2.2 Netron: Interactive Diagram\n",
    "</h3>"
   ]
  },
  {
   "cell_type": "markdown",
   "id": "34fbc695",
   "metadata": {},
   "source": [
    "Netron is a tool for visualizing neural network models interactively in your browser. The `netron.start(model_filename)` command launches a web-based viewer, allowing you to explore the model’s architecture, layers, and parameters directly in your browser.\n",
    "\n",
    "\n",
    "After running the cell, open the provided link."
   ]
  },
  {
   "cell_type": "code",
   "execution_count": 39,
   "id": "96cf2cd0",
   "metadata": {},
   "outputs": [
    {
     "name": "stderr",
     "output_type": "stream",
     "text": [
      "Serving '../misc/pretrained-model.h5' at http://localhost:21655\n"
     ]
    },
    {
     "data": {
      "text/plain": [
       "('localhost', 21655)"
      ]
     },
     "execution_count": 39,
     "metadata": {},
     "output_type": "execute_result"
    }
   ],
   "source": [
    "netron.start(str(model_filename))"
   ]
  },
  {
   "cell_type": "markdown",
   "id": "a9ca4528",
   "metadata": {},
   "source": [
    "<h2 style=\"color:#4FC3F7; border-bottom:2px solid #4FC3F7; padding-bottom:4px;\">\n",
    "3. Load Data\n",
    "</h2>"
   ]
  },
  {
   "cell_type": "code",
   "execution_count": 40,
   "id": "e6ff3cf5",
   "metadata": {},
   "outputs": [
    {
     "data": {
      "application/vnd.microsoft.datawrangler.viewer.v0+json": {
       "columns": [
        {
         "name": "index",
         "rawType": "int64",
         "type": "integer"
        },
        {
         "name": "ID",
         "rawType": "object",
         "type": "string"
        },
        {
         "name": "BG",
         "rawType": "float64",
         "type": "float"
        },
        {
         "name": "carbs",
         "rawType": "float64",
         "type": "float"
        },
        {
         "name": "bolus",
         "rawType": "float64",
         "type": "float"
        },
        {
         "name": "intensity",
         "rawType": "int64",
         "type": "integer"
        },
        {
         "name": "basal",
         "rawType": "float64",
         "type": "float"
        }
       ],
       "ref": "881b7ee7-435e-4e66-9f00-09b580e61278",
       "rows": [
        [
         "0",
         "11_0",
         "134.0",
         "0.0",
         "0.0",
         "0",
         "0.0291666666666666"
        ],
        [
         "1",
         "11_0",
         "125.0",
         "0.0",
         "0.0",
         "0",
         "0.0"
        ],
        [
         "2",
         "11_0",
         "132.0",
         "0.0",
         "0.0",
         "0",
         "0.0291666666666666"
        ],
        [
         "3",
         "11_0",
         "132.0",
         "0.0",
         "0.0",
         "0",
         "0.0291666666666666"
        ],
        [
         "4",
         "11_0",
         "132.0",
         "0.0",
         "0.15",
         "0",
         "0.0291666666666666"
        ]
       ],
       "shape": {
        "columns": 6,
        "rows": 5
       }
      },
      "text/html": [
       "<div>\n",
       "<style scoped>\n",
       "    .dataframe tbody tr th:only-of-type {\n",
       "        vertical-align: middle;\n",
       "    }\n",
       "\n",
       "    .dataframe tbody tr th {\n",
       "        vertical-align: top;\n",
       "    }\n",
       "\n",
       "    .dataframe thead th {\n",
       "        text-align: right;\n",
       "    }\n",
       "</style>\n",
       "<table border=\"1\" class=\"dataframe\">\n",
       "  <thead>\n",
       "    <tr style=\"text-align: right;\">\n",
       "      <th></th>\n",
       "      <th>ID</th>\n",
       "      <th>BG</th>\n",
       "      <th>carbs</th>\n",
       "      <th>bolus</th>\n",
       "      <th>intensity</th>\n",
       "      <th>basal</th>\n",
       "    </tr>\n",
       "  </thead>\n",
       "  <tbody>\n",
       "    <tr>\n",
       "      <th>0</th>\n",
       "      <td>11_0</td>\n",
       "      <td>134.0</td>\n",
       "      <td>0.0</td>\n",
       "      <td>0.00</td>\n",
       "      <td>0</td>\n",
       "      <td>0.029167</td>\n",
       "    </tr>\n",
       "    <tr>\n",
       "      <th>1</th>\n",
       "      <td>11_0</td>\n",
       "      <td>125.0</td>\n",
       "      <td>0.0</td>\n",
       "      <td>0.00</td>\n",
       "      <td>0</td>\n",
       "      <td>0.000000</td>\n",
       "    </tr>\n",
       "    <tr>\n",
       "      <th>2</th>\n",
       "      <td>11_0</td>\n",
       "      <td>132.0</td>\n",
       "      <td>0.0</td>\n",
       "      <td>0.00</td>\n",
       "      <td>0</td>\n",
       "      <td>0.029167</td>\n",
       "    </tr>\n",
       "    <tr>\n",
       "      <th>3</th>\n",
       "      <td>11_0</td>\n",
       "      <td>132.0</td>\n",
       "      <td>0.0</td>\n",
       "      <td>0.00</td>\n",
       "      <td>0</td>\n",
       "      <td>0.029167</td>\n",
       "    </tr>\n",
       "    <tr>\n",
       "      <th>4</th>\n",
       "      <td>11_0</td>\n",
       "      <td>132.0</td>\n",
       "      <td>0.0</td>\n",
       "      <td>0.15</td>\n",
       "      <td>0</td>\n",
       "      <td>0.029167</td>\n",
       "    </tr>\n",
       "  </tbody>\n",
       "</table>\n",
       "</div>"
      ],
      "text/plain": [
       "     ID     BG  carbs  bolus  intensity     basal\n",
       "0  11_0  134.0    0.0   0.00          0  0.029167\n",
       "1  11_0  125.0    0.0   0.00          0  0.000000\n",
       "2  11_0  132.0    0.0   0.00          0  0.029167\n",
       "3  11_0  132.0    0.0   0.00          0  0.029167\n",
       "4  11_0  132.0    0.0   0.15          0  0.029167"
      ]
     },
     "metadata": {},
     "output_type": "display_data"
    }
   ],
   "source": [
    "path_df = Path(\"../data/data_filtered.csv\")\n",
    "\n",
    "df = pd.read_csv(path_df)\n",
    "\n",
    "display(df.head())"
   ]
  },
  {
   "cell_type": "markdown",
   "id": "a6d600a6",
   "metadata": {},
   "source": [
    "<h2 style=\"color:#4FC3F7; border-bottom:2px solid #4FC3F7; padding-bottom:4px;\">\n",
    "4. Physiological Approximations\n",
    "</h2>\n",
    "In this section, we use physiological models to approximate two key quantities for each patient:  \n",
    "- **PI (Plasma Insulin):** The effective insulin in the bloodstream, calculated from both bolus and basal insulin delivery using a compartmental model based on the Hovorka equations[\\[1\\]](#ref1).  \n",
    "- **RA (Rate of Appearance of Glucose):** The rate at which glucose enters the bloodstream after carbohydrate intake, also modeled using a compartmental approach[\\[1\\]](#ref1).\n",
    "\n",
    "These approximations transform raw insulin and carbohydrate data into physiologically meaningful features, which are more suitable for downstream modeling and simulation. The resulting columns, `PI` and `RA`, are added to the patient dataframes and will be used as inputs for the deep learning model in the next steps."
   ]
  },
  {
   "cell_type": "markdown",
   "id": "f60d3a8f",
   "metadata": {},
   "source": [
    "<h3 style=\"color:#4FC3F7; border-bottom:2px solid #4FC3F7; padding-bottom:4px;\">\n",
    "4.1 Equations\n",
    "</h3>\n",
    "Here are the implementations for solving the differential equations in Python functions."
   ]
  },
  {
   "cell_type": "code",
   "execution_count": 41,
   "id": "edf7ca3f",
   "metadata": {},
   "outputs": [],
   "source": [
    "def process_pi(df: pd.DataFrame, params_pi: dict) -> pd.DataFrame:\n",
    "    \"\"\"\n",
    "    Process the 'PI' column of the dataframe using parameters from params_pi.\n",
    "\n",
    "    Args:\n",
    "        df (pd.DataFrame): Dataframe to process.\n",
    "        params_pi (dict): Dictionary containing parameter values.\n",
    "\n",
    "    Returns:\n",
    "        pd.DataFrame: Dataframe with processed 'PI' column.\n",
    "    \"\"\"\n",
    "\n",
    "    def system(y0, t, params, u_t_values):\n",
    "        s1, s2, ifa = y0  # Corrected N806\n",
    "        vi = params['VI']  # Corrected N806\n",
    "        ke = params['Ke']  # Corrected N806\n",
    "        tmaxi = params['tmaxI']  # Corrected N806\n",
    "        kdia = 1 / tmaxi  # Corrected N806\n",
    "        dt = params['dt']\n",
    "\n",
    "        u_t = u_t_values[int(t / dt)] if int(t / dt) < len(u_t_values) else 0  # Corrected SIM108\n",
    "\n",
    "        ds1 = u_t - kdia * s1  # Corrected N806\n",
    "        ds2 = kdia * (s1 - s2)  # Corrected N806\n",
    "        difa = (s2 / (tmaxi * vi)) - ke * ifa  # Corrected N806\n",
    "\n",
    "        return [ds1, ds2, difa]\n",
    "\n",
    "    # Fill missing data\n",
    "    df['bolus'] = df['bolus'].fillna(0)\n",
    "\n",
    "    bolus_by_id = {}\n",
    "    # Group by ID and process each group\n",
    "    for patient_id, group in tqdm(df.groupby('ID'), desc='Processing bolus PI', total=df['ID'].nunique()):  # Corrected N806\n",
    "        u_t_values = group['bolus'].values / params_pi['dt']\n",
    "        y0 = [0, 0, 0]  # Initial conditions\n",
    "        t = np.arange(0, len(group) * params_pi['dt'], params_pi['dt'])  # Time vector\n",
    "\n",
    "        # Solve ODE for the current group\n",
    "        sol = odeint(system, y0, t, args=(params_pi, u_t_values), hmax=params_pi['dt'])\n",
    "        bolus_by_id[patient_id] = sol[:, 2]  # Add solution for Ifa to the group's dataframe\n",
    "\n",
    "    # Fill missing data\n",
    "    df['basal'] = df['basal'].fillna(0)\n",
    "\n",
    "    basal_by_id = {}\n",
    "    # Group by ID and process each group\n",
    "    for patient_id, group in tqdm(df.groupby('ID'), desc='Processing basal PI', total=df['ID'].nunique()):  # Corrected N806\n",
    "        u_t_values = group['basal'].values / params_pi['dt']\n",
    "        y0 = [0, 0, 0]  # Initial conditions\n",
    "        t = np.arange(0, len(group) * params_pi['dt'], params_pi['dt'])  # Time vector\n",
    "\n",
    "        # Solve ODE for the current group\n",
    "        sol = odeint(system, y0, t, args=(params_pi, u_t_values), hmax=params_pi['dt'])\n",
    "        basal_by_id[patient_id] = sol[:, 2]  # Add solution for Ifa to the group's dataframe\n",
    "\n",
    "    for idx in df['ID'].unique():\n",
    "        # Retrieve the index positions for the current sub_id\n",
    "        index_positions = df[df['ID'] == idx].index\n",
    "\n",
    "        # Retrieve the corresponding values from each dictionary\n",
    "        boluses_values = bolus_by_id.get(idx, [0] * len(index_positions))\n",
    "        basal_values = basal_by_id.get(idx, [0] * len(index_positions))\n",
    "\n",
    "        pi_values = [sum(x) for x in zip(boluses_values, basal_values, strict=False)]\n",
    "        df.loc[index_positions, 'PI'] = pi_values\n",
    "\n",
    "    return df\n",
    "\n",
    "\n",
    "def process_ra(df: pd.DataFrame, params_ra: dict) -> pd.DataFrame:\n",
    "    \"\"\"\n",
    "    Process the 'RA' column of the dataframe using parameters from params_ra.\n",
    "\n",
    "    Args:\n",
    "        df (pd.DataFrame): Dataframe to process.\n",
    "        params_ra (dict): Dictionary containing parameter values.\n",
    "\n",
    "    Returns:\n",
    "        pd.DataFrame: Dataframe with processed 'RA' column.\n",
    "    \"\"\"\n",
    "    dt = params_ra['dt']  # Extract time step for easier use later\n",
    "\n",
    "    def system(y0, t, params, u_t_values):\n",
    "        d1, d2 = y0  # Corrected N806\n",
    "        tau_d = params['tau_D']  # Corrected N806\n",
    "        a_g = params['A_G']  # Corrected N806\n",
    "\n",
    "        u_t = u_t_values[int(t / dt)] if int(t / dt) < len(u_t_values) else 0  # Corrected SIM108\n",
    "\n",
    "        # Rate equations\n",
    "        dd1 = a_g * u_t - 1 / tau_d * d1  # Corrected N806\n",
    "        dd2 = 1 / tau_d * d1 - 1 / tau_d * d2  # Corrected N806\n",
    "\n",
    "        return [dd1, dd2]\n",
    "\n",
    "    # Fill missing data\n",
    "    df['carbs'] = df['carbs'].fillna(0)\n",
    "\n",
    "    # Group by ID and process each group\n",
    "    for _, group in tqdm(df.groupby('ID'), desc='Processing RA', total=df['ID'].nunique()):  # Corrected N806, B007\n",
    "        u_t_values = group['carbs'].values\n",
    "        y0 = [0, 0]  # Initial conditions for D1 and D2\n",
    "        t = np.linspace(0, (len(group) - 1) * dt, len(group))  # Time vector\n",
    "\n",
    "        # Solve ODE for the current group\n",
    "        sol = odeint(system, y0, t, args=(params_ra, u_t_values), hmax=dt)\n",
    "\n",
    "        # Compute Ra from D2\n",
    "        d1, d2 = sol.T  # Corrected N806\n",
    "        ra = d2 / params_ra['tau_D']  # Corrected N806\n",
    "\n",
    "        # Store results in the group's dataframe\n",
    "        group['RA'] = ra\n",
    "        df.loc[group.index, 'RA'] = group['RA']\n",
    "\n",
    "    return df"
   ]
  },
  {
   "cell_type": "markdown",
   "id": "4ed5d380",
   "metadata": {},
   "source": [
    "<h3 style=\"color:#4FC3F7; border-bottom:2px solid #4FC3F7; padding-bottom:4px;\">\n",
    "4.2 Parameters\n",
    "</h3>"
   ]
  },
  {
   "cell_type": "markdown",
   "id": "f3603a67",
   "metadata": {},
   "source": [
    "These two dictionaries contain the parameters for the PI and RA physiological models, extracted from [\\[1\\]](#ref1).\n",
    "- **params_pi**:  \n",
    "    Dictionary of parameters for the plasma insulin (PI) physiological model:  \n",
    "    - `VI`: Insulin distribution volume (L/kg)  \n",
    "    - `Ke`: Insulin elimination rate constant (1/min)  \n",
    "    - `tmaxI`: Time-to-maximum insulin absorption (min)  \n",
    "    - `dt`: Time step for simulation (min)  \n",
    "\n",
    "- **params_ra**:  \n",
    "    Dictionary of parameters for the rate of appearance (RA) of glucose model:  \n",
    "    - `tau_D`: Time constant for glucose absorption (min)  \n",
    "    - `A_G`: Fraction of carbohydrate absorbed  \n",
    "    - `dt`: Time step for simulation (min)"
   ]
  },
  {
   "cell_type": "code",
   "execution_count": 42,
   "id": "c98fb1bc",
   "metadata": {},
   "outputs": [],
   "source": [
    "params_pi: dict[str, float] = {'VI': 0.12,\n",
    "                               'Ke': 0.138,\n",
    "                               'tmaxI': 55,\n",
    "                               'dt': 5,\n",
    "                               }\n",
    "params_ra: dict[str, float] = {'tau_D': 40,\n",
    "                               'A_G': 0.8,\n",
    "                               'dt': 5\n",
    "                               }"
   ]
  },
  {
   "cell_type": "markdown",
   "id": "934eb1d7",
   "metadata": {},
   "source": [
    "<h3 style=\"color:#4FC3F7; border-bottom:2px solid #4FC3F7; padding-bottom:4px;\">\n",
    "4.3 Let's solve\n",
    "</h3>"
   ]
  },
  {
   "cell_type": "code",
   "execution_count": 43,
   "id": "7057829b",
   "metadata": {},
   "outputs": [
    {
     "name": "stderr",
     "output_type": "stream",
     "text": [
      "Processing bolus PI: 100%|██████████| 2/2 [00:00<00:00, 119.79it/s]\n",
      "Processing basal PI: 100%|██████████| 2/2 [00:00<00:00, 100.87it/s]\n",
      "Processing RA: 100%|██████████| 2/2 [00:00<00:00, 161.79it/s]\n"
     ]
    }
   ],
   "source": [
    "df = process_pi(df, params_pi)\n",
    "\n",
    "df = process_ra(df, params_ra)"
   ]
  },
  {
   "cell_type": "markdown",
   "id": "14f9869b",
   "metadata": {},
   "source": [
    "<h3 style=\"color:#4FC3F7; border-bottom:2px solid #4FC3F7; padding-bottom:4px;\">\n",
    "4.4 Plotting the Solved Equations\n",
    "</h3>\n",
    "Here we can see the original discrete signals (bolus and basal, and carbohydrate intake) plotted againsts the solved equations, which result in a continuus curve."
   ]
  },
  {
   "cell_type": "code",
   "execution_count": 44,
   "id": "94190ea5",
   "metadata": {},
   "outputs": [
    {
     "data": {
      "image/png": "[encoded data removed]",
      "text/plain": [
       "<Figure size 600x300 with 1 Axes>"
      ]
     },
     "metadata": {},
     "output_type": "display_data"
    }
   ],
   "source": [
    "length = 1000\n",
    "length = min(length, len(df))\n",
    "df_sliced = df.iloc[:length]\n",
    "df_sliced = df.iloc[:length]\n",
    "\n",
    "plt.figure(figsize=(6, 3))\n",
    "plt.plot(\n",
    "    df_sliced.index * 5,\n",
    "    df_sliced['PI'],\n",
    "    label='Solved PI',\n",
    "    color='blue',\n",
    ")\n",
    "plt.plot(df_sliced.index * 5, df_sliced['bolus'], label='Bolus', color='red')\n",
    "plt.plot(df_sliced.index * 5, df_sliced['basal'], label='Basal', color='green')\n",
    "\n",
    "plt.xlabel('Time (minutes)')\n",
    "plt.ylabel('Bolus Value')\n",
    "plt.title(f'Solved PI vs. Bolus and Basal for Patient 11 (First {length} Points / {length*5} minutes)')\n",
    "plt.legend(loc='best')\n",
    "plt.show()"
   ]
  },
  {
   "cell_type": "code",
   "execution_count": 45,
   "id": "56eb4ee9",
   "metadata": {},
   "outputs": [
    {
     "data": {
      "image/png": "[encoded data removed]",
      "text/plain": [
       "<Figure size 600x300 with 1 Axes>"
      ]
     },
     "metadata": {},
     "output_type": "display_data"
    }
   ],
   "source": [
    "length = 1000\n",
    "length = min(length, len(df))\n",
    "df_sliced = df.iloc[:length]\n",
    "df_sliced = df.iloc[:length]\n",
    "\n",
    "plt.figure(figsize=(6, 3))\n",
    "plt.plot(\n",
    "    df_sliced.index * 5,\n",
    "    df_sliced['RA']*10,\n",
    "    label='Solved RA',\n",
    "    color='blue',\n",
    ")\n",
    "plt.plot(df_sliced.index * 5, df_sliced['carbs'], label='Carbohydrates', color='red')\n",
    "\n",
    "plt.xlabel('Time (minutes)')\n",
    "plt.ylabel('Bolus Value')\n",
    "plt.title(f'Solved RA (scaled x10) vs. Carbohydrate Intake for Patient 11 (First {length} Points / {length*5} minutes)')\n",
    "plt.legend(loc='best')\n",
    "plt.show()"
   ]
  },
  {
   "cell_type": "markdown",
   "id": "8b8bec1a",
   "metadata": {},
   "source": [
    "For visualization purposes we have upscaled the solved RA vector."
   ]
  },
  {
   "cell_type": "markdown",
   "id": "aa6ad9d6",
   "metadata": {},
   "source": [
    "<h2 style=\"color:#4FC3F7; border-bottom:2px solid #4FC3F7; padding-bottom:4px;\">\n",
    "5. Save Processed Data for Modeling\n",
    "</h2>"
   ]
  },
  {
   "cell_type": "code",
   "execution_count": 46,
   "id": "8c8eab1b",
   "metadata": {},
   "outputs": [
    {
     "data": {
      "application/vnd.microsoft.datawrangler.viewer.v0+json": {
       "columns": [
        {
         "name": "index",
         "rawType": "int64",
         "type": "integer"
        },
        {
         "name": "ID",
         "rawType": "object",
         "type": "string"
        },
        {
         "name": "BG",
         "rawType": "float64",
         "type": "float"
        },
        {
         "name": "PI",
         "rawType": "float64",
         "type": "float"
        },
        {
         "name": "RA",
         "rawType": "float64",
         "type": "float"
        }
       ],
       "ref": "a0338a27-ac0a-4182-afe4-8e1e2d9f70f8",
       "rows": [
        [
         "0",
         "11_0",
         "134.0",
         "0.0",
         "0.0"
        ],
        [
         "1",
         "11_0",
         "125.0",
         "0.00027120960115430267",
         "0.0"
        ],
        [
         "2",
         "11_0",
         "132.0",
         "0.0015104744754281198",
         "0.0"
        ],
        [
         "3",
         "11_0",
         "132.0",
         "0.0034881639011847074",
         "0.0"
        ],
        [
         "4",
         "11_0",
         "132.0",
         "0.006740529886341709",
         "0.0"
        ],
        [
         "5",
         "11_0",
         "131.0",
         "0.012939336503317838",
         "0.0"
        ],
        [
         "6",
         "11_0",
         "134.0",
         "0.02563174043569032",
         "0.0"
        ],
        [
         "7",
         "11_0",
         "135.0",
         "0.042071657888160696",
         "0.0"
        ],
        [
         "8",
         "11_0",
         "130.0",
         "0.061681391161550345",
         "0.0"
        ],
        [
         "9",
         "11_0",
         "128.0",
         "0.08803976769327275",
         "0.0"
        ],
        [
         "10",
         "11_0",
         "116.0",
         "0.11713408565567",
         "0.0"
        ],
        [
         "11",
         "11_0",
         "108.0",
         "0.1457365178565112",
         "0.0"
        ],
        [
         "12",
         "11_0",
         "111.0",
         "0.17216096007602166",
         "0.0"
        ],
        [
         "13",
         "11_0",
         "111.0",
         "0.19518360670901808",
         "0.0"
        ],
        [
         "14",
         "11_0",
         "106.0",
         "0.21520449521707555",
         "0.0"
        ],
        [
         "15",
         "11_0",
         "97.0",
         "0.23275112249652413",
         "0.0"
        ],
        [
         "16",
         "11_0",
         "96.0",
         "0.2479212219657367",
         "0.0"
        ],
        [
         "17",
         "11_0",
         "96.0",
         "0.2600253283846003",
         "0.0"
        ],
        [
         "18",
         "11_0",
         "97.0",
         "0.2688197692789591",
         "0.0"
        ],
        [
         "19",
         "11_0",
         "99.0",
         "0.27472751066846135",
         "0.0"
        ],
        [
         "20",
         "11_0",
         "99.0",
         "0.27903249477869013",
         "0.0"
        ],
        [
         "21",
         "11_0",
         "99.0",
         "0.282569792300377",
         "0.0"
        ],
        [
         "22",
         "11_0",
         "98.0",
         "0.2857418307251193",
         "0.0"
        ],
        [
         "23",
         "11_0",
         "96.0",
         "0.28873660939197354",
         "0.0"
        ],
        [
         "24",
         "11_0",
         "94.0",
         "0.29163683864447953",
         "0.0"
        ],
        [
         "25",
         "11_0",
         "92.0",
         "0.29447437858114633",
         "0.0"
        ],
        [
         "26",
         "11_0",
         "91.0",
         "0.29725730733509703",
         "0.0"
        ],
        [
         "27",
         "11_0",
         "83.0",
         "0.29998326522707097",
         "0.0"
        ],
        [
         "28",
         "11_0",
         "83.0",
         "0.30237470804866357",
         "0.0"
        ],
        [
         "29",
         "11_0",
         "83.0",
         "0.3034564432537028",
         "0.0"
        ],
        [
         "30",
         "11_0",
         "85.0",
         "0.30275456085339747",
         "0.0"
        ],
        [
         "31",
         "11_0",
         "85.0",
         "0.3004992996600449",
         "0.0"
        ],
        [
         "32",
         "11_0",
         "85.0",
         "0.297809175289697",
         "0.0"
        ],
        [
         "33",
         "11_0",
         "85.0",
         "0.29537523111277464",
         "0.0"
        ],
        [
         "34",
         "11_0",
         "83.0",
         "0.29347338400966544",
         "0.0"
        ],
        [
         "35",
         "11_0",
         "79.0",
         "0.29218009754345486",
         "0.0"
        ],
        [
         "36",
         "11_0",
         "80.0",
         "0.29120827947310457",
         "0.0"
        ],
        [
         "37",
         "11_0",
         "78.0",
         "0.28976694139062636",
         "0.0"
        ],
        [
         "38",
         "11_0",
         "75.0",
         "0.28791710804041026",
         "0.0"
        ],
        [
         "39",
         "11_0",
         "72.0",
         "0.285123442102573",
         "0.0"
        ],
        [
         "40",
         "11_0",
         "67.0",
         "0.2811039905671352",
         "0.0"
        ],
        [
         "41",
         "11_0",
         "65.0",
         "0.2758621767096516",
         "0.0"
        ],
        [
         "42",
         "11_0",
         "61.0",
         "0.26952508084385446",
         "0.0"
        ],
        [
         "43",
         "11_0",
         "58.0",
         "0.2622646020542782",
         "0.0"
        ],
        [
         "44",
         "11_0",
         "59.0",
         "0.2542599529580946",
         "0.0"
        ],
        [
         "45",
         "11_0",
         "59.0",
         "0.24591317571047155",
         "0.0"
        ],
        [
         "46",
         "11_0",
         "61.0",
         "0.23820701250670653",
         "0.0"
        ],
        [
         "47",
         "11_0",
         "65.0",
         "0.23167632682605016",
         "0.0"
        ],
        [
         "48",
         "11_0",
         "74.0",
         "0.22646752692549327",
         "0.0"
        ],
        [
         "49",
         "11_0",
         "78.0",
         "0.22254690303929986",
         "0.0"
        ]
       ],
       "shape": {
        "columns": 4,
        "rows": 1728
       }
      },
      "text/html": [
       "<div>\n",
       "<style scoped>\n",
       "    .dataframe tbody tr th:only-of-type {\n",
       "        vertical-align: middle;\n",
       "    }\n",
       "\n",
       "    .dataframe tbody tr th {\n",
       "        vertical-align: top;\n",
       "    }\n",
       "\n",
       "    .dataframe thead th {\n",
       "        text-align: right;\n",
       "    }\n",
       "</style>\n",
       "<table border=\"1\" class=\"dataframe\">\n",
       "  <thead>\n",
       "    <tr style=\"text-align: right;\">\n",
       "      <th></th>\n",
       "      <th>ID</th>\n",
       "      <th>BG</th>\n",
       "      <th>PI</th>\n",
       "      <th>RA</th>\n",
       "    </tr>\n",
       "  </thead>\n",
       "  <tbody>\n",
       "    <tr>\n",
       "      <th>0</th>\n",
       "      <td>11_0</td>\n",
       "      <td>134.0</td>\n",
       "      <td>0.000000</td>\n",
       "      <td>0.000000</td>\n",
       "    </tr>\n",
       "    <tr>\n",
       "      <th>1</th>\n",
       "      <td>11_0</td>\n",
       "      <td>125.0</td>\n",
       "      <td>0.000271</td>\n",
       "      <td>0.000000</td>\n",
       "    </tr>\n",
       "    <tr>\n",
       "      <th>2</th>\n",
       "      <td>11_0</td>\n",
       "      <td>132.0</td>\n",
       "      <td>0.001510</td>\n",
       "      <td>0.000000</td>\n",
       "    </tr>\n",
       "    <tr>\n",
       "      <th>3</th>\n",
       "      <td>11_0</td>\n",
       "      <td>132.0</td>\n",
       "      <td>0.003488</td>\n",
       "      <td>0.000000</td>\n",
       "    </tr>\n",
       "    <tr>\n",
       "      <th>4</th>\n",
       "      <td>11_0</td>\n",
       "      <td>132.0</td>\n",
       "      <td>0.006741</td>\n",
       "      <td>0.000000</td>\n",
       "    </tr>\n",
       "    <tr>\n",
       "      <th>...</th>\n",
       "      <td>...</td>\n",
       "      <td>...</td>\n",
       "      <td>...</td>\n",
       "      <td>...</td>\n",
       "    </tr>\n",
       "    <tr>\n",
       "      <th>1723</th>\n",
       "      <td>290_0</td>\n",
       "      <td>70.0</td>\n",
       "      <td>1.402729</td>\n",
       "      <td>0.052132</td>\n",
       "    </tr>\n",
       "    <tr>\n",
       "      <th>1724</th>\n",
       "      <td>290_0</td>\n",
       "      <td>69.0</td>\n",
       "      <td>1.373106</td>\n",
       "      <td>0.047064</td>\n",
       "    </tr>\n",
       "    <tr>\n",
       "      <th>1725</th>\n",
       "      <td>290_0</td>\n",
       "      <td>69.0</td>\n",
       "      <td>1.344499</td>\n",
       "      <td>0.042466</td>\n",
       "    </tr>\n",
       "    <tr>\n",
       "      <th>1726</th>\n",
       "      <td>290_0</td>\n",
       "      <td>69.0</td>\n",
       "      <td>1.316954</td>\n",
       "      <td>0.038300</td>\n",
       "    </tr>\n",
       "    <tr>\n",
       "      <th>1727</th>\n",
       "      <td>290_0</td>\n",
       "      <td>67.0</td>\n",
       "      <td>1.290504</td>\n",
       "      <td>0.034526</td>\n",
       "    </tr>\n",
       "  </tbody>\n",
       "</table>\n",
       "<p>1728 rows × 4 columns</p>\n",
       "</div>"
      ],
      "text/plain": [
       "         ID     BG        PI        RA\n",
       "0      11_0  134.0  0.000000  0.000000\n",
       "1      11_0  125.0  0.000271  0.000000\n",
       "2      11_0  132.0  0.001510  0.000000\n",
       "3      11_0  132.0  0.003488  0.000000\n",
       "4      11_0  132.0  0.006741  0.000000\n",
       "...     ...    ...       ...       ...\n",
       "1723  290_0   70.0  1.402729  0.052132\n",
       "1724  290_0   69.0  1.373106  0.047064\n",
       "1725  290_0   69.0  1.344499  0.042466\n",
       "1726  290_0   69.0  1.316954  0.038300\n",
       "1727  290_0   67.0  1.290504  0.034526\n",
       "\n",
       "[1728 rows x 4 columns]"
      ]
     },
     "metadata": {},
     "output_type": "display_data"
    }
   ],
   "source": [
    "columns_to_save = ['ID', 'BG', 'PI', 'RA']\n",
    "display(df[columns_to_save])\n",
    "df[columns_to_save].to_csv('../data/data_processed.csv', index=False)"
   ]
  },
  {
   "cell_type": "markdown",
   "id": "febe8fd4",
   "metadata": {},
   "source": [
    "<h2 style=\"color:#4FC3F7; border-bottom:2px solid #4FC3F7; padding-bottom:4px;\">\n",
    "References\n",
    "</h2>\n",
    "<a id=\"ref1\"></a> [1] Hovorka R, Canonico V, Chassin LJ, Haueter U, Massi-Benedetti M, Orsini Federici M, *et al.* (2004). Nonlinear model predictive control of glucose concentration in subjects with type 1 diabetes. *Physiological Measurement*, 25(4), 905–920."
   ]
  }
 ],
 "metadata": {
  "kernelspec": {
   "display_name": ".venv",
   "language": "python",
   "name": "python3"
  },
  "language_info": {
   "codemirror_mode": {
    "name": "ipython",
    "version": 3
   },
   "file_extension": ".py",
   "mimetype": "text/x-python",
   "name": "python",
   "nbconvert_exporter": "python",
   "pygments_lexer": "ipython3",
   "version": "3.10.12"
  }
 },
 "nbformat": 4,
 "nbformat_minor": 5
}

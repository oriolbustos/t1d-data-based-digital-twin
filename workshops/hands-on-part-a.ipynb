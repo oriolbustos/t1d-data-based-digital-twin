{
 "cells": [
  {
   "cell_type": "markdown",
   "id": "dcb2d621",
   "metadata": {},
   "source": [
    "<div style=\"background-color:#1e1e1e; padding:25px; border-radius:10px; display:table; width:100%;\">\n",
    "\n",
    "  <!-- Left column: text -->\n",
    "  <div style=\"display:table-cell; vertical-align:top; width:80%; padding-right:10px;\">\n",
    "    <h1 style=\"color:#4FC3F7; margin-bottom:10px;\">Hands-On Part A: Loading a Pretrained Model</h1>\n",
    "\n",
    "  <p style=\"font-size:18px; font-style:italic; color:#cccccc;\">\n",
    "    Workshop on T1D Simulator and Digital Twins for Personalized Care\n",
    "  </p>\n",
    "\n",
    "  <p style=\"font-size:15px; line-height:1.6; color:#dddddd;\">\n",
    "    This preparatory notebook demonstrates how to load a pretrained deep learning model \n",
    "    for type 1 diabetes (T1D) simulation, inspect its structure, and process patient data \n",
    "    using physiological approximations. We will use the data we process here for Part B.\n",
    "  </p>\n",
    "  </div>\n",
    "\n",
    "  <!-- Right column: logo -->\n",
    "  <div style=\"display:table-cell; vertical-align:middle; text-align:right; width:20%; padding-right:80px;\">\n",
    "    <img src=\"https://micelab.udg.edu/wp-content/uploads/2022/08/MICElab-letras_png-300x119.png\" alt=\"MiceLab Logo\" style=\"height:80px; border-radius:8px;\">\n",
    "  </div>\n",
    "\n",
    "</div>\n"
   ]
  },
  {
   "cell_type": "markdown",
   "id": "6211567f",
   "metadata": {},
   "source": [
    "<h2 style=\"color:#4FC3F7; border-bottom:2px solid #4FC3F7; padding-bottom:4px;\">\n",
    "0. Imports &amp; Set-Up\n",
    "</h2>"
   ]
  },
  {
   "cell_type": "code",
   "execution_count": 1,
   "id": "dcc8fd9d",
   "metadata": {},
   "outputs": [],
   "source": [
    "import sys\n",
    "import os\n",
    "\n",
    "sys.path.append(os.path.abspath(\"..\"))\n",
    "sys.path.append(os.path.abspath(\"../scripts\"))"
   ]
  },
  {
   "cell_type": "code",
   "execution_count": 2,
   "id": "280dcd9f",
   "metadata": {},
   "outputs": [
    {
     "name": "stdout",
     "output_type": "stream",
     "text": [
      "Collecting tensorflow==2.13.0\n",
      "  Using cached tensorflow-2.13.0-cp310-cp310-win_amd64.whl (1.9 kB)\n",
      "Collecting tensorflow-intel==2.13.0\n",
      "  Using cached tensorflow_intel-2.13.0-cp310-cp310-win_amd64.whl (276.5 MB)\n",
      "Requirement already satisfied: packaging in c:\\users\\oriol\\escritorio\\trabajo\\micelab\\gans\\t1d-data-based-digital-twin\\.venv\\lib\\site-packages (from tensorflow-intel==2.13.0->tensorflow==2.13.0) (25.0)\n",
      "Collecting absl-py>=1.0.0\n",
      "  Using cached absl_py-2.3.1-py3-none-any.whl (135 kB)\n",
      "Collecting opt-einsum>=2.3.2\n",
      "  Using cached opt_einsum-3.4.0-py3-none-any.whl (71 kB)\n",
      "Collecting tensorflow-io-gcs-filesystem>=0.23.1\n",
      "  Using cached tensorflow_io_gcs_filesystem-0.31.0-cp310-cp310-win_amd64.whl (1.5 MB)\n",
      "Collecting gast<=0.4.0,>=0.2.1\n",
      "  Using cached gast-0.4.0-py3-none-any.whl (9.8 kB)\n",
      "Collecting google-pasta>=0.1.1\n",
      "  Using cached google_pasta-0.2.0-py3-none-any.whl (57 kB)\n",
      "Collecting typing-extensions<4.6.0,>=3.6.6\n",
      "  Using cached typing_extensions-4.5.0-py3-none-any.whl (27 kB)\n",
      "Collecting numpy<=1.24.3,>=1.22\n",
      "  Using cached numpy-1.24.3-cp310-cp310-win_amd64.whl (14.8 MB)\n",
      "Collecting wrapt>=1.11.0\n",
      "  Using cached wrapt-1.17.3-cp310-cp310-win_amd64.whl (38 kB)\n",
      "Collecting libclang>=13.0.0\n",
      "  Using cached libclang-18.1.1-py2.py3-none-win_amd64.whl (26.4 MB)\n",
      "Collecting termcolor>=1.1.0\n",
      "  Using cached termcolor-3.1.0-py3-none-any.whl (7.7 kB)\n",
      "Collecting h5py>=2.9.0\n",
      "  Using cached h5py-3.14.0-cp310-cp310-win_amd64.whl (2.9 MB)\n",
      "Requirement already satisfied: setuptools in c:\\users\\oriol\\escritorio\\trabajo\\micelab\\gans\\t1d-data-based-digital-twin\\.venv\\lib\\site-packages (from tensorflow-intel==2.13.0->tensorflow==2.13.0) (65.5.0)\n",
      "Collecting tensorboard<2.14,>=2.13\n",
      "  Using cached tensorboard-2.13.0-py3-none-any.whl (5.6 MB)\n",
      "Collecting tensorflow-estimator<2.14,>=2.13.0\n",
      "  Using cached tensorflow_estimator-2.13.0-py2.py3-none-any.whl (440 kB)\n",
      "Collecting grpcio<2.0,>=1.24.3\n",
      "  Using cached grpcio-1.75.0-cp310-cp310-win_amd64.whl (4.6 MB)\n",
      "Collecting keras<2.14,>=2.13.1\n",
      "  Using cached keras-2.13.1-py3-none-any.whl (1.7 MB)\n",
      "Collecting protobuf!=4.21.0,!=4.21.1,!=4.21.2,!=4.21.3,!=4.21.4,!=4.21.5,<5.0.0dev,>=3.20.3\n",
      "  Using cached protobuf-4.25.8-cp310-abi3-win_amd64.whl (413 kB)\n",
      "Requirement already satisfied: six>=1.12.0 in c:\\users\\oriol\\escritorio\\trabajo\\micelab\\gans\\t1d-data-based-digital-twin\\.venv\\lib\\site-packages (from tensorflow-intel==2.13.0->tensorflow==2.13.0) (1.17.0)\n",
      "Collecting flatbuffers>=23.1.21\n",
      "  Using cached flatbuffers-25.2.10-py2.py3-none-any.whl (30 kB)\n",
      "Collecting astunparse>=1.6.0\n",
      "  Using cached astunparse-1.6.3-py2.py3-none-any.whl (12 kB)\n",
      "Collecting wheel<1.0,>=0.23.0\n",
      "  Using cached wheel-0.45.1-py3-none-any.whl (72 kB)\n",
      "Collecting grpcio<2.0,>=1.24.3\n",
      "  Using cached grpcio-1.74.0-cp310-cp310-win_amd64.whl (4.5 MB)\n",
      "Collecting markdown>=2.6.8\n",
      "  Using cached markdown-3.9-py3-none-any.whl (107 kB)\n",
      "Collecting requests<3,>=2.21.0\n",
      "  Using cached requests-2.32.5-py3-none-any.whl (64 kB)\n",
      "Collecting google-auth-oauthlib<1.1,>=0.5\n",
      "  Using cached google_auth_oauthlib-1.0.0-py2.py3-none-any.whl (18 kB)\n",
      "Collecting tensorboard-data-server<0.8.0,>=0.7.0\n",
      "  Using cached tensorboard_data_server-0.7.2-py3-none-any.whl (2.4 kB)\n",
      "Collecting werkzeug>=1.0.1\n",
      "  Using cached werkzeug-3.1.3-py3-none-any.whl (224 kB)\n",
      "Collecting google-auth<3,>=1.6.3\n",
      "  Using cached google_auth-2.40.3-py2.py3-none-any.whl (216 kB)\n",
      "Collecting rsa<5,>=3.1.4\n",
      "  Using cached rsa-4.9.1-py3-none-any.whl (34 kB)\n",
      "Collecting cachetools<6.0,>=2.0.0\n",
      "  Using cached cachetools-5.5.2-py3-none-any.whl (10 kB)\n",
      "Collecting pyasn1-modules>=0.2.1\n",
      "  Using cached pyasn1_modules-0.4.2-py3-none-any.whl (181 kB)\n",
      "Collecting requests-oauthlib>=0.7.0\n",
      "  Using cached requests_oauthlib-2.0.0-py2.py3-none-any.whl (24 kB)\n",
      "Collecting certifi>=2017.4.17\n",
      "  Using cached certifi-2025.8.3-py3-none-any.whl (161 kB)\n",
      "Collecting charset_normalizer<4,>=2\n",
      "  Using cached charset_normalizer-3.4.3-cp310-cp310-win_amd64.whl (107 kB)\n",
      "Collecting idna<4,>=2.5\n",
      "  Using cached idna-3.10-py3-none-any.whl (70 kB)\n",
      "Collecting urllib3<3,>=1.21.1\n",
      "  Using cached urllib3-2.5.0-py3-none-any.whl (129 kB)\n",
      "Collecting MarkupSafe>=2.1.1\n",
      "  Using cached MarkupSafe-3.0.2-cp310-cp310-win_amd64.whl (15 kB)\n",
      "Collecting pyasn1<0.7.0,>=0.6.1\n",
      "  Using cached pyasn1-0.6.1-py3-none-any.whl (83 kB)\n",
      "Collecting oauthlib>=3.0.0\n",
      "  Using cached oauthlib-3.3.1-py3-none-any.whl (160 kB)\n",
      "Installing collected packages: libclang, flatbuffers, wrapt, wheel, urllib3, typing-extensions, termcolor, tensorflow-io-gcs-filesystem, tensorflow-estimator, tensorboard-data-server, pyasn1, protobuf, opt-einsum, oauthlib, numpy, MarkupSafe, markdown, keras, idna, grpcio, google-pasta, gast, charset_normalizer, certifi, cachetools, absl-py, werkzeug, rsa, requests, pyasn1-modules, h5py, astunparse, requests-oauthlib, google-auth, google-auth-oauthlib, tensorboard, tensorflow-intel, tensorflow\n",
      "  Attempting uninstall: typing-extensions\n",
      "    Found existing installation: typing_extensions 4.15.0\n",
      "    Uninstalling typing_extensions-4.15.0:\n",
      "      Successfully uninstalled typing_extensions-4.15.0\n",
      "Successfully installed MarkupSafe-3.0.2 absl-py-2.3.1 astunparse-1.6.3 cachetools-5.5.2 certifi-2025.8.3 charset_normalizer-3.4.3 flatbuffers-25.2.10 gast-0.4.0 google-auth-2.40.3 google-auth-oauthlib-1.0.0 google-pasta-0.2.0 grpcio-1.74.0 h5py-3.14.0 idna-3.10 keras-2.13.1 libclang-18.1.1 markdown-3.9 numpy-1.24.3 oauthlib-3.3.1 opt-einsum-3.4.0 protobuf-4.25.8 pyasn1-0.6.1 pyasn1-modules-0.4.2 requests-2.32.5 requests-oauthlib-2.0.0 rsa-4.9.1 tensorboard-2.13.0 tensorboard-data-server-0.7.2 tensorflow-2.13.0 tensorflow-estimator-2.13.0 tensorflow-intel-2.13.0 tensorflow-io-gcs-filesystem-0.31.0 termcolor-3.1.0 typing-extensions-4.5.0 urllib3-2.5.0 werkzeug-3.1.3 wheel-0.45.1 wrapt-1.17.3\n",
      "Note: you may need to restart the kernel to use updated packages.\n"
     ]
    },
    {
     "name": "stderr",
     "output_type": "stream",
     "text": [
      "ERROR: pip's dependency resolver does not currently take into account all the packages that are installed. This behaviour is the source of the following dependency conflicts.\n",
      "ipython 8.37.0 requires typing_extensions>=4.6; python_version < \"3.12\", but you have typing-extensions 4.5.0 which is incompatible.\n",
      "exceptiongroup 1.3.0 requires typing-extensions>=4.6.0; python_version < \"3.13\", but you have typing-extensions 4.5.0 which is incompatible.\n",
      "\n",
      "[notice] A new release of pip is available: 23.0.1 -> 25.2\n",
      "[notice] To update, run: c:\\Users\\oriol\\Escritorio\\trabajo\\micelab\\GANs\\t1d-data-based-digital-twin\\.venv\\Scripts\\python.exe -m pip install --upgrade pip\n"
     ]
    }
   ],
   "source": [
    "%pip install tensorflow==2.13.0"
   ]
  },
  {
   "cell_type": "code",
   "execution_count": 3,
   "id": "9253cf29",
   "metadata": {},
   "outputs": [
    {
     "name": "stdout",
     "output_type": "stream",
     "text": [
      "Collecting netron\n",
      "  Using cached netron-8.6.5-py3-none-any.whl (2.0 MB)\n",
      "Collecting pandas\n",
      "  Using cached pandas-2.3.2-cp310-cp310-win_amd64.whl (11.3 MB)\n",
      "Collecting matplotlib\n",
      "  Using cached matplotlib-3.10.6-cp310-cp310-win_amd64.whl (8.1 MB)\n",
      "Collecting scikit-learn\n",
      "  Using cached scikit_learn-1.7.2-cp310-cp310-win_amd64.whl (8.9 MB)\n",
      "Collecting tqdm\n",
      "  Using cached tqdm-4.67.1-py3-none-any.whl (78 kB)\n",
      "Collecting pytz>=2020.1\n",
      "  Using cached pytz-2025.2-py2.py3-none-any.whl (509 kB)\n",
      "Requirement already satisfied: numpy>=1.22.4 in c:\\users\\oriol\\escritorio\\trabajo\\micelab\\gans\\t1d-data-based-digital-twin\\.venv\\lib\\site-packages (from pandas) (1.24.3)\n",
      "Collecting tzdata>=2022.7\n",
      "  Using cached tzdata-2025.2-py2.py3-none-any.whl (347 kB)\n",
      "Requirement already satisfied: python-dateutil>=2.8.2 in c:\\users\\oriol\\escritorio\\trabajo\\micelab\\gans\\t1d-data-based-digital-twin\\.venv\\lib\\site-packages (from pandas) (2.9.0.post0)\n",
      "Collecting fonttools>=4.22.0\n",
      "  Using cached fonttools-4.60.0-cp310-cp310-win_amd64.whl (2.3 MB)\n",
      "Collecting kiwisolver>=1.3.1\n",
      "  Using cached kiwisolver-1.4.9-cp310-cp310-win_amd64.whl (73 kB)\n",
      "Collecting pillow>=8\n",
      "  Using cached pillow-11.3.0-cp310-cp310-win_amd64.whl (7.0 MB)\n",
      "Requirement already satisfied: packaging>=20.0 in c:\\users\\oriol\\escritorio\\trabajo\\micelab\\gans\\t1d-data-based-digital-twin\\.venv\\lib\\site-packages (from matplotlib) (25.0)\n",
      "Collecting cycler>=0.10\n",
      "  Using cached cycler-0.12.1-py3-none-any.whl (8.3 kB)\n",
      "Collecting pyparsing>=2.3.1\n",
      "  Using cached pyparsing-3.2.5-py3-none-any.whl (113 kB)\n",
      "Collecting contourpy>=1.0.1\n",
      "  Using cached contourpy-1.3.2-cp310-cp310-win_amd64.whl (221 kB)\n",
      "Collecting threadpoolctl>=3.1.0\n",
      "  Using cached threadpoolctl-3.6.0-py3-none-any.whl (18 kB)\n",
      "Collecting joblib>=1.2.0\n",
      "  Using cached joblib-1.5.2-py3-none-any.whl (308 kB)\n",
      "Collecting scipy>=1.8.0\n",
      "  Using cached scipy-1.15.3-cp310-cp310-win_amd64.whl (41.3 MB)\n",
      "Requirement already satisfied: colorama in c:\\users\\oriol\\escritorio\\trabajo\\micelab\\gans\\t1d-data-based-digital-twin\\.venv\\lib\\site-packages (from tqdm) (0.4.6)\n",
      "Requirement already satisfied: six>=1.5 in c:\\users\\oriol\\escritorio\\trabajo\\micelab\\gans\\t1d-data-based-digital-twin\\.venv\\lib\\site-packages (from python-dateutil>=2.8.2->pandas) (1.17.0)\n",
      "Installing collected packages: pytz, netron, tzdata, tqdm, threadpoolctl, scipy, pyparsing, pillow, kiwisolver, joblib, fonttools, cycler, contourpy, scikit-learn, pandas, matplotlib\n",
      "Successfully installed contourpy-1.3.2 cycler-0.12.1 fonttools-4.60.0 joblib-1.5.2 kiwisolver-1.4.9 matplotlib-3.10.6 netron-8.6.5 pandas-2.3.2 pillow-11.3.0 pyparsing-3.2.5 pytz-2025.2 scikit-learn-1.7.2 scipy-1.15.3 threadpoolctl-3.6.0 tqdm-4.67.1 tzdata-2025.2\n",
      "Note: you may need to restart the kernel to use updated packages.\n"
     ]
    },
    {
     "name": "stderr",
     "output_type": "stream",
     "text": [
      "\n",
      "[notice] A new release of pip is available: 23.0.1 -> 25.2\n",
      "[notice] To update, run: c:\\Users\\oriol\\Escritorio\\trabajo\\micelab\\GANs\\t1d-data-based-digital-twin\\.venv\\Scripts\\python.exe -m pip install --upgrade pip\n"
     ]
    }
   ],
   "source": [
    "%pip install netron pandas matplotlib scikit-learn tqdm"
   ]
  },
  {
   "cell_type": "code",
   "execution_count": 7,
   "id": "fbcde00a",
   "metadata": {},
   "outputs": [
    {
     "name": "stdout",
     "output_type": "stream",
     "text": [
      "Requirement already satisfied: pip in c:\\users\\oriol\\escritorio\\trabajo\\micelab\\gans\\t1d-data-based-digital-twin\\.venv\\lib\\site-packages (25.2)\n",
      "Requirement already satisfied: setuptools in c:\\users\\oriol\\escritorio\\trabajo\\micelab\\gans\\t1d-data-based-digital-twin\\.venv\\lib\\site-packages (80.9.0)\n",
      "Requirement already satisfied: wheel in c:\\users\\oriol\\escritorio\\trabajo\\micelab\\gans\\t1d-data-based-digital-twin\\.venv\\lib\\site-packages (0.45.1)\n",
      "Note: you may need to restart the kernel to use updated packages.\n",
      "Found existing installation: typing_extensions 4.12.2\n",
      "Uninstalling typing_extensions-4.12.2:\n",
      "  Successfully uninstalled typing_extensions-4.12.2\n",
      "Note: you may need to restart the kernel to use updated packages.\n",
      "Collecting typing_extensions==4.12.2\n",
      "  Using cached typing_extensions-4.12.2-py3-none-any.whl.metadata (3.0 kB)\n",
      "Using cached typing_extensions-4.12.2-py3-none-any.whl (37 kB)\n",
      "Installing collected packages: typing_extensions\n",
      "Successfully installed typing_extensions-4.12.2\n",
      "Note: you may need to restart the kernel to use updated packages.\n"
     ]
    },
    {
     "name": "stderr",
     "output_type": "stream",
     "text": [
      "ERROR: pip's dependency resolver does not currently take into account all the packages that are installed. This behaviour is the source of the following dependency conflicts.\n",
      "tensorflow-intel 2.13.0 requires typing-extensions<4.6.0,>=3.6.6, but you have typing-extensions 4.12.2 which is incompatible.\n"
     ]
    },
    {
     "name": "stdout",
     "output_type": "stream",
     "text": [
      "Requirement already satisfied: ipykernel==6.29.5 in c:\\users\\oriol\\escritorio\\trabajo\\micelab\\gans\\t1d-data-based-digital-twin\\.venv\\lib\\site-packages (6.29.5)\n",
      "Requirement already satisfied: jupyter-client in c:\\users\\oriol\\escritorio\\trabajo\\micelab\\gans\\t1d-data-based-digital-twin\\.venv\\lib\\site-packages (8.6.3)\n",
      "Requirement already satisfied: traitlets in c:\\users\\oriol\\escritorio\\trabajo\\micelab\\gans\\t1d-data-based-digital-twin\\.venv\\lib\\site-packages (5.14.3)\n",
      "Requirement already satisfied: comm>=0.1.1 in c:\\users\\oriol\\escritorio\\trabajo\\micelab\\gans\\t1d-data-based-digital-twin\\.venv\\lib\\site-packages (from ipykernel==6.29.5) (0.2.3)\n",
      "Requirement already satisfied: debugpy>=1.6.5 in c:\\users\\oriol\\escritorio\\trabajo\\micelab\\gans\\t1d-data-based-digital-twin\\.venv\\lib\\site-packages (from ipykernel==6.29.5) (1.8.17)\n",
      "Requirement already satisfied: ipython>=7.23.1 in c:\\users\\oriol\\escritorio\\trabajo\\micelab\\gans\\t1d-data-based-digital-twin\\.venv\\lib\\site-packages (from ipykernel==6.29.5) (8.37.0)\n",
      "Requirement already satisfied: jupyter-core!=5.0.*,>=4.12 in c:\\users\\oriol\\escritorio\\trabajo\\micelab\\gans\\t1d-data-based-digital-twin\\.venv\\lib\\site-packages (from ipykernel==6.29.5) (5.8.1)\n",
      "Requirement already satisfied: matplotlib-inline>=0.1 in c:\\users\\oriol\\escritorio\\trabajo\\micelab\\gans\\t1d-data-based-digital-twin\\.venv\\lib\\site-packages (from ipykernel==6.29.5) (0.1.7)\n",
      "Requirement already satisfied: nest-asyncio in c:\\users\\oriol\\escritorio\\trabajo\\micelab\\gans\\t1d-data-based-digital-twin\\.venv\\lib\\site-packages (from ipykernel==6.29.5) (1.6.0)\n",
      "Requirement already satisfied: packaging in c:\\users\\oriol\\escritorio\\trabajo\\micelab\\gans\\t1d-data-based-digital-twin\\.venv\\lib\\site-packages (from ipykernel==6.29.5) (25.0)\n",
      "Requirement already satisfied: psutil in c:\\users\\oriol\\escritorio\\trabajo\\micelab\\gans\\t1d-data-based-digital-twin\\.venv\\lib\\site-packages (from ipykernel==6.29.5) (7.1.0)\n",
      "Requirement already satisfied: pyzmq>=24 in c:\\users\\oriol\\escritorio\\trabajo\\micelab\\gans\\t1d-data-based-digital-twin\\.venv\\lib\\site-packages (from ipykernel==6.29.5) (27.1.0)\n",
      "Requirement already satisfied: tornado>=6.1 in c:\\users\\oriol\\escritorio\\trabajo\\micelab\\gans\\t1d-data-based-digital-twin\\.venv\\lib\\site-packages (from ipykernel==6.29.5) (6.5.2)\n",
      "Requirement already satisfied: python-dateutil>=2.8.2 in c:\\users\\oriol\\escritorio\\trabajo\\micelab\\gans\\t1d-data-based-digital-twin\\.venv\\lib\\site-packages (from jupyter-client) (2.9.0.post0)\n",
      "Requirement already satisfied: colorama in c:\\users\\oriol\\escritorio\\trabajo\\micelab\\gans\\t1d-data-based-digital-twin\\.venv\\lib\\site-packages (from ipython>=7.23.1->ipykernel==6.29.5) (0.4.6)\n",
      "Requirement already satisfied: decorator in c:\\users\\oriol\\escritorio\\trabajo\\micelab\\gans\\t1d-data-based-digital-twin\\.venv\\lib\\site-packages (from ipython>=7.23.1->ipykernel==6.29.5) (5.2.1)\n",
      "Requirement already satisfied: exceptiongroup in c:\\users\\oriol\\escritorio\\trabajo\\micelab\\gans\\t1d-data-based-digital-twin\\.venv\\lib\\site-packages (from ipython>=7.23.1->ipykernel==6.29.5) (1.3.0)\n",
      "Requirement already satisfied: jedi>=0.16 in c:\\users\\oriol\\escritorio\\trabajo\\micelab\\gans\\t1d-data-based-digital-twin\\.venv\\lib\\site-packages (from ipython>=7.23.1->ipykernel==6.29.5) (0.19.2)\n",
      "Requirement already satisfied: prompt_toolkit<3.1.0,>=3.0.41 in c:\\users\\oriol\\escritorio\\trabajo\\micelab\\gans\\t1d-data-based-digital-twin\\.venv\\lib\\site-packages (from ipython>=7.23.1->ipykernel==6.29.5) (3.0.52)\n",
      "Requirement already satisfied: pygments>=2.4.0 in c:\\users\\oriol\\escritorio\\trabajo\\micelab\\gans\\t1d-data-based-digital-twin\\.venv\\lib\\site-packages (from ipython>=7.23.1->ipykernel==6.29.5) (2.19.2)\n",
      "Requirement already satisfied: stack_data in c:\\users\\oriol\\escritorio\\trabajo\\micelab\\gans\\t1d-data-based-digital-twin\\.venv\\lib\\site-packages (from ipython>=7.23.1->ipykernel==6.29.5) (0.6.3)\n",
      "Requirement already satisfied: typing_extensions>=4.6 in c:\\users\\oriol\\escritorio\\trabajo\\micelab\\gans\\t1d-data-based-digital-twin\\.venv\\lib\\site-packages (from ipython>=7.23.1->ipykernel==6.29.5) (4.12.2)\n",
      "Requirement already satisfied: wcwidth in c:\\users\\oriol\\escritorio\\trabajo\\micelab\\gans\\t1d-data-based-digital-twin\\.venv\\lib\\site-packages (from prompt_toolkit<3.1.0,>=3.0.41->ipython>=7.23.1->ipykernel==6.29.5) (0.2.13)\n",
      "Requirement already satisfied: parso<0.9.0,>=0.8.4 in c:\\users\\oriol\\escritorio\\trabajo\\micelab\\gans\\t1d-data-based-digital-twin\\.venv\\lib\\site-packages (from jedi>=0.16->ipython>=7.23.1->ipykernel==6.29.5) (0.8.5)\n",
      "Requirement already satisfied: platformdirs>=2.5 in c:\\users\\oriol\\escritorio\\trabajo\\micelab\\gans\\t1d-data-based-digital-twin\\.venv\\lib\\site-packages (from jupyter-core!=5.0.*,>=4.12->ipykernel==6.29.5) (4.4.0)\n",
      "Requirement already satisfied: pywin32>=300 in c:\\users\\oriol\\escritorio\\trabajo\\micelab\\gans\\t1d-data-based-digital-twin\\.venv\\lib\\site-packages (from jupyter-core!=5.0.*,>=4.12->ipykernel==6.29.5) (311)\n",
      "Requirement already satisfied: six>=1.5 in c:\\users\\oriol\\escritorio\\trabajo\\micelab\\gans\\t1d-data-based-digital-twin\\.venv\\lib\\site-packages (from python-dateutil>=2.8.2->jupyter-client) (1.17.0)\n",
      "Requirement already satisfied: executing>=1.2.0 in c:\\users\\oriol\\escritorio\\trabajo\\micelab\\gans\\t1d-data-based-digital-twin\\.venv\\lib\\site-packages (from stack_data->ipython>=7.23.1->ipykernel==6.29.5) (2.2.1)\n",
      "Requirement already satisfied: asttokens>=2.1.0 in c:\\users\\oriol\\escritorio\\trabajo\\micelab\\gans\\t1d-data-based-digital-twin\\.venv\\lib\\site-packages (from stack_data->ipython>=7.23.1->ipykernel==6.29.5) (3.0.0)\n",
      "Requirement already satisfied: pure-eval in c:\\users\\oriol\\escritorio\\trabajo\\micelab\\gans\\t1d-data-based-digital-twin\\.venv\\lib\\site-packages (from stack_data->ipython>=7.23.1->ipykernel==6.29.5) (0.2.3)\n",
      "Note: you may need to restart the kernel to use updated packages.\n"
     ]
    }
   ],
   "source": [
    "%pip install -U pip setuptools wheel\n",
    "%pip uninstall -y typing_extensions\n",
    "%pip install typing_extensions==4.12.2\n",
    "%pip install -U ipykernel==6.29.5 jupyter-client traitlets"
   ]
  },
  {
   "cell_type": "code",
   "execution_count": 8,
   "id": "4b650c01",
   "metadata": {},
   "outputs": [],
   "source": [
    "from pathlib import Path\n",
    "\n",
    "import matplotlib.pyplot as plt\n",
    "import netron\n",
    "import numpy as np\n",
    "import pandas as pd\n",
    "from scipy.integrate import odeint\n",
    "from tqdm import tqdm\n",
    "\n",
    "import tensorflow as tf\n",
    "from tensorflow.keras.utils import plot_model\n"
   ]
  },
  {
   "cell_type": "markdown",
   "id": "272bf59d",
   "metadata": {},
   "source": [
    "<h2 style=\"color:#4FC3F7; border-bottom:2px solid #4FC3F7; padding-bottom:4px;\">\n",
    "1. Load Model\n",
    "</h2>"
   ]
  },
  {
   "cell_type": "markdown",
   "id": "51a7f13a",
   "metadata": {},
   "source": [
    "Setup path and model name."
   ]
  },
  {
   "cell_type": "code",
   "execution_count": 9,
   "id": "5f53aefc",
   "metadata": {},
   "outputs": [],
   "source": [
    "path_to_model = \"../misc/\"\n",
    "model_name = \"pretrained-model.h5\""
   ]
  },
  {
   "cell_type": "markdown",
   "id": "d029bac1",
   "metadata": {},
   "source": [
    "Load the .h5 using the `load_model` method from keras."
   ]
  },
  {
   "cell_type": "code",
   "execution_count": 10,
   "id": "a5dd52f9",
   "metadata": {},
   "outputs": [
    {
     "name": "stdout",
     "output_type": "stream",
     "text": [
      "WARNING:tensorflow:No training configuration found in the save file, so the model was *not* compiled. Compile it manually.\n"
     ]
    }
   ],
   "source": [
    "model_filename = Path(path_to_model, model_name)\n",
    "pretrained_vae_model = tf.keras.models.load_model(model_filename)"
   ]
  },
  {
   "cell_type": "markdown",
   "id": "07c5e7ed",
   "metadata": {},
   "source": [
    "<h2 style=\"color:#4FC3F7; border-bottom:2px solid #4FC3F7; padding-bottom:4px;\">\n",
    "2. Inspect Model\n",
    "</h2>"
   ]
  },
  {
   "cell_type": "markdown",
   "id": "d7af4bb7",
   "metadata": {},
   "source": [
    "Let's explore the structure of the model we just loaded."
   ]
  },
  {
   "cell_type": "markdown",
   "id": "979ab93f",
   "metadata": {},
   "source": [
    "<h3 style=\"color:#4FC3F7; border-bottom:2px solid #4FC3F7; padding-bottom:4px;\">\n",
    "2.1 Text summary\n",
    "</h3>\n",
    "The `.summary()` method is usually the first step when inspecting a model, it shows in plain text each Layer's\n",
    "- Name and type\n",
    "- Output Shape (first element is always `None` since it will correspond to the batch size)\n",
    "- Number of Parameters\n",
    "- Layers it connects to\n",
    "- Whether it is set to trainable or  not (frozen, thus weights are not updated during backpropagation).\n",
    "\n",
    "It ends by showing the total number of parameters of the entire model."
   ]
  },
  {
   "cell_type": "code",
   "execution_count": 11,
   "id": "5b9f4bfe",
   "metadata": {},
   "outputs": [
    {
     "name": "stdout",
     "output_type": "stream",
     "text": [
      "Model: \"decoder\"\n",
      "_____________________________________________________________________________________________________________\n",
      " Layer (type)                Output Shape                 Param #   Connected to                  Trainable  \n",
      "=============================================================================================================\n",
      " in_lat_gen (InputLayer)     [(None, 18)]                 0         []                            Y          \n",
      "                                                                                                             \n",
      " dense_latent (Dense)        (None, 18)                   342       ['in_lat_gen[0][0]']          Y          \n",
      "                                                                                                             \n",
      " PI (InputLayer)             [(None, 1, 1)]               0         []                            Y          \n",
      "                                                                                                             \n",
      " RA (InputLayer)             [(None, 1, 1)]               0         []                            Y          \n",
      "                                                                                                             \n",
      " leaky_re_lu (LeakyReLU)     (None, 18)                   0         ['dense_latent[0][0]']        Y          \n",
      "                                                                                                             \n",
      " dense_PI (Dense)            (None, 1, 18)                36        ['PI[0][0]']                  Y          \n",
      "                                                                                                             \n",
      " dense_RA (Dense)            (None, 1, 18)                36        ['RA[0][0]']                  Y          \n",
      "                                                                                                             \n",
      " reshape_latent (Reshape)    (None, 1, 18)                0         ['leaky_re_lu[0][0]']         Y          \n",
      "                                                                                                             \n",
      " reshape_PI (Reshape)        (None, 1, 18)                0         ['dense_PI[0][0]']            Y          \n",
      "                                                                                                             \n",
      " reshape_RA (Reshape)        (None, 1, 18)                0         ['dense_RA[0][0]']            Y          \n",
      "                                                                                                             \n",
      " concatenate_1 (Concatenate  (None, 1, 54)                0         ['reshape_latent[0][0]',      Y          \n",
      " )                                                                   'reshape_PI[0][0]',                     \n",
      "                                                                     'reshape_RA[0][0]']                     \n",
      "                                                                                                             \n",
      " lstm_1 (LSTM)               (None, 1, 100)               62000     ['concatenate_1[0][0]']       Y          \n",
      "                                                                                                             \n",
      " leaky_re_lu_1 (LeakyReLU)   (None, 1, 100)               0         ['lstm_1[0][0]']              Y          \n",
      "                                                                                                             \n",
      " dropout (Dropout)           (None, 1, 100)               0         ['leaky_re_lu_1[0][0]']       Y          \n",
      "                                                                                                             \n",
      " dense_1 (Dense)             (None, 1, 18)                1818      ['dropout[0][0]']             Y          \n",
      "                                                                                                             \n",
      " reshape_1 (Reshape)         (None, 1, 18)                0         ['dense_1[0][0]']             Y          \n",
      "                                                                                                             \n",
      "=============================================================================================================\n",
      "Total params: 64232 (250.91 KB)\n",
      "Trainable params: 64232 (250.91 KB)\n",
      "Non-trainable params: 0 (0.00 Byte)\n",
      "_____________________________________________________________________________________________________________\n"
     ]
    }
   ],
   "source": [
    "pretrained_vae_model.summary(expand_nested=True, show_trainable=True)"
   ]
  },
  {
   "cell_type": "markdown",
   "id": "30cf2cdd",
   "metadata": {},
   "source": [
    "<h3 style=\"color:#4FC3F7; border-bottom:2px solid #4FC3F7; padding-bottom:4px;\">\n",
    "2.2 Netron: Interactive Diagram\n",
    "</h3>"
   ]
  },
  {
   "cell_type": "markdown",
   "id": "34fbc695",
   "metadata": {},
   "source": [
    "Netron is a tool for visualizing neural network models interactively in your browser. The `netron.start(model_filename)` command launches a web-based viewer, allowing you to explore the model’s architecture, layers, and parameters directly in your browser.\n",
    "\n",
    "\n",
    "After running the cell, open the provided link."
   ]
  },
  {
   "cell_type": "code",
   "execution_count": 12,
   "id": "96cf2cd0",
   "metadata": {},
   "outputs": [
    {
     "name": "stderr",
     "output_type": "stream",
     "text": [
      "Serving '..\\misc\\pretrained-model.h5' at http://localhost:8080\n"
     ]
    },
    {
     "data": {
      "text/plain": [
       "('localhost', 8080)"
      ]
     },
     "execution_count": 12,
     "metadata": {},
     "output_type": "execute_result"
    }
   ],
   "source": [
    "netron.start(str(model_filename))"
   ]
  },
  {
   "cell_type": "markdown",
   "id": "a9ca4528",
   "metadata": {},
   "source": [
    "<h2 style=\"color:#4FC3F7; border-bottom:2px solid #4FC3F7; padding-bottom:4px;\">\n",
    "3. Load Data\n",
    "</h2>"
   ]
  },
  {
   "cell_type": "code",
   "execution_count": 13,
   "id": "e6ff3cf5",
   "metadata": {},
   "outputs": [
    {
     "data": {
      "text/html": [
       "<div>\n",
       "<style scoped>\n",
       "    .dataframe tbody tr th:only-of-type {\n",
       "        vertical-align: middle;\n",
       "    }\n",
       "\n",
       "    .dataframe tbody tr th {\n",
       "        vertical-align: top;\n",
       "    }\n",
       "\n",
       "    .dataframe thead th {\n",
       "        text-align: right;\n",
       "    }\n",
       "</style>\n",
       "<table border=\"1\" class=\"dataframe\">\n",
       "  <thead>\n",
       "    <tr style=\"text-align: right;\">\n",
       "      <th></th>\n",
       "      <th>ID</th>\n",
       "      <th>BG</th>\n",
       "      <th>carbs</th>\n",
       "      <th>bolus</th>\n",
       "      <th>intensity</th>\n",
       "      <th>basal</th>\n",
       "    </tr>\n",
       "  </thead>\n",
       "  <tbody>\n",
       "    <tr>\n",
       "      <th>0</th>\n",
       "      <td>11_0</td>\n",
       "      <td>134.0</td>\n",
       "      <td>0.0</td>\n",
       "      <td>0.00</td>\n",
       "      <td>0</td>\n",
       "      <td>0.029167</td>\n",
       "    </tr>\n",
       "    <tr>\n",
       "      <th>1</th>\n",
       "      <td>11_0</td>\n",
       "      <td>125.0</td>\n",
       "      <td>0.0</td>\n",
       "      <td>0.00</td>\n",
       "      <td>0</td>\n",
       "      <td>0.000000</td>\n",
       "    </tr>\n",
       "    <tr>\n",
       "      <th>2</th>\n",
       "      <td>11_0</td>\n",
       "      <td>132.0</td>\n",
       "      <td>0.0</td>\n",
       "      <td>0.00</td>\n",
       "      <td>0</td>\n",
       "      <td>0.029167</td>\n",
       "    </tr>\n",
       "    <tr>\n",
       "      <th>3</th>\n",
       "      <td>11_0</td>\n",
       "      <td>132.0</td>\n",
       "      <td>0.0</td>\n",
       "      <td>0.00</td>\n",
       "      <td>0</td>\n",
       "      <td>0.029167</td>\n",
       "    </tr>\n",
       "    <tr>\n",
       "      <th>4</th>\n",
       "      <td>11_0</td>\n",
       "      <td>132.0</td>\n",
       "      <td>0.0</td>\n",
       "      <td>0.15</td>\n",
       "      <td>0</td>\n",
       "      <td>0.029167</td>\n",
       "    </tr>\n",
       "  </tbody>\n",
       "</table>\n",
       "</div>"
      ],
      "text/plain": [
       "     ID     BG  carbs  bolus  intensity     basal\n",
       "0  11_0  134.0    0.0   0.00          0  0.029167\n",
       "1  11_0  125.0    0.0   0.00          0  0.000000\n",
       "2  11_0  132.0    0.0   0.00          0  0.029167\n",
       "3  11_0  132.0    0.0   0.00          0  0.029167\n",
       "4  11_0  132.0    0.0   0.15          0  0.029167"
      ]
     },
     "metadata": {},
     "output_type": "display_data"
    }
   ],
   "source": [
    "path_df = Path(\"../data/data_filtered.csv\")\n",
    "\n",
    "df = pd.read_csv(path_df)\n",
    "\n",
    "display(df.head())"
   ]
  },
  {
   "cell_type": "markdown",
   "id": "a6d600a6",
   "metadata": {},
   "source": [
    "<h2 style=\"color:#4FC3F7; border-bottom:2px solid #4FC3F7; padding-bottom:4px;\">\n",
    "4. Physiological Approximations\n",
    "</h2>\n",
    "In this section, we use physiological models to approximate two key quantities for each patient:  \n",
    "- **PI (Plasma Insulin):** The effective insulin in the bloodstream, calculated from both bolus and basal insulin delivery using a compartmental model based on the Hovorka equations[\\[1\\]](#ref1).  \n",
    "- **RA (Rate of Appearance of Glucose):** The rate at which glucose enters the bloodstream after carbohydrate intake, also modeled using a compartmental approach[\\[1\\]](#ref1).\n",
    "\n",
    "These approximations transform raw insulin and carbohydrate data into physiologically meaningful features, which are more suitable for downstream modeling and simulation. The resulting columns, `PI` and `RA`, are added to the patient dataframes and will be used as inputs for the deep learning model in the next steps."
   ]
  },
  {
   "cell_type": "markdown",
   "id": "f60d3a8f",
   "metadata": {},
   "source": [
    "<h3 style=\"color:#4FC3F7; border-bottom:2px solid #4FC3F7; padding-bottom:4px;\">\n",
    "4.1 Equations\n",
    "</h3>\n",
    "Here are the implementations for solving the differential equations in Python functions."
   ]
  },
  {
   "cell_type": "code",
   "execution_count": 14,
   "id": "edf7ca3f",
   "metadata": {},
   "outputs": [],
   "source": [
    "def process_pi(df: pd.DataFrame, params_pi: dict) -> pd.DataFrame:\n",
    "    \"\"\"\n",
    "    Process the 'PI' column of the dataframe using parameters from params_pi.\n",
    "\n",
    "    Args:\n",
    "        df (pd.DataFrame): Dataframe to process.\n",
    "        params_pi (dict): Dictionary containing parameter values.\n",
    "\n",
    "    Returns:\n",
    "        pd.DataFrame: Dataframe with processed 'PI' column.\n",
    "    \"\"\"\n",
    "\n",
    "    def system(y0, t, params, u_t_values):\n",
    "        s1, s2, ifa = y0  # Corrected N806\n",
    "        vi = params['VI']  # Corrected N806\n",
    "        ke = params['Ke']  # Corrected N806\n",
    "        tmaxi = params['tmaxI']  # Corrected N806\n",
    "        kdia = 1 / tmaxi  # Corrected N806\n",
    "        dt = params['dt']\n",
    "\n",
    "        u_t = u_t_values[int(t / dt)] if int(t / dt) < len(u_t_values) else 0  # Corrected SIM108\n",
    "\n",
    "        ds1 = u_t - kdia * s1  # Corrected N806\n",
    "        ds2 = kdia * (s1 - s2)  # Corrected N806\n",
    "        difa = (s2 / (tmaxi * vi)) - ke * ifa  # Corrected N806\n",
    "\n",
    "        return [ds1, ds2, difa]\n",
    "\n",
    "    # Fill missing data\n",
    "    df['bolus'] = df['bolus'].fillna(0)\n",
    "\n",
    "    bolus_by_id = {}\n",
    "    # Group by ID and process each group\n",
    "    for patient_id, group in tqdm(df.groupby('ID'), desc='Processing bolus PI', total=df['ID'].nunique()):  # Corrected N806\n",
    "        u_t_values = group['bolus'].values / params_pi['dt']\n",
    "        y0 = [0, 0, 0]  # Initial conditions\n",
    "        t = np.arange(0, len(group) * params_pi['dt'], params_pi['dt'])  # Time vector\n",
    "\n",
    "        # Solve ODE for the current group\n",
    "        sol = odeint(system, y0, t, args=(params_pi, u_t_values), hmax=params_pi['dt'])\n",
    "        bolus_by_id[patient_id] = sol[:, 2]  # Add solution for Ifa to the group's dataframe\n",
    "\n",
    "    # Fill missing data\n",
    "    df['basal'] = df['basal'].fillna(0)\n",
    "\n",
    "    basal_by_id = {}\n",
    "    # Group by ID and process each group\n",
    "    for patient_id, group in tqdm(df.groupby('ID'), desc='Processing basal PI', total=df['ID'].nunique()):  # Corrected N806\n",
    "        u_t_values = group['basal'].values / params_pi['dt']\n",
    "        y0 = [0, 0, 0]  # Initial conditions\n",
    "        t = np.arange(0, len(group) * params_pi['dt'], params_pi['dt'])  # Time vector\n",
    "\n",
    "        # Solve ODE for the current group\n",
    "        sol = odeint(system, y0, t, args=(params_pi, u_t_values), hmax=params_pi['dt'])\n",
    "        basal_by_id[patient_id] = sol[:, 2]  # Add solution for Ifa to the group's dataframe\n",
    "\n",
    "    for idx in df['ID'].unique():\n",
    "        # Retrieve the index positions for the current sub_id\n",
    "        index_positions = df[df['ID'] == idx].index\n",
    "\n",
    "        # Retrieve the corresponding values from each dictionary\n",
    "        boluses_values = bolus_by_id.get(idx, [0] * len(index_positions))\n",
    "        basal_values = basal_by_id.get(idx, [0] * len(index_positions))\n",
    "\n",
    "        pi_values = [sum(x) for x in zip(boluses_values, basal_values, strict=False)]\n",
    "        df.loc[index_positions, 'PI'] = pi_values\n",
    "\n",
    "    return df\n",
    "\n",
    "\n",
    "def process_ra(df: pd.DataFrame, params_ra: dict) -> pd.DataFrame:\n",
    "    \"\"\"\n",
    "    Process the 'RA' column of the dataframe using parameters from params_ra.\n",
    "\n",
    "    Args:\n",
    "        df (pd.DataFrame): Dataframe to process.\n",
    "        params_ra (dict): Dictionary containing parameter values.\n",
    "\n",
    "    Returns:\n",
    "        pd.DataFrame: Dataframe with processed 'RA' column.\n",
    "    \"\"\"\n",
    "    dt = params_ra['dt']  # Extract time step for easier use later\n",
    "\n",
    "    def system(y0, t, params, u_t_values):\n",
    "        d1, d2 = y0  # Corrected N806\n",
    "        tau_d = params['tau_D']  # Corrected N806\n",
    "        a_g = params['A_G']  # Corrected N806\n",
    "\n",
    "        u_t = u_t_values[int(t / dt)] if int(t / dt) < len(u_t_values) else 0  # Corrected SIM108\n",
    "\n",
    "        # Rate equations\n",
    "        dd1 = a_g * u_t - 1 / tau_d * d1  # Corrected N806\n",
    "        dd2 = 1 / tau_d * d1 - 1 / tau_d * d2  # Corrected N806\n",
    "\n",
    "        return [dd1, dd2]\n",
    "\n",
    "    # Fill missing data\n",
    "    df['carbs'] = df['carbs'].fillna(0)\n",
    "\n",
    "    # Group by ID and process each group\n",
    "    for _, group in tqdm(df.groupby('ID'), desc='Processing RA', total=df['ID'].nunique()):  # Corrected N806, B007\n",
    "        u_t_values = group['carbs'].values\n",
    "        y0 = [0, 0]  # Initial conditions for D1 and D2\n",
    "        t = np.linspace(0, (len(group) - 1) * dt, len(group))  # Time vector\n",
    "\n",
    "        # Solve ODE for the current group\n",
    "        sol = odeint(system, y0, t, args=(params_ra, u_t_values), hmax=dt)\n",
    "\n",
    "        # Compute Ra from D2\n",
    "        d1, d2 = sol.T  # Corrected N806\n",
    "        ra = d2 / params_ra['tau_D']  # Corrected N806\n",
    "\n",
    "        # Store results in the group's dataframe\n",
    "        group['RA'] = ra\n",
    "        df.loc[group.index, 'RA'] = group['RA']\n",
    "\n",
    "    return df"
   ]
  },
  {
   "cell_type": "markdown",
   "id": "4ed5d380",
   "metadata": {},
   "source": [
    "<h3 style=\"color:#4FC3F7; border-bottom:2px solid #4FC3F7; padding-bottom:4px;\">\n",
    "4.2 Parameters\n",
    "</h3>"
   ]
  },
  {
   "cell_type": "markdown",
   "id": "f3603a67",
   "metadata": {},
   "source": [
    "These two dictionaries contain the parameters for the PI and RA physiological models, extracted from [\\[1\\]](#ref1).\n",
    "- **params_pi**:  \n",
    "    Dictionary of parameters for the plasma insulin (PI) physiological model:  \n",
    "    - `VI`: Insulin distribution volume (L/kg)  \n",
    "    - `Ke`: Insulin elimination rate constant (1/min)  \n",
    "    - `tmaxI`: Time-to-maximum insulin absorption (min)  \n",
    "    - `dt`: Time step for simulation (min)  \n",
    "\n",
    "- **params_ra**:  \n",
    "    Dictionary of parameters for the rate of appearance (RA) of glucose model:  \n",
    "    - `tau_D`: Time constant for glucose absorption (min)  \n",
    "    - `A_G`: Fraction of carbohydrate absorbed  \n",
    "    - `dt`: Time step for simulation (min)"
   ]
  },
  {
   "cell_type": "code",
   "execution_count": 15,
   "id": "c98fb1bc",
   "metadata": {},
   "outputs": [],
   "source": [
    "params_pi: dict[str, float] = {'VI': 0.12,\n",
    "                               'Ke': 0.138,\n",
    "                               'tmaxI': 55,\n",
    "                               'dt': 5,\n",
    "                               }\n",
    "params_ra: dict[str, float] = {'tau_D': 40,\n",
    "                               'A_G': 0.8,\n",
    "                               'dt': 5\n",
    "                               }"
   ]
  },
  {
   "cell_type": "markdown",
   "id": "934eb1d7",
   "metadata": {},
   "source": [
    "<h3 style=\"color:#4FC3F7; border-bottom:2px solid #4FC3F7; padding-bottom:4px;\">\n",
    "4.3 Let's solve\n",
    "</h3>"
   ]
  },
  {
   "cell_type": "code",
   "execution_count": 16,
   "id": "7057829b",
   "metadata": {},
   "outputs": [
    {
     "name": "stderr",
     "output_type": "stream",
     "text": [
      "Processing bolus PI: 100%|██████████| 2/2 [00:00<00:00, 50.38it/s]\n",
      "Processing basal PI: 100%|██████████| 2/2 [00:00<00:00, 49.52it/s]\n",
      "Processing RA: 100%|██████████| 2/2 [00:00<00:00, 73.92it/s]\n"
     ]
    }
   ],
   "source": [
    "df = process_pi(df, params_pi)\n",
    "\n",
    "df = process_ra(df, params_ra)"
   ]
  },
  {
   "cell_type": "markdown",
   "id": "14f9869b",
   "metadata": {},
   "source": [
    "<h3 style=\"color:#4FC3F7; border-bottom:2px solid #4FC3F7; padding-bottom:4px;\">\n",
    "4.4 Plotting the Solved Equations\n",
    "</h3>\n",
    "Here we can see the original discrete signals (bolus and basal, and carbohydrate intake) plotted againsts the solved equations, which result in a continuus curve."
   ]
  },
  {
   "cell_type": "code",
   "execution_count": 17,
   "id": "94190ea5",
   "metadata": {},
   "outputs": [
    {
     "data": {
      "image/png": "[encoded data removed]",
      "text/plain": [
       "<Figure size 600x300 with 1 Axes>"
      ]
     },
     "metadata": {},
     "output_type": "display_data"
    }
   ],
   "source": [
    "length = 1000\n",
    "length = min(length, len(df))\n",
    "df_sliced = df.iloc[:length]\n",
    "df_sliced = df.iloc[:length]\n",
    "\n",
    "plt.figure(figsize=(6, 3))\n",
    "plt.plot(\n",
    "    df_sliced.index * 5,\n",
    "    df_sliced['PI'],\n",
    "    label='Solved PI',\n",
    "    color='blue',\n",
    ")\n",
    "plt.plot(df_sliced.index * 5, df_sliced['bolus'], label='Bolus', color='red')\n",
    "plt.plot(df_sliced.index * 5, df_sliced['basal'], label='Basal', color='green')\n",
    "\n",
    "plt.xlabel('Time (minutes)')\n",
    "plt.ylabel('Bolus Value')\n",
    "plt.title(f'Solved PI vs. Bolus and Basal for Patient 11 (First {length} Points / {length*5} minutes)')\n",
    "plt.legend(loc='best')\n",
    "plt.show()"
   ]
  },
  {
   "cell_type": "code",
   "execution_count": 18,
   "id": "56eb4ee9",
   "metadata": {},
   "outputs": [
    {
     "data": {
      "image/png": "[encoded data removed]",
      "text/plain": [
       "<Figure size 600x300 with 1 Axes>"
      ]
     },
     "metadata": {},
     "output_type": "display_data"
    }
   ],
   "source": [
    "length = 1000\n",
    "length = min(length, len(df))\n",
    "df_sliced = df.iloc[:length]\n",
    "df_sliced = df.iloc[:length]\n",
    "\n",
    "plt.figure(figsize=(6, 3))\n",
    "plt.plot(\n",
    "    df_sliced.index * 5,\n",
    "    df_sliced['RA']*10,\n",
    "    label='Solved RA',\n",
    "    color='blue',\n",
    ")\n",
    "plt.plot(df_sliced.index * 5, df_sliced['carbs'], label='Carbohydrates', color='red')\n",
    "\n",
    "plt.xlabel('Time (minutes)')\n",
    "plt.ylabel('Bolus Value')\n",
    "plt.title(f'Solved RA (scaled x10) vs. Carbohydrate Intake for Patient 11 (First {length} Points / {length*5} minutes)')\n",
    "plt.legend(loc='best')\n",
    "plt.show()"
   ]
  },
  {
   "cell_type": "markdown",
   "id": "8b8bec1a",
   "metadata": {},
   "source": [
    "For visualization purposes we have upscaled the solved RA vector."
   ]
  },
  {
   "cell_type": "markdown",
   "id": "aa6ad9d6",
   "metadata": {},
   "source": [
    "<h2 style=\"color:#4FC3F7; border-bottom:2px solid #4FC3F7; padding-bottom:4px;\">\n",
    "5. Save Processed Data for Modeling\n",
    "</h2>"
   ]
  },
  {
   "cell_type": "code",
   "execution_count": 19,
   "id": "8c8eab1b",
   "metadata": {},
   "outputs": [
    {
     "data": {
      "text/html": [
       "<div>\n",
       "<style scoped>\n",
       "    .dataframe tbody tr th:only-of-type {\n",
       "        vertical-align: middle;\n",
       "    }\n",
       "\n",
       "    .dataframe tbody tr th {\n",
       "        vertical-align: top;\n",
       "    }\n",
       "\n",
       "    .dataframe thead th {\n",
       "        text-align: right;\n",
       "    }\n",
       "</style>\n",
       "<table border=\"1\" class=\"dataframe\">\n",
       "  <thead>\n",
       "    <tr style=\"text-align: right;\">\n",
       "      <th></th>\n",
       "      <th>ID</th>\n",
       "      <th>BG</th>\n",
       "      <th>PI</th>\n",
       "      <th>RA</th>\n",
       "    </tr>\n",
       "  </thead>\n",
       "  <tbody>\n",
       "    <tr>\n",
       "      <th>0</th>\n",
       "      <td>11_0</td>\n",
       "      <td>134.0</td>\n",
       "      <td>0.000000</td>\n",
       "      <td>0.000000</td>\n",
       "    </tr>\n",
       "    <tr>\n",
       "      <th>1</th>\n",
       "      <td>11_0</td>\n",
       "      <td>125.0</td>\n",
       "      <td>0.000271</td>\n",
       "      <td>0.000000</td>\n",
       "    </tr>\n",
       "    <tr>\n",
       "      <th>2</th>\n",
       "      <td>11_0</td>\n",
       "      <td>132.0</td>\n",
       "      <td>0.001510</td>\n",
       "      <td>0.000000</td>\n",
       "    </tr>\n",
       "    <tr>\n",
       "      <th>3</th>\n",
       "      <td>11_0</td>\n",
       "      <td>132.0</td>\n",
       "      <td>0.003488</td>\n",
       "      <td>0.000000</td>\n",
       "    </tr>\n",
       "    <tr>\n",
       "      <th>4</th>\n",
       "      <td>11_0</td>\n",
       "      <td>132.0</td>\n",
       "      <td>0.006741</td>\n",
       "      <td>0.000000</td>\n",
       "    </tr>\n",
       "    <tr>\n",
       "      <th>...</th>\n",
       "      <td>...</td>\n",
       "      <td>...</td>\n",
       "      <td>...</td>\n",
       "      <td>...</td>\n",
       "    </tr>\n",
       "    <tr>\n",
       "      <th>1723</th>\n",
       "      <td>290_0</td>\n",
       "      <td>70.0</td>\n",
       "      <td>1.402729</td>\n",
       "      <td>0.052132</td>\n",
       "    </tr>\n",
       "    <tr>\n",
       "      <th>1724</th>\n",
       "      <td>290_0</td>\n",
       "      <td>69.0</td>\n",
       "      <td>1.373106</td>\n",
       "      <td>0.047064</td>\n",
       "    </tr>\n",
       "    <tr>\n",
       "      <th>1725</th>\n",
       "      <td>290_0</td>\n",
       "      <td>69.0</td>\n",
       "      <td>1.344499</td>\n",
       "      <td>0.042466</td>\n",
       "    </tr>\n",
       "    <tr>\n",
       "      <th>1726</th>\n",
       "      <td>290_0</td>\n",
       "      <td>69.0</td>\n",
       "      <td>1.316954</td>\n",
       "      <td>0.038300</td>\n",
       "    </tr>\n",
       "    <tr>\n",
       "      <th>1727</th>\n",
       "      <td>290_0</td>\n",
       "      <td>67.0</td>\n",
       "      <td>1.290504</td>\n",
       "      <td>0.034526</td>\n",
       "    </tr>\n",
       "  </tbody>\n",
       "</table>\n",
       "<p>1728 rows × 4 columns</p>\n",
       "</div>"
      ],
      "text/plain": [
       "         ID     BG        PI        RA\n",
       "0      11_0  134.0  0.000000  0.000000\n",
       "1      11_0  125.0  0.000271  0.000000\n",
       "2      11_0  132.0  0.001510  0.000000\n",
       "3      11_0  132.0  0.003488  0.000000\n",
       "4      11_0  132.0  0.006741  0.000000\n",
       "...     ...    ...       ...       ...\n",
       "1723  290_0   70.0  1.402729  0.052132\n",
       "1724  290_0   69.0  1.373106  0.047064\n",
       "1725  290_0   69.0  1.344499  0.042466\n",
       "1726  290_0   69.0  1.316954  0.038300\n",
       "1727  290_0   67.0  1.290504  0.034526\n",
       "\n",
       "[1728 rows x 4 columns]"
      ]
     },
     "metadata": {},
     "output_type": "display_data"
    }
   ],
   "source": [
    "columns_to_save = ['ID', 'BG', 'PI', 'RA']\n",
    "display(df[columns_to_save])\n",
    "df[columns_to_save].to_csv('../data/data_processed.csv', index=False)"
   ]
  },
  {
   "cell_type": "markdown",
   "id": "febe8fd4",
   "metadata": {},
   "source": [
    "<h2 style=\"color:#4FC3F7; border-bottom:2px solid #4FC3F7; padding-bottom:4px;\">\n",
    "References\n",
    "</h2>\n",
    "<a id=\"ref1\"></a> [1] Hovorka R, Canonico V, Chassin LJ, Haueter U, Massi-Benedetti M, Orsini Federici M, *et al.* (2004). Nonlinear model predictive control of glucose concentration in subjects with type 1 diabetes. *Physiological Measurement*, 25(4), 905–920."
   ]
  }
 ],
 "metadata": {
  "kernelspec": {
   "display_name": ".venv",
   "language": "python",
   "name": "python3"
  },
  "language_info": {
   "codemirror_mode": {
    "name": "ipython",
    "version": 3
   },
   "file_extension": ".py",
   "mimetype": "text/x-python",
   "name": "python",
   "nbconvert_exporter": "python",
   "pygments_lexer": "ipython3",
   "version": "3.10.11"
  }
 },
 "nbformat": 4,
 "nbformat_minor": 5
}

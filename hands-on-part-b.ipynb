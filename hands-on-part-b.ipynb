{
 "cells": [
  {
   "cell_type": "markdown",
   "id": "9ea03d97",
   "metadata": {},
   "source": [
    "<div style=\"background-color:#1e1e1e; padding:25px; border-radius:10px; display:table; width:100%;\">\n",
    "\n",
    "  <!-- Left column: text -->\n",
    "  <div style=\"display:table-cell; vertical-align:top; width:70%; padding-right:10px;\">\n",
    "    <h1 style=\"color:#4FC3F7; margin-bottom:10px;\">Hands-On Part B: Personalization Methods</h1>\n",
    "\n",
    "  <p style=\"font-size:18px; font-style:italic; color:#cccccc;\">\n",
    "    Workshop on T1D Simulator and Digital Twins for Personalized Care\n",
    "  </p>\n",
    "\n",
    "  <p style=\"font-size:15px; line-height:1.6; color:#dddddd;\">\n",
    "fill\n",
    "  </p>\n",
    "  </div>\n",
    "\n",
    "  <!-- Right column: logo -->\n",
    "  <div style=\"display:table-cell; vertical-align:middle; text-align:left; width:30%; padding-right:50px;\">\n",
    "    <img src=\"https://micelab.udg.edu/wp-content/uploads/2022/08/MICElab-letras_png-300x119.png\" alt=\"MiceLab Logo\" style=\"height:80px; border-radius:8px;\">\n",
    "  </div>\n",
    "\n",
    "</div>\n"
   ]
  },
  {
   "cell_type": "markdown",
   "id": "4df3147c",
   "metadata": {},
   "source": [
    "<h2 style=\"color:#4FC3F7; border-bottom:2px solid #4FC3F7; padding-bottom:4px;\">\n",
    "0. Imports &amp; Set-Up\n",
    "</h2>"
   ]
  },
  {
   "cell_type": "code",
   "execution_count": 1,
   "id": "752529e0",
   "metadata": {},
   "outputs": [
    {
     "name": "stderr",
     "output_type": "stream",
     "text": [
      "2025-09-18 20:24:07.221612: I tensorflow/core/util/port.cc:110] oneDNN custom operations are on. You may see slightly different numerical results due to floating-point round-off errors from different computation orders. To turn them off, set the environment variable `TF_ENABLE_ONEDNN_OPTS=0`.\n",
      "2025-09-18 20:24:07.223038: I tensorflow/tsl/cuda/cudart_stub.cc:28] Could not find cuda drivers on your machine, GPU will not be used.\n",
      "2025-09-18 20:24:07.257092: I tensorflow/tsl/cuda/cudart_stub.cc:28] Could not find cuda drivers on your machine, GPU will not be used.\n",
      "2025-09-18 20:24:07.258856: I tensorflow/core/platform/cpu_feature_guard.cc:182] This TensorFlow binary is optimized to use available CPU instructions in performance-critical operations.\n",
      "To enable the following instructions: AVX2 AVX512F AVX512_VNNI FMA, in other operations, rebuild TensorFlow with the appropriate compiler flags.\n",
      "2025-09-18 20:24:07.962140: W tensorflow/compiler/tf2tensorrt/utils/py_utils.cc:38] TF-TRT Warning: Could not find TensorRT\n"
     ]
    }
   ],
   "source": [
    "from pathlib import Path\n",
    "\n",
    "import numpy as np\n",
    "import tensorflow as tf\n",
    "import pandas as pd\n",
    "\n",
    "from sklearn.model_selection import train_test_split\n",
    "\n",
    "from data_classes import TrainingData\n",
    "from gan import GANModel"
   ]
  },
  {
   "cell_type": "markdown",
   "id": "1b00b7ad",
   "metadata": {},
   "source": [
    "Check GPU availability for TensorFlow, not essential."
   ]
  },
  {
   "cell_type": "code",
   "execution_count": 2,
   "id": "211efa1f",
   "metadata": {},
   "outputs": [
    {
     "name": "stdout",
     "output_type": "stream",
     "text": [
      "TensorFlow version: 2.13.0\n",
      "Num GPUs Available: 0\n",
      "GPUs: []\n"
     ]
    }
   ],
   "source": [
    "print(\"TensorFlow version:\", tf.__version__)\n",
    "print(\"Num GPUs Available:\", len(tf.config.list_physical_devices('GPU')))\n",
    "print(\"GPUs:\", tf.config.list_physical_devices('GPU'))"
   ]
  },
  {
   "cell_type": "markdown",
   "id": "3a45fd20",
   "metadata": {},
   "source": [
    "<h2 style=\"color:#4FC3F7; border-bottom:2px solid #4FC3F7; padding-bottom:4px;\">\n",
    "1. Load Model & Data\n",
    "</h2>"
   ]
  },
  {
   "cell_type": "markdown",
   "id": "69c41e56",
   "metadata": {},
   "source": [
    "Setup path and model name."
   ]
  },
  {
   "cell_type": "code",
   "execution_count": 3,
   "id": "ddcfe1e0",
   "metadata": {},
   "outputs": [],
   "source": [
    "path_to_model = \"/mnt/c/Users/oriol/Downloads/\"\n",
    "model_name = \"pretrained_model.h5\"\n",
    "model_name = \"decoder_epoch_10.h5\""
   ]
  },
  {
   "cell_type": "markdown",
   "id": "7049c173",
   "metadata": {},
   "source": [
    "Load the .h5 using the `load_model` method from keras."
   ]
  },
  {
   "cell_type": "code",
   "execution_count": 4,
   "id": "270297d5",
   "metadata": {},
   "outputs": [
    {
     "name": "stdout",
     "output_type": "stream",
     "text": [
      "WARNING:tensorflow:No training configuration found in the save file, so the model was *not* compiled. Compile it manually.\n"
     ]
    }
   ],
   "source": [
    "model_filename = Path(path_to_model, model_name)\n",
    "pretrained_vae_model = tf.keras.models.load_model(model_filename)"
   ]
  },
  {
   "cell_type": "code",
   "execution_count": 5,
   "id": "05d0ba9c",
   "metadata": {},
   "outputs": [
    {
     "data": {
      "application/vnd.microsoft.datawrangler.viewer.v0+json": {
       "columns": [
        {
         "name": "index",
         "rawType": "int64",
         "type": "integer"
        },
        {
         "name": "ID",
         "rawType": "object",
         "type": "string"
        },
        {
         "name": "BG",
         "rawType": "float64",
         "type": "float"
        },
        {
         "name": "PI",
         "rawType": "float64",
         "type": "float"
        },
        {
         "name": "RA",
         "rawType": "float64",
         "type": "float"
        }
       ],
       "ref": "70759c18-bfb4-4b36-9da1-f73f5c50ab02",
       "rows": [
        [
         "0",
         "11_0",
         "134.0",
         "0.0",
         "0.0"
        ],
        [
         "1",
         "11_0",
         "125.0",
         "0.0002712096011543",
         "0.0"
        ],
        [
         "2",
         "11_0",
         "132.0",
         "0.0015104744754281",
         "0.0"
        ],
        [
         "3",
         "11_0",
         "132.0",
         "0.0034881639011847",
         "0.0"
        ],
        [
         "4",
         "11_0",
         "132.0",
         "0.0067405298863417",
         "0.0"
        ]
       ],
       "shape": {
        "columns": 4,
        "rows": 5
       }
      },
      "text/html": [
       "<div>\n",
       "<style scoped>\n",
       "    .dataframe tbody tr th:only-of-type {\n",
       "        vertical-align: middle;\n",
       "    }\n",
       "\n",
       "    .dataframe tbody tr th {\n",
       "        vertical-align: top;\n",
       "    }\n",
       "\n",
       "    .dataframe thead th {\n",
       "        text-align: right;\n",
       "    }\n",
       "</style>\n",
       "<table border=\"1\" class=\"dataframe\">\n",
       "  <thead>\n",
       "    <tr style=\"text-align: right;\">\n",
       "      <th></th>\n",
       "      <th>ID</th>\n",
       "      <th>BG</th>\n",
       "      <th>PI</th>\n",
       "      <th>RA</th>\n",
       "    </tr>\n",
       "  </thead>\n",
       "  <tbody>\n",
       "    <tr>\n",
       "      <th>0</th>\n",
       "      <td>11_0</td>\n",
       "      <td>134.0</td>\n",
       "      <td>0.000000</td>\n",
       "      <td>0.0</td>\n",
       "    </tr>\n",
       "    <tr>\n",
       "      <th>1</th>\n",
       "      <td>11_0</td>\n",
       "      <td>125.0</td>\n",
       "      <td>0.000271</td>\n",
       "      <td>0.0</td>\n",
       "    </tr>\n",
       "    <tr>\n",
       "      <th>2</th>\n",
       "      <td>11_0</td>\n",
       "      <td>132.0</td>\n",
       "      <td>0.001510</td>\n",
       "      <td>0.0</td>\n",
       "    </tr>\n",
       "    <tr>\n",
       "      <th>3</th>\n",
       "      <td>11_0</td>\n",
       "      <td>132.0</td>\n",
       "      <td>0.003488</td>\n",
       "      <td>0.0</td>\n",
       "    </tr>\n",
       "    <tr>\n",
       "      <th>4</th>\n",
       "      <td>11_0</td>\n",
       "      <td>132.0</td>\n",
       "      <td>0.006741</td>\n",
       "      <td>0.0</td>\n",
       "    </tr>\n",
       "  </tbody>\n",
       "</table>\n",
       "</div>"
      ],
      "text/plain": [
       "     ID     BG        PI   RA\n",
       "0  11_0  134.0  0.000000  0.0\n",
       "1  11_0  125.0  0.000271  0.0\n",
       "2  11_0  132.0  0.001510  0.0\n",
       "3  11_0  132.0  0.003488  0.0\n",
       "4  11_0  132.0  0.006741  0.0"
      ]
     },
     "metadata": {},
     "output_type": "display_data"
    }
   ],
   "source": [
    "path_df = Path(\"data_processed.csv\")\n",
    "\n",
    "df = pd.read_csv(path_df)\n",
    "\n",
    "display(df.head())"
   ]
  },
  {
   "cell_type": "markdown",
   "id": "eea39e81",
   "metadata": {},
   "source": [
    "<h2 style=\"color:#4FC3F7; border-bottom:2px solid #4FC3F7; padding-bottom:4px;\">\n",
    "2. Split Patient Data for Train / Validation\n",
    "</h2>"
   ]
  },
  {
   "cell_type": "code",
   "execution_count": 6,
   "id": "fe64f829",
   "metadata": {},
   "outputs": [
    {
     "data": {
      "application/vnd.microsoft.datawrangler.viewer.v0+json": {
       "columns": [
        {
         "name": "index",
         "rawType": "int64",
         "type": "integer"
        },
        {
         "name": "ID",
         "rawType": "object",
         "type": "string"
        },
        {
         "name": "BG",
         "rawType": "float64",
         "type": "float"
        },
        {
         "name": "PI",
         "rawType": "float64",
         "type": "float"
        },
        {
         "name": "RA",
         "rawType": "float64",
         "type": "float"
        }
       ],
       "ref": "f0bb4385-116f-48a3-9615-d069e6e2b052",
       "rows": [
        [
         "1649",
         "290_0",
         "166.0",
         "1.851760048270232",
         "0.2313350244837983"
        ],
        [
         "1465",
         "290_0",
         "63.0",
         "0.8340736511777695",
         "0.0188898822644347"
        ],
        [
         "361",
         "11_0",
         "109.0",
         "0.4361160218404329",
         "1.1321409293179783e-06"
        ],
        [
         "315",
         "11_0",
         "93.0",
         "0.2757205817901302",
         "0.0002462779770017"
        ],
        [
         "1372",
         "290_0",
         "131.0",
         "0.8554756997795054",
         "0.0320813570202882"
        ]
       ],
       "shape": {
        "columns": 4,
        "rows": 5
       }
      },
      "text/html": [
       "<div>\n",
       "<style scoped>\n",
       "    .dataframe tbody tr th:only-of-type {\n",
       "        vertical-align: middle;\n",
       "    }\n",
       "\n",
       "    .dataframe tbody tr th {\n",
       "        vertical-align: top;\n",
       "    }\n",
       "\n",
       "    .dataframe thead th {\n",
       "        text-align: right;\n",
       "    }\n",
       "</style>\n",
       "<table border=\"1\" class=\"dataframe\">\n",
       "  <thead>\n",
       "    <tr style=\"text-align: right;\">\n",
       "      <th></th>\n",
       "      <th>ID</th>\n",
       "      <th>BG</th>\n",
       "      <th>PI</th>\n",
       "      <th>RA</th>\n",
       "    </tr>\n",
       "  </thead>\n",
       "  <tbody>\n",
       "    <tr>\n",
       "      <th>1649</th>\n",
       "      <td>290_0</td>\n",
       "      <td>166.0</td>\n",
       "      <td>1.851760</td>\n",
       "      <td>0.231335</td>\n",
       "    </tr>\n",
       "    <tr>\n",
       "      <th>1465</th>\n",
       "      <td>290_0</td>\n",
       "      <td>63.0</td>\n",
       "      <td>0.834074</td>\n",
       "      <td>0.018890</td>\n",
       "    </tr>\n",
       "    <tr>\n",
       "      <th>361</th>\n",
       "      <td>11_0</td>\n",
       "      <td>109.0</td>\n",
       "      <td>0.436116</td>\n",
       "      <td>0.000001</td>\n",
       "    </tr>\n",
       "    <tr>\n",
       "      <th>315</th>\n",
       "      <td>11_0</td>\n",
       "      <td>93.0</td>\n",
       "      <td>0.275721</td>\n",
       "      <td>0.000246</td>\n",
       "    </tr>\n",
       "    <tr>\n",
       "      <th>1372</th>\n",
       "      <td>290_0</td>\n",
       "      <td>131.0</td>\n",
       "      <td>0.855476</td>\n",
       "      <td>0.032081</td>\n",
       "    </tr>\n",
       "  </tbody>\n",
       "</table>\n",
       "</div>"
      ],
      "text/plain": [
       "         ID     BG        PI        RA\n",
       "1649  290_0  166.0  1.851760  0.231335\n",
       "1465  290_0   63.0  0.834074  0.018890\n",
       "361    11_0  109.0  0.436116  0.000001\n",
       "315    11_0   93.0  0.275721  0.000246\n",
       "1372  290_0  131.0  0.855476  0.032081"
      ]
     },
     "metadata": {},
     "output_type": "display_data"
    },
    {
     "name": "stdout",
     "output_type": "stream",
     "text": [
      "Train shape: (1382, 4)\n",
      "Validation shape: (346, 4)\n"
     ]
    }
   ],
   "source": [
    "split_size = 0.2\n",
    "df_train, df_val = train_test_split(df, test_size=split_size, random_state=0, shuffle=True)\n",
    "\n",
    "display(df_train.head())\n",
    "print(\"Train shape:\", df_train.shape)\n",
    "print(\"Validation shape:\", df_val.shape)"
   ]
  },
  {
   "cell_type": "code",
   "execution_count": 7,
   "id": "a50a2c45",
   "metadata": {},
   "outputs": [
    {
     "data": {
      "application/vnd.microsoft.datawrangler.viewer.v0+json": {
       "columns": [
        {
         "name": "index",
         "rawType": "int64",
         "type": "integer"
        },
        {
         "name": "ID",
         "rawType": "object",
         "type": "string"
        },
        {
         "name": "scBG",
         "rawType": "float64",
         "type": "float"
        },
        {
         "name": "scPI",
         "rawType": "float64",
         "type": "float"
        },
        {
         "name": "scRA",
         "rawType": "float64",
         "type": "float"
        }
       ],
       "ref": "f9dbba36-bcab-443a-b2a7-4839b21b4b1b",
       "rows": [
        [
         "1649",
         "290_0",
         "1.2098412975022665",
         "1.8032360825819387",
         "-0.32223265515681365"
        ],
        [
         "1465",
         "290_0",
         "-1.116711204919414",
         "-0.21416058715496997",
         "-0.5250756479613917"
        ],
        [
         "361",
         "11_0",
         "-0.07766833976021673",
         "-1.0030464349124453",
         "-0.5431106595665686"
        ],
        [
         "315",
         "11_0",
         "-0.4390745537286331",
         "-1.321004135362152",
         "-0.5428765938941648"
        ],
        [
         "1372",
         "290_0",
         "0.4192652044463558",
         "-0.17173452967985306",
         "-0.5124804048269527"
        ],
        [
         "170",
         "11_0",
         "-1.2974143119036219",
         "2.0882967113141753",
         "1.588531511510999"
        ],
        [
         "762",
         "11_0",
         "-0.46166244210165913",
         "1.6114571488283194",
         "0.929526007526269"
        ],
        [
         "1720",
         "290_0",
         "-0.48425033047468513",
         "1.0998339724537738",
         "-0.4756799185770354"
        ],
        [
         "820",
         "11_0",
         "-0.32613511186350297",
         "0.19661430918644707",
         "1.3387823267841268"
        ],
        [
         "1433",
         "290_0",
         "-0.07766833976021673",
         "-0.1717358303967625",
         "-0.1548992513538756"
        ],
        [
         "1244",
         "290_0",
         "-0.21319566999837286",
         "-0.12106514260812173",
         "-0.5431089175633927"
        ],
        [
         "863",
         "11_0",
         "-0.12284411650626877",
         "-1.1831414557486286",
         "-0.5184902048549455"
        ],
        [
         "22",
         "11_0",
         "-0.32613511186350297",
         "-1.3011386499967084",
         "-0.5431117405367051"
        ],
        [
         "1501",
         "290_0",
         "-0.6197776607128412",
         "-0.5485178084948799",
         "-0.5427748319889695"
        ],
        [
         "45",
         "11_0",
         "-1.2070627584115179",
         "-1.3800924379378774",
         "-0.5431117405367051"
        ],
        [
         "632",
         "11_0",
         "-0.5068382188477112",
         "-0.4674061134765787",
         "-0.5429148678634644"
        ],
        [
         "651",
         "11_0",
         "0.10303476722399146",
         "-0.9265991291317166",
         "-0.5430896780367899"
        ],
        [
         "61",
         "11_0",
         "-0.8004807676970495",
         "-1.4510846428547197",
         "-0.5431117405367051"
        ],
        [
         "1262",
         "290_0",
         "-0.2583714467444249",
         "-0.15920878954827394",
         "-0.5431114019551793"
        ],
        [
         "1484",
         "290_0",
         "-1.6588205258720383",
         "-0.33167986911297254",
         "-0.5408307233231507"
        ],
        [
         "319",
         "11_0",
         "-0.2357835583713989",
         "-1.3313383076211627",
         "-0.5429636062186516"
        ],
        [
         "853",
         "11_0",
         "-0.19060778162534683",
         "-1.0216827522874463",
         "-0.47008567650854133"
        ],
        [
         "1003",
         "290_0",
         "0.7580835300417461",
         "-0.17852844058437012",
         "-0.49911812995178373"
        ],
        [
         "1508",
         "290_0",
         "0.057858990477939416",
         "-0.5977042542711548",
         "-0.5429602282451659"
        ],
        [
         "461",
         "11_0",
         "-0.48425033047468513",
         "1.3286891368199722",
         "0.7565979325237185"
        ],
        [
         "1038",
         "290_0",
         "-0.32613511186350297",
         "-0.17216145776731176",
         "-0.030696785108838363"
        ],
        [
         "1542",
         "290_0",
         "-0.9360080979352056",
         "-0.26324202967305244",
         "-0.5431088125065996"
        ],
        [
         "1279",
         "290_0",
         "-0.7778928793240234",
         "-0.1685288090238278",
         "-0.010108069187522984"
        ],
        [
         "1459",
         "290_0",
         "-1.0941233165463877",
         "-0.2188879216773903",
         "-0.5092661654406317"
        ],
        [
         "27",
         "11_0",
         "-0.6649534374588933",
         "-1.2729073376606126",
         "-0.5431117405367051"
        ],
        [
         "1601",
         "290_0",
         "-0.348723000236529",
         "-0.1727529666625854",
         "-0.524747002083909"
        ],
        [
         "1210",
         "290_0",
         "2.1133568324233076",
         "0.37471650062454664",
         "-0.5429653992232649"
        ],
        [
         "289",
         "11_0",
         "-0.5971897723398153",
         "-1.301711812554515",
         "-0.5385703063438778"
        ],
        [
         "911",
         "290_0",
         "-1.2296506467845438",
         "-0.3244411556031264",
         "-0.5431117405367051"
        ],
        [
         "1723",
         "290_0",
         "-0.9585959863082316",
         "0.9131063198668921",
         "-0.49333567780023"
        ],
        [
         "1034",
         "290_0",
         "-0.2357835583713989",
         "-0.17232449535434452",
         "-0.5412998198301162"
        ],
        [
         "1555",
         "290_0",
         "-0.5746018839667892",
         "-0.20829441485192568",
         "-0.5431111062390607"
        ],
        [
         "210",
         "11_0",
         "0.17079843234306952",
         "0.7219045547874148",
         "-0.503224726595513"
        ],
        [
         "1413",
         "290_0",
         "0.2385620974621476",
         "-0.17173579908933884",
         "-0.35569029919223527"
        ],
        [
         "1597",
         "290_0",
         "-0.2583714467444249",
         "-0.17314163130588298",
         "-0.5158246272945683"
        ],
        [
         "781",
         "11_0",
         "-0.6875413258319193",
         "0.19517096513188056",
         "-0.08309960861590152"
        ],
        [
         "1115",
         "290_0",
         "-0.8004807676970495",
         "0.0732266004486216",
         "-0.21787051399380705"
        ],
        [
         "434",
         "11_0",
         "-0.8230686560700755",
         "-0.8076490262912324",
         "0.16617116900476295"
        ],
        [
         "1463",
         "290_0",
         "-1.116711204919414",
         "-0.21658099847212908",
         "-0.5208297466858918"
        ],
        [
         "759",
         "11_0",
         "-0.6649534374588933",
         "1.5051542185276023",
         "0.8017016427728467"
        ],
        [
         "414",
         "11_0",
         "1.1872534091292406",
         "-0.0727907007121712",
         "-0.266326837876597"
        ],
        [
         "2",
         "11_0",
         "0.4418530928193818",
         "-1.864580780274917",
         "-0.5431117405367051"
        ],
        [
         "1616",
         "290_0",
         "-0.9585959863082316",
         "-0.17203421176666317",
         "0.05067904480730693"
        ],
        [
         "1659",
         "290_0",
         "-0.07766833976021673",
         "1.1793831054819865",
         "-0.4614854528639101"
        ],
        [
         "723",
         "11_0",
         "-0.2583714467444249",
         "1.3052910587127375",
         "-0.45546076599252555"
        ]
       ],
       "shape": {
        "columns": 4,
        "rows": 1382
       }
      },
      "text/html": [
       "<div>\n",
       "<style scoped>\n",
       "    .dataframe tbody tr th:only-of-type {\n",
       "        vertical-align: middle;\n",
       "    }\n",
       "\n",
       "    .dataframe tbody tr th {\n",
       "        vertical-align: top;\n",
       "    }\n",
       "\n",
       "    .dataframe thead th {\n",
       "        text-align: right;\n",
       "    }\n",
       "</style>\n",
       "<table border=\"1\" class=\"dataframe\">\n",
       "  <thead>\n",
       "    <tr style=\"text-align: right;\">\n",
       "      <th></th>\n",
       "      <th>ID</th>\n",
       "      <th>scBG</th>\n",
       "      <th>scPI</th>\n",
       "      <th>scRA</th>\n",
       "    </tr>\n",
       "  </thead>\n",
       "  <tbody>\n",
       "    <tr>\n",
       "      <th>1649</th>\n",
       "      <td>290_0</td>\n",
       "      <td>1.209841</td>\n",
       "      <td>1.803236</td>\n",
       "      <td>-0.322233</td>\n",
       "    </tr>\n",
       "    <tr>\n",
       "      <th>1465</th>\n",
       "      <td>290_0</td>\n",
       "      <td>-1.116711</td>\n",
       "      <td>-0.214161</td>\n",
       "      <td>-0.525076</td>\n",
       "    </tr>\n",
       "    <tr>\n",
       "      <th>361</th>\n",
       "      <td>11_0</td>\n",
       "      <td>-0.077668</td>\n",
       "      <td>-1.003046</td>\n",
       "      <td>-0.543111</td>\n",
       "    </tr>\n",
       "    <tr>\n",
       "      <th>315</th>\n",
       "      <td>11_0</td>\n",
       "      <td>-0.439075</td>\n",
       "      <td>-1.321004</td>\n",
       "      <td>-0.542877</td>\n",
       "    </tr>\n",
       "    <tr>\n",
       "      <th>1372</th>\n",
       "      <td>290_0</td>\n",
       "      <td>0.419265</td>\n",
       "      <td>-0.171735</td>\n",
       "      <td>-0.512480</td>\n",
       "    </tr>\n",
       "    <tr>\n",
       "      <th>...</th>\n",
       "      <td>...</td>\n",
       "      <td>...</td>\n",
       "      <td>...</td>\n",
       "      <td>...</td>\n",
       "    </tr>\n",
       "    <tr>\n",
       "      <th>835</th>\n",
       "      <td>11_0</td>\n",
       "      <td>-0.190608</td>\n",
       "      <td>-0.452106</td>\n",
       "      <td>-0.070762</td>\n",
       "    </tr>\n",
       "    <tr>\n",
       "      <th>1216</th>\n",
       "      <td>290_0</td>\n",
       "      <td>1.842302</td>\n",
       "      <td>0.203086</td>\n",
       "      <td>-0.543038</td>\n",
       "    </tr>\n",
       "    <tr>\n",
       "      <th>1653</th>\n",
       "      <td>290_0</td>\n",
       "      <td>0.374089</td>\n",
       "      <td>1.665554</td>\n",
       "      <td>-0.393609</td>\n",
       "    </tr>\n",
       "    <tr>\n",
       "      <th>559</th>\n",
       "      <td>11_0</td>\n",
       "      <td>-0.597190</td>\n",
       "      <td>-1.009164</td>\n",
       "      <td>-0.157899</td>\n",
       "    </tr>\n",
       "    <tr>\n",
       "      <th>684</th>\n",
       "      <td>11_0</td>\n",
       "      <td>0.035271</td>\n",
       "      <td>2.550973</td>\n",
       "      <td>2.407200</td>\n",
       "    </tr>\n",
       "  </tbody>\n",
       "</table>\n",
       "<p>1382 rows × 4 columns</p>\n",
       "</div>"
      ],
      "text/plain": [
       "         ID      scBG      scPI      scRA\n",
       "1649  290_0  1.209841  1.803236 -0.322233\n",
       "1465  290_0 -1.116711 -0.214161 -0.525076\n",
       "361    11_0 -0.077668 -1.003046 -0.543111\n",
       "315    11_0 -0.439075 -1.321004 -0.542877\n",
       "1372  290_0  0.419265 -0.171735 -0.512480\n",
       "...     ...       ...       ...       ...\n",
       "835    11_0 -0.190608 -0.452106 -0.070762\n",
       "1216  290_0  1.842302  0.203086 -0.543038\n",
       "1653  290_0  0.374089  1.665554 -0.393609\n",
       "559    11_0 -0.597190 -1.009164 -0.157899\n",
       "684    11_0  0.035271  2.550973  2.407200\n",
       "\n",
       "[1382 rows x 4 columns]"
      ]
     },
     "execution_count": 7,
     "metadata": {},
     "output_type": "execute_result"
    }
   ],
   "source": [
    "# scale columns\n",
    "numeric_cols = ['BG', 'PI', 'RA']\n",
    "df_train_mean = df_train[numeric_cols].mean()\n",
    "df_train_std = df_train[numeric_cols].std()\n",
    "df_train_scaled = df_train.copy()\n",
    "df_train_scaled[numeric_cols] = (df_train[numeric_cols] - df_train_mean) / df_train_std\n",
    "\n",
    "# rename columns\n",
    "new_column_names = {col: f'sc{col}' for col in numeric_cols}\n",
    "df_train_scaled = df_train_scaled.rename(columns=new_column_names)\n",
    "df_train_scaled"
   ]
  },
  {
   "cell_type": "code",
   "execution_count": 8,
   "id": "3ca30c69",
   "metadata": {},
   "outputs": [],
   "source": [
    "gan_inputs = ['BG', 'PI', 'RA']"
   ]
  },
  {
   "cell_type": "code",
   "execution_count": 9,
   "id": "3a3f421a",
   "metadata": {},
   "outputs": [],
   "source": [
    "def load_training_data():\n",
    "    train_data_dict = {}\n",
    "    for input_name in gan_inputs:\n",
    "        train_data_dict[f'sc{input_name}'] = df_train_scaled[f'sc{input_name}']\n",
    "\n",
    "    train_data = TrainingData(**train_data_dict)\n",
    "    return train_data"
   ]
  },
  {
   "cell_type": "code",
   "execution_count": 10,
   "id": "3768661a",
   "metadata": {},
   "outputs": [],
   "source": [
    "training_data = load_training_data()"
   ]
  },
  {
   "cell_type": "code",
   "execution_count": 12,
   "id": "6ec1ddec",
   "metadata": {},
   "outputs": [
    {
     "name": "stderr",
     "output_type": "stream",
     "text": [
      "GAN Training:   0%|          | 0/2150 [00:00<?, ?step/s]2025-09-18 20:36:56.042823: W tensorflow/core/framework/op_kernel.cc:1828] OP_REQUIRES failed at strided_slice_op.cc:117 : INVALID_ARGUMENT: Index out of range using input dim 1; input has only 1 dims\n",
      "GAN Training:   0%|          | 0/2150 [12:38<?, ?step/s]\n"
     ]
    },
    {
     "ename": "InvalidArgumentError",
     "evalue": "{{function_node __wrapped__StridedSlice_device_/job:localhost/replica:0/task:0/device:CPU:0}} Index out of range using input dim 1; input has only 1 dims [Op:StridedSlice] name: strided_slice/",
     "output_type": "error",
     "traceback": [
      "\u001b[0;31m---------------------------------------------------------------------------\u001b[0m",
      "\u001b[0;31mInvalidArgumentError\u001b[0m                      Traceback (most recent call last)",
      "Cell \u001b[0;32mIn[12], line 4\u001b[0m\n\u001b[1;32m      1\u001b[0m gan \u001b[38;5;241m=\u001b[39m GANModel(pretrained_vae_model)\n\u001b[1;32m      3\u001b[0m \u001b[38;5;28;01mtry\u001b[39;00m:\n\u001b[0;32m----> 4\u001b[0m     \u001b[43mgan\u001b[49m\u001b[38;5;241;43m.\u001b[39;49m\u001b[43mtrain\u001b[49m\u001b[43m(\u001b[49m\u001b[43mtraining_data\u001b[49m\u001b[43m)\u001b[49m\n\u001b[1;32m      5\u001b[0m \u001b[38;5;28;01mexcept\u001b[39;00m \u001b[38;5;167;01mKeyboardInterrupt\u001b[39;00m:\n\u001b[1;32m      6\u001b[0m     \u001b[38;5;28mprint\u001b[39m(\u001b[38;5;124m'\u001b[39m\u001b[38;5;124mProcess interrupted by user\u001b[39m\u001b[38;5;124m'\u001b[39m)\n",
      "File \u001b[0;32m~/workspace/ss-handson/gan.py:99\u001b[0m, in \u001b[0;36mGANModel.train\u001b[0;34m(self, patient_data)\u001b[0m\n\u001b[1;32m     96\u001b[0m         \u001b[38;5;28mself\u001b[39m\u001b[38;5;241m.\u001b[39mgenerator_loop(patient_data, i, log\u001b[38;5;241m=\u001b[39m\u001b[38;5;28;01mTrue\u001b[39;00m)\n\u001b[1;32m     98\u001b[0m     \u001b[38;5;28;01melse\u001b[39;00m:\n\u001b[0;32m---> 99\u001b[0m         \u001b[38;5;28;43mself\u001b[39;49m\u001b[38;5;241;43m.\u001b[39;49m\u001b[43mdiscriminator_loop\u001b[49m\u001b[43m(\u001b[49m\u001b[43mpatient_data\u001b[49m\u001b[43m)\u001b[49m\n\u001b[1;32m    100\u001b[0m         \u001b[38;5;28mself\u001b[39m\u001b[38;5;241m.\u001b[39mgenerator_loop(patient_data)\n\u001b[1;32m    102\u001b[0m \u001b[38;5;28mself\u001b[39m\u001b[38;5;241m.\u001b[39msettings\u001b[38;5;241m.\u001b[39mtotal_steps_gan \u001b[38;5;241m=\u001b[39m i\n",
      "File \u001b[0;32m~/workspace/ss-handson/gan.py:105\u001b[0m, in \u001b[0;36mGANModel.discriminator_loop\u001b[0;34m(self, patient_data, i, log)\u001b[0m\n\u001b[1;32m    104\u001b[0m \u001b[38;5;28;01mdef\u001b[39;00m\u001b[38;5;250m \u001b[39m\u001b[38;5;21mdiscriminator_loop\u001b[39m(\u001b[38;5;28mself\u001b[39m, patient_data: TrainingData, i: \u001b[38;5;28mint\u001b[39m \u001b[38;5;241m=\u001b[39m \u001b[38;5;241m0\u001b[39m, log: \u001b[38;5;28mbool\u001b[39m \u001b[38;5;241m=\u001b[39m \u001b[38;5;28;01mFalse\u001b[39;00m):\n\u001b[0;32m--> 105\u001b[0m     x_real_bg, condition_inputs, y_real_label \u001b[38;5;241m=\u001b[39m \u001b[38;5;28;43mself\u001b[39;49m\u001b[38;5;241;43m.\u001b[39;49m\u001b[43mgenerate_real_samples\u001b[49m\u001b[43m(\u001b[49m\u001b[43mpatient_data\u001b[49m\u001b[43m,\u001b[49m\u001b[43m \u001b[49m\u001b[38;5;28;43mself\u001b[39;49m\u001b[38;5;241;43m.\u001b[39;49m\u001b[43msettings\u001b[49m\u001b[38;5;241;43m.\u001b[39;49m\u001b[43mbatch_size_gan\u001b[49m\u001b[43m)\u001b[49m\n\u001b[1;32m    107\u001b[0m     x_fake_bg, y_fake_label \u001b[38;5;241m=\u001b[39m \u001b[38;5;28mself\u001b[39m\u001b[38;5;241m.\u001b[39mgenerate_fake_samples(condition_inputs)\n\u001b[1;32m    108\u001b[0m     d_loss_real, _ \u001b[38;5;241m=\u001b[39m \u001b[38;5;28mself\u001b[39m\u001b[38;5;241m.\u001b[39md_model\u001b[38;5;241m.\u001b[39mtrain_on_batch([condition_inputs, x_real_bg], y_real_label)\n",
      "File \u001b[0;32m~/workspace/ss-handson/gan.py:143\u001b[0m, in \u001b[0;36mGANModel.generate_real_samples\u001b[0;34m(self, dataset, batch_size)\u001b[0m\n\u001b[1;32m    140\u001b[0m \u001b[38;5;66;03m# ix = tf.random.uniform((batch_size,), minval=0, maxval=total_samples, dtype=tf.int32)\u001b[39;00m\n\u001b[1;32m    142\u001b[0m conditional_inputs \u001b[38;5;241m=\u001b[39m []\n\u001b[0;32m--> 143\u001b[0m bg_real_input \u001b[38;5;241m=\u001b[39m \u001b[43mtf\u001b[49m\u001b[38;5;241;43m.\u001b[39;49m\u001b[43mgather\u001b[49m\u001b[43m(\u001b[49m\u001b[43mdataset\u001b[49m\u001b[38;5;241;43m.\u001b[39;49m\u001b[43mscBG\u001b[49m\u001b[43m,\u001b[49m\u001b[43m \u001b[49m\u001b[43mix\u001b[49m\u001b[43m)\u001b[49m\u001b[43m[\u001b[49m\u001b[43m:\u001b[49m\u001b[43m,\u001b[49m\u001b[43m \u001b[49m\u001b[43m:\u001b[49m\u001b[43m,\u001b[49m\u001b[43m \u001b[49m\u001b[43m:\u001b[49m\u001b[43m \u001b[49m\u001b[38;5;28;43mself\u001b[39;49m\u001b[38;5;241;43m.\u001b[39;49m\u001b[43msettings\u001b[49m\u001b[38;5;241;43m.\u001b[39;49m\u001b[43mglucose_dim\u001b[49m\u001b[43m]\u001b[49m\n\u001b[1;32m    144\u001b[0m \u001b[38;5;28;01mfor\u001b[39;00m input_name \u001b[38;5;129;01min\u001b[39;00m \u001b[38;5;28mself\u001b[39m\u001b[38;5;241m.\u001b[39msettings\u001b[38;5;241m.\u001b[39mgan_inputs:\n\u001b[1;32m    145\u001b[0m     \u001b[38;5;28;01mif\u001b[39;00m input_name \u001b[38;5;241m!=\u001b[39m \u001b[38;5;124m'\u001b[39m\u001b[38;5;124mBG\u001b[39m\u001b[38;5;124m'\u001b[39m:\n",
      "File \u001b[0;32m~/workspace/ss-handson/.venv/lib/python3.10/site-packages/tensorflow/python/util/traceback_utils.py:153\u001b[0m, in \u001b[0;36mfilter_traceback.<locals>.error_handler\u001b[0;34m(*args, **kwargs)\u001b[0m\n\u001b[1;32m    151\u001b[0m \u001b[38;5;28;01mexcept\u001b[39;00m \u001b[38;5;167;01mException\u001b[39;00m \u001b[38;5;28;01mas\u001b[39;00m e:\n\u001b[1;32m    152\u001b[0m   filtered_tb \u001b[38;5;241m=\u001b[39m _process_traceback_frames(e\u001b[38;5;241m.\u001b[39m__traceback__)\n\u001b[0;32m--> 153\u001b[0m   \u001b[38;5;28;01mraise\u001b[39;00m e\u001b[38;5;241m.\u001b[39mwith_traceback(filtered_tb) \u001b[38;5;28;01mfrom\u001b[39;00m\u001b[38;5;250m \u001b[39m\u001b[38;5;28;01mNone\u001b[39;00m\n\u001b[1;32m    154\u001b[0m \u001b[38;5;28;01mfinally\u001b[39;00m:\n\u001b[1;32m    155\u001b[0m   \u001b[38;5;28;01mdel\u001b[39;00m filtered_tb\n",
      "File \u001b[0;32m~/workspace/ss-handson/.venv/lib/python3.10/site-packages/tensorflow/python/framework/ops.py:6656\u001b[0m, in \u001b[0;36mraise_from_not_ok_status\u001b[0;34m(e, name)\u001b[0m\n\u001b[1;32m   6654\u001b[0m \u001b[38;5;28;01mdef\u001b[39;00m\u001b[38;5;250m \u001b[39m\u001b[38;5;21mraise_from_not_ok_status\u001b[39m(e, name):\n\u001b[1;32m   6655\u001b[0m   e\u001b[38;5;241m.\u001b[39mmessage \u001b[38;5;241m+\u001b[39m\u001b[38;5;241m=\u001b[39m (\u001b[38;5;124m\"\u001b[39m\u001b[38;5;124m name: \u001b[39m\u001b[38;5;124m\"\u001b[39m \u001b[38;5;241m+\u001b[39m \u001b[38;5;28mstr\u001b[39m(name \u001b[38;5;28;01mif\u001b[39;00m name \u001b[38;5;129;01mis\u001b[39;00m \u001b[38;5;129;01mnot\u001b[39;00m \u001b[38;5;28;01mNone\u001b[39;00m \u001b[38;5;28;01melse\u001b[39;00m \u001b[38;5;124m\"\u001b[39m\u001b[38;5;124m\"\u001b[39m))\n\u001b[0;32m-> 6656\u001b[0m   \u001b[38;5;28;01mraise\u001b[39;00m core\u001b[38;5;241m.\u001b[39m_status_to_exception(e) \u001b[38;5;28;01mfrom\u001b[39;00m\u001b[38;5;250m \u001b[39m\u001b[38;5;28;01mNone\u001b[39;00m\n",
      "\u001b[0;31mInvalidArgumentError\u001b[0m: {{function_node __wrapped__StridedSlice_device_/job:localhost/replica:0/task:0/device:CPU:0}} Index out of range using input dim 1; input has only 1 dims [Op:StridedSlice] name: strided_slice/"
     ]
    }
   ],
   "source": [
    "gan = GANModel(pretrained_vae_model)\n",
    "\n",
    "try:\n",
    "    gan.train(training_data)\n",
    "except KeyboardInterrupt:\n",
    "    print('Process interrupted by user')"
   ]
  }
 ],
 "metadata": {
  "kernelspec": {
   "display_name": ".venv",
   "language": "python",
   "name": "python3"
  },
  "language_info": {
   "codemirror_mode": {
    "name": "ipython",
    "version": 3
   },
   "file_extension": ".py",
   "mimetype": "text/x-python",
   "name": "python",
   "nbconvert_exporter": "python",
   "pygments_lexer": "ipython3",
   "version": "3.10.18"
  }
 },
 "nbformat": 4,
 "nbformat_minor": 5
}

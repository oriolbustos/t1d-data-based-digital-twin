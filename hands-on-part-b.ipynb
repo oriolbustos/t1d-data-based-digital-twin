{
 "cells": [
  {
   "cell_type": "markdown",
   "id": "9ea03d97",
   "metadata": {},
   "source": [
    "<div style=\"background-color:#1e1e1e; padding:25px; border-radius:10px; display:table; width:100%;\">\n",
    "\n",
    "  <!-- Left column: text -->\n",
    "  <div style=\"display:table-cell; vertical-align:top; width:70%; padding-right:10px;\">\n",
    "    <h1 style=\"color:#4FC3F7; margin-bottom:10px;\">Hands-On Part B: Personalization Methods</h1>\n",
    "\n",
    "  <p style=\"font-size:18px; font-style:italic; color:#cccccc;\">\n",
    "    Workshop on T1D Simulator and Digital Twins for Personalized Care\n",
    "  </p>\n",
    "\n",
    "  <p style=\"font-size:15px; line-height:1.6; color:#dddddd;\">\n",
    "fill\n",
    "  </p>\n",
    "  </div>\n",
    "\n",
    "  <!-- Right column: logo -->\n",
    "  <div style=\"display:table-cell; vertical-align:middle; text-align:left; width:30%; padding-right:50px;\">\n",
    "    <img src=\"https://micelab.udg.edu/wp-content/uploads/2022/08/MICElab-letras_png-300x119.png\" alt=\"MiceLab Logo\" style=\"height:80px; border-radius:8px;\">\n",
    "  </div>\n",
    "\n",
    "</div>\n"
   ]
  },
  {
   "cell_type": "markdown",
   "id": "4df3147c",
   "metadata": {},
   "source": [
    "<h2 style=\"color:#4FC3F7; border-bottom:2px solid #4FC3F7; padding-bottom:4px;\">\n",
    "0. Imports &amp; Set-Up\n",
    "</h2>"
   ]
  },
  {
   "cell_type": "code",
   "execution_count": 25,
   "id": "752529e0",
   "metadata": {},
   "outputs": [],
   "source": [
    "from pathlib import Path\n",
    "import joblib\n",
    "import numpy as np\n",
    "import pandas as pd\n",
    "import matplotlib.pyplot as plt\n",
    "from dataclasses import dataclass\n",
    "\n",
    "from sklearn.model_selection import train_test_split\n",
    "\n",
    "from datetime import datetime\n",
    "import pytz\n",
    "from tqdm import tqdm\n",
    "from data_classes import TrainingData\n",
    "from gan import GANModel\n",
    "from simulate import SimulatorVAEGAN"
   ]
  },
  {
   "cell_type": "markdown",
   "id": "1b00b7ad",
   "metadata": {},
   "source": [
    "Check GPU availability for TensorFlow, not essential."
   ]
  },
  {
   "cell_type": "code",
   "execution_count": 2,
   "id": "211efa1f",
   "metadata": {},
   "outputs": [
    {
     "name": "stdout",
     "output_type": "stream",
     "text": [
      "TensorFlow version: 2.13.0\n",
      "Num GPUs Available: 0\n",
      "GPUs: []\n"
     ]
    },
    {
     "name": "stderr",
     "output_type": "stream",
     "text": [
      "2025-09-19 13:17:17.969028: E tensorflow/compiler/xla/stream_executor/cuda/cuda_driver.cc:268] failed call to cuInit: CUDA_ERROR_NO_DEVICE: no CUDA-capable device is detected\n"
     ]
    }
   ],
   "source": [
    "import os\n",
    "os.environ[\"CUDA_VISIBLE_DEVICES\"] = \"\"\n",
    "import tensorflow as tf\n",
    "\n",
    "print(\"TensorFlow version:\", tf.__version__)\n",
    "print(\"Num GPUs Available:\", len(tf.config.list_physical_devices('GPU')))\n",
    "print(\"GPUs:\", tf.config.list_physical_devices('GPU'))"
   ]
  },
  {
   "cell_type": "code",
   "execution_count": 3,
   "id": "2d5bfa9e",
   "metadata": {},
   "outputs": [],
   "source": [
    "import os, sys, contextlib, io\n",
    "\n",
    "os.environ['TF_CPP_MIN_LOG_LEVEL'] = '3'   # still useful for later logs\n",
    "os.environ['ABSL_LOG_LEVEL']      = '3'\n",
    "\n",
    "@contextlib.contextmanager\n",
    "def mute_tensorflow_startup():\n",
    "    \"\"\"Silence C++ factory/placer warnings emitted during the first TF import.\"\"\"\n",
    "    stderr_fileno = sys.stderr.fileno()\n",
    "    with open(os.devnull, 'w') as devnull:\n",
    "        saved_stderr = os.dup(stderr_fileno)\n",
    "        os.dup2(devnull.fileno(), stderr_fileno)   # redirect to /dev/null\n",
    "        try:\n",
    "            yield\n",
    "        finally:\n",
    "            os.dup2(saved_stderr, stderr_fileno)   # restore stderr\n",
    "            os.close(saved_stderr)\n",
    "\n",
    "with mute_tensorflow_startup():\n",
    "    import tensorflow as tf\n",
    "\n",
    "from tensorflow.python.ops.numpy_ops import np_config\n",
    "np_config.enable_numpy_behavior() # essential for indexing tensors, code crashes without this"
   ]
  },
  {
   "cell_type": "markdown",
   "id": "3a45fd20",
   "metadata": {},
   "source": [
    "<h2 style=\"color:#4FC3F7; border-bottom:2px solid #4FC3F7; padding-bottom:4px;\">\n",
    "1. Load Model & Data\n",
    "</h2>"
   ]
  },
  {
   "cell_type": "markdown",
   "id": "69c41e56",
   "metadata": {},
   "source": [
    "Setup path and model name."
   ]
  },
  {
   "cell_type": "code",
   "execution_count": 4,
   "id": "ddcfe1e0",
   "metadata": {},
   "outputs": [],
   "source": [
    "path_to_model = \"/mnt/c/Users/oriol/Downloads/\"\n",
    "model_name = \"pretrained_model.h5\"\n",
    "model_name = \"gan_rampedup005999.h5\"\n",
    "model_name = \"decoder_epoch_10.h5\""
   ]
  },
  {
   "cell_type": "markdown",
   "id": "7049c173",
   "metadata": {},
   "source": [
    "Load the .h5 using the `load_model` method from keras."
   ]
  },
  {
   "cell_type": "code",
   "execution_count": 5,
   "id": "270297d5",
   "metadata": {},
   "outputs": [
    {
     "name": "stdout",
     "output_type": "stream",
     "text": [
      "WARNING:tensorflow:No training configuration found in the save file, so the model was *not* compiled. Compile it manually.\n"
     ]
    }
   ],
   "source": [
    "model_filename = Path(path_to_model, model_name)\n",
    "pretrained_vae_model = tf.keras.models.load_model(model_filename)"
   ]
  },
  {
   "cell_type": "code",
   "execution_count": 6,
   "id": "05d0ba9c",
   "metadata": {},
   "outputs": [
    {
     "data": {
      "application/vnd.microsoft.datawrangler.viewer.v0+json": {
       "columns": [
        {
         "name": "index",
         "rawType": "int64",
         "type": "integer"
        },
        {
         "name": "ID",
         "rawType": "object",
         "type": "string"
        },
        {
         "name": "BG",
         "rawType": "float64",
         "type": "float"
        },
        {
         "name": "PI",
         "rawType": "float64",
         "type": "float"
        },
        {
         "name": "RA",
         "rawType": "float64",
         "type": "float"
        }
       ],
       "ref": "836dae02-3bd9-47ae-b3c4-f129db4b8f34",
       "rows": [
        [
         "0",
         "11_0",
         "134.0",
         "0.0",
         "0.0"
        ],
        [
         "1",
         "11_0",
         "125.0",
         "0.0002712096011543",
         "0.0"
        ],
        [
         "2",
         "11_0",
         "132.0",
         "0.0015104744754281",
         "0.0"
        ],
        [
         "3",
         "11_0",
         "132.0",
         "0.0034881639011847",
         "0.0"
        ],
        [
         "4",
         "11_0",
         "132.0",
         "0.0067405298863417",
         "0.0"
        ]
       ],
       "shape": {
        "columns": 4,
        "rows": 5
       }
      },
      "text/html": [
       "<div>\n",
       "<style scoped>\n",
       "    .dataframe tbody tr th:only-of-type {\n",
       "        vertical-align: middle;\n",
       "    }\n",
       "\n",
       "    .dataframe tbody tr th {\n",
       "        vertical-align: top;\n",
       "    }\n",
       "\n",
       "    .dataframe thead th {\n",
       "        text-align: right;\n",
       "    }\n",
       "</style>\n",
       "<table border=\"1\" class=\"dataframe\">\n",
       "  <thead>\n",
       "    <tr style=\"text-align: right;\">\n",
       "      <th></th>\n",
       "      <th>ID</th>\n",
       "      <th>BG</th>\n",
       "      <th>PI</th>\n",
       "      <th>RA</th>\n",
       "    </tr>\n",
       "  </thead>\n",
       "  <tbody>\n",
       "    <tr>\n",
       "      <th>0</th>\n",
       "      <td>11_0</td>\n",
       "      <td>134.0</td>\n",
       "      <td>0.000000</td>\n",
       "      <td>0.0</td>\n",
       "    </tr>\n",
       "    <tr>\n",
       "      <th>1</th>\n",
       "      <td>11_0</td>\n",
       "      <td>125.0</td>\n",
       "      <td>0.000271</td>\n",
       "      <td>0.0</td>\n",
       "    </tr>\n",
       "    <tr>\n",
       "      <th>2</th>\n",
       "      <td>11_0</td>\n",
       "      <td>132.0</td>\n",
       "      <td>0.001510</td>\n",
       "      <td>0.0</td>\n",
       "    </tr>\n",
       "    <tr>\n",
       "      <th>3</th>\n",
       "      <td>11_0</td>\n",
       "      <td>132.0</td>\n",
       "      <td>0.003488</td>\n",
       "      <td>0.0</td>\n",
       "    </tr>\n",
       "    <tr>\n",
       "      <th>4</th>\n",
       "      <td>11_0</td>\n",
       "      <td>132.0</td>\n",
       "      <td>0.006741</td>\n",
       "      <td>0.0</td>\n",
       "    </tr>\n",
       "  </tbody>\n",
       "</table>\n",
       "</div>"
      ],
      "text/plain": [
       "     ID     BG        PI   RA\n",
       "0  11_0  134.0  0.000000  0.0\n",
       "1  11_0  125.0  0.000271  0.0\n",
       "2  11_0  132.0  0.001510  0.0\n",
       "3  11_0  132.0  0.003488  0.0\n",
       "4  11_0  132.0  0.006741  0.0"
      ]
     },
     "metadata": {},
     "output_type": "display_data"
    }
   ],
   "source": [
    "path_df = Path(\"data_processed.csv\")\n",
    "\n",
    "df = pd.read_csv(path_df)\n",
    "\n",
    "display(df.head())"
   ]
  },
  {
   "cell_type": "markdown",
   "id": "eea39e81",
   "metadata": {},
   "source": [
    "<h2 style=\"color:#4FC3F7; border-bottom:2px solid #4FC3F7; padding-bottom:4px;\">\n",
    "2. Split Patient Data for Train / Validation\n",
    "</h2>"
   ]
  },
  {
   "cell_type": "code",
   "execution_count": 7,
   "id": "fe64f829",
   "metadata": {},
   "outputs": [
    {
     "data": {
      "application/vnd.microsoft.datawrangler.viewer.v0+json": {
       "columns": [
        {
         "name": "index",
         "rawType": "int64",
         "type": "integer"
        },
        {
         "name": "ID",
         "rawType": "object",
         "type": "string"
        },
        {
         "name": "BG",
         "rawType": "float64",
         "type": "float"
        },
        {
         "name": "PI",
         "rawType": "float64",
         "type": "float"
        },
        {
         "name": "RA",
         "rawType": "float64",
         "type": "float"
        }
       ],
       "ref": "3905997b-5af1-4b71-813e-950b84d93bf3",
       "rows": [
        [
         "1649",
         "290_0",
         "166.0",
         "1.851760048270232",
         "0.2313350244837983"
        ],
        [
         "1465",
         "290_0",
         "63.0",
         "0.8340736511777695",
         "0.0188898822644347"
        ],
        [
         "361",
         "11_0",
         "109.0",
         "0.4361160218404329",
         "1.1321409293179783e-06"
        ],
        [
         "315",
         "11_0",
         "93.0",
         "0.2757205817901302",
         "0.0002462779770017"
        ],
        [
         "1372",
         "290_0",
         "131.0",
         "0.8554756997795054",
         "0.0320813570202882"
        ]
       ],
       "shape": {
        "columns": 4,
        "rows": 5
       }
      },
      "text/html": [
       "<div>\n",
       "<style scoped>\n",
       "    .dataframe tbody tr th:only-of-type {\n",
       "        vertical-align: middle;\n",
       "    }\n",
       "\n",
       "    .dataframe tbody tr th {\n",
       "        vertical-align: top;\n",
       "    }\n",
       "\n",
       "    .dataframe thead th {\n",
       "        text-align: right;\n",
       "    }\n",
       "</style>\n",
       "<table border=\"1\" class=\"dataframe\">\n",
       "  <thead>\n",
       "    <tr style=\"text-align: right;\">\n",
       "      <th></th>\n",
       "      <th>ID</th>\n",
       "      <th>BG</th>\n",
       "      <th>PI</th>\n",
       "      <th>RA</th>\n",
       "    </tr>\n",
       "  </thead>\n",
       "  <tbody>\n",
       "    <tr>\n",
       "      <th>1649</th>\n",
       "      <td>290_0</td>\n",
       "      <td>166.0</td>\n",
       "      <td>1.851760</td>\n",
       "      <td>0.231335</td>\n",
       "    </tr>\n",
       "    <tr>\n",
       "      <th>1465</th>\n",
       "      <td>290_0</td>\n",
       "      <td>63.0</td>\n",
       "      <td>0.834074</td>\n",
       "      <td>0.018890</td>\n",
       "    </tr>\n",
       "    <tr>\n",
       "      <th>361</th>\n",
       "      <td>11_0</td>\n",
       "      <td>109.0</td>\n",
       "      <td>0.436116</td>\n",
       "      <td>0.000001</td>\n",
       "    </tr>\n",
       "    <tr>\n",
       "      <th>315</th>\n",
       "      <td>11_0</td>\n",
       "      <td>93.0</td>\n",
       "      <td>0.275721</td>\n",
       "      <td>0.000246</td>\n",
       "    </tr>\n",
       "    <tr>\n",
       "      <th>1372</th>\n",
       "      <td>290_0</td>\n",
       "      <td>131.0</td>\n",
       "      <td>0.855476</td>\n",
       "      <td>0.032081</td>\n",
       "    </tr>\n",
       "  </tbody>\n",
       "</table>\n",
       "</div>"
      ],
      "text/plain": [
       "         ID     BG        PI        RA\n",
       "1649  290_0  166.0  1.851760  0.231335\n",
       "1465  290_0   63.0  0.834074  0.018890\n",
       "361    11_0  109.0  0.436116  0.000001\n",
       "315    11_0   93.0  0.275721  0.000246\n",
       "1372  290_0  131.0  0.855476  0.032081"
      ]
     },
     "metadata": {},
     "output_type": "display_data"
    },
    {
     "name": "stdout",
     "output_type": "stream",
     "text": [
      "Train shape: (1382, 4)\n",
      "Validation shape: (346, 4)\n"
     ]
    }
   ],
   "source": [
    "split_size = 0.2\n",
    "df_train, df_val = train_test_split(df, test_size=split_size, random_state=0, shuffle=True)\n",
    "\n",
    "display(df_train.head())\n",
    "print(\"Train shape:\", df_train.shape)\n",
    "print(\"Validation shape:\", df_val.shape)"
   ]
  },
  {
   "cell_type": "code",
   "execution_count": 8,
   "id": "8e5e5f5e",
   "metadata": {},
   "outputs": [],
   "source": [
    "def manual_minmax_scaling(data: np.ndarray, scaler_range: tuple) -> tuple[np.ndarray, float, float]:\n",
    "    \"\"\"\n",
    "    Perform manual min-max scaling on the data.\n",
    "\n",
    "    Args:\n",
    "        data (np.ndarray): Data to scale.\n",
    "    Returns:\n",
    "        Tuple[np.ndarray, float, float]: Scaled data, minimum value, and maximum value.\n",
    "    \"\"\"\n",
    "    lower_bound = scaler_range[0]\n",
    "    upper_bound = scaler_range[1]\n",
    "    min_val = np.min(data)\n",
    "    max_val = np.max(data)\n",
    "    scaled_data = lower_bound + (upper_bound - lower_bound) * (data - min_val) / (max_val - min_val)\n",
    "\n",
    "    return scaled_data, min_val, max_val\n",
    "\n",
    "def individual_min_max_scaling(\n",
    "    df: pd.DataFrame, base_output_dir: Path, scaler_range: tuple, gan_inputs: list\n",
    ") -> pd.DataFrame:\n",
    "    \"\"\"\n",
    "    Perform individual min-max scaling on the dataframe columns.\n",
    "    Scale all three columns the same way and save only the scalers for 'BG'.\n",
    "\n",
    "    Args:\n",
    "        df (pd.DataFrame): Dataframe to scale.\n",
    "        base_output_dir (Path): Directory to save the scalers.\n",
    "    Returns:\n",
    "        pd.DataFrame: Scaled dataframe.\n",
    "    \"\"\"\n",
    "    scalers: dict[str, list[float]] = {'BG_min': [], 'BG_max': []}\n",
    "    scaled_dfs: list[pd.DataFrame] = []\n",
    "\n",
    "    for column in gan_inputs:\n",
    "        if column not in ['BG', 'IG']:\n",
    "            df[f'sc{column}'], _, _ = manual_minmax_scaling(df[column], scaler_range)\n",
    "\n",
    "    df['scBG'], min_val, max_val = (manual_minmax_scaling(df['BG'], scaler_range))\n",
    "\n",
    "    scalers['BG_min'].append(min_val)\n",
    "    scalers['BG_max'].append(max_val)\n",
    "\n",
    "    scaled_dfs.append(df)\n",
    "\n",
    "    scaled_df = pd.concat(scaled_dfs, ignore_index=True)\n",
    "    scaled_df = scaled_df.sort_values(by=['ID', 'iteration']).reset_index(drop=True)\n",
    "\n",
    "    save_scalers(pd.DataFrame(scalers), base_output_dir)\n",
    "\n",
    "    return scaled_df\n",
    "\n",
    "def save_scalers(scalers_df: pd.DataFrame, base_output_dir: Path) -> None:\n",
    "    \"\"\"\n",
    "    Save the scalers to a file.\n",
    "\n",
    "    Args:\n",
    "        scalers (Dict[str, List[float]]): Dictionary containing the scalers.\n",
    "        base_output_dir (Path): Directory to save the scalers.\n",
    "    \"\"\"\n",
    "    scalers_file: Path = Path(base_output_dir, 'bg_scalers.joblib')\n",
    "    joblib.dump(scalers_df, scalers_file)"
   ]
  },
  {
   "cell_type": "code",
   "execution_count": 9,
   "id": "a50a2c45",
   "metadata": {},
   "outputs": [
    {
     "data": {
      "application/vnd.microsoft.datawrangler.viewer.v0+json": {
       "columns": [
        {
         "name": "index",
         "rawType": "int64",
         "type": "integer"
        },
        {
         "name": "ID",
         "rawType": "object",
         "type": "string"
        },
        {
         "name": "BG",
         "rawType": "float64",
         "type": "float"
        },
        {
         "name": "PI",
         "rawType": "float64",
         "type": "float"
        },
        {
         "name": "RA",
         "rawType": "float64",
         "type": "float"
        },
        {
         "name": "iteration",
         "rawType": "int64",
         "type": "integer"
        },
        {
         "name": "scRA",
         "rawType": "float64",
         "type": "float"
        },
        {
         "name": "scPI",
         "rawType": "float64",
         "type": "float"
        },
        {
         "name": "scBG",
         "rawType": "float64",
         "type": "float"
        }
       ],
       "ref": "31513f9d-7baa-4683-927c-219f5bc3f25a",
       "rows": [
        [
         "0",
         "11_0",
         "134.0",
         "0.0",
         "0.0",
         "0",
         "0.0",
         "0.0",
         "0.376984126984127"
        ],
        [
         "1",
         "11_0",
         "125.0",
         "0.0002712096011543",
         "0.0",
         "1",
         "0.0",
         "9.741871983127372e-05",
         "0.3412698412698413"
        ],
        [
         "2",
         "11_0",
         "132.0",
         "0.0015104744754281",
         "0.0",
         "2",
         "0.0",
         "0.0005425637186432151",
         "0.36904761904761907"
        ],
        [
         "3",
         "11_0",
         "132.0",
         "0.0034881639011847",
         "0.0",
         "3",
         "0.0",
         "0.0012529514455564743",
         "0.36904761904761907"
        ],
        [
         "4",
         "11_0",
         "132.0",
         "0.0067405298863417",
         "0.0",
         "4",
         "0.0",
         "0.002421204078753309",
         "0.36904761904761907"
        ],
        [
         "5",
         "11_0",
         "131.0",
         "0.0129393365033178",
         "0.0",
         "5",
         "0.0",
         "0.004647820697550199",
         "0.36507936507936506"
        ],
        [
         "6",
         "11_0",
         "134.0",
         "0.0256317404356903",
         "0.0",
         "6",
         "0.0",
         "0.00920694300520656",
         "0.376984126984127"
        ],
        [
         "7",
         "11_0",
         "135.0",
         "0.0420716578881606",
         "0.0",
         "7",
         "0.0",
         "0.015112175362523784",
         "0.38095238095238093"
        ],
        [
         "8",
         "11_0",
         "130.0",
         "0.0616813911615503",
         "0.0",
         "8",
         "0.0",
         "0.022156008263703023",
         "0.3611111111111111"
        ],
        [
         "9",
         "11_0",
         "128.0",
         "0.0880397676932727",
         "0.0",
         "9",
         "0.0",
         "0.03162395957376811",
         "0.3531746031746032"
        ],
        [
         "10",
         "11_0",
         "116.0",
         "0.11713408565567",
         "0.0",
         "10",
         "0.0",
         "0.04207466337701671",
         "0.3055555555555556"
        ],
        [
         "11",
         "11_0",
         "108.0",
         "0.1457365178565112",
         "0.0",
         "11",
         "0.0",
         "0.052348681395580396",
         "0.27380952380952384"
        ],
        [
         "12",
         "11_0",
         "111.0",
         "0.1721609600760216",
         "0.0",
         "12",
         "0.0",
         "0.06184036355699325",
         "0.2857142857142857"
        ],
        [
         "13",
         "11_0",
         "111.0",
         "0.195183606709018",
         "0.0",
         "13",
         "0.0",
         "0.07011011784507344",
         "0.2857142857142857"
        ],
        [
         "14",
         "11_0",
         "106.0",
         "0.2152044952170755",
         "0.0",
         "14",
         "0.0",
         "0.07730163805688914",
         "0.26587301587301587"
        ],
        [
         "15",
         "11_0",
         "97.0",
         "0.2327511224965241",
         "0.0",
         "15",
         "0.0",
         "0.08360440152708012",
         "0.23015873015873015"
        ],
        [
         "16",
         "11_0",
         "96.0",
         "0.2479212219657367",
         "0.0",
         "16",
         "0.0",
         "0.0890535141828042",
         "0.2261904761904762"
        ],
        [
         "17",
         "11_0",
         "96.0",
         "0.2600253283846003",
         "0.0",
         "17",
         "0.0",
         "0.09340131952232214",
         "0.2261904761904762"
        ],
        [
         "18",
         "11_0",
         "97.0",
         "0.2688197692789591",
         "0.0",
         "18",
         "0.0",
         "0.09656029018528481",
         "0.23015873015873015"
        ],
        [
         "19",
         "11_0",
         "99.0",
         "0.2747275106684613",
         "0.0",
         "19",
         "0.0",
         "0.0986823559263575",
         "0.23809523809523808"
        ],
        [
         "20",
         "11_0",
         "99.0",
         "0.2790324947786901",
         "0.0",
         "20",
         "0.0",
         "0.10022870988701195",
         "0.23809523809523808"
        ],
        [
         "21",
         "11_0",
         "99.0",
         "0.282569792300377",
         "0.0",
         "21",
         "0.0",
         "0.10149931017091939",
         "0.23809523809523808"
        ],
        [
         "22",
         "11_0",
         "98.0",
         "0.2857418307251193",
         "0.0",
         "22",
         "0.0",
         "0.10263870907596845",
         "0.23412698412698413"
        ],
        [
         "23",
         "11_0",
         "96.0",
         "0.2887366093919735",
         "0.0",
         "23",
         "0.0",
         "0.10371443612494177",
         "0.2261904761904762"
        ],
        [
         "24",
         "11_0",
         "94.0",
         "0.2916368386444795",
         "0.0",
         "24",
         "0.0",
         "0.10475620094371602",
         "0.21825396825396826"
        ],
        [
         "25",
         "11_0",
         "92.0",
         "0.2944743785811463",
         "0.0",
         "25",
         "0.0",
         "0.10577544770682351",
         "0.21031746031746032"
        ],
        [
         "26",
         "11_0",
         "91.0",
         "0.297257307335097",
         "0.0",
         "26",
         "0.0",
         "0.10677507808656539",
         "0.20634920634920634"
        ],
        [
         "27",
         "11_0",
         "83.0",
         "0.2999832652270709",
         "0.0",
         "27",
         "0.0",
         "0.10775424448414057",
         "0.1746031746031746"
        ],
        [
         "28",
         "11_0",
         "83.0",
         "0.3023747080486635",
         "0.0",
         "28",
         "0.0",
         "0.10861325278339579",
         "0.1746031746031746"
        ],
        [
         "29",
         "11_0",
         "83.0",
         "0.3034564432537028",
         "0.0",
         "29",
         "0.0",
         "0.10900181299078827",
         "0.1746031746031746"
        ],
        [
         "30",
         "11_0",
         "85.0",
         "0.3027545608533974",
         "0.0",
         "30",
         "0.0",
         "0.10874969623452731",
         "0.18253968253968253"
        ],
        [
         "31",
         "11_0",
         "85.0",
         "0.3004992996600449",
         "0.0",
         "31",
         "0.0",
         "0.10793960449217577",
         "0.18253968253968253"
        ],
        [
         "32",
         "11_0",
         "85.0",
         "0.297809175289697",
         "0.0",
         "32",
         "0.0",
         "0.10697330952610228",
         "0.18253968253968253"
        ],
        [
         "33",
         "11_0",
         "85.0",
         "0.2953752311127746",
         "0.0",
         "33",
         "0.0",
         "0.10609903470379733",
         "0.18253968253968253"
        ],
        [
         "34",
         "11_0",
         "83.0",
         "0.2934733840096654",
         "0.0",
         "34",
         "0.0",
         "0.10541588960380398",
         "0.1746031746031746"
        ],
        [
         "35",
         "11_0",
         "79.0",
         "0.2921800975434548",
         "0.0",
         "35",
         "0.0",
         "0.10495134000313676",
         "0.15873015873015872"
        ],
        [
         "36",
         "11_0",
         "80.0",
         "0.2912082794731045",
         "0.0",
         "36",
         "0.0",
         "0.10460226212418453",
         "0.1626984126984127"
        ],
        [
         "37",
         "11_0",
         "78.0",
         "0.2897669413906263",
         "0.0",
         "37",
         "0.0",
         "0.10408453225679976",
         "0.15476190476190477"
        ],
        [
         "38",
         "11_0",
         "75.0",
         "0.2879171080404102",
         "0.0",
         "38",
         "0.0",
         "0.10342007054116631",
         "0.14285714285714285"
        ],
        [
         "39",
         "11_0",
         "72.0",
         "0.285123442102573",
         "0.0",
         "39",
         "0.0",
         "0.10241658335582328",
         "0.13095238095238096"
        ],
        [
         "40",
         "11_0",
         "67.0",
         "0.2811039905671352",
         "0.0",
         "40",
         "0.0",
         "0.10097279293933496",
         "0.1111111111111111"
        ],
        [
         "41",
         "11_0",
         "65.0",
         "0.2758621767096516",
         "0.0",
         "41",
         "0.0",
         "0.0990899289351976",
         "0.10317460317460317"
        ],
        [
         "42",
         "11_0",
         "61.0",
         "0.2695250808438544",
         "0.0",
         "42",
         "0.0",
         "0.09681363870038844",
         "0.0873015873015873"
        ],
        [
         "43",
         "11_0",
         "58.0",
         "0.2622646020542782",
         "0.0",
         "43",
         "0.0",
         "0.09420566853254685",
         "0.07539682539682539"
        ],
        [
         "44",
         "11_0",
         "59.0",
         "0.2542599529580946",
         "0.0",
         "44",
         "0.0",
         "0.09133039175646726",
         "0.07936507936507936"
        ],
        [
         "45",
         "11_0",
         "59.0",
         "0.2459131757104715",
         "0.0",
         "45",
         "0.0",
         "0.08833222225686452",
         "0.07936507936507936"
        ],
        [
         "46",
         "11_0",
         "61.0",
         "0.2382070125067065",
         "0.0",
         "46",
         "0.0",
         "0.08556416186768036",
         "0.0873015873015873"
        ],
        [
         "47",
         "11_0",
         "65.0",
         "0.2316763268260501",
         "0.0",
         "47",
         "0.0",
         "0.08321833400641665",
         "0.10317460317460317"
        ],
        [
         "48",
         "11_0",
         "74.0",
         "0.2264675269254932",
         "0.0",
         "48",
         "0.0",
         "0.08134732864373842",
         "0.1388888888888889"
        ],
        [
         "49",
         "11_0",
         "78.0",
         "0.2225469030392998",
         "0.0",
         "49",
         "0.0",
         "0.07993903720306934",
         "0.15476190476190477"
        ]
       ],
       "shape": {
        "columns": 8,
        "rows": 1728
       }
      },
      "text/html": [
       "<div>\n",
       "<style scoped>\n",
       "    .dataframe tbody tr th:only-of-type {\n",
       "        vertical-align: middle;\n",
       "    }\n",
       "\n",
       "    .dataframe tbody tr th {\n",
       "        vertical-align: top;\n",
       "    }\n",
       "\n",
       "    .dataframe thead th {\n",
       "        text-align: right;\n",
       "    }\n",
       "</style>\n",
       "<table border=\"1\" class=\"dataframe\">\n",
       "  <thead>\n",
       "    <tr style=\"text-align: right;\">\n",
       "      <th></th>\n",
       "      <th>ID</th>\n",
       "      <th>BG</th>\n",
       "      <th>PI</th>\n",
       "      <th>RA</th>\n",
       "      <th>iteration</th>\n",
       "      <th>scRA</th>\n",
       "      <th>scPI</th>\n",
       "      <th>scBG</th>\n",
       "    </tr>\n",
       "  </thead>\n",
       "  <tbody>\n",
       "    <tr>\n",
       "      <th>0</th>\n",
       "      <td>11_0</td>\n",
       "      <td>134.0</td>\n",
       "      <td>0.000000</td>\n",
       "      <td>0.000000</td>\n",
       "      <td>0</td>\n",
       "      <td>0.000000</td>\n",
       "      <td>0.000000</td>\n",
       "      <td>0.376984</td>\n",
       "    </tr>\n",
       "    <tr>\n",
       "      <th>1</th>\n",
       "      <td>11_0</td>\n",
       "      <td>125.0</td>\n",
       "      <td>0.000271</td>\n",
       "      <td>0.000000</td>\n",
       "      <td>1</td>\n",
       "      <td>0.000000</td>\n",
       "      <td>0.000097</td>\n",
       "      <td>0.341270</td>\n",
       "    </tr>\n",
       "    <tr>\n",
       "      <th>2</th>\n",
       "      <td>11_0</td>\n",
       "      <td>132.0</td>\n",
       "      <td>0.001510</td>\n",
       "      <td>0.000000</td>\n",
       "      <td>2</td>\n",
       "      <td>0.000000</td>\n",
       "      <td>0.000543</td>\n",
       "      <td>0.369048</td>\n",
       "    </tr>\n",
       "    <tr>\n",
       "      <th>3</th>\n",
       "      <td>11_0</td>\n",
       "      <td>132.0</td>\n",
       "      <td>0.003488</td>\n",
       "      <td>0.000000</td>\n",
       "      <td>3</td>\n",
       "      <td>0.000000</td>\n",
       "      <td>0.001253</td>\n",
       "      <td>0.369048</td>\n",
       "    </tr>\n",
       "    <tr>\n",
       "      <th>4</th>\n",
       "      <td>11_0</td>\n",
       "      <td>132.0</td>\n",
       "      <td>0.006741</td>\n",
       "      <td>0.000000</td>\n",
       "      <td>4</td>\n",
       "      <td>0.000000</td>\n",
       "      <td>0.002421</td>\n",
       "      <td>0.369048</td>\n",
       "    </tr>\n",
       "    <tr>\n",
       "      <th>...</th>\n",
       "      <td>...</td>\n",
       "      <td>...</td>\n",
       "      <td>...</td>\n",
       "      <td>...</td>\n",
       "      <td>...</td>\n",
       "      <td>...</td>\n",
       "      <td>...</td>\n",
       "      <td>...</td>\n",
       "    </tr>\n",
       "    <tr>\n",
       "      <th>1723</th>\n",
       "      <td>290_0</td>\n",
       "      <td>70.0</td>\n",
       "      <td>1.402729</td>\n",
       "      <td>0.052132</td>\n",
       "      <td>859</td>\n",
       "      <td>0.010609</td>\n",
       "      <td>0.503862</td>\n",
       "      <td>0.123016</td>\n",
       "    </tr>\n",
       "    <tr>\n",
       "      <th>1724</th>\n",
       "      <td>290_0</td>\n",
       "      <td>69.0</td>\n",
       "      <td>1.373106</td>\n",
       "      <td>0.047064</td>\n",
       "      <td>860</td>\n",
       "      <td>0.009577</td>\n",
       "      <td>0.493221</td>\n",
       "      <td>0.119048</td>\n",
       "    </tr>\n",
       "    <tr>\n",
       "      <th>1725</th>\n",
       "      <td>290_0</td>\n",
       "      <td>69.0</td>\n",
       "      <td>1.344499</td>\n",
       "      <td>0.042466</td>\n",
       "      <td>861</td>\n",
       "      <td>0.008642</td>\n",
       "      <td>0.482945</td>\n",
       "      <td>0.119048</td>\n",
       "    </tr>\n",
       "    <tr>\n",
       "      <th>1726</th>\n",
       "      <td>290_0</td>\n",
       "      <td>69.0</td>\n",
       "      <td>1.316954</td>\n",
       "      <td>0.038300</td>\n",
       "      <td>862</td>\n",
       "      <td>0.007794</td>\n",
       "      <td>0.473051</td>\n",
       "      <td>0.119048</td>\n",
       "    </tr>\n",
       "    <tr>\n",
       "      <th>1727</th>\n",
       "      <td>290_0</td>\n",
       "      <td>67.0</td>\n",
       "      <td>1.290504</td>\n",
       "      <td>0.034526</td>\n",
       "      <td>863</td>\n",
       "      <td>0.007026</td>\n",
       "      <td>0.463550</td>\n",
       "      <td>0.111111</td>\n",
       "    </tr>\n",
       "  </tbody>\n",
       "</table>\n",
       "<p>1728 rows × 8 columns</p>\n",
       "</div>"
      ],
      "text/plain": [
       "         ID     BG        PI        RA  iteration      scRA      scPI  \\\n",
       "0      11_0  134.0  0.000000  0.000000          0  0.000000  0.000000   \n",
       "1      11_0  125.0  0.000271  0.000000          1  0.000000  0.000097   \n",
       "2      11_0  132.0  0.001510  0.000000          2  0.000000  0.000543   \n",
       "3      11_0  132.0  0.003488  0.000000          3  0.000000  0.001253   \n",
       "4      11_0  132.0  0.006741  0.000000          4  0.000000  0.002421   \n",
       "...     ...    ...       ...       ...        ...       ...       ...   \n",
       "1723  290_0   70.0  1.402729  0.052132        859  0.010609  0.503862   \n",
       "1724  290_0   69.0  1.373106  0.047064        860  0.009577  0.493221   \n",
       "1725  290_0   69.0  1.344499  0.042466        861  0.008642  0.482945   \n",
       "1726  290_0   69.0  1.316954  0.038300        862  0.007794  0.473051   \n",
       "1727  290_0   67.0  1.290504  0.034526        863  0.007026  0.463550   \n",
       "\n",
       "          scBG  \n",
       "0     0.376984  \n",
       "1     0.341270  \n",
       "2     0.369048  \n",
       "3     0.369048  \n",
       "4     0.369048  \n",
       "...        ...  \n",
       "1723  0.123016  \n",
       "1724  0.119048  \n",
       "1725  0.119048  \n",
       "1726  0.119048  \n",
       "1727  0.111111  \n",
       "\n",
       "[1728 rows x 8 columns]"
      ]
     },
     "execution_count": 9,
     "metadata": {},
     "output_type": "execute_result"
    }
   ],
   "source": [
    "df_scaled = df.copy(deep=True)\n",
    "\n",
    "df_scaled['iteration'] = df_scaled.groupby('ID').cumcount()\n",
    "df_scaled = individual_min_max_scaling(df_scaled, 'misc/', (0,1), ['BG', 'RA', 'PI'])\n",
    "# df_scaled.drop(columns=['PI', 'RA', 'iteration'], inplace=True)\n",
    "df_scaled"
   ]
  },
  {
   "cell_type": "code",
   "execution_count": 10,
   "id": "f3e3c679",
   "metadata": {},
   "outputs": [],
   "source": [
    "def pack_data(df) -> None:\n",
    "    \"\"\"\n",
    "    Pack the data into vectors for each feature (BG).\n",
    "\n",
    "    This method creates packed vectors for blood glucose (BG)\n",
    "    by sliding a window over the time series data. The packed data is then\n",
    "    stored in new columns in the DataFrame.\n",
    "    \"\"\"\n",
    "    df = df.fillna(0)  # Fill NaN values with 0\n",
    "\n",
    "    # Pack blood glucose data\n",
    "    packed_bg_vectors: np.ndarray = np.array(\n",
    "        [\n",
    "            df.iloc[i : i + 18]['scBG'].values\n",
    "            for i in tqdm(range(len(df) - (18 - 1)), desc='Packing BG')\n",
    "        ]\n",
    "    )\n",
    "\n",
    "    df = df.iloc[: len(packed_bg_vectors)]\n",
    "    df['scBG_packed'] = list(packed_bg_vectors)\n",
    "    df.reset_index(drop=True, inplace=True)\n",
    "    return df"
   ]
  },
  {
   "cell_type": "code",
   "execution_count": 11,
   "id": "12d3519f",
   "metadata": {},
   "outputs": [
    {
     "name": "stderr",
     "output_type": "stream",
     "text": [
      "Packing BG: 100%|██████████| 1711/1711 [00:00<00:00, 50505.69it/s]\n"
     ]
    },
    {
     "data": {
      "application/vnd.microsoft.datawrangler.viewer.v0+json": {
       "columns": [
        {
         "name": "index",
         "rawType": "int64",
         "type": "integer"
        },
        {
         "name": "ID",
         "rawType": "object",
         "type": "string"
        },
        {
         "name": "BG",
         "rawType": "float64",
         "type": "float"
        },
        {
         "name": "PI",
         "rawType": "float64",
         "type": "float"
        },
        {
         "name": "RA",
         "rawType": "float64",
         "type": "float"
        },
        {
         "name": "iteration",
         "rawType": "int64",
         "type": "integer"
        },
        {
         "name": "scRA",
         "rawType": "float64",
         "type": "float"
        },
        {
         "name": "scPI",
         "rawType": "float64",
         "type": "float"
        },
        {
         "name": "scBG",
         "rawType": "float64",
         "type": "float"
        },
        {
         "name": "scBG_packed",
         "rawType": "object",
         "type": "unknown"
        }
       ],
       "ref": "abd29201-26bd-4e68-a3f1-dde0847ccf4e",
       "rows": [
        [
         "0",
         "11_0",
         "134.0",
         "0.0",
         "0.0",
         "0",
         "0.0",
         "0.0",
         "0.376984126984127",
         "[0.37698413 0.34126984 0.36904762 0.36904762 0.36904762 0.36507937\n 0.37698413 0.38095238 0.36111111 0.3531746  0.30555556 0.27380952\n 0.28571429 0.28571429 0.26587302 0.23015873 0.22619048 0.22619048]"
        ],
        [
         "1",
         "11_0",
         "125.0",
         "0.0002712096011543",
         "0.0",
         "1",
         "0.0",
         "9.741871983127372e-05",
         "0.3412698412698413",
         "[0.34126984 0.36904762 0.36904762 0.36904762 0.36507937 0.37698413\n 0.38095238 0.36111111 0.3531746  0.30555556 0.27380952 0.28571429\n 0.28571429 0.26587302 0.23015873 0.22619048 0.22619048 0.23015873]"
        ],
        [
         "2",
         "11_0",
         "132.0",
         "0.0015104744754281",
         "0.0",
         "2",
         "0.0",
         "0.0005425637186432151",
         "0.36904761904761907",
         "[0.36904762 0.36904762 0.36904762 0.36507937 0.37698413 0.38095238\n 0.36111111 0.3531746  0.30555556 0.27380952 0.28571429 0.28571429\n 0.26587302 0.23015873 0.22619048 0.22619048 0.23015873 0.23809524]"
        ],
        [
         "3",
         "11_0",
         "132.0",
         "0.0034881639011847",
         "0.0",
         "3",
         "0.0",
         "0.0012529514455564743",
         "0.36904761904761907",
         "[0.36904762 0.36904762 0.36507937 0.37698413 0.38095238 0.36111111\n 0.3531746  0.30555556 0.27380952 0.28571429 0.28571429 0.26587302\n 0.23015873 0.22619048 0.22619048 0.23015873 0.23809524 0.23809524]"
        ],
        [
         "4",
         "11_0",
         "132.0",
         "0.0067405298863417",
         "0.0",
         "4",
         "0.0",
         "0.002421204078753309",
         "0.36904761904761907",
         "[0.36904762 0.36507937 0.37698413 0.38095238 0.36111111 0.3531746\n 0.30555556 0.27380952 0.28571429 0.28571429 0.26587302 0.23015873\n 0.22619048 0.22619048 0.23015873 0.23809524 0.23809524 0.23809524]"
        ],
        [
         "5",
         "11_0",
         "131.0",
         "0.0129393365033178",
         "0.0",
         "5",
         "0.0",
         "0.004647820697550199",
         "0.36507936507936506",
         "[0.36507937 0.37698413 0.38095238 0.36111111 0.3531746  0.30555556\n 0.27380952 0.28571429 0.28571429 0.26587302 0.23015873 0.22619048\n 0.22619048 0.23015873 0.23809524 0.23809524 0.23809524 0.23412698]"
        ],
        [
         "6",
         "11_0",
         "134.0",
         "0.0256317404356903",
         "0.0",
         "6",
         "0.0",
         "0.00920694300520656",
         "0.376984126984127",
         "[0.37698413 0.38095238 0.36111111 0.3531746  0.30555556 0.27380952\n 0.28571429 0.28571429 0.26587302 0.23015873 0.22619048 0.22619048\n 0.23015873 0.23809524 0.23809524 0.23809524 0.23412698 0.22619048]"
        ],
        [
         "7",
         "11_0",
         "135.0",
         "0.0420716578881606",
         "0.0",
         "7",
         "0.0",
         "0.015112175362523784",
         "0.38095238095238093",
         "[0.38095238 0.36111111 0.3531746  0.30555556 0.27380952 0.28571429\n 0.28571429 0.26587302 0.23015873 0.22619048 0.22619048 0.23015873\n 0.23809524 0.23809524 0.23809524 0.23412698 0.22619048 0.21825397]"
        ],
        [
         "8",
         "11_0",
         "130.0",
         "0.0616813911615503",
         "0.0",
         "8",
         "0.0",
         "0.022156008263703023",
         "0.3611111111111111",
         "[0.36111111 0.3531746  0.30555556 0.27380952 0.28571429 0.28571429\n 0.26587302 0.23015873 0.22619048 0.22619048 0.23015873 0.23809524\n 0.23809524 0.23809524 0.23412698 0.22619048 0.21825397 0.21031746]"
        ],
        [
         "9",
         "11_0",
         "128.0",
         "0.0880397676932727",
         "0.0",
         "9",
         "0.0",
         "0.03162395957376811",
         "0.3531746031746032",
         "[0.3531746  0.30555556 0.27380952 0.28571429 0.28571429 0.26587302\n 0.23015873 0.22619048 0.22619048 0.23015873 0.23809524 0.23809524\n 0.23809524 0.23412698 0.22619048 0.21825397 0.21031746 0.20634921]"
        ],
        [
         "10",
         "11_0",
         "116.0",
         "0.11713408565567",
         "0.0",
         "10",
         "0.0",
         "0.04207466337701671",
         "0.3055555555555556",
         "[0.30555556 0.27380952 0.28571429 0.28571429 0.26587302 0.23015873\n 0.22619048 0.22619048 0.23015873 0.23809524 0.23809524 0.23809524\n 0.23412698 0.22619048 0.21825397 0.21031746 0.20634921 0.17460317]"
        ],
        [
         "11",
         "11_0",
         "108.0",
         "0.1457365178565112",
         "0.0",
         "11",
         "0.0",
         "0.052348681395580396",
         "0.27380952380952384",
         "[0.27380952 0.28571429 0.28571429 0.26587302 0.23015873 0.22619048\n 0.22619048 0.23015873 0.23809524 0.23809524 0.23809524 0.23412698\n 0.22619048 0.21825397 0.21031746 0.20634921 0.17460317 0.17460317]"
        ],
        [
         "12",
         "11_0",
         "111.0",
         "0.1721609600760216",
         "0.0",
         "12",
         "0.0",
         "0.06184036355699325",
         "0.2857142857142857",
         "[0.28571429 0.28571429 0.26587302 0.23015873 0.22619048 0.22619048\n 0.23015873 0.23809524 0.23809524 0.23809524 0.23412698 0.22619048\n 0.21825397 0.21031746 0.20634921 0.17460317 0.17460317 0.17460317]"
        ],
        [
         "13",
         "11_0",
         "111.0",
         "0.195183606709018",
         "0.0",
         "13",
         "0.0",
         "0.07011011784507344",
         "0.2857142857142857",
         "[0.28571429 0.26587302 0.23015873 0.22619048 0.22619048 0.23015873\n 0.23809524 0.23809524 0.23809524 0.23412698 0.22619048 0.21825397\n 0.21031746 0.20634921 0.17460317 0.17460317 0.17460317 0.18253968]"
        ],
        [
         "14",
         "11_0",
         "106.0",
         "0.2152044952170755",
         "0.0",
         "14",
         "0.0",
         "0.07730163805688914",
         "0.26587301587301587",
         "[0.26587302 0.23015873 0.22619048 0.22619048 0.23015873 0.23809524\n 0.23809524 0.23809524 0.23412698 0.22619048 0.21825397 0.21031746\n 0.20634921 0.17460317 0.17460317 0.17460317 0.18253968 0.18253968]"
        ],
        [
         "15",
         "11_0",
         "97.0",
         "0.2327511224965241",
         "0.0",
         "15",
         "0.0",
         "0.08360440152708012",
         "0.23015873015873015",
         "[0.23015873 0.22619048 0.22619048 0.23015873 0.23809524 0.23809524\n 0.23809524 0.23412698 0.22619048 0.21825397 0.21031746 0.20634921\n 0.17460317 0.17460317 0.17460317 0.18253968 0.18253968 0.18253968]"
        ],
        [
         "16",
         "11_0",
         "96.0",
         "0.2479212219657367",
         "0.0",
         "16",
         "0.0",
         "0.0890535141828042",
         "0.2261904761904762",
         "[0.22619048 0.22619048 0.23015873 0.23809524 0.23809524 0.23809524\n 0.23412698 0.22619048 0.21825397 0.21031746 0.20634921 0.17460317\n 0.17460317 0.17460317 0.18253968 0.18253968 0.18253968 0.18253968]"
        ],
        [
         "17",
         "11_0",
         "96.0",
         "0.2600253283846003",
         "0.0",
         "17",
         "0.0",
         "0.09340131952232214",
         "0.2261904761904762",
         "[0.22619048 0.23015873 0.23809524 0.23809524 0.23809524 0.23412698\n 0.22619048 0.21825397 0.21031746 0.20634921 0.17460317 0.17460317\n 0.17460317 0.18253968 0.18253968 0.18253968 0.18253968 0.17460317]"
        ],
        [
         "18",
         "11_0",
         "97.0",
         "0.2688197692789591",
         "0.0",
         "18",
         "0.0",
         "0.09656029018528481",
         "0.23015873015873015",
         "[0.23015873 0.23809524 0.23809524 0.23809524 0.23412698 0.22619048\n 0.21825397 0.21031746 0.20634921 0.17460317 0.17460317 0.17460317\n 0.18253968 0.18253968 0.18253968 0.18253968 0.17460317 0.15873016]"
        ],
        [
         "19",
         "11_0",
         "99.0",
         "0.2747275106684613",
         "0.0",
         "19",
         "0.0",
         "0.0986823559263575",
         "0.23809523809523808",
         "[0.23809524 0.23809524 0.23809524 0.23412698 0.22619048 0.21825397\n 0.21031746 0.20634921 0.17460317 0.17460317 0.17460317 0.18253968\n 0.18253968 0.18253968 0.18253968 0.17460317 0.15873016 0.16269841]"
        ],
        [
         "20",
         "11_0",
         "99.0",
         "0.2790324947786901",
         "0.0",
         "20",
         "0.0",
         "0.10022870988701195",
         "0.23809523809523808",
         "[0.23809524 0.23809524 0.23412698 0.22619048 0.21825397 0.21031746\n 0.20634921 0.17460317 0.17460317 0.17460317 0.18253968 0.18253968\n 0.18253968 0.18253968 0.17460317 0.15873016 0.16269841 0.1547619 ]"
        ],
        [
         "21",
         "11_0",
         "99.0",
         "0.282569792300377",
         "0.0",
         "21",
         "0.0",
         "0.10149931017091939",
         "0.23809523809523808",
         "[0.23809524 0.23412698 0.22619048 0.21825397 0.21031746 0.20634921\n 0.17460317 0.17460317 0.17460317 0.18253968 0.18253968 0.18253968\n 0.18253968 0.17460317 0.15873016 0.16269841 0.1547619  0.14285714]"
        ],
        [
         "22",
         "11_0",
         "98.0",
         "0.2857418307251193",
         "0.0",
         "22",
         "0.0",
         "0.10263870907596845",
         "0.23412698412698413",
         "[0.23412698 0.22619048 0.21825397 0.21031746 0.20634921 0.17460317\n 0.17460317 0.17460317 0.18253968 0.18253968 0.18253968 0.18253968\n 0.17460317 0.15873016 0.16269841 0.1547619  0.14285714 0.13095238]"
        ],
        [
         "23",
         "11_0",
         "96.0",
         "0.2887366093919735",
         "0.0",
         "23",
         "0.0",
         "0.10371443612494177",
         "0.2261904761904762",
         "[0.22619048 0.21825397 0.21031746 0.20634921 0.17460317 0.17460317\n 0.17460317 0.18253968 0.18253968 0.18253968 0.18253968 0.17460317\n 0.15873016 0.16269841 0.1547619  0.14285714 0.13095238 0.11111111]"
        ],
        [
         "24",
         "11_0",
         "94.0",
         "0.2916368386444795",
         "0.0",
         "24",
         "0.0",
         "0.10475620094371602",
         "0.21825396825396826",
         "[0.21825397 0.21031746 0.20634921 0.17460317 0.17460317 0.17460317\n 0.18253968 0.18253968 0.18253968 0.18253968 0.17460317 0.15873016\n 0.16269841 0.1547619  0.14285714 0.13095238 0.11111111 0.1031746 ]"
        ],
        [
         "25",
         "11_0",
         "92.0",
         "0.2944743785811463",
         "0.0",
         "25",
         "0.0",
         "0.10577544770682351",
         "0.21031746031746032",
         "[0.21031746 0.20634921 0.17460317 0.17460317 0.17460317 0.18253968\n 0.18253968 0.18253968 0.18253968 0.17460317 0.15873016 0.16269841\n 0.1547619  0.14285714 0.13095238 0.11111111 0.1031746  0.08730159]"
        ],
        [
         "26",
         "11_0",
         "91.0",
         "0.297257307335097",
         "0.0",
         "26",
         "0.0",
         "0.10677507808656539",
         "0.20634920634920634",
         "[0.20634921 0.17460317 0.17460317 0.17460317 0.18253968 0.18253968\n 0.18253968 0.18253968 0.17460317 0.15873016 0.16269841 0.1547619\n 0.14285714 0.13095238 0.11111111 0.1031746  0.08730159 0.07539683]"
        ],
        [
         "27",
         "11_0",
         "83.0",
         "0.2999832652270709",
         "0.0",
         "27",
         "0.0",
         "0.10775424448414057",
         "0.1746031746031746",
         "[0.17460317 0.17460317 0.17460317 0.18253968 0.18253968 0.18253968\n 0.18253968 0.17460317 0.15873016 0.16269841 0.1547619  0.14285714\n 0.13095238 0.11111111 0.1031746  0.08730159 0.07539683 0.07936508]"
        ],
        [
         "28",
         "11_0",
         "83.0",
         "0.3023747080486635",
         "0.0",
         "28",
         "0.0",
         "0.10861325278339579",
         "0.1746031746031746",
         "[0.17460317 0.17460317 0.18253968 0.18253968 0.18253968 0.18253968\n 0.17460317 0.15873016 0.16269841 0.1547619  0.14285714 0.13095238\n 0.11111111 0.1031746  0.08730159 0.07539683 0.07936508 0.07936508]"
        ],
        [
         "29",
         "11_0",
         "83.0",
         "0.3034564432537028",
         "0.0",
         "29",
         "0.0",
         "0.10900181299078827",
         "0.1746031746031746",
         "[0.17460317 0.18253968 0.18253968 0.18253968 0.18253968 0.17460317\n 0.15873016 0.16269841 0.1547619  0.14285714 0.13095238 0.11111111\n 0.1031746  0.08730159 0.07539683 0.07936508 0.07936508 0.08730159]"
        ],
        [
         "30",
         "11_0",
         "85.0",
         "0.3027545608533974",
         "0.0",
         "30",
         "0.0",
         "0.10874969623452731",
         "0.18253968253968253",
         "[0.18253968 0.18253968 0.18253968 0.18253968 0.17460317 0.15873016\n 0.16269841 0.1547619  0.14285714 0.13095238 0.11111111 0.1031746\n 0.08730159 0.07539683 0.07936508 0.07936508 0.08730159 0.1031746 ]"
        ],
        [
         "31",
         "11_0",
         "85.0",
         "0.3004992996600449",
         "0.0",
         "31",
         "0.0",
         "0.10793960449217577",
         "0.18253968253968253",
         "[0.18253968 0.18253968 0.18253968 0.17460317 0.15873016 0.16269841\n 0.1547619  0.14285714 0.13095238 0.11111111 0.1031746  0.08730159\n 0.07539683 0.07936508 0.07936508 0.08730159 0.1031746  0.13888889]"
        ],
        [
         "32",
         "11_0",
         "85.0",
         "0.297809175289697",
         "0.0",
         "32",
         "0.0",
         "0.10697330952610228",
         "0.18253968253968253",
         "[0.18253968 0.18253968 0.17460317 0.15873016 0.16269841 0.1547619\n 0.14285714 0.13095238 0.11111111 0.1031746  0.08730159 0.07539683\n 0.07936508 0.07936508 0.08730159 0.1031746  0.13888889 0.1547619 ]"
        ],
        [
         "33",
         "11_0",
         "85.0",
         "0.2953752311127746",
         "0.0",
         "33",
         "0.0",
         "0.10609903470379733",
         "0.18253968253968253",
         "[0.18253968 0.17460317 0.15873016 0.16269841 0.1547619  0.14285714\n 0.13095238 0.11111111 0.1031746  0.08730159 0.07539683 0.07936508\n 0.07936508 0.08730159 0.1031746  0.13888889 0.1547619  0.16666667]"
        ],
        [
         "34",
         "11_0",
         "83.0",
         "0.2934733840096654",
         "0.0",
         "34",
         "0.0",
         "0.10541588960380398",
         "0.1746031746031746",
         "[0.17460317 0.15873016 0.16269841 0.1547619  0.14285714 0.13095238\n 0.11111111 0.1031746  0.08730159 0.07539683 0.07936508 0.07936508\n 0.08730159 0.1031746  0.13888889 0.1547619  0.16666667 0.17857143]"
        ],
        [
         "35",
         "11_0",
         "79.0",
         "0.2921800975434548",
         "0.0",
         "35",
         "0.0",
         "0.10495134000313676",
         "0.15873015873015872",
         "[0.15873016 0.16269841 0.1547619  0.14285714 0.13095238 0.11111111\n 0.1031746  0.08730159 0.07539683 0.07936508 0.07936508 0.08730159\n 0.1031746  0.13888889 0.1547619  0.16666667 0.17857143 0.16269841]"
        ],
        [
         "36",
         "11_0",
         "80.0",
         "0.2912082794731045",
         "0.0",
         "36",
         "0.0",
         "0.10460226212418453",
         "0.1626984126984127",
         "[0.16269841 0.1547619  0.14285714 0.13095238 0.11111111 0.1031746\n 0.08730159 0.07539683 0.07936508 0.07936508 0.08730159 0.1031746\n 0.13888889 0.1547619  0.16666667 0.17857143 0.16269841 0.1468254 ]"
        ],
        [
         "37",
         "11_0",
         "78.0",
         "0.2897669413906263",
         "0.0",
         "37",
         "0.0",
         "0.10408453225679976",
         "0.15476190476190477",
         "[0.1547619  0.14285714 0.13095238 0.11111111 0.1031746  0.08730159\n 0.07539683 0.07936508 0.07936508 0.08730159 0.1031746  0.13888889\n 0.1547619  0.16666667 0.17857143 0.16269841 0.1468254  0.15079365]"
        ],
        [
         "38",
         "11_0",
         "75.0",
         "0.2879171080404102",
         "0.0",
         "38",
         "0.0",
         "0.10342007054116631",
         "0.14285714285714285",
         "[0.14285714 0.13095238 0.11111111 0.1031746  0.08730159 0.07539683\n 0.07936508 0.07936508 0.08730159 0.1031746  0.13888889 0.1547619\n 0.16666667 0.17857143 0.16269841 0.1468254  0.15079365 0.15079365]"
        ],
        [
         "39",
         "11_0",
         "72.0",
         "0.285123442102573",
         "0.0",
         "39",
         "0.0",
         "0.10241658335582328",
         "0.13095238095238096",
         "[0.13095238 0.11111111 0.1031746  0.08730159 0.07539683 0.07936508\n 0.07936508 0.08730159 0.1031746  0.13888889 0.1547619  0.16666667\n 0.17857143 0.16269841 0.1468254  0.15079365 0.15079365 0.1468254 ]"
        ],
        [
         "40",
         "11_0",
         "67.0",
         "0.2811039905671352",
         "0.0",
         "40",
         "0.0",
         "0.10097279293933496",
         "0.1111111111111111",
         "[0.11111111 0.1031746  0.08730159 0.07539683 0.07936508 0.07936508\n 0.08730159 0.1031746  0.13888889 0.1547619  0.16666667 0.17857143\n 0.16269841 0.1468254  0.15079365 0.15079365 0.1468254  0.14285714]"
        ],
        [
         "41",
         "11_0",
         "65.0",
         "0.2758621767096516",
         "0.0",
         "41",
         "0.0",
         "0.0990899289351976",
         "0.10317460317460317",
         "[0.1031746  0.08730159 0.07539683 0.07936508 0.07936508 0.08730159\n 0.1031746  0.13888889 0.1547619  0.16666667 0.17857143 0.16269841\n 0.1468254  0.15079365 0.15079365 0.1468254  0.14285714 0.13492063]"
        ],
        [
         "42",
         "11_0",
         "61.0",
         "0.2695250808438544",
         "0.0",
         "42",
         "0.0",
         "0.09681363870038844",
         "0.0873015873015873",
         "[0.08730159 0.07539683 0.07936508 0.07936508 0.08730159 0.1031746\n 0.13888889 0.1547619  0.16666667 0.17857143 0.16269841 0.1468254\n 0.15079365 0.15079365 0.1468254  0.14285714 0.13492063 0.13095238]"
        ],
        [
         "43",
         "11_0",
         "58.0",
         "0.2622646020542782",
         "0.0",
         "43",
         "0.0",
         "0.09420566853254685",
         "0.07539682539682539",
         "[0.07539683 0.07936508 0.07936508 0.08730159 0.1031746  0.13888889\n 0.1547619  0.16666667 0.17857143 0.16269841 0.1468254  0.15079365\n 0.15079365 0.1468254  0.14285714 0.13492063 0.13095238 0.13492063]"
        ],
        [
         "44",
         "11_0",
         "59.0",
         "0.2542599529580946",
         "0.0",
         "44",
         "0.0",
         "0.09133039175646726",
         "0.07936507936507936",
         "[0.07936508 0.07936508 0.08730159 0.1031746  0.13888889 0.1547619\n 0.16666667 0.17857143 0.16269841 0.1468254  0.15079365 0.15079365\n 0.1468254  0.14285714 0.13492063 0.13095238 0.13492063 0.15079365]"
        ],
        [
         "45",
         "11_0",
         "59.0",
         "0.2459131757104715",
         "0.0",
         "45",
         "0.0",
         "0.08833222225686452",
         "0.07936507936507936",
         "[0.07936508 0.08730159 0.1031746  0.13888889 0.1547619  0.16666667\n 0.17857143 0.16269841 0.1468254  0.15079365 0.15079365 0.1468254\n 0.14285714 0.13492063 0.13095238 0.13492063 0.15079365 0.18253968]"
        ],
        [
         "46",
         "11_0",
         "61.0",
         "0.2382070125067065",
         "0.0",
         "46",
         "0.0",
         "0.08556416186768036",
         "0.0873015873015873",
         "[0.08730159 0.1031746  0.13888889 0.1547619  0.16666667 0.17857143\n 0.16269841 0.1468254  0.15079365 0.15079365 0.1468254  0.14285714\n 0.13492063 0.13095238 0.13492063 0.15079365 0.18253968 0.20238095]"
        ],
        [
         "47",
         "11_0",
         "65.0",
         "0.2316763268260501",
         "0.0",
         "47",
         "0.0",
         "0.08321833400641665",
         "0.10317460317460317",
         "[0.1031746  0.13888889 0.1547619  0.16666667 0.17857143 0.16269841\n 0.1468254  0.15079365 0.15079365 0.1468254  0.14285714 0.13492063\n 0.13095238 0.13492063 0.15079365 0.18253968 0.20238095 0.21428571]"
        ],
        [
         "48",
         "11_0",
         "74.0",
         "0.2264675269254932",
         "0.0",
         "48",
         "0.0",
         "0.08134732864373842",
         "0.1388888888888889",
         "[0.13888889 0.1547619  0.16666667 0.17857143 0.16269841 0.1468254\n 0.15079365 0.15079365 0.1468254  0.14285714 0.13492063 0.13095238\n 0.13492063 0.15079365 0.18253968 0.20238095 0.21428571 0.22222222]"
        ],
        [
         "49",
         "11_0",
         "78.0",
         "0.2225469030392998",
         "0.0",
         "49",
         "0.0",
         "0.07993903720306934",
         "0.15476190476190477",
         "[0.1547619  0.16666667 0.17857143 0.16269841 0.1468254  0.15079365\n 0.15079365 0.1468254  0.14285714 0.13492063 0.13095238 0.13492063\n 0.15079365 0.18253968 0.20238095 0.21428571 0.22222222 0.20238095]"
        ]
       ],
       "shape": {
        "columns": 9,
        "rows": 1711
       }
      },
      "text/html": [
       "<div>\n",
       "<style scoped>\n",
       "    .dataframe tbody tr th:only-of-type {\n",
       "        vertical-align: middle;\n",
       "    }\n",
       "\n",
       "    .dataframe tbody tr th {\n",
       "        vertical-align: top;\n",
       "    }\n",
       "\n",
       "    .dataframe thead th {\n",
       "        text-align: right;\n",
       "    }\n",
       "</style>\n",
       "<table border=\"1\" class=\"dataframe\">\n",
       "  <thead>\n",
       "    <tr style=\"text-align: right;\">\n",
       "      <th></th>\n",
       "      <th>ID</th>\n",
       "      <th>BG</th>\n",
       "      <th>PI</th>\n",
       "      <th>RA</th>\n",
       "      <th>iteration</th>\n",
       "      <th>scRA</th>\n",
       "      <th>scPI</th>\n",
       "      <th>scBG</th>\n",
       "      <th>scBG_packed</th>\n",
       "    </tr>\n",
       "  </thead>\n",
       "  <tbody>\n",
       "    <tr>\n",
       "      <th>0</th>\n",
       "      <td>11_0</td>\n",
       "      <td>134.0</td>\n",
       "      <td>0.000000</td>\n",
       "      <td>0.000000</td>\n",
       "      <td>0</td>\n",
       "      <td>0.000000</td>\n",
       "      <td>0.000000</td>\n",
       "      <td>0.376984</td>\n",
       "      <td>[0.376984126984127, 0.3412698412698413, 0.3690...</td>\n",
       "    </tr>\n",
       "    <tr>\n",
       "      <th>1</th>\n",
       "      <td>11_0</td>\n",
       "      <td>125.0</td>\n",
       "      <td>0.000271</td>\n",
       "      <td>0.000000</td>\n",
       "      <td>1</td>\n",
       "      <td>0.000000</td>\n",
       "      <td>0.000097</td>\n",
       "      <td>0.341270</td>\n",
       "      <td>[0.3412698412698413, 0.36904761904761907, 0.36...</td>\n",
       "    </tr>\n",
       "    <tr>\n",
       "      <th>2</th>\n",
       "      <td>11_0</td>\n",
       "      <td>132.0</td>\n",
       "      <td>0.001510</td>\n",
       "      <td>0.000000</td>\n",
       "      <td>2</td>\n",
       "      <td>0.000000</td>\n",
       "      <td>0.000543</td>\n",
       "      <td>0.369048</td>\n",
       "      <td>[0.36904761904761907, 0.36904761904761907, 0.3...</td>\n",
       "    </tr>\n",
       "    <tr>\n",
       "      <th>3</th>\n",
       "      <td>11_0</td>\n",
       "      <td>132.0</td>\n",
       "      <td>0.003488</td>\n",
       "      <td>0.000000</td>\n",
       "      <td>3</td>\n",
       "      <td>0.000000</td>\n",
       "      <td>0.001253</td>\n",
       "      <td>0.369048</td>\n",
       "      <td>[0.36904761904761907, 0.36904761904761907, 0.3...</td>\n",
       "    </tr>\n",
       "    <tr>\n",
       "      <th>4</th>\n",
       "      <td>11_0</td>\n",
       "      <td>132.0</td>\n",
       "      <td>0.006741</td>\n",
       "      <td>0.000000</td>\n",
       "      <td>4</td>\n",
       "      <td>0.000000</td>\n",
       "      <td>0.002421</td>\n",
       "      <td>0.369048</td>\n",
       "      <td>[0.36904761904761907, 0.36507936507936506, 0.3...</td>\n",
       "    </tr>\n",
       "    <tr>\n",
       "      <th>...</th>\n",
       "      <td>...</td>\n",
       "      <td>...</td>\n",
       "      <td>...</td>\n",
       "      <td>...</td>\n",
       "      <td>...</td>\n",
       "      <td>...</td>\n",
       "      <td>...</td>\n",
       "      <td>...</td>\n",
       "      <td>...</td>\n",
       "    </tr>\n",
       "    <tr>\n",
       "      <th>1706</th>\n",
       "      <td>290_0</td>\n",
       "      <td>189.0</td>\n",
       "      <td>1.856360</td>\n",
       "      <td>0.266009</td>\n",
       "      <td>842</td>\n",
       "      <td>0.054131</td>\n",
       "      <td>0.666806</td>\n",
       "      <td>0.595238</td>\n",
       "      <td>[0.5952380952380952, 0.5515873015873016, 0.515...</td>\n",
       "    </tr>\n",
       "    <tr>\n",
       "      <th>1707</th>\n",
       "      <td>290_0</td>\n",
       "      <td>178.0</td>\n",
       "      <td>1.853454</td>\n",
       "      <td>0.243603</td>\n",
       "      <td>843</td>\n",
       "      <td>0.049572</td>\n",
       "      <td>0.665762</td>\n",
       "      <td>0.551587</td>\n",
       "      <td>[0.5515873015873016, 0.5158730158730159, 0.5, ...</td>\n",
       "    </tr>\n",
       "    <tr>\n",
       "      <th>1708</th>\n",
       "      <td>290_0</td>\n",
       "      <td>169.0</td>\n",
       "      <td>1.843510</td>\n",
       "      <td>0.222789</td>\n",
       "      <td>844</td>\n",
       "      <td>0.045336</td>\n",
       "      <td>0.662190</td>\n",
       "      <td>0.515873</td>\n",
       "      <td>[0.5158730158730159, 0.5, 0.47619047619047616,...</td>\n",
       "    </tr>\n",
       "    <tr>\n",
       "      <th>1709</th>\n",
       "      <td>290_0</td>\n",
       "      <td>165.0</td>\n",
       "      <td>1.827765</td>\n",
       "      <td>0.203503</td>\n",
       "      <td>845</td>\n",
       "      <td>0.041412</td>\n",
       "      <td>0.656535</td>\n",
       "      <td>0.500000</td>\n",
       "      <td>[0.5, 0.47619047619047616, 0.44841269841269843...</td>\n",
       "    </tr>\n",
       "    <tr>\n",
       "      <th>1710</th>\n",
       "      <td>290_0</td>\n",
       "      <td>159.0</td>\n",
       "      <td>1.807299</td>\n",
       "      <td>0.185674</td>\n",
       "      <td>846</td>\n",
       "      <td>0.037784</td>\n",
       "      <td>0.649183</td>\n",
       "      <td>0.476190</td>\n",
       "      <td>[0.47619047619047616, 0.44841269841269843, 0.4...</td>\n",
       "    </tr>\n",
       "  </tbody>\n",
       "</table>\n",
       "<p>1711 rows × 9 columns</p>\n",
       "</div>"
      ],
      "text/plain": [
       "         ID     BG        PI        RA  iteration      scRA      scPI  \\\n",
       "0      11_0  134.0  0.000000  0.000000          0  0.000000  0.000000   \n",
       "1      11_0  125.0  0.000271  0.000000          1  0.000000  0.000097   \n",
       "2      11_0  132.0  0.001510  0.000000          2  0.000000  0.000543   \n",
       "3      11_0  132.0  0.003488  0.000000          3  0.000000  0.001253   \n",
       "4      11_0  132.0  0.006741  0.000000          4  0.000000  0.002421   \n",
       "...     ...    ...       ...       ...        ...       ...       ...   \n",
       "1706  290_0  189.0  1.856360  0.266009        842  0.054131  0.666806   \n",
       "1707  290_0  178.0  1.853454  0.243603        843  0.049572  0.665762   \n",
       "1708  290_0  169.0  1.843510  0.222789        844  0.045336  0.662190   \n",
       "1709  290_0  165.0  1.827765  0.203503        845  0.041412  0.656535   \n",
       "1710  290_0  159.0  1.807299  0.185674        846  0.037784  0.649183   \n",
       "\n",
       "          scBG                                        scBG_packed  \n",
       "0     0.376984  [0.376984126984127, 0.3412698412698413, 0.3690...  \n",
       "1     0.341270  [0.3412698412698413, 0.36904761904761907, 0.36...  \n",
       "2     0.369048  [0.36904761904761907, 0.36904761904761907, 0.3...  \n",
       "3     0.369048  [0.36904761904761907, 0.36904761904761907, 0.3...  \n",
       "4     0.369048  [0.36904761904761907, 0.36507936507936506, 0.3...  \n",
       "...        ...                                                ...  \n",
       "1706  0.595238  [0.5952380952380952, 0.5515873015873016, 0.515...  \n",
       "1707  0.551587  [0.5515873015873016, 0.5158730158730159, 0.5, ...  \n",
       "1708  0.515873  [0.5158730158730159, 0.5, 0.47619047619047616,...  \n",
       "1709  0.500000  [0.5, 0.47619047619047616, 0.44841269841269843...  \n",
       "1710  0.476190  [0.47619047619047616, 0.44841269841269843, 0.4...  \n",
       "\n",
       "[1711 rows x 9 columns]"
      ]
     },
     "metadata": {},
     "output_type": "display_data"
    }
   ],
   "source": [
    "df_packed = pack_data(df_scaled)\n",
    "display(df_packed)"
   ]
  },
  {
   "cell_type": "code",
   "execution_count": 12,
   "id": "3ca30c69",
   "metadata": {},
   "outputs": [],
   "source": [
    "gan_inputs = ['BG', 'scBG_packed', 'PI', 'RA', 'scPI', 'scRA']\n",
    "data_dict = {column: np.array(df_packed[column].tolist(), dtype=np.float32).reshape(df_packed.shape[0], 1, -1) for column in gan_inputs}"
   ]
  },
  {
   "cell_type": "code",
   "execution_count": 13,
   "id": "3a3f421a",
   "metadata": {},
   "outputs": [],
   "source": [
    "def load_training_data(df):\n",
    "    train_data_dict = {}\n",
    "    for input_name in gan_inputs:\n",
    "        if input_name == 'scBG_packed':\n",
    "            train_data_dict['scBG'] = df[f'{input_name}']\n",
    "        elif input_name in ['BG', 'PI', 'RA']:\n",
    "            pass\n",
    "        else:\n",
    "            train_data_dict[f'{input_name}'] = df[f'{input_name}']\n",
    "\n",
    "    train_data = TrainingData(**train_data_dict)\n",
    "    return train_data"
   ]
  },
  {
   "cell_type": "code",
   "execution_count": 14,
   "id": "3768661a",
   "metadata": {},
   "outputs": [],
   "source": [
    "training_data = load_training_data(data_dict)"
   ]
  },
  {
   "cell_type": "code",
   "execution_count": 15,
   "id": "6ec1ddec",
   "metadata": {},
   "outputs": [
    {
     "name": "stderr",
     "output_type": "stream",
     "text": [
      "GAN Training: 100%|██████████| 2650/2650 [01:38<00:00, 26.98step/s]\n"
     ]
    }
   ],
   "source": [
    "gan = GANModel(pretrained_vae_model)\n",
    "\n",
    "try:\n",
    "    history = gan.train(training_data)\n",
    "except KeyboardInterrupt:\n",
    "    print('Process interrupted by user')"
   ]
  },
  {
   "cell_type": "code",
   "execution_count": 16,
   "id": "6c5408be",
   "metadata": {},
   "outputs": [
    {
     "data": {
      "image/png": "[encoded data removed]",
      "text/plain": [
       "<Figure size 1200x600 with 1 Axes>"
      ]
     },
     "metadata": {},
     "output_type": "display_data"
    }
   ],
   "source": [
    "plt.figure(figsize=(12, 6))\n",
    "plt.plot(history['step'], history['d_loss_real'], label='Discriminator Loss Real')\n",
    "plt.plot(history['step'], history['d_loss_fake'], label='Discriminator Loss Fake')\n",
    "plt.plot(history['step'], history['g_loss'], label='Generator Loss')\n",
    "plt.plot(history['step'], history['g_adversarial'], label='Generator Adversarial')\n",
    "plt.plot(history['step'], history['g_l2'], label='Generator L2')\n",
    "plt.xlabel('Step')\n",
    "plt.ylabel('Loss')\n",
    "plt.title('GAN Training Losses')\n",
    "plt.legend()\n",
    "plt.grid(True)\n",
    "plt.show()"
   ]
  },
  {
   "cell_type": "code",
   "execution_count": null,
   "id": "8a9fa53d",
   "metadata": {},
   "outputs": [
    {
     "name": "stdout",
     "output_type": "stream",
     "text": [
      "WARNING:tensorflow:Compiled the loaded model, but the compiled metrics have yet to be built. `model.compile_metrics` will be empty until you train or evaluate the model.\n"
     ]
    },
    {
     "name": "stderr",
     "output_type": "stream",
     "text": [
      "/home/oriol/workspace/t1d-data-based-digital-twin/.venv/lib/python3.10/site-packages/keras/src/engine/training.py:3000: UserWarning: You are saving your model as an HDF5 file via `model.save()`. This file format is considered legacy. We recommend using instead the native Keras format, e.g. `model.save('my_model.keras')`.\n",
      "  saving_api.save_model(\n"
     ]
    }
   ],
   "source": [
    "\n",
    "\n",
    "timezone = pytz.timezone('Europe/Madrid')\n",
    "timestamp = datetime.now(timezone).strftime('%Y%m%d_%H%M%S')\n",
    "gan.g_model.save(f'misc/generator_model_{timestamp}.h5')"
   ]
  },
  {
   "cell_type": "markdown",
   "id": "570873dd",
   "metadata": {},
   "source": [
    "## Simulation"
   ]
  },
  {
   "cell_type": "code",
   "execution_count": 17,
   "id": "0121d662",
   "metadata": {},
   "outputs": [],
   "source": [
    "@dataclass\n",
    "class SimulationData:\n",
    "    \"\"\"\n",
    "    Data class containing the simulation dynamical inputs, results and some minor settings.\n",
    "    \"\"\"\n",
    "    # Blood Glucose\n",
    "    gen_bg_scaled_arrays: np.ndarray\n",
    "\n",
    "    real_bg_scaled: np.ndarray\n",
    "    real_bg_unscaled: np.ndarray\n",
    "    gen_bg_unscaled: np.ndarray = None\n",
    "\n",
    "    PI_scaled: np.ndarray = None\n",
    "    RA_scaled: np.ndarray = None\n",
    "    PA_scaled: np.ndarray = None\n",
    "    IG_scaled: np.ndarray = None\n",
    "\n",
    "    # Plotting data\n",
    "    PI_unscaled: np.ndarray = None\n",
    "    RA_unscaled: np.ndarray = None\n",
    "    PA_unscaled: np.ndarray = None\n",
    "    IG_unscaled: np.ndarray = None"
   ]
  },
  {
   "cell_type": "code",
   "execution_count": 18,
   "id": "32ad2fb9",
   "metadata": {},
   "outputs": [],
   "source": [
    "def load_patient_sim_data(data_dict, simulation_length: int) -> SimulationData:\n",
    "    real_bg_unscaled = data_dict['BG']  # take the original vector to compare against the generated profile\n",
    "    real_bg_scaled = data_dict['scBG_packed']  # this is packed\n",
    "    gan_inputs = ['BG', 'scBG_packed', 'PI', 'RA']\n",
    "\n",
    "    # Calculate the number of days to simulate\n",
    "    days_to_simulate = min(len(real_bg_unscaled) / 288, simulation_length)\n",
    "    time_steps = int(288 * days_to_simulate)\n",
    "\n",
    "    sim_data_dict = {\n",
    "        'real_bg_unscaled': real_bg_unscaled.ravel()[:time_steps],\n",
    "        'real_bg_scaled': real_bg_scaled[:, 0, 0][:time_steps],\n",
    "    }\n",
    "\n",
    "    for input_name in gan_inputs:\n",
    "        if input_name != 'BG' and input_name != 'scBG_packed':\n",
    "            sim_data_dict[f'{input_name}_scaled'] = data_dict[f'sc{input_name}']\n",
    "            sim_data_dict[f'{input_name}_unscaled'] = data_dict[input_name]\n",
    "\n",
    "    sim_data_dict['gen_bg_scaled_arrays'] = np.zeros(\n",
    "        (\n",
    "            1,\n",
    "            time_steps,\n",
    "            time_steps + 18,\n",
    "        )\n",
    "    )\n",
    "\n",
    "    sim_data = SimulationData(**sim_data_dict)\n",
    "    return sim_data"
   ]
  },
  {
   "cell_type": "code",
   "execution_count": 26,
   "id": "5b25a4cd",
   "metadata": {},
   "outputs": [
    {
     "name": "stdout",
     "output_type": "stream",
     "text": [
      "WARNING:tensorflow:No training configuration found in the save file, so the model was *not* compiled. Compile it manually.\n"
     ]
    }
   ],
   "source": [
    "# load from misc the .h5\n",
    "generator = tf.keras.models.load_model('misc/generator_model_20250919_132211.h5')"
   ]
  },
  {
   "cell_type": "code",
   "execution_count": 27,
   "id": "3d51100c",
   "metadata": {},
   "outputs": [
    {
     "name": "stderr",
     "output_type": "stream",
     "text": [
      "100%|██████████| 575/575 [00:04<00:00, 130.22it/s]\n"
     ]
    }
   ],
   "source": [
    "simulation_length = 2\n",
    "input_sim_data = load_patient_sim_data(data_dict, simulation_length=simulation_length)\n",
    "simulator_instance = SimulatorVAEGAN()\n",
    "simulated_data = simulator_instance.simulate(input_sim_data, generator, simulation_length)"
   ]
  },
  {
   "cell_type": "code",
   "execution_count": 32,
   "id": "52b35e67",
   "metadata": {},
   "outputs": [
    {
     "data": {
      "image/png": "[encoded data removed]",
      "text/plain": [
       "<Figure size 640x480 with 1 Axes>"
      ]
     },
     "metadata": {},
     "output_type": "display_data"
    }
   ],
   "source": [
    "num_points = len(simulated_data.gen_bg_unscaled)\n",
    "x_hours = np.arange(num_points) * 5 / 60  # 5 min per sample, convert to hours\n",
    "plt.xlabel('Time (hours)')\n",
    "plt.ylabel('Plasma Glucose Concentration (mg/dL)')\n",
    "plt.xticks(\n",
    "    ticks=np.arange(0, x_hours[-1]+1, 2),\n",
    "    labels=[f\"{int(t)}\" for t in np.arange(0, x_hours[-1]+1, 2)]\n",
    ")\n",
    "plt.gca().set_xlim([0, x_hours[-1]])\n",
    "plt.gca().set_xticks(np.arange(0, x_hours[-1]+1, 2))\n",
    "plt.gca().set_xticklabels([f\"{int(t)}\" for t in np.arange(0, x_hours[-1]+1, 2)])\n",
    "plt.plot(x_hours, simulated_data.gen_bg_unscaled, label='Simulated BG')\n",
    "plt.plot(x_hours, simulated_data.real_bg_unscaled, label='Real BG')\n",
    "plt.legend()\n",
    "plt.show()"
   ]
  }
 ],
 "metadata": {
  "kernelspec": {
   "display_name": ".venv",
   "language": "python",
   "name": "python3"
  },
  "language_info": {
   "codemirror_mode": {
    "name": "ipython",
    "version": 3
   },
   "file_extension": ".py",
   "mimetype": "text/x-python",
   "name": "python",
   "nbconvert_exporter": "python",
   "pygments_lexer": "ipython3",
   "version": "3.10.12"
  }
 },
 "nbformat": 4,
 "nbformat_minor": 5
}

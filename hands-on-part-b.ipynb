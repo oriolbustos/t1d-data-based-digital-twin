{
 "cells": [
  {
   "cell_type": "markdown",
   "id": "9ea03d97",
   "metadata": {},
   "source": [
    "<div style=\"background-color:#1e1e1e; padding:25px; border-radius:10px; display:table; width:100%;\">\n",
    "\n",
    "  <!-- Left column: text -->\n",
    "  <div style=\"display:table-cell; vertical-align:top; width:70%; padding-right:10px;\">\n",
    "    <h1 style=\"color:#4FC3F7; margin-bottom:10px;\">Hands-On Part B: Personalization Methods</h1>\n",
    "\n",
    "  <p style=\"font-size:18px; font-style:italic; color:#cccccc;\">\n",
    "    Workshop on T1D Simulator and Digital Twins for Personalized Care\n",
    "  </p>\n",
    "\n",
    "  <p style=\"font-size:15px; line-height:1.6; color:#dddddd;\">\n",
    "fill\n",
    "  </p>\n",
    "  </div>\n",
    "\n",
    "  <!-- Right column: logo -->\n",
    "  <div style=\"display:table-cell; vertical-align:middle; text-align:left; width:30%; padding-right:50px;\">\n",
    "    <img src=\"https://micelab.udg.edu/wp-content/uploads/2022/08/MICElab-letras_png-300x119.png\" alt=\"MiceLab Logo\" style=\"height:80px; border-radius:8px;\">\n",
    "  </div>\n",
    "\n",
    "</div>\n"
   ]
  },
  {
   "cell_type": "markdown",
   "id": "4df3147c",
   "metadata": {},
   "source": [
    "<h2 style=\"color:#4FC3F7; border-bottom:2px solid #4FC3F7; padding-bottom:4px;\">\n",
    "0. Imports &amp; Set-Up\n",
    "</h2>"
   ]
  },
  {
   "cell_type": "code",
   "execution_count": 1,
   "id": "752529e0",
   "metadata": {},
   "outputs": [],
   "source": [
    "from pathlib import Path\n",
    "import joblib\n",
    "import numpy as np\n",
    "import pandas as pd\n",
    "\n",
    "from sklearn.model_selection import train_test_split\n",
    "\n",
    "from tqdm import tqdm\n",
    "from data_classes import TrainingData\n",
    "from gan import GANModel"
   ]
  },
  {
   "cell_type": "markdown",
   "id": "1b00b7ad",
   "metadata": {},
   "source": [
    "Check GPU availability for TensorFlow, not essential."
   ]
  },
  {
   "cell_type": "code",
   "execution_count": 2,
   "id": "211efa1f",
   "metadata": {},
   "outputs": [
    {
     "name": "stdout",
     "output_type": "stream",
     "text": [
      "TensorFlow version: 2.13.0\n",
      "Num GPUs Available: 0\n",
      "GPUs: []\n"
     ]
    },
    {
     "name": "stderr",
     "output_type": "stream",
     "text": [
      "2025-09-19 11:27:09.588998: E tensorflow/compiler/xla/stream_executor/cuda/cuda_driver.cc:268] failed call to cuInit: CUDA_ERROR_NO_DEVICE: no CUDA-capable device is detected\n"
     ]
    }
   ],
   "source": [
    "import os\n",
    "os.environ[\"CUDA_VISIBLE_DEVICES\"] = \"\"\n",
    "import tensorflow as tf\n",
    "\n",
    "print(\"TensorFlow version:\", tf.__version__)\n",
    "print(\"Num GPUs Available:\", len(tf.config.list_physical_devices('GPU')))\n",
    "print(\"GPUs:\", tf.config.list_physical_devices('GPU'))"
   ]
  },
  {
   "cell_type": "code",
   "execution_count": 3,
   "id": "2d5bfa9e",
   "metadata": {},
   "outputs": [],
   "source": [
    "import os, sys, contextlib, io\n",
    "\n",
    "os.environ['TF_CPP_MIN_LOG_LEVEL'] = '3'   # still useful for later logs\n",
    "os.environ['ABSL_LOG_LEVEL']      = '3'\n",
    "\n",
    "@contextlib.contextmanager\n",
    "def mute_tensorflow_startup():\n",
    "    \"\"\"Silence C++ factory/placer warnings emitted during the first TF import.\"\"\"\n",
    "    stderr_fileno = sys.stderr.fileno()\n",
    "    with open(os.devnull, 'w') as devnull:\n",
    "        saved_stderr = os.dup(stderr_fileno)\n",
    "        os.dup2(devnull.fileno(), stderr_fileno)   # redirect to /dev/null\n",
    "        try:\n",
    "            yield\n",
    "        finally:\n",
    "            os.dup2(saved_stderr, stderr_fileno)   # restore stderr\n",
    "            os.close(saved_stderr)\n",
    "\n",
    "with mute_tensorflow_startup():\n",
    "    import tensorflow as tf\n",
    "\n",
    "from tensorflow.python.ops.numpy_ops import np_config\n",
    "np_config.enable_numpy_behavior() # essential for indexing tensors, code crashes without this"
   ]
  },
  {
   "cell_type": "markdown",
   "id": "3a45fd20",
   "metadata": {},
   "source": [
    "<h2 style=\"color:#4FC3F7; border-bottom:2px solid #4FC3F7; padding-bottom:4px;\">\n",
    "1. Load Model & Data\n",
    "</h2>"
   ]
  },
  {
   "cell_type": "markdown",
   "id": "69c41e56",
   "metadata": {},
   "source": [
    "Setup path and model name."
   ]
  },
  {
   "cell_type": "code",
   "execution_count": 4,
   "id": "ddcfe1e0",
   "metadata": {},
   "outputs": [],
   "source": [
    "path_to_model = \"/mnt/c/Users/oriol/Downloads/\"\n",
    "model_name = \"pretrained_model.h5\"\n",
    "model_name = \"gan_rampedup005999.h5\"\n",
    "model_name = \"decoder_epoch_10.h5\""
   ]
  },
  {
   "cell_type": "markdown",
   "id": "7049c173",
   "metadata": {},
   "source": [
    "Load the .h5 using the `load_model` method from keras."
   ]
  },
  {
   "cell_type": "code",
   "execution_count": 5,
   "id": "270297d5",
   "metadata": {},
   "outputs": [
    {
     "name": "stdout",
     "output_type": "stream",
     "text": [
      "WARNING:tensorflow:No training configuration found in the save file, so the model was *not* compiled. Compile it manually.\n"
     ]
    }
   ],
   "source": [
    "model_filename = Path(path_to_model, model_name)\n",
    "pretrained_vae_model = tf.keras.models.load_model(model_filename)"
   ]
  },
  {
   "cell_type": "code",
   "execution_count": 6,
   "id": "05d0ba9c",
   "metadata": {},
   "outputs": [
    {
     "data": {
      "application/vnd.microsoft.datawrangler.viewer.v0+json": {
       "columns": [
        {
         "name": "index",
         "rawType": "int64",
         "type": "integer"
        },
        {
         "name": "ID",
         "rawType": "object",
         "type": "string"
        },
        {
         "name": "BG",
         "rawType": "float64",
         "type": "float"
        },
        {
         "name": "PI",
         "rawType": "float64",
         "type": "float"
        },
        {
         "name": "RA",
         "rawType": "float64",
         "type": "float"
        }
       ],
       "ref": "8fae6947-40fe-4956-b540-d8dd06f81b39",
       "rows": [
        [
         "0",
         "11_0",
         "134.0",
         "0.0",
         "0.0"
        ],
        [
         "1",
         "11_0",
         "125.0",
         "0.0002712096011543",
         "0.0"
        ],
        [
         "2",
         "11_0",
         "132.0",
         "0.0015104744754281",
         "0.0"
        ],
        [
         "3",
         "11_0",
         "132.0",
         "0.0034881639011847",
         "0.0"
        ],
        [
         "4",
         "11_0",
         "132.0",
         "0.0067405298863417",
         "0.0"
        ]
       ],
       "shape": {
        "columns": 4,
        "rows": 5
       }
      },
      "text/html": [
       "<div>\n",
       "<style scoped>\n",
       "    .dataframe tbody tr th:only-of-type {\n",
       "        vertical-align: middle;\n",
       "    }\n",
       "\n",
       "    .dataframe tbody tr th {\n",
       "        vertical-align: top;\n",
       "    }\n",
       "\n",
       "    .dataframe thead th {\n",
       "        text-align: right;\n",
       "    }\n",
       "</style>\n",
       "<table border=\"1\" class=\"dataframe\">\n",
       "  <thead>\n",
       "    <tr style=\"text-align: right;\">\n",
       "      <th></th>\n",
       "      <th>ID</th>\n",
       "      <th>BG</th>\n",
       "      <th>PI</th>\n",
       "      <th>RA</th>\n",
       "    </tr>\n",
       "  </thead>\n",
       "  <tbody>\n",
       "    <tr>\n",
       "      <th>0</th>\n",
       "      <td>11_0</td>\n",
       "      <td>134.0</td>\n",
       "      <td>0.000000</td>\n",
       "      <td>0.0</td>\n",
       "    </tr>\n",
       "    <tr>\n",
       "      <th>1</th>\n",
       "      <td>11_0</td>\n",
       "      <td>125.0</td>\n",
       "      <td>0.000271</td>\n",
       "      <td>0.0</td>\n",
       "    </tr>\n",
       "    <tr>\n",
       "      <th>2</th>\n",
       "      <td>11_0</td>\n",
       "      <td>132.0</td>\n",
       "      <td>0.001510</td>\n",
       "      <td>0.0</td>\n",
       "    </tr>\n",
       "    <tr>\n",
       "      <th>3</th>\n",
       "      <td>11_0</td>\n",
       "      <td>132.0</td>\n",
       "      <td>0.003488</td>\n",
       "      <td>0.0</td>\n",
       "    </tr>\n",
       "    <tr>\n",
       "      <th>4</th>\n",
       "      <td>11_0</td>\n",
       "      <td>132.0</td>\n",
       "      <td>0.006741</td>\n",
       "      <td>0.0</td>\n",
       "    </tr>\n",
       "  </tbody>\n",
       "</table>\n",
       "</div>"
      ],
      "text/plain": [
       "     ID     BG        PI   RA\n",
       "0  11_0  134.0  0.000000  0.0\n",
       "1  11_0  125.0  0.000271  0.0\n",
       "2  11_0  132.0  0.001510  0.0\n",
       "3  11_0  132.0  0.003488  0.0\n",
       "4  11_0  132.0  0.006741  0.0"
      ]
     },
     "metadata": {},
     "output_type": "display_data"
    }
   ],
   "source": [
    "path_df = Path(\"data_processed.csv\")\n",
    "\n",
    "df = pd.read_csv(path_df)\n",
    "\n",
    "display(df.head())"
   ]
  },
  {
   "cell_type": "markdown",
   "id": "eea39e81",
   "metadata": {},
   "source": [
    "<h2 style=\"color:#4FC3F7; border-bottom:2px solid #4FC3F7; padding-bottom:4px;\">\n",
    "2. Split Patient Data for Train / Validation\n",
    "</h2>"
   ]
  },
  {
   "cell_type": "code",
   "execution_count": 7,
   "id": "fe64f829",
   "metadata": {},
   "outputs": [
    {
     "data": {
      "application/vnd.microsoft.datawrangler.viewer.v0+json": {
       "columns": [
        {
         "name": "index",
         "rawType": "int64",
         "type": "integer"
        },
        {
         "name": "ID",
         "rawType": "object",
         "type": "string"
        },
        {
         "name": "BG",
         "rawType": "float64",
         "type": "float"
        },
        {
         "name": "PI",
         "rawType": "float64",
         "type": "float"
        },
        {
         "name": "RA",
         "rawType": "float64",
         "type": "float"
        }
       ],
       "ref": "fb7f835f-1706-40cd-bdd1-fc233ab0dfdc",
       "rows": [
        [
         "1649",
         "290_0",
         "166.0",
         "1.851760048270232",
         "0.2313350244837983"
        ],
        [
         "1465",
         "290_0",
         "63.0",
         "0.8340736511777695",
         "0.0188898822644347"
        ],
        [
         "361",
         "11_0",
         "109.0",
         "0.4361160218404329",
         "1.1321409293179783e-06"
        ],
        [
         "315",
         "11_0",
         "93.0",
         "0.2757205817901302",
         "0.0002462779770017"
        ],
        [
         "1372",
         "290_0",
         "131.0",
         "0.8554756997795054",
         "0.0320813570202882"
        ]
       ],
       "shape": {
        "columns": 4,
        "rows": 5
       }
      },
      "text/html": [
       "<div>\n",
       "<style scoped>\n",
       "    .dataframe tbody tr th:only-of-type {\n",
       "        vertical-align: middle;\n",
       "    }\n",
       "\n",
       "    .dataframe tbody tr th {\n",
       "        vertical-align: top;\n",
       "    }\n",
       "\n",
       "    .dataframe thead th {\n",
       "        text-align: right;\n",
       "    }\n",
       "</style>\n",
       "<table border=\"1\" class=\"dataframe\">\n",
       "  <thead>\n",
       "    <tr style=\"text-align: right;\">\n",
       "      <th></th>\n",
       "      <th>ID</th>\n",
       "      <th>BG</th>\n",
       "      <th>PI</th>\n",
       "      <th>RA</th>\n",
       "    </tr>\n",
       "  </thead>\n",
       "  <tbody>\n",
       "    <tr>\n",
       "      <th>1649</th>\n",
       "      <td>290_0</td>\n",
       "      <td>166.0</td>\n",
       "      <td>1.851760</td>\n",
       "      <td>0.231335</td>\n",
       "    </tr>\n",
       "    <tr>\n",
       "      <th>1465</th>\n",
       "      <td>290_0</td>\n",
       "      <td>63.0</td>\n",
       "      <td>0.834074</td>\n",
       "      <td>0.018890</td>\n",
       "    </tr>\n",
       "    <tr>\n",
       "      <th>361</th>\n",
       "      <td>11_0</td>\n",
       "      <td>109.0</td>\n",
       "      <td>0.436116</td>\n",
       "      <td>0.000001</td>\n",
       "    </tr>\n",
       "    <tr>\n",
       "      <th>315</th>\n",
       "      <td>11_0</td>\n",
       "      <td>93.0</td>\n",
       "      <td>0.275721</td>\n",
       "      <td>0.000246</td>\n",
       "    </tr>\n",
       "    <tr>\n",
       "      <th>1372</th>\n",
       "      <td>290_0</td>\n",
       "      <td>131.0</td>\n",
       "      <td>0.855476</td>\n",
       "      <td>0.032081</td>\n",
       "    </tr>\n",
       "  </tbody>\n",
       "</table>\n",
       "</div>"
      ],
      "text/plain": [
       "         ID     BG        PI        RA\n",
       "1649  290_0  166.0  1.851760  0.231335\n",
       "1465  290_0   63.0  0.834074  0.018890\n",
       "361    11_0  109.0  0.436116  0.000001\n",
       "315    11_0   93.0  0.275721  0.000246\n",
       "1372  290_0  131.0  0.855476  0.032081"
      ]
     },
     "metadata": {},
     "output_type": "display_data"
    },
    {
     "name": "stdout",
     "output_type": "stream",
     "text": [
      "Train shape: (1382, 4)\n",
      "Validation shape: (346, 4)\n"
     ]
    }
   ],
   "source": [
    "split_size = 0.2\n",
    "df_train, df_val = train_test_split(df, test_size=split_size, random_state=0, shuffle=True)\n",
    "\n",
    "display(df_train.head())\n",
    "print(\"Train shape:\", df_train.shape)\n",
    "print(\"Validation shape:\", df_val.shape)"
   ]
  },
  {
   "cell_type": "code",
   "execution_count": 8,
   "id": "8e5e5f5e",
   "metadata": {},
   "outputs": [],
   "source": [
    "def manual_minmax_scaling(data: np.ndarray, scaler_range: tuple) -> tuple[np.ndarray, float, float]:\n",
    "    \"\"\"\n",
    "    Perform manual min-max scaling on the data.\n",
    "\n",
    "    Args:\n",
    "        data (np.ndarray): Data to scale.\n",
    "    Returns:\n",
    "        Tuple[np.ndarray, float, float]: Scaled data, minimum value, and maximum value.\n",
    "    \"\"\"\n",
    "    lower_bound = scaler_range[0]\n",
    "    upper_bound = scaler_range[1]\n",
    "    min_val = np.min(data)\n",
    "    max_val = np.max(data)\n",
    "    scaled_data = lower_bound + (upper_bound - lower_bound) * (data - min_val) / (max_val - min_val)\n",
    "\n",
    "    return scaled_data, min_val, max_val\n",
    "\n",
    "def individual_min_max_scaling(\n",
    "    df: pd.DataFrame, base_output_dir: Path, scaler_range: tuple, apply_bg_log_transformation: bool, gan_inputs: list\n",
    ") -> pd.DataFrame:\n",
    "    \"\"\"\n",
    "    Perform individual min-max scaling on the dataframe columns.\n",
    "    Scale all three columns the same way and save only the scalers for 'BG'.\n",
    "\n",
    "    Args:\n",
    "        df (pd.DataFrame): Dataframe to scale.\n",
    "        base_output_dir (Path): Directory to save the scalers.\n",
    "    Returns:\n",
    "        pd.DataFrame: Scaled dataframe.\n",
    "    \"\"\"\n",
    "    scalers: dict[str, list[float]] = {'BG_min': [], 'BG_max': []}\n",
    "    scaled_dfs: list[pd.DataFrame] = []\n",
    "\n",
    "    for _, group in df.groupby('ID'):\n",
    "        for column in gan_inputs:\n",
    "            if column not in ['BG', 'IG']:\n",
    "                group[f'sc{column}'], _, _ = manual_minmax_scaling(group[column], scaler_range)\n",
    "\n",
    "        group['scBG'], min_val, max_val = (\n",
    "            manual_minmax_scaling(group['BG_transformed'], scaler_range)\n",
    "            if apply_bg_log_transformation\n",
    "            else manual_minmax_scaling(group['BG'], scaler_range)\n",
    "        )\n",
    "\n",
    "        scalers['BG_min'].append(min_val)\n",
    "        scalers['BG_max'].append(max_val)\n",
    "\n",
    "        scaled_dfs.append(group)\n",
    "\n",
    "    scaled_df = pd.concat(scaled_dfs, ignore_index=True)\n",
    "    scaled_df = scaled_df.sort_values(by=['ID', 'iteration']).reset_index(drop=True)\n",
    "\n",
    "    save_scalers(pd.DataFrame(scalers), base_output_dir)\n",
    "\n",
    "    return scaled_df\n",
    "\n",
    "def save_scalers(scalers_df: pd.DataFrame, base_output_dir: Path) -> None:\n",
    "    \"\"\"\n",
    "    Save the scalers to a file.\n",
    "\n",
    "    Args:\n",
    "        scalers (Dict[str, List[float]]): Dictionary containing the scalers.\n",
    "        base_output_dir (Path): Directory to save the scalers.\n",
    "    \"\"\"\n",
    "    scalers_file: Path = Path(base_output_dir, 'bg_scalers.joblib')\n",
    "    joblib.dump(scalers_df, scalers_file)"
   ]
  },
  {
   "cell_type": "code",
   "execution_count": 9,
   "id": "a50a2c45",
   "metadata": {},
   "outputs": [
    {
     "data": {
      "application/vnd.microsoft.datawrangler.viewer.v0+json": {
       "columns": [
        {
         "name": "index",
         "rawType": "int64",
         "type": "integer"
        },
        {
         "name": "ID",
         "rawType": "object",
         "type": "string"
        },
        {
         "name": "BG",
         "rawType": "float64",
         "type": "float"
        },
        {
         "name": "scRA",
         "rawType": "float64",
         "type": "float"
        },
        {
         "name": "scPI",
         "rawType": "float64",
         "type": "float"
        },
        {
         "name": "scBG",
         "rawType": "float64",
         "type": "float"
        }
       ],
       "ref": "104a7dfb-33ed-4d91-aada-19bf747bf192",
       "rows": [
        [
         "0",
         "11_0",
         "134.0",
         "0.0",
         "0.0",
         "0.5827814569536424"
        ],
        [
         "1",
         "11_0",
         "125.0",
         "0.0",
         "9.741871983127372e-05",
         "0.5231788079470199"
        ],
        [
         "2",
         "11_0",
         "132.0",
         "0.0",
         "0.0005425637186432151",
         "0.5695364238410596"
        ],
        [
         "3",
         "11_0",
         "132.0",
         "0.0",
         "0.0012529514455564743",
         "0.5695364238410596"
        ],
        [
         "4",
         "11_0",
         "132.0",
         "0.0",
         "0.002421204078753309",
         "0.5695364238410596"
        ],
        [
         "5",
         "11_0",
         "131.0",
         "0.0",
         "0.004647820697550199",
         "0.5629139072847682"
        ],
        [
         "6",
         "11_0",
         "134.0",
         "0.0",
         "0.00920694300520656",
         "0.5827814569536424"
        ],
        [
         "7",
         "11_0",
         "135.0",
         "0.0",
         "0.015112175362523784",
         "0.5894039735099338"
        ],
        [
         "8",
         "11_0",
         "130.0",
         "0.0",
         "0.022156008263703023",
         "0.5562913907284768"
        ],
        [
         "9",
         "11_0",
         "128.0",
         "0.0",
         "0.03162395957376811",
         "0.543046357615894"
        ],
        [
         "10",
         "11_0",
         "116.0",
         "0.0",
         "0.04207466337701671",
         "0.46357615894039733"
        ],
        [
         "11",
         "11_0",
         "108.0",
         "0.0",
         "0.052348681395580396",
         "0.4105960264900662"
        ],
        [
         "12",
         "11_0",
         "111.0",
         "0.0",
         "0.06184036355699325",
         "0.4304635761589404"
        ],
        [
         "13",
         "11_0",
         "111.0",
         "0.0",
         "0.07011011784507344",
         "0.4304635761589404"
        ],
        [
         "14",
         "11_0",
         "106.0",
         "0.0",
         "0.07730163805688914",
         "0.3973509933774834"
        ],
        [
         "15",
         "11_0",
         "97.0",
         "0.0",
         "0.08360440152708012",
         "0.33774834437086093"
        ],
        [
         "16",
         "11_0",
         "96.0",
         "0.0",
         "0.0890535141828042",
         "0.33112582781456956"
        ],
        [
         "17",
         "11_0",
         "96.0",
         "0.0",
         "0.09340131952232214",
         "0.33112582781456956"
        ],
        [
         "18",
         "11_0",
         "97.0",
         "0.0",
         "0.09656029018528481",
         "0.33774834437086093"
        ],
        [
         "19",
         "11_0",
         "99.0",
         "0.0",
         "0.0986823559263575",
         "0.3509933774834437"
        ],
        [
         "20",
         "11_0",
         "99.0",
         "0.0",
         "0.10022870988701195",
         "0.3509933774834437"
        ],
        [
         "21",
         "11_0",
         "99.0",
         "0.0",
         "0.10149931017091939",
         "0.3509933774834437"
        ],
        [
         "22",
         "11_0",
         "98.0",
         "0.0",
         "0.10263870907596845",
         "0.3443708609271523"
        ],
        [
         "23",
         "11_0",
         "96.0",
         "0.0",
         "0.10371443612494177",
         "0.33112582781456956"
        ],
        [
         "24",
         "11_0",
         "94.0",
         "0.0",
         "0.10475620094371602",
         "0.31788079470198677"
        ],
        [
         "25",
         "11_0",
         "92.0",
         "0.0",
         "0.10577544770682351",
         "0.304635761589404"
        ],
        [
         "26",
         "11_0",
         "91.0",
         "0.0",
         "0.10677507808656539",
         "0.2980132450331126"
        ],
        [
         "27",
         "11_0",
         "83.0",
         "0.0",
         "0.10775424448414057",
         "0.24503311258278146"
        ],
        [
         "28",
         "11_0",
         "83.0",
         "0.0",
         "0.10861325278339579",
         "0.24503311258278146"
        ],
        [
         "29",
         "11_0",
         "83.0",
         "0.0",
         "0.10900181299078827",
         "0.24503311258278146"
        ],
        [
         "30",
         "11_0",
         "85.0",
         "0.0",
         "0.10874969623452731",
         "0.2582781456953642"
        ],
        [
         "31",
         "11_0",
         "85.0",
         "0.0",
         "0.10793960449217577",
         "0.2582781456953642"
        ],
        [
         "32",
         "11_0",
         "85.0",
         "0.0",
         "0.10697330952610228",
         "0.2582781456953642"
        ],
        [
         "33",
         "11_0",
         "85.0",
         "0.0",
         "0.10609903470379733",
         "0.2582781456953642"
        ],
        [
         "34",
         "11_0",
         "83.0",
         "0.0",
         "0.10541588960380398",
         "0.24503311258278146"
        ],
        [
         "35",
         "11_0",
         "79.0",
         "0.0",
         "0.10495134000313676",
         "0.2185430463576159"
        ],
        [
         "36",
         "11_0",
         "80.0",
         "0.0",
         "0.10460226212418453",
         "0.2251655629139073"
        ],
        [
         "37",
         "11_0",
         "78.0",
         "0.0",
         "0.10408453225679976",
         "0.2119205298013245"
        ],
        [
         "38",
         "11_0",
         "75.0",
         "0.0",
         "0.10342007054116631",
         "0.19205298013245034"
        ],
        [
         "39",
         "11_0",
         "72.0",
         "0.0",
         "0.10241658335582328",
         "0.17218543046357615"
        ],
        [
         "40",
         "11_0",
         "67.0",
         "0.0",
         "0.10097279293933496",
         "0.1390728476821192"
        ],
        [
         "41",
         "11_0",
         "65.0",
         "0.0",
         "0.0990899289351976",
         "0.12582781456953643"
        ],
        [
         "42",
         "11_0",
         "61.0",
         "0.0",
         "0.09681363870038844",
         "0.09933774834437085"
        ],
        [
         "43",
         "11_0",
         "58.0",
         "0.0",
         "0.09420566853254685",
         "0.07947019867549669"
        ],
        [
         "44",
         "11_0",
         "59.0",
         "0.0",
         "0.09133039175646726",
         "0.08609271523178808"
        ],
        [
         "45",
         "11_0",
         "59.0",
         "0.0",
         "0.08833222225686452",
         "0.08609271523178808"
        ],
        [
         "46",
         "11_0",
         "61.0",
         "0.0",
         "0.08556416186768036",
         "0.09933774834437085"
        ],
        [
         "47",
         "11_0",
         "65.0",
         "0.0",
         "0.08321833400641665",
         "0.12582781456953643"
        ],
        [
         "48",
         "11_0",
         "74.0",
         "0.0",
         "0.08134732864373842",
         "0.18543046357615894"
        ],
        [
         "49",
         "11_0",
         "78.0",
         "0.0",
         "0.07993903720306934",
         "0.2119205298013245"
        ]
       ],
       "shape": {
        "columns": 5,
        "rows": 1728
       }
      },
      "text/html": [
       "<div>\n",
       "<style scoped>\n",
       "    .dataframe tbody tr th:only-of-type {\n",
       "        vertical-align: middle;\n",
       "    }\n",
       "\n",
       "    .dataframe tbody tr th {\n",
       "        vertical-align: top;\n",
       "    }\n",
       "\n",
       "    .dataframe thead th {\n",
       "        text-align: right;\n",
       "    }\n",
       "</style>\n",
       "<table border=\"1\" class=\"dataframe\">\n",
       "  <thead>\n",
       "    <tr style=\"text-align: right;\">\n",
       "      <th></th>\n",
       "      <th>ID</th>\n",
       "      <th>BG</th>\n",
       "      <th>scRA</th>\n",
       "      <th>scPI</th>\n",
       "      <th>scBG</th>\n",
       "    </tr>\n",
       "  </thead>\n",
       "  <tbody>\n",
       "    <tr>\n",
       "      <th>0</th>\n",
       "      <td>11_0</td>\n",
       "      <td>134.0</td>\n",
       "      <td>0.000000</td>\n",
       "      <td>0.000000</td>\n",
       "      <td>0.582781</td>\n",
       "    </tr>\n",
       "    <tr>\n",
       "      <th>1</th>\n",
       "      <td>11_0</td>\n",
       "      <td>125.0</td>\n",
       "      <td>0.000000</td>\n",
       "      <td>0.000097</td>\n",
       "      <td>0.523179</td>\n",
       "    </tr>\n",
       "    <tr>\n",
       "      <th>2</th>\n",
       "      <td>11_0</td>\n",
       "      <td>132.0</td>\n",
       "      <td>0.000000</td>\n",
       "      <td>0.000543</td>\n",
       "      <td>0.569536</td>\n",
       "    </tr>\n",
       "    <tr>\n",
       "      <th>3</th>\n",
       "      <td>11_0</td>\n",
       "      <td>132.0</td>\n",
       "      <td>0.000000</td>\n",
       "      <td>0.001253</td>\n",
       "      <td>0.569536</td>\n",
       "    </tr>\n",
       "    <tr>\n",
       "      <th>4</th>\n",
       "      <td>11_0</td>\n",
       "      <td>132.0</td>\n",
       "      <td>0.000000</td>\n",
       "      <td>0.002421</td>\n",
       "      <td>0.569536</td>\n",
       "    </tr>\n",
       "    <tr>\n",
       "      <th>...</th>\n",
       "      <td>...</td>\n",
       "      <td>...</td>\n",
       "      <td>...</td>\n",
       "      <td>...</td>\n",
       "      <td>...</td>\n",
       "    </tr>\n",
       "    <tr>\n",
       "      <th>1723</th>\n",
       "      <td>290_0</td>\n",
       "      <td>70.0</td>\n",
       "      <td>0.035469</td>\n",
       "      <td>0.755634</td>\n",
       "      <td>0.123016</td>\n",
       "    </tr>\n",
       "    <tr>\n",
       "      <th>1724</th>\n",
       "      <td>290_0</td>\n",
       "      <td>69.0</td>\n",
       "      <td>0.032020</td>\n",
       "      <td>0.739677</td>\n",
       "      <td>0.119048</td>\n",
       "    </tr>\n",
       "    <tr>\n",
       "      <th>1725</th>\n",
       "      <td>290_0</td>\n",
       "      <td>69.0</td>\n",
       "      <td>0.028892</td>\n",
       "      <td>0.724266</td>\n",
       "      <td>0.119048</td>\n",
       "    </tr>\n",
       "    <tr>\n",
       "      <th>1726</th>\n",
       "      <td>290_0</td>\n",
       "      <td>69.0</td>\n",
       "      <td>0.026057</td>\n",
       "      <td>0.709428</td>\n",
       "      <td>0.119048</td>\n",
       "    </tr>\n",
       "    <tr>\n",
       "      <th>1727</th>\n",
       "      <td>290_0</td>\n",
       "      <td>67.0</td>\n",
       "      <td>0.023490</td>\n",
       "      <td>0.695180</td>\n",
       "      <td>0.111111</td>\n",
       "    </tr>\n",
       "  </tbody>\n",
       "</table>\n",
       "<p>1728 rows × 5 columns</p>\n",
       "</div>"
      ],
      "text/plain": [
       "         ID     BG      scRA      scPI      scBG\n",
       "0      11_0  134.0  0.000000  0.000000  0.582781\n",
       "1      11_0  125.0  0.000000  0.000097  0.523179\n",
       "2      11_0  132.0  0.000000  0.000543  0.569536\n",
       "3      11_0  132.0  0.000000  0.001253  0.569536\n",
       "4      11_0  132.0  0.000000  0.002421  0.569536\n",
       "...     ...    ...       ...       ...       ...\n",
       "1723  290_0   70.0  0.035469  0.755634  0.123016\n",
       "1724  290_0   69.0  0.032020  0.739677  0.119048\n",
       "1725  290_0   69.0  0.028892  0.724266  0.119048\n",
       "1726  290_0   69.0  0.026057  0.709428  0.119048\n",
       "1727  290_0   67.0  0.023490  0.695180  0.111111\n",
       "\n",
       "[1728 rows x 5 columns]"
      ]
     },
     "execution_count": 9,
     "metadata": {},
     "output_type": "execute_result"
    }
   ],
   "source": [
    "df_scaled = df.copy(deep=True)\n",
    "\n",
    "df_scaled['iteration'] = df_scaled.groupby('ID').cumcount()\n",
    "df_scaled = individual_min_max_scaling(df_scaled, 'misc/', (0,1), False, ['BG', 'RA', 'PI'])\n",
    "df_scaled.drop(columns=['PI', 'RA', 'iteration'], inplace=True)\n",
    "df_scaled"
   ]
  },
  {
   "cell_type": "code",
   "execution_count": 10,
   "id": "f3e3c679",
   "metadata": {},
   "outputs": [],
   "source": [
    "def pack_data(df) -> None:\n",
    "    \"\"\"\n",
    "    Pack the data into vectors for each feature (BG).\n",
    "\n",
    "    This method creates packed vectors for blood glucose (BG)\n",
    "    by sliding a window over the time series data. The packed data is then\n",
    "    stored in new columns in the DataFrame.\n",
    "    \"\"\"\n",
    "    df = df.fillna(0)  # Fill NaN values with 0\n",
    "\n",
    "    # Pack blood glucose data\n",
    "    packed_bg_vectors: np.ndarray = np.array(\n",
    "        [\n",
    "            df.iloc[i : i + 18]['scBG'].values\n",
    "            for i in tqdm(range(len(df) - (18 - 1)), desc='Packing BG')\n",
    "        ]\n",
    "    )\n",
    "\n",
    "    df = df.iloc[: len(packed_bg_vectors)]\n",
    "    df['scBG_packed'] = list(packed_bg_vectors)\n",
    "    df.reset_index(drop=True, inplace=True)\n",
    "    return df"
   ]
  },
  {
   "cell_type": "code",
   "execution_count": 11,
   "id": "12d3519f",
   "metadata": {},
   "outputs": [
    {
     "name": "stderr",
     "output_type": "stream",
     "text": [
      "Packing BG: 100%|██████████| 1711/1711 [00:00<00:00, 15957.43it/s]\n"
     ]
    },
    {
     "data": {
      "application/vnd.microsoft.datawrangler.viewer.v0+json": {
       "columns": [
        {
         "name": "index",
         "rawType": "int64",
         "type": "integer"
        },
        {
         "name": "ID",
         "rawType": "object",
         "type": "string"
        },
        {
         "name": "BG",
         "rawType": "float64",
         "type": "float"
        },
        {
         "name": "scRA",
         "rawType": "float64",
         "type": "float"
        },
        {
         "name": "scPI",
         "rawType": "float64",
         "type": "float"
        },
        {
         "name": "scBG",
         "rawType": "float64",
         "type": "float"
        },
        {
         "name": "scBG_packed",
         "rawType": "object",
         "type": "unknown"
        }
       ],
       "ref": "00456a45-280b-4e65-98c5-a0df9b6cad71",
       "rows": [
        [
         "0",
         "11_0",
         "134.0",
         "0.0",
         "0.0",
         "0.5827814569536424",
         "[0.58278146 0.52317881 0.56953642 0.56953642 0.56953642 0.56291391\n 0.58278146 0.58940397 0.55629139 0.54304636 0.46357616 0.41059603\n 0.43046358 0.43046358 0.39735099 0.33774834 0.33112583 0.33112583]"
        ],
        [
         "1",
         "11_0",
         "125.0",
         "0.0",
         "9.741871983127372e-05",
         "0.5231788079470199",
         "[0.52317881 0.56953642 0.56953642 0.56953642 0.56291391 0.58278146\n 0.58940397 0.55629139 0.54304636 0.46357616 0.41059603 0.43046358\n 0.43046358 0.39735099 0.33774834 0.33112583 0.33112583 0.33774834]"
        ],
        [
         "2",
         "11_0",
         "132.0",
         "0.0",
         "0.0005425637186432151",
         "0.5695364238410596",
         "[0.56953642 0.56953642 0.56953642 0.56291391 0.58278146 0.58940397\n 0.55629139 0.54304636 0.46357616 0.41059603 0.43046358 0.43046358\n 0.39735099 0.33774834 0.33112583 0.33112583 0.33774834 0.35099338]"
        ],
        [
         "3",
         "11_0",
         "132.0",
         "0.0",
         "0.0012529514455564743",
         "0.5695364238410596",
         "[0.56953642 0.56953642 0.56291391 0.58278146 0.58940397 0.55629139\n 0.54304636 0.46357616 0.41059603 0.43046358 0.43046358 0.39735099\n 0.33774834 0.33112583 0.33112583 0.33774834 0.35099338 0.35099338]"
        ],
        [
         "4",
         "11_0",
         "132.0",
         "0.0",
         "0.002421204078753309",
         "0.5695364238410596",
         "[0.56953642 0.56291391 0.58278146 0.58940397 0.55629139 0.54304636\n 0.46357616 0.41059603 0.43046358 0.43046358 0.39735099 0.33774834\n 0.33112583 0.33112583 0.33774834 0.35099338 0.35099338 0.35099338]"
        ],
        [
         "5",
         "11_0",
         "131.0",
         "0.0",
         "0.004647820697550199",
         "0.5629139072847682",
         "[0.56291391 0.58278146 0.58940397 0.55629139 0.54304636 0.46357616\n 0.41059603 0.43046358 0.43046358 0.39735099 0.33774834 0.33112583\n 0.33112583 0.33774834 0.35099338 0.35099338 0.35099338 0.34437086]"
        ],
        [
         "6",
         "11_0",
         "134.0",
         "0.0",
         "0.00920694300520656",
         "0.5827814569536424",
         "[0.58278146 0.58940397 0.55629139 0.54304636 0.46357616 0.41059603\n 0.43046358 0.43046358 0.39735099 0.33774834 0.33112583 0.33112583\n 0.33774834 0.35099338 0.35099338 0.35099338 0.34437086 0.33112583]"
        ],
        [
         "7",
         "11_0",
         "135.0",
         "0.0",
         "0.015112175362523784",
         "0.5894039735099338",
         "[0.58940397 0.55629139 0.54304636 0.46357616 0.41059603 0.43046358\n 0.43046358 0.39735099 0.33774834 0.33112583 0.33112583 0.33774834\n 0.35099338 0.35099338 0.35099338 0.34437086 0.33112583 0.31788079]"
        ],
        [
         "8",
         "11_0",
         "130.0",
         "0.0",
         "0.022156008263703023",
         "0.5562913907284768",
         "[0.55629139 0.54304636 0.46357616 0.41059603 0.43046358 0.43046358\n 0.39735099 0.33774834 0.33112583 0.33112583 0.33774834 0.35099338\n 0.35099338 0.35099338 0.34437086 0.33112583 0.31788079 0.30463576]"
        ],
        [
         "9",
         "11_0",
         "128.0",
         "0.0",
         "0.03162395957376811",
         "0.543046357615894",
         "[0.54304636 0.46357616 0.41059603 0.43046358 0.43046358 0.39735099\n 0.33774834 0.33112583 0.33112583 0.33774834 0.35099338 0.35099338\n 0.35099338 0.34437086 0.33112583 0.31788079 0.30463576 0.29801325]"
        ],
        [
         "10",
         "11_0",
         "116.0",
         "0.0",
         "0.04207466337701671",
         "0.46357615894039733",
         "[0.46357616 0.41059603 0.43046358 0.43046358 0.39735099 0.33774834\n 0.33112583 0.33112583 0.33774834 0.35099338 0.35099338 0.35099338\n 0.34437086 0.33112583 0.31788079 0.30463576 0.29801325 0.24503311]"
        ],
        [
         "11",
         "11_0",
         "108.0",
         "0.0",
         "0.052348681395580396",
         "0.4105960264900662",
         "[0.41059603 0.43046358 0.43046358 0.39735099 0.33774834 0.33112583\n 0.33112583 0.33774834 0.35099338 0.35099338 0.35099338 0.34437086\n 0.33112583 0.31788079 0.30463576 0.29801325 0.24503311 0.24503311]"
        ],
        [
         "12",
         "11_0",
         "111.0",
         "0.0",
         "0.06184036355699325",
         "0.4304635761589404",
         "[0.43046358 0.43046358 0.39735099 0.33774834 0.33112583 0.33112583\n 0.33774834 0.35099338 0.35099338 0.35099338 0.34437086 0.33112583\n 0.31788079 0.30463576 0.29801325 0.24503311 0.24503311 0.24503311]"
        ],
        [
         "13",
         "11_0",
         "111.0",
         "0.0",
         "0.07011011784507344",
         "0.4304635761589404",
         "[0.43046358 0.39735099 0.33774834 0.33112583 0.33112583 0.33774834\n 0.35099338 0.35099338 0.35099338 0.34437086 0.33112583 0.31788079\n 0.30463576 0.29801325 0.24503311 0.24503311 0.24503311 0.25827815]"
        ],
        [
         "14",
         "11_0",
         "106.0",
         "0.0",
         "0.07730163805688914",
         "0.3973509933774834",
         "[0.39735099 0.33774834 0.33112583 0.33112583 0.33774834 0.35099338\n 0.35099338 0.35099338 0.34437086 0.33112583 0.31788079 0.30463576\n 0.29801325 0.24503311 0.24503311 0.24503311 0.25827815 0.25827815]"
        ],
        [
         "15",
         "11_0",
         "97.0",
         "0.0",
         "0.08360440152708012",
         "0.33774834437086093",
         "[0.33774834 0.33112583 0.33112583 0.33774834 0.35099338 0.35099338\n 0.35099338 0.34437086 0.33112583 0.31788079 0.30463576 0.29801325\n 0.24503311 0.24503311 0.24503311 0.25827815 0.25827815 0.25827815]"
        ],
        [
         "16",
         "11_0",
         "96.0",
         "0.0",
         "0.0890535141828042",
         "0.33112582781456956",
         "[0.33112583 0.33112583 0.33774834 0.35099338 0.35099338 0.35099338\n 0.34437086 0.33112583 0.31788079 0.30463576 0.29801325 0.24503311\n 0.24503311 0.24503311 0.25827815 0.25827815 0.25827815 0.25827815]"
        ],
        [
         "17",
         "11_0",
         "96.0",
         "0.0",
         "0.09340131952232214",
         "0.33112582781456956",
         "[0.33112583 0.33774834 0.35099338 0.35099338 0.35099338 0.34437086\n 0.33112583 0.31788079 0.30463576 0.29801325 0.24503311 0.24503311\n 0.24503311 0.25827815 0.25827815 0.25827815 0.25827815 0.24503311]"
        ],
        [
         "18",
         "11_0",
         "97.0",
         "0.0",
         "0.09656029018528481",
         "0.33774834437086093",
         "[0.33774834 0.35099338 0.35099338 0.35099338 0.34437086 0.33112583\n 0.31788079 0.30463576 0.29801325 0.24503311 0.24503311 0.24503311\n 0.25827815 0.25827815 0.25827815 0.25827815 0.24503311 0.21854305]"
        ],
        [
         "19",
         "11_0",
         "99.0",
         "0.0",
         "0.0986823559263575",
         "0.3509933774834437",
         "[0.35099338 0.35099338 0.35099338 0.34437086 0.33112583 0.31788079\n 0.30463576 0.29801325 0.24503311 0.24503311 0.24503311 0.25827815\n 0.25827815 0.25827815 0.25827815 0.24503311 0.21854305 0.22516556]"
        ],
        [
         "20",
         "11_0",
         "99.0",
         "0.0",
         "0.10022870988701195",
         "0.3509933774834437",
         "[0.35099338 0.35099338 0.34437086 0.33112583 0.31788079 0.30463576\n 0.29801325 0.24503311 0.24503311 0.24503311 0.25827815 0.25827815\n 0.25827815 0.25827815 0.24503311 0.21854305 0.22516556 0.21192053]"
        ],
        [
         "21",
         "11_0",
         "99.0",
         "0.0",
         "0.10149931017091939",
         "0.3509933774834437",
         "[0.35099338 0.34437086 0.33112583 0.31788079 0.30463576 0.29801325\n 0.24503311 0.24503311 0.24503311 0.25827815 0.25827815 0.25827815\n 0.25827815 0.24503311 0.21854305 0.22516556 0.21192053 0.19205298]"
        ],
        [
         "22",
         "11_0",
         "98.0",
         "0.0",
         "0.10263870907596845",
         "0.3443708609271523",
         "[0.34437086 0.33112583 0.31788079 0.30463576 0.29801325 0.24503311\n 0.24503311 0.24503311 0.25827815 0.25827815 0.25827815 0.25827815\n 0.24503311 0.21854305 0.22516556 0.21192053 0.19205298 0.17218543]"
        ],
        [
         "23",
         "11_0",
         "96.0",
         "0.0",
         "0.10371443612494177",
         "0.33112582781456956",
         "[0.33112583 0.31788079 0.30463576 0.29801325 0.24503311 0.24503311\n 0.24503311 0.25827815 0.25827815 0.25827815 0.25827815 0.24503311\n 0.21854305 0.22516556 0.21192053 0.19205298 0.17218543 0.13907285]"
        ],
        [
         "24",
         "11_0",
         "94.0",
         "0.0",
         "0.10475620094371602",
         "0.31788079470198677",
         "[0.31788079 0.30463576 0.29801325 0.24503311 0.24503311 0.24503311\n 0.25827815 0.25827815 0.25827815 0.25827815 0.24503311 0.21854305\n 0.22516556 0.21192053 0.19205298 0.17218543 0.13907285 0.12582781]"
        ],
        [
         "25",
         "11_0",
         "92.0",
         "0.0",
         "0.10577544770682351",
         "0.304635761589404",
         "[0.30463576 0.29801325 0.24503311 0.24503311 0.24503311 0.25827815\n 0.25827815 0.25827815 0.25827815 0.24503311 0.21854305 0.22516556\n 0.21192053 0.19205298 0.17218543 0.13907285 0.12582781 0.09933775]"
        ],
        [
         "26",
         "11_0",
         "91.0",
         "0.0",
         "0.10677507808656539",
         "0.2980132450331126",
         "[0.29801325 0.24503311 0.24503311 0.24503311 0.25827815 0.25827815\n 0.25827815 0.25827815 0.24503311 0.21854305 0.22516556 0.21192053\n 0.19205298 0.17218543 0.13907285 0.12582781 0.09933775 0.0794702 ]"
        ],
        [
         "27",
         "11_0",
         "83.0",
         "0.0",
         "0.10775424448414057",
         "0.24503311258278146",
         "[0.24503311 0.24503311 0.24503311 0.25827815 0.25827815 0.25827815\n 0.25827815 0.24503311 0.21854305 0.22516556 0.21192053 0.19205298\n 0.17218543 0.13907285 0.12582781 0.09933775 0.0794702  0.08609272]"
        ],
        [
         "28",
         "11_0",
         "83.0",
         "0.0",
         "0.10861325278339579",
         "0.24503311258278146",
         "[0.24503311 0.24503311 0.25827815 0.25827815 0.25827815 0.25827815\n 0.24503311 0.21854305 0.22516556 0.21192053 0.19205298 0.17218543\n 0.13907285 0.12582781 0.09933775 0.0794702  0.08609272 0.08609272]"
        ],
        [
         "29",
         "11_0",
         "83.0",
         "0.0",
         "0.10900181299078827",
         "0.24503311258278146",
         "[0.24503311 0.25827815 0.25827815 0.25827815 0.25827815 0.24503311\n 0.21854305 0.22516556 0.21192053 0.19205298 0.17218543 0.13907285\n 0.12582781 0.09933775 0.0794702  0.08609272 0.08609272 0.09933775]"
        ],
        [
         "30",
         "11_0",
         "85.0",
         "0.0",
         "0.10874969623452731",
         "0.2582781456953642",
         "[0.25827815 0.25827815 0.25827815 0.25827815 0.24503311 0.21854305\n 0.22516556 0.21192053 0.19205298 0.17218543 0.13907285 0.12582781\n 0.09933775 0.0794702  0.08609272 0.08609272 0.09933775 0.12582781]"
        ],
        [
         "31",
         "11_0",
         "85.0",
         "0.0",
         "0.10793960449217577",
         "0.2582781456953642",
         "[0.25827815 0.25827815 0.25827815 0.24503311 0.21854305 0.22516556\n 0.21192053 0.19205298 0.17218543 0.13907285 0.12582781 0.09933775\n 0.0794702  0.08609272 0.08609272 0.09933775 0.12582781 0.18543046]"
        ],
        [
         "32",
         "11_0",
         "85.0",
         "0.0",
         "0.10697330952610228",
         "0.2582781456953642",
         "[0.25827815 0.25827815 0.24503311 0.21854305 0.22516556 0.21192053\n 0.19205298 0.17218543 0.13907285 0.12582781 0.09933775 0.0794702\n 0.08609272 0.08609272 0.09933775 0.12582781 0.18543046 0.21192053]"
        ],
        [
         "33",
         "11_0",
         "85.0",
         "0.0",
         "0.10609903470379733",
         "0.2582781456953642",
         "[0.25827815 0.24503311 0.21854305 0.22516556 0.21192053 0.19205298\n 0.17218543 0.13907285 0.12582781 0.09933775 0.0794702  0.08609272\n 0.08609272 0.09933775 0.12582781 0.18543046 0.21192053 0.23178808]"
        ],
        [
         "34",
         "11_0",
         "83.0",
         "0.0",
         "0.10541588960380398",
         "0.24503311258278146",
         "[0.24503311 0.21854305 0.22516556 0.21192053 0.19205298 0.17218543\n 0.13907285 0.12582781 0.09933775 0.0794702  0.08609272 0.08609272\n 0.09933775 0.12582781 0.18543046 0.21192053 0.23178808 0.25165563]"
        ],
        [
         "35",
         "11_0",
         "79.0",
         "0.0",
         "0.10495134000313676",
         "0.2185430463576159",
         "[0.21854305 0.22516556 0.21192053 0.19205298 0.17218543 0.13907285\n 0.12582781 0.09933775 0.0794702  0.08609272 0.08609272 0.09933775\n 0.12582781 0.18543046 0.21192053 0.23178808 0.25165563 0.22516556]"
        ],
        [
         "36",
         "11_0",
         "80.0",
         "0.0",
         "0.10460226212418453",
         "0.2251655629139073",
         "[0.22516556 0.21192053 0.19205298 0.17218543 0.13907285 0.12582781\n 0.09933775 0.0794702  0.08609272 0.08609272 0.09933775 0.12582781\n 0.18543046 0.21192053 0.23178808 0.25165563 0.22516556 0.1986755 ]"
        ],
        [
         "37",
         "11_0",
         "78.0",
         "0.0",
         "0.10408453225679976",
         "0.2119205298013245",
         "[0.21192053 0.19205298 0.17218543 0.13907285 0.12582781 0.09933775\n 0.0794702  0.08609272 0.08609272 0.09933775 0.12582781 0.18543046\n 0.21192053 0.23178808 0.25165563 0.22516556 0.1986755  0.20529801]"
        ],
        [
         "38",
         "11_0",
         "75.0",
         "0.0",
         "0.10342007054116631",
         "0.19205298013245034",
         "[0.19205298 0.17218543 0.13907285 0.12582781 0.09933775 0.0794702\n 0.08609272 0.08609272 0.09933775 0.12582781 0.18543046 0.21192053\n 0.23178808 0.25165563 0.22516556 0.1986755  0.20529801 0.20529801]"
        ],
        [
         "39",
         "11_0",
         "72.0",
         "0.0",
         "0.10241658335582328",
         "0.17218543046357615",
         "[0.17218543 0.13907285 0.12582781 0.09933775 0.0794702  0.08609272\n 0.08609272 0.09933775 0.12582781 0.18543046 0.21192053 0.23178808\n 0.25165563 0.22516556 0.1986755  0.20529801 0.20529801 0.1986755 ]"
        ],
        [
         "40",
         "11_0",
         "67.0",
         "0.0",
         "0.10097279293933496",
         "0.1390728476821192",
         "[0.13907285 0.12582781 0.09933775 0.0794702  0.08609272 0.08609272\n 0.09933775 0.12582781 0.18543046 0.21192053 0.23178808 0.25165563\n 0.22516556 0.1986755  0.20529801 0.20529801 0.1986755  0.19205298]"
        ],
        [
         "41",
         "11_0",
         "65.0",
         "0.0",
         "0.0990899289351976",
         "0.12582781456953643",
         "[0.12582781 0.09933775 0.0794702  0.08609272 0.08609272 0.09933775\n 0.12582781 0.18543046 0.21192053 0.23178808 0.25165563 0.22516556\n 0.1986755  0.20529801 0.20529801 0.1986755  0.19205298 0.17880795]"
        ],
        [
         "42",
         "11_0",
         "61.0",
         "0.0",
         "0.09681363870038844",
         "0.09933774834437085",
         "[0.09933775 0.0794702  0.08609272 0.08609272 0.09933775 0.12582781\n 0.18543046 0.21192053 0.23178808 0.25165563 0.22516556 0.1986755\n 0.20529801 0.20529801 0.1986755  0.19205298 0.17880795 0.17218543]"
        ],
        [
         "43",
         "11_0",
         "58.0",
         "0.0",
         "0.09420566853254685",
         "0.07947019867549669",
         "[0.0794702  0.08609272 0.08609272 0.09933775 0.12582781 0.18543046\n 0.21192053 0.23178808 0.25165563 0.22516556 0.1986755  0.20529801\n 0.20529801 0.1986755  0.19205298 0.17880795 0.17218543 0.17880795]"
        ],
        [
         "44",
         "11_0",
         "59.0",
         "0.0",
         "0.09133039175646726",
         "0.08609271523178808",
         "[0.08609272 0.08609272 0.09933775 0.12582781 0.18543046 0.21192053\n 0.23178808 0.25165563 0.22516556 0.1986755  0.20529801 0.20529801\n 0.1986755  0.19205298 0.17880795 0.17218543 0.17880795 0.20529801]"
        ],
        [
         "45",
         "11_0",
         "59.0",
         "0.0",
         "0.08833222225686452",
         "0.08609271523178808",
         "[0.08609272 0.09933775 0.12582781 0.18543046 0.21192053 0.23178808\n 0.25165563 0.22516556 0.1986755  0.20529801 0.20529801 0.1986755\n 0.19205298 0.17880795 0.17218543 0.17880795 0.20529801 0.25827815]"
        ],
        [
         "46",
         "11_0",
         "61.0",
         "0.0",
         "0.08556416186768036",
         "0.09933774834437085",
         "[0.09933775 0.12582781 0.18543046 0.21192053 0.23178808 0.25165563\n 0.22516556 0.1986755  0.20529801 0.20529801 0.1986755  0.19205298\n 0.17880795 0.17218543 0.17880795 0.20529801 0.25827815 0.29139073]"
        ],
        [
         "47",
         "11_0",
         "65.0",
         "0.0",
         "0.08321833400641665",
         "0.12582781456953643",
         "[0.12582781 0.18543046 0.21192053 0.23178808 0.25165563 0.22516556\n 0.1986755  0.20529801 0.20529801 0.1986755  0.19205298 0.17880795\n 0.17218543 0.17880795 0.20529801 0.25827815 0.29139073 0.31125828]"
        ],
        [
         "48",
         "11_0",
         "74.0",
         "0.0",
         "0.08134732864373842",
         "0.18543046357615894",
         "[0.18543046 0.21192053 0.23178808 0.25165563 0.22516556 0.1986755\n 0.20529801 0.20529801 0.1986755  0.19205298 0.17880795 0.17218543\n 0.17880795 0.20529801 0.25827815 0.29139073 0.31125828 0.32450331]"
        ],
        [
         "49",
         "11_0",
         "78.0",
         "0.0",
         "0.07993903720306934",
         "0.2119205298013245",
         "[0.21192053 0.23178808 0.25165563 0.22516556 0.1986755  0.20529801\n 0.20529801 0.1986755  0.19205298 0.17880795 0.17218543 0.17880795\n 0.20529801 0.25827815 0.29139073 0.31125828 0.32450331 0.29139073]"
        ]
       ],
       "shape": {
        "columns": 6,
        "rows": 1711
       }
      },
      "text/html": [
       "<div>\n",
       "<style scoped>\n",
       "    .dataframe tbody tr th:only-of-type {\n",
       "        vertical-align: middle;\n",
       "    }\n",
       "\n",
       "    .dataframe tbody tr th {\n",
       "        vertical-align: top;\n",
       "    }\n",
       "\n",
       "    .dataframe thead th {\n",
       "        text-align: right;\n",
       "    }\n",
       "</style>\n",
       "<table border=\"1\" class=\"dataframe\">\n",
       "  <thead>\n",
       "    <tr style=\"text-align: right;\">\n",
       "      <th></th>\n",
       "      <th>ID</th>\n",
       "      <th>BG</th>\n",
       "      <th>scRA</th>\n",
       "      <th>scPI</th>\n",
       "      <th>scBG</th>\n",
       "      <th>scBG_packed</th>\n",
       "    </tr>\n",
       "  </thead>\n",
       "  <tbody>\n",
       "    <tr>\n",
       "      <th>0</th>\n",
       "      <td>11_0</td>\n",
       "      <td>134.0</td>\n",
       "      <td>0.000000</td>\n",
       "      <td>0.000000</td>\n",
       "      <td>0.582781</td>\n",
       "      <td>[0.5827814569536424, 0.5231788079470199, 0.569...</td>\n",
       "    </tr>\n",
       "    <tr>\n",
       "      <th>1</th>\n",
       "      <td>11_0</td>\n",
       "      <td>125.0</td>\n",
       "      <td>0.000000</td>\n",
       "      <td>0.000097</td>\n",
       "      <td>0.523179</td>\n",
       "      <td>[0.5231788079470199, 0.5695364238410596, 0.569...</td>\n",
       "    </tr>\n",
       "    <tr>\n",
       "      <th>2</th>\n",
       "      <td>11_0</td>\n",
       "      <td>132.0</td>\n",
       "      <td>0.000000</td>\n",
       "      <td>0.000543</td>\n",
       "      <td>0.569536</td>\n",
       "      <td>[0.5695364238410596, 0.5695364238410596, 0.569...</td>\n",
       "    </tr>\n",
       "    <tr>\n",
       "      <th>3</th>\n",
       "      <td>11_0</td>\n",
       "      <td>132.0</td>\n",
       "      <td>0.000000</td>\n",
       "      <td>0.001253</td>\n",
       "      <td>0.569536</td>\n",
       "      <td>[0.5695364238410596, 0.5695364238410596, 0.562...</td>\n",
       "    </tr>\n",
       "    <tr>\n",
       "      <th>4</th>\n",
       "      <td>11_0</td>\n",
       "      <td>132.0</td>\n",
       "      <td>0.000000</td>\n",
       "      <td>0.002421</td>\n",
       "      <td>0.569536</td>\n",
       "      <td>[0.5695364238410596, 0.5629139072847682, 0.582...</td>\n",
       "    </tr>\n",
       "    <tr>\n",
       "      <th>...</th>\n",
       "      <td>...</td>\n",
       "      <td>...</td>\n",
       "      <td>...</td>\n",
       "      <td>...</td>\n",
       "      <td>...</td>\n",
       "      <td>...</td>\n",
       "    </tr>\n",
       "    <tr>\n",
       "      <th>1706</th>\n",
       "      <td>290_0</td>\n",
       "      <td>189.0</td>\n",
       "      <td>0.180982</td>\n",
       "      <td>1.000000</td>\n",
       "      <td>0.595238</td>\n",
       "      <td>[0.5952380952380952, 0.5515873015873016, 0.515...</td>\n",
       "    </tr>\n",
       "    <tr>\n",
       "      <th>1707</th>\n",
       "      <td>290_0</td>\n",
       "      <td>178.0</td>\n",
       "      <td>0.165737</td>\n",
       "      <td>0.998435</td>\n",
       "      <td>0.551587</td>\n",
       "      <td>[0.5515873015873016, 0.5158730158730159, 0.5, ...</td>\n",
       "    </tr>\n",
       "    <tr>\n",
       "      <th>1708</th>\n",
       "      <td>290_0</td>\n",
       "      <td>169.0</td>\n",
       "      <td>0.151576</td>\n",
       "      <td>0.993078</td>\n",
       "      <td>0.515873</td>\n",
       "      <td>[0.5158730158730159, 0.5, 0.47619047619047616,...</td>\n",
       "    </tr>\n",
       "    <tr>\n",
       "      <th>1709</th>\n",
       "      <td>290_0</td>\n",
       "      <td>165.0</td>\n",
       "      <td>0.138455</td>\n",
       "      <td>0.984596</td>\n",
       "      <td>0.500000</td>\n",
       "      <td>[0.5, 0.47619047619047616, 0.44841269841269843...</td>\n",
       "    </tr>\n",
       "    <tr>\n",
       "      <th>1710</th>\n",
       "      <td>290_0</td>\n",
       "      <td>159.0</td>\n",
       "      <td>0.126325</td>\n",
       "      <td>0.973572</td>\n",
       "      <td>0.476190</td>\n",
       "      <td>[0.47619047619047616, 0.44841269841269843, 0.4...</td>\n",
       "    </tr>\n",
       "  </tbody>\n",
       "</table>\n",
       "<p>1711 rows × 6 columns</p>\n",
       "</div>"
      ],
      "text/plain": [
       "         ID     BG      scRA      scPI      scBG  \\\n",
       "0      11_0  134.0  0.000000  0.000000  0.582781   \n",
       "1      11_0  125.0  0.000000  0.000097  0.523179   \n",
       "2      11_0  132.0  0.000000  0.000543  0.569536   \n",
       "3      11_0  132.0  0.000000  0.001253  0.569536   \n",
       "4      11_0  132.0  0.000000  0.002421  0.569536   \n",
       "...     ...    ...       ...       ...       ...   \n",
       "1706  290_0  189.0  0.180982  1.000000  0.595238   \n",
       "1707  290_0  178.0  0.165737  0.998435  0.551587   \n",
       "1708  290_0  169.0  0.151576  0.993078  0.515873   \n",
       "1709  290_0  165.0  0.138455  0.984596  0.500000   \n",
       "1710  290_0  159.0  0.126325  0.973572  0.476190   \n",
       "\n",
       "                                            scBG_packed  \n",
       "0     [0.5827814569536424, 0.5231788079470199, 0.569...  \n",
       "1     [0.5231788079470199, 0.5695364238410596, 0.569...  \n",
       "2     [0.5695364238410596, 0.5695364238410596, 0.569...  \n",
       "3     [0.5695364238410596, 0.5695364238410596, 0.562...  \n",
       "4     [0.5695364238410596, 0.5629139072847682, 0.582...  \n",
       "...                                                 ...  \n",
       "1706  [0.5952380952380952, 0.5515873015873016, 0.515...  \n",
       "1707  [0.5515873015873016, 0.5158730158730159, 0.5, ...  \n",
       "1708  [0.5158730158730159, 0.5, 0.47619047619047616,...  \n",
       "1709  [0.5, 0.47619047619047616, 0.44841269841269843...  \n",
       "1710  [0.47619047619047616, 0.44841269841269843, 0.4...  \n",
       "\n",
       "[1711 rows x 6 columns]"
      ]
     },
     "metadata": {},
     "output_type": "display_data"
    }
   ],
   "source": [
    "df_packed = pack_data(df_scaled)\n",
    "display(df_packed)"
   ]
  },
  {
   "cell_type": "code",
   "execution_count": 12,
   "id": "3ca30c69",
   "metadata": {},
   "outputs": [],
   "source": [
    "gan_inputs = ['scBG_packed', 'scPI', 'scRA']\n",
    "data_dict = {column: np.array(df_packed[column].tolist(), dtype=np.float32).reshape(df_packed.shape[0], 1, -1) for column in gan_inputs}"
   ]
  },
  {
   "cell_type": "code",
   "execution_count": 13,
   "id": "3a3f421a",
   "metadata": {},
   "outputs": [],
   "source": [
    "def load_training_data(df):\n",
    "    train_data_dict = {}\n",
    "    for input_name in gan_inputs:\n",
    "        if input_name == 'scBG_packed':\n",
    "            train_data_dict[f'scBG'] = df['scBG_packed']\n",
    "        else:\n",
    "            train_data_dict[f'{input_name}'] = df[f'{input_name}']\n",
    "\n",
    "    train_data = TrainingData(**train_data_dict)\n",
    "    return train_data"
   ]
  },
  {
   "cell_type": "code",
   "execution_count": 14,
   "id": "3768661a",
   "metadata": {},
   "outputs": [],
   "source": [
    "training_data = load_training_data(data_dict)"
   ]
  },
  {
   "cell_type": "code",
   "execution_count": 15,
   "id": "6ec1ddec",
   "metadata": {},
   "outputs": [
    {
     "name": "stderr",
     "output_type": "stream",
     "text": [
      "GAN Training:   4%|▍         | 103/2650 [00:05<01:31, 27.94step/s]"
     ]
    },
    {
     "name": "stdout",
     "output_type": "stream",
     "text": [
      "d_loss_real=7.620\n",
      "d_loss_fake=-52.439\n",
      "g_loss=39.880, adversarial_loss=39.804, l2_loss=0.075\n"
     ]
    },
    {
     "name": "stderr",
     "output_type": "stream",
     "text": [
      "GAN Training:   8%|▊         | 205/2650 [00:09<01:27, 27.99step/s]"
     ]
    },
    {
     "name": "stdout",
     "output_type": "stream",
     "text": [
      "d_loss_real=-21.779\n",
      "d_loss_fake=-54.201\n",
      "g_loss=43.021, adversarial_loss=42.940, l2_loss=0.081\n"
     ]
    },
    {
     "name": "stderr",
     "output_type": "stream",
     "text": [
      "GAN Training:  11%|█▏        | 304/2650 [00:12<01:24, 27.74step/s]"
     ]
    },
    {
     "name": "stdout",
     "output_type": "stream",
     "text": [
      "d_loss_real=-15.618\n",
      "d_loss_fake=-64.753\n",
      "g_loss=45.717, adversarial_loss=45.611, l2_loss=0.106\n"
     ]
    },
    {
     "name": "stderr",
     "output_type": "stream",
     "text": [
      "GAN Training:  15%|█▌        | 403/2650 [00:18<06:26,  5.81step/s]"
     ]
    },
    {
     "name": "stdout",
     "output_type": "stream",
     "text": [
      "d_loss_real=-41.613\n",
      "d_loss_fake=-75.870\n",
      "g_loss=53.947, adversarial_loss=53.841, l2_loss=0.106\n"
     ]
    },
    {
     "name": "stderr",
     "output_type": "stream",
     "text": [
      "GAN Training:  19%|█▉        | 505/2650 [00:21<01:16, 27.95step/s]"
     ]
    },
    {
     "name": "stdout",
     "output_type": "stream",
     "text": [
      "d_loss_real=-21.460\n",
      "d_loss_fake=-70.968\n",
      "g_loss=34.301, adversarial_loss=34.225, l2_loss=0.075\n"
     ]
    },
    {
     "name": "stderr",
     "output_type": "stream",
     "text": [
      "GAN Training:  23%|██▎       | 604/2650 [00:25<01:07, 30.43step/s]"
     ]
    },
    {
     "name": "stdout",
     "output_type": "stream",
     "text": [
      "d_loss_real=6.783\n",
      "d_loss_fake=-75.560\n",
      "g_loss=40.344, adversarial_loss=40.250, l2_loss=0.094\n"
     ]
    },
    {
     "name": "stderr",
     "output_type": "stream",
     "text": [
      "GAN Training:  27%|██▋       | 704/2650 [00:28<01:06, 29.34step/s]"
     ]
    },
    {
     "name": "stdout",
     "output_type": "stream",
     "text": [
      "d_loss_real=-9.054\n",
      "d_loss_fake=-94.934\n",
      "g_loss=58.350, adversarial_loss=58.253, l2_loss=0.097\n"
     ]
    },
    {
     "name": "stderr",
     "output_type": "stream",
     "text": [
      "GAN Training:  30%|███       | 804/2650 [00:32<01:04, 28.70step/s]"
     ]
    },
    {
     "name": "stdout",
     "output_type": "stream",
     "text": [
      "d_loss_real=0.028\n",
      "d_loss_fake=-75.666\n",
      "g_loss=62.517, adversarial_loss=62.413, l2_loss=0.104\n"
     ]
    },
    {
     "name": "stderr",
     "output_type": "stream",
     "text": [
      "GAN Training:  34%|███▍      | 904/2650 [00:35<00:58, 29.65step/s]"
     ]
    },
    {
     "name": "stdout",
     "output_type": "stream",
     "text": [
      "d_loss_real=9.422\n",
      "d_loss_fake=-92.611\n",
      "g_loss=53.286, adversarial_loss=53.165, l2_loss=0.121\n"
     ]
    },
    {
     "name": "stderr",
     "output_type": "stream",
     "text": [
      "GAN Training:  38%|███▊      | 1003/2650 [00:38<00:59, 27.86step/s]"
     ]
    },
    {
     "name": "stdout",
     "output_type": "stream",
     "text": [
      "d_loss_real=0.412\n",
      "d_loss_fake=-71.531\n",
      "g_loss=48.022, adversarial_loss=47.870, l2_loss=0.152\n"
     ]
    },
    {
     "name": "stderr",
     "output_type": "stream",
     "text": [
      "GAN Training:  42%|████▏     | 1105/2650 [00:42<00:53, 28.79step/s]"
     ]
    },
    {
     "name": "stdout",
     "output_type": "stream",
     "text": [
      "d_loss_real=1.966\n",
      "d_loss_fake=-51.213\n",
      "g_loss=80.585, adversarial_loss=80.439, l2_loss=0.146\n"
     ]
    },
    {
     "name": "stderr",
     "output_type": "stream",
     "text": [
      "GAN Training:  45%|████▌     | 1204/2650 [00:45<00:50, 28.48step/s]"
     ]
    },
    {
     "name": "stdout",
     "output_type": "stream",
     "text": [
      "d_loss_real=-11.040\n",
      "d_loss_fake=-57.009\n",
      "g_loss=86.422, adversarial_loss=86.270, l2_loss=0.152\n"
     ]
    },
    {
     "name": "stderr",
     "output_type": "stream",
     "text": [
      "GAN Training:  49%|████▉     | 1303/2650 [00:49<00:48, 27.53step/s]"
     ]
    },
    {
     "name": "stdout",
     "output_type": "stream",
     "text": [
      "d_loss_real=-5.897\n",
      "d_loss_fake=-124.716\n",
      "g_loss=105.963, adversarial_loss=105.840, l2_loss=0.123\n"
     ]
    },
    {
     "name": "stderr",
     "output_type": "stream",
     "text": [
      "GAN Training:  53%|█████▎    | 1405/2650 [00:55<00:43, 28.78step/s]"
     ]
    },
    {
     "name": "stdout",
     "output_type": "stream",
     "text": [
      "d_loss_real=-42.404\n",
      "d_loss_fake=-147.800\n",
      "g_loss=118.882, adversarial_loss=118.743, l2_loss=0.139\n"
     ]
    },
    {
     "name": "stderr",
     "output_type": "stream",
     "text": [
      "GAN Training:  57%|█████▋    | 1503/2650 [00:58<00:38, 29.77step/s]"
     ]
    },
    {
     "name": "stdout",
     "output_type": "stream",
     "text": [
      "d_loss_real=-25.979\n",
      "d_loss_fake=-138.167\n",
      "g_loss=77.603, adversarial_loss=77.518, l2_loss=0.084\n"
     ]
    },
    {
     "name": "stderr",
     "output_type": "stream",
     "text": [
      "GAN Training:  61%|██████    | 1605/2650 [01:01<00:34, 29.92step/s]"
     ]
    },
    {
     "name": "stdout",
     "output_type": "stream",
     "text": [
      "d_loss_real=-11.995\n",
      "d_loss_fake=-134.780\n",
      "g_loss=98.734, adversarial_loss=98.623, l2_loss=0.111\n"
     ]
    },
    {
     "name": "stderr",
     "output_type": "stream",
     "text": [
      "GAN Training:  64%|██████▍   | 1705/2650 [01:05<00:31, 30.17step/s]"
     ]
    },
    {
     "name": "stdout",
     "output_type": "stream",
     "text": [
      "d_loss_real=-8.664\n",
      "d_loss_fake=-171.240\n",
      "g_loss=43.719, adversarial_loss=43.598, l2_loss=0.121\n"
     ]
    },
    {
     "name": "stderr",
     "output_type": "stream",
     "text": [
      "GAN Training:  68%|██████▊   | 1804/2650 [01:08<00:27, 30.24step/s]"
     ]
    },
    {
     "name": "stdout",
     "output_type": "stream",
     "text": [
      "d_loss_real=-17.347\n",
      "d_loss_fake=-187.169\n",
      "g_loss=52.885, adversarial_loss=52.758, l2_loss=0.127\n"
     ]
    },
    {
     "name": "stderr",
     "output_type": "stream",
     "text": [
      "GAN Training:  72%|███████▏  | 1903/2650 [01:11<00:25, 29.11step/s]"
     ]
    },
    {
     "name": "stdout",
     "output_type": "stream",
     "text": [
      "d_loss_real=-39.130\n",
      "d_loss_fake=-216.629\n",
      "g_loss=34.447, adversarial_loss=34.294, l2_loss=0.153\n"
     ]
    },
    {
     "name": "stderr",
     "output_type": "stream",
     "text": [
      "GAN Training:  76%|███████▌  | 2005/2650 [01:15<00:22, 28.73step/s]"
     ]
    },
    {
     "name": "stdout",
     "output_type": "stream",
     "text": [
      "d_loss_real=-50.523\n",
      "d_loss_fake=-227.112\n",
      "g_loss=27.097, adversarial_loss=26.958, l2_loss=0.139\n"
     ]
    },
    {
     "name": "stderr",
     "output_type": "stream",
     "text": [
      "GAN Training:  79%|███████▉  | 2104/2650 [01:18<00:18, 29.08step/s]"
     ]
    },
    {
     "name": "stdout",
     "output_type": "stream",
     "text": [
      "d_loss_real=-59.328\n",
      "d_loss_fake=-236.274\n",
      "g_loss=20.775, adversarial_loss=20.590, l2_loss=0.185\n"
     ]
    },
    {
     "name": "stderr",
     "output_type": "stream",
     "text": [
      "GAN Training:  83%|████████▎ | 2203/2650 [01:22<00:16, 26.50step/s]"
     ]
    },
    {
     "name": "stdout",
     "output_type": "stream",
     "text": [
      "d_loss_real=-72.898\n",
      "d_loss_fake=-261.485\n",
      "g_loss=35.322, adversarial_loss=35.157, l2_loss=0.165\n"
     ]
    },
    {
     "name": "stderr",
     "output_type": "stream",
     "text": [
      "GAN Training:  87%|████████▋ | 2305/2650 [01:28<00:12, 28.01step/s]"
     ]
    },
    {
     "name": "stdout",
     "output_type": "stream",
     "text": [
      "d_loss_real=-68.219\n",
      "d_loss_fake=-252.229\n",
      "g_loss=23.738, adversarial_loss=23.568, l2_loss=0.170\n"
     ]
    },
    {
     "name": "stderr",
     "output_type": "stream",
     "text": [
      "GAN Training:  91%|█████████ | 2404/2650 [01:31<00:08, 30.08step/s]"
     ]
    },
    {
     "name": "stdout",
     "output_type": "stream",
     "text": [
      "d_loss_real=-71.701\n",
      "d_loss_fake=-283.157\n",
      "g_loss=27.327, adversarial_loss=27.123, l2_loss=0.204\n"
     ]
    },
    {
     "name": "stderr",
     "output_type": "stream",
     "text": [
      "GAN Training:  94%|█████████▍| 2504/2650 [01:35<00:04, 29.77step/s]"
     ]
    },
    {
     "name": "stdout",
     "output_type": "stream",
     "text": [
      "d_loss_real=-89.226\n",
      "d_loss_fake=-320.500\n",
      "g_loss=25.606, adversarial_loss=25.368, l2_loss=0.238\n"
     ]
    },
    {
     "name": "stderr",
     "output_type": "stream",
     "text": [
      "GAN Training:  98%|█████████▊| 2604/2650 [01:38<00:01, 29.55step/s]"
     ]
    },
    {
     "name": "stdout",
     "output_type": "stream",
     "text": [
      "d_loss_real=-108.232\n",
      "d_loss_fake=-282.278\n",
      "g_loss=10.610, adversarial_loss=10.386, l2_loss=0.224\n"
     ]
    },
    {
     "name": "stderr",
     "output_type": "stream",
     "text": [
      "GAN Training: 100%|██████████| 2650/2650 [01:40<00:00, 26.50step/s]\n"
     ]
    }
   ],
   "source": [
    "gan = GANModel(pretrained_vae_model)\n",
    "\n",
    "try:\n",
    "    gan.train(training_data)\n",
    "except KeyboardInterrupt:\n",
    "    print('Process interrupted by user')"
   ]
  }
 ],
 "metadata": {
  "kernelspec": {
   "display_name": ".venv",
   "language": "python",
   "name": "python3"
  },
  "language_info": {
   "codemirror_mode": {
    "name": "ipython",
    "version": 3
   },
   "file_extension": ".py",
   "mimetype": "text/x-python",
   "name": "python",
   "nbconvert_exporter": "python",
   "pygments_lexer": "ipython3",
   "version": "3.10.12"
  }
 },
 "nbformat": 4,
 "nbformat_minor": 5
}

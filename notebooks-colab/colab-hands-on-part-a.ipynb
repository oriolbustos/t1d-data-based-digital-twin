{
 "cells": [
  {
   "cell_type": "markdown",
   "id": "dcb2d621",
   "metadata": {
    "id": "dcb2d621"
   },
   "source": [
    "<div style=\"background-color:#1e1e1e; padding:25px; border-radius:10px; display:table; width:100%;\">\n",
    "\n",
    "  <!-- Left column: text -->\n",
    "  <div style=\"display:table-cell; vertical-align:top; width:80%; padding-right:10px;\">\n",
    "    <h1 style=\"color:#4FC3F7; margin-bottom:10px;\">Hands-On Part A: Loading a Pretrained Model</h1>\n",
    "\n",
    "  <p style=\"font-size:18px; font-style:italic; color:#cccccc;\">\n",
    "    Workshop on T1D Simulator and Digital Twins for Personalized Care\n",
    "  </p>\n",
    "\n",
    "  <p style=\"font-size:15px; line-height:1.6; color:#dddddd;\">\n",
    "    This preparatory notebook demonstrates how to load a pretrained deep learning model\n",
    "    for type 1 diabetes (T1D) simulation, inspect its structure, and process patient data\n",
    "    using physiological approximations. We will use the data we process here for Part B.\n",
    "  </p>\n",
    "  </div>\n",
    "\n",
    "  <!-- Right column: logo -->\n",
    "  <div style=\"display:table-cell; vertical-align:middle; text-align:right; width:20%; padding-right:80px;\">\n",
    "    <img src=\"https://micelab.udg.edu/wp-content/uploads/2022/08/MICElab-letras_png-300x119.png\" alt=\"MiceLab Logo\" style=\"height:80px; border-radius:8px;\">\n",
    "  </div>\n",
    "\n",
    "</div>\n"
   ]
  },
  {
   "cell_type": "markdown",
   "id": "6211567f",
   "metadata": {
    "id": "6211567f"
   },
   "source": [
    "<h2 style=\"color:#4FC3F7; border-bottom:2px solid #4FC3F7; padding-bottom:4px;\">\n",
    "0. Imports &amp; Set-Up\n",
    "</h2>"
   ]
  },
  {
   "cell_type": "code",
   "execution_count": null,
   "id": "X0SaUo3Fz2cG",
   "metadata": {
    "colab": {
     "base_uri": "https://localhost:8080/"
    },
    "executionInfo": {
     "elapsed": 11676,
     "status": "ok",
     "timestamp": 1758283049555,
     "user": {
      "displayName": "Oriol Bustos",
      "userId": "04552908976422917267"
     },
     "user_tz": -120
    },
    "id": "X0SaUo3Fz2cG",
    "outputId": "10cc390c-337a-4ba4-c800-1563be2e3e81"
   },
   "outputs": [],
   "source": [
    "from google.colab import drive\n",
    "drive.mount('/content/drive')\n",
    "\n",
    "import sys\n",
    "sys.path.append('/content/drive/MyDrive/Colab Notebooks/t1d-data-based-digital-twin/scripts')"
   ]
  },
  {
   "cell_type": "code",
   "execution_count": null,
   "id": "Tf1TenY41FlR",
   "metadata": {
    "colab": {
     "base_uri": "https://localhost:8080/"
    },
    "executionInfo": {
     "elapsed": 8753,
     "status": "ok",
     "timestamp": 1758283058337,
     "user": {
      "displayName": "Oriol Bustos",
      "userId": "04552908976422917267"
     },
     "user_tz": -120
    },
    "id": "Tf1TenY41FlR",
    "outputId": "f8efe5ee-ba75-4190-8ed2-f25680459837"
   },
   "outputs": [],
   "source": [
    "!pip install netron tqdm"
   ]
  },
  {
   "cell_type": "code",
   "execution_count": null,
   "id": "4b650c01",
   "metadata": {
    "executionInfo": {
     "elapsed": 44,
     "status": "ok",
     "timestamp": 1758283190453,
     "user": {
      "displayName": "Oriol Bustos",
      "userId": "04552908976422917267"
     },
     "user_tz": -120
    },
    "id": "4b650c01"
   },
   "outputs": [],
   "source": [
    "from pathlib import Path\n",
    "\n",
    "import matplotlib.pyplot as plt\n",
    "import netron\n",
    "import numpy as np\n",
    "import pandas as pd\n",
    "from scipy.integrate import odeint\n",
    "from tqdm import tqdm\n",
    "from google.colab import output\n",
    "from IPython.display import IFrame\n",
    "\n",
    "import tensorflow as tf\n",
    "from tensorflow.keras.layers import LSTM\n",
    "from tensorflow.keras.utils import plot_model\n"
   ]
  },
  {
   "cell_type": "markdown",
   "id": "272bf59d",
   "metadata": {
    "id": "272bf59d"
   },
   "source": [
    "<h2 style=\"color:#4FC3F7; border-bottom:2px solid #4FC3F7; padding-bottom:4px;\">\n",
    "1. Load Model\n",
    "</h2>"
   ]
  },
  {
   "cell_type": "markdown",
   "id": "51a7f13a",
   "metadata": {
    "id": "51a7f13a"
   },
   "source": [
    "Setup path and model name."
   ]
  },
  {
   "cell_type": "code",
   "execution_count": null,
   "id": "5f53aefc",
   "metadata": {
    "executionInfo": {
     "elapsed": 4,
     "status": "ok",
     "timestamp": 1758283058354,
     "user": {
      "displayName": "Oriol Bustos",
      "userId": "04552908976422917267"
     },
     "user_tz": -120
    },
    "id": "5f53aefc"
   },
   "outputs": [],
   "source": [
    "path_to_model = \"/content/drive/MyDrive/Colab Notebooks/t1d-data-based-digital-twin/misc\"\n",
    "model_name = \"pretrained-model.h5\"\n",
    "model_name = \"vae_decoder_epoch_010.h5\""
   ]
  },
  {
   "cell_type": "markdown",
   "id": "d029bac1",
   "metadata": {
    "id": "d029bac1"
   },
   "source": [
    "Load the .h5 using the `load_model` method from keras."
   ]
  },
  {
   "cell_type": "markdown",
   "id": "befdd3fa",
   "metadata": {},
   "source": [
    "Auxiliary function needed to load the pretrained model on a different Tensorflow version. This could lead to problems training later."
   ]
  },
  {
   "cell_type": "code",
   "execution_count": null,
   "id": "gXCgB_EV1VQt",
   "metadata": {
    "executionInfo": {
     "elapsed": 2,
     "status": "ok",
     "timestamp": 1758283059845,
     "user": {
      "displayName": "Oriol Bustos",
      "userId": "04552908976422917267"
     },
     "user_tz": -120
    },
    "id": "gXCgB_EV1VQt"
   },
   "outputs": [],
   "source": [
    "class CompatibleLSTM(LSTM):\n",
    "    def __init__(self, *args, **kwargs):\n",
    "        kwargs.pop(\"time_major\", None)\n",
    "        super().__init__(*args, **kwargs)\n",
    "\n",
    "custom = {\"LSTM\": CompatibleLSTM}"
   ]
  },
  {
   "cell_type": "code",
   "execution_count": null,
   "id": "a5dd52f9",
   "metadata": {
    "colab": {
     "base_uri": "https://localhost:8080/"
    },
    "executionInfo": {
     "elapsed": 269,
     "status": "ok",
     "timestamp": 1758283086872,
     "user": {
      "displayName": "Oriol Bustos",
      "userId": "04552908976422917267"
     },
     "user_tz": -120
    },
    "id": "a5dd52f9",
    "outputId": "56ff5a2d-2e32-4473-db98-208c3d9a1993"
   },
   "outputs": [],
   "source": [
    "model_filename = Path(path_to_model, model_name)\n",
    "pretrained_vae_model = tf.keras.models.load_model(model_filename, custom_objects=custom, compile=False)\n"
   ]
  },
  {
   "cell_type": "markdown",
   "id": "07c5e7ed",
   "metadata": {
    "id": "07c5e7ed"
   },
   "source": [
    "<h2 style=\"color:#4FC3F7; border-bottom:2px solid #4FC3F7; padding-bottom:4px;\">\n",
    "2. Inspect Model\n",
    "</h2>"
   ]
  },
  {
   "cell_type": "markdown",
   "id": "d7af4bb7",
   "metadata": {
    "id": "d7af4bb7"
   },
   "source": [
    "Let's explore the structure of the model we just loaded.\n",
    "\n",
    "Previous to this workshop, we trained a VAE (Variational AutoEncoder) model with some cohort's data. A VAE consists of two Neural Networks, an Encoder and a Decoder. The encoder converts real examples of the target data we want to synthesize, into a compressed representation of itself. This compressed space is called a Latent Space. Then the decoder learns to do the opposite process, from the compressed representation, reconstruct the original real samples. \n",
    "\n",
    "Once this VAE model is trained, we extract the decoder and put it inside a GAN as its generator. The genereator actually has the same task as the decoder, converting a latent vector into a real samples. In the GAN training process we use the same Latent Space structure so that the pretrained model can correctly use the previously learned information."
   ]
  },
  {
   "cell_type": "markdown",
   "id": "979ab93f",
   "metadata": {
    "id": "979ab93f"
   },
   "source": [
    "<h3 style=\"color:#4FC3F7; border-bottom:2px solid #4FC3F7; padding-bottom:4px;\">\n",
    "2.1 Text summary\n",
    "</h3>\n",
    "The `.summary()` method is usually the first step when inspecting a model, it shows in plain text each Layer's\n",
    "- Name and type\n",
    "- Output Shape (first element is always `None` since it will correspond to the batch size)\n",
    "- Number of Parameters\n",
    "- Layers it connects to\n",
    "- Whether it is set to trainable or  not (frozen, thus weights are not updated during backpropagation).\n",
    "\n",
    "It ends by showing the total number of parameters of the entire model."
   ]
  },
  {
   "cell_type": "code",
   "execution_count": null,
   "id": "5b9f4bfe",
   "metadata": {
    "colab": {
     "base_uri": "https://localhost:8080/",
     "height": 817
    },
    "executionInfo": {
     "elapsed": 286,
     "status": "ok",
     "timestamp": 1758283090500,
     "user": {
      "displayName": "Oriol Bustos",
      "userId": "04552908976422917267"
     },
     "user_tz": -120
    },
    "id": "5b9f4bfe",
    "outputId": "f67e1341-94bd-4656-8844-dd9953844999"
   },
   "outputs": [],
   "source": [
    "pretrained_vae_model.summary(expand_nested=True, show_trainable=True)"
   ]
  },
  {
   "cell_type": "markdown",
   "id": "510f2f67",
   "metadata": {
    "id": "510f2f67"
   },
   "source": [
    "<h3 style=\"color:#4FC3F7; border-bottom:2px solid #4FC3F7; padding-bottom:4px;\">\n",
    "2.2 Static diagram\n",
    "</h3>"
   ]
  },
  {
   "cell_type": "markdown",
   "id": "37c3eb61",
   "metadata": {
    "id": "37c3eb61"
   },
   "source": [
    "`plot_model` generates a visual diagram of the neural network architecture, showing each layer as a box with its name, type, and connections. This helps you quickly understand the model’s structure, input/output shapes, and how layers are connected. The diagram can be saved as an image for documentation or presentations."
   ]
  },
  {
   "cell_type": "code",
   "execution_count": null,
   "id": "15adce9e",
   "metadata": {
    "colab": {
     "base_uri": "https://localhost:8080/",
     "height": 1000
    },
    "executionInfo": {
     "elapsed": 1085,
     "status": "ok",
     "timestamp": 1758283108230,
     "user": {
      "displayName": "Oriol Bustos",
      "userId": "04552908976422917267"
     },
     "user_tz": -120
    },
    "id": "15adce9e",
    "outputId": "482fa2e7-d296-4ccb-8822-118d09ca0e8f"
   },
   "outputs": [],
   "source": [
    "plot_model(pretrained_vae_model, show_shapes=True, show_layer_names=True, expand_nested=True, dpi=200)"
   ]
  },
  {
   "cell_type": "markdown",
   "id": "30cf2cdd",
   "metadata": {
    "id": "30cf2cdd"
   },
   "source": [
    "<h3 style=\"color:#4FC3F7; border-bottom:2px solid #4FC3F7; padding-bottom:4px;\">\n",
    "2.3 Netron: Interactive Diagram\n",
    "</h3>"
   ]
  },
  {
   "cell_type": "markdown",
   "id": "34fbc695",
   "metadata": {
    "id": "34fbc695"
   },
   "source": [
    "Netron is a tool for visualizing neural network models interactively in your browser. The `netron.start(model_filename)` command launches a web-based viewer, allowing you to explore the model’s architecture, layers, and parameters directly in your browser.\n",
    "\n",
    "\n",
    "After running the cell, open the provided link."
   ]
  },
  {
   "cell_type": "code",
   "execution_count": null,
   "id": "0e5L4dxy11Oe",
   "metadata": {
    "colab": {
     "base_uri": "https://localhost:8080/",
     "height": 822
    },
    "executionInfo": {
     "elapsed": 1040,
     "status": "ok",
     "timestamp": 1758283196284,
     "user": {
      "displayName": "Oriol Bustos",
      "userId": "04552908976422917267"
     },
     "user_tz": -120
    },
    "id": "0e5L4dxy11Oe",
    "outputId": "cbecee8a-a906-4971-ca01-cf9983a7ac22"
   },
   "outputs": [],
   "source": [
    "host, port = netron.start(str(model_filename), browse=False)\n",
    "\n",
    "url = output.eval_js(f'google.colab.kernel.proxyPort({port})')\n",
    "\n",
    "IFrame(url, width='100%', height=800)"
   ]
  },
  {
   "cell_type": "markdown",
   "id": "a9ca4528",
   "metadata": {
    "id": "a9ca4528"
   },
   "source": [
    "<h2 style=\"color:#4FC3F7; border-bottom:2px solid #4FC3F7; padding-bottom:4px;\">\n",
    "3. Load Data\n",
    "</h2>"
   ]
  },
  {
   "cell_type": "code",
   "execution_count": null,
   "id": "e6ff3cf5",
   "metadata": {
    "colab": {
     "base_uri": "https://localhost:8080/",
     "height": 206
    },
    "executionInfo": {
     "elapsed": 619,
     "status": "ok",
     "timestamp": 1758283238187,
     "user": {
      "displayName": "Oriol Bustos",
      "userId": "04552908976422917267"
     },
     "user_tz": -120
    },
    "id": "e6ff3cf5",
    "outputId": "3b0f62f5-b8ee-4fe4-e634-60634fc6aa59"
   },
   "outputs": [],
   "source": [
    "path_to_data = \"/content/drive/MyDrive/Colab Notebooks/t1d-data-based-digital-twin/data\"\n",
    "path_df = Path(path_to_data, \"data_filtered.csv\")\n",
    "\n",
    "df = pd.read_csv(path_df)\n",
    "\n",
    "display(df.head())"
   ]
  },
  {
   "cell_type": "markdown",
   "id": "a6d600a6",
   "metadata": {
    "id": "a6d600a6"
   },
   "source": [
    "<h2 style=\"color:#4FC3F7; border-bottom:2px solid #4FC3F7; padding-bottom:4px;\">\n",
    "4. Physiological Approximations\n",
    "</h2>\n",
    "\n",
    "In this section, we use physiological models to approximate two key quantities for each patient:  \n",
    "- **PI (Plasma Insulin):** The effective insulin in the bloodstream, calculated from both bolus and basal insulin delivery using a compartmental model based on the Hovorka equations[\\[1\\]](#ref1).  \n",
    "- **RA (Rate of Appearance of Glucose):** The rate at which glucose enters the bloodstream after carbohydrate intake, also modeled using a compartmental approach[\\[1\\]](#ref1).\n",
    "\n",
    "These approximations transform raw insulin and carbohydrate data into physiologically meaningful features, which are more suitable for downstream modeling and simulation. The resulting columns, `PI` and `RA`, are added to the patient dataframes and will be used as inputs for the deep learning model in the next steps."
   ]
  },
  {
   "cell_type": "markdown",
   "id": "f60d3a8f",
   "metadata": {
    "id": "f60d3a8f"
   },
   "source": [
    "<h3 style=\"color:#4FC3F7; border-bottom:2px solid #4FC3F7; padding-bottom:4px;\">\n",
    "4.1 Equations\n",
    "</h3>\n",
    "\n",
    "Here are the implementations for solving the differential equations in Python functions."
   ]
  },
  {
   "cell_type": "code",
   "execution_count": null,
   "id": "edf7ca3f",
   "metadata": {
    "executionInfo": {
     "elapsed": 30,
     "status": "ok",
     "timestamp": 1758283241050,
     "user": {
      "displayName": "Oriol Bustos",
      "userId": "04552908976422917267"
     },
     "user_tz": -120
    },
    "id": "edf7ca3f"
   },
   "outputs": [],
   "source": [
    "def process_pi(df: pd.DataFrame, params_pi: dict) -> pd.DataFrame:\n",
    "    \"\"\"\n",
    "    Process the 'PI' column of the dataframe using parameters from params_pi.\n",
    "\n",
    "    Args:\n",
    "        df (pd.DataFrame): Dataframe to process.\n",
    "        params_pi (dict): Dictionary containing parameter values.\n",
    "\n",
    "    Returns:\n",
    "        pd.DataFrame: Dataframe with processed 'PI' column.\n",
    "    \"\"\"\n",
    "\n",
    "    def system(y0, t, params, u_t_values):\n",
    "        s1, s2, ifa = y0  # Corrected N806\n",
    "        vi = params['VI']  # Corrected N806\n",
    "        ke = params['Ke']  # Corrected N806\n",
    "        tmaxi = params['tmaxI']  # Corrected N806\n",
    "        kdia = 1 / tmaxi  # Corrected N806\n",
    "        dt = params['dt']\n",
    "\n",
    "        u_t = u_t_values[int(t / dt)] if int(t / dt) < len(u_t_values) else 0  # Corrected SIM108\n",
    "\n",
    "        ds1 = u_t - kdia * s1  # Corrected N806\n",
    "        ds2 = kdia * (s1 - s2)  # Corrected N806\n",
    "        difa = (s2 / (tmaxi * vi)) - ke * ifa  # Corrected N806\n",
    "\n",
    "        return [ds1, ds2, difa]\n",
    "\n",
    "    # Fill missing data\n",
    "    df['bolus'] = df['bolus'].fillna(0)\n",
    "\n",
    "    bolus_by_id = {}\n",
    "    # Group by ID and process each group\n",
    "    for patient_id, group in tqdm(df.groupby('ID'), desc='Processing bolus PI', total=df['ID'].nunique()):  # Corrected N806\n",
    "        u_t_values = group['bolus'].values / params_pi['dt']\n",
    "        y0 = [0, 0, 0]  # Initial conditions\n",
    "        t = np.arange(0, len(group) * params_pi['dt'], params_pi['dt'])  # Time vector\n",
    "\n",
    "        # Solve ODE for the current group\n",
    "        sol = odeint(system, y0, t, args=(params_pi, u_t_values), hmax=params_pi['dt'])\n",
    "        bolus_by_id[patient_id] = sol[:, 2]  # Add solution for Ifa to the group's dataframe\n",
    "\n",
    "    # Fill missing data\n",
    "    df['basal'] = df['basal'].fillna(0)\n",
    "\n",
    "    basal_by_id = {}\n",
    "    # Group by ID and process each group\n",
    "    for patient_id, group in tqdm(df.groupby('ID'), desc='Processing basal PI', total=df['ID'].nunique()):  # Corrected N806\n",
    "        u_t_values = group['basal'].values / params_pi['dt']\n",
    "        y0 = [0, 0, 0]  # Initial conditions\n",
    "        t = np.arange(0, len(group) * params_pi['dt'], params_pi['dt'])  # Time vector\n",
    "\n",
    "        # Solve ODE for the current group\n",
    "        sol = odeint(system, y0, t, args=(params_pi, u_t_values), hmax=params_pi['dt'])\n",
    "        basal_by_id[patient_id] = sol[:, 2]  # Add solution for Ifa to the group's dataframe\n",
    "\n",
    "    for idx in df['ID'].unique():\n",
    "        # Retrieve the index positions for the current sub_id\n",
    "        index_positions = df[df['ID'] == idx].index\n",
    "\n",
    "        # Retrieve the corresponding values from each dictionary\n",
    "        boluses_values = bolus_by_id.get(idx, [0] * len(index_positions))\n",
    "        basal_values = basal_by_id.get(idx, [0] * len(index_positions))\n",
    "\n",
    "        pi_values = [sum(x) for x in zip(boluses_values, basal_values, strict=False)]\n",
    "        df.loc[index_positions, 'PI'] = pi_values\n",
    "\n",
    "    return df\n",
    "\n",
    "\n",
    "def process_ra(df: pd.DataFrame, params_ra: dict) -> pd.DataFrame:\n",
    "    \"\"\"\n",
    "    Process the 'RA' column of the dataframe using parameters from params_ra.\n",
    "\n",
    "    Args:\n",
    "        df (pd.DataFrame): Dataframe to process.\n",
    "        params_ra (dict): Dictionary containing parameter values.\n",
    "\n",
    "    Returns:\n",
    "        pd.DataFrame: Dataframe with processed 'RA' column.\n",
    "    \"\"\"\n",
    "    dt = params_ra['dt']  # Extract time step for easier use later\n",
    "\n",
    "    def system(y0, t, params, u_t_values):\n",
    "        d1, d2 = y0  # Corrected N806\n",
    "        tau_d = params['tau_D']  # Corrected N806\n",
    "        a_g = params['A_G']  # Corrected N806\n",
    "\n",
    "        u_t = u_t_values[int(t / dt)] if int(t / dt) < len(u_t_values) else 0  # Corrected SIM108\n",
    "\n",
    "        # Rate equations\n",
    "        dd1 = a_g * u_t - 1 / tau_d * d1  # Corrected N806\n",
    "        dd2 = 1 / tau_d * d1 - 1 / tau_d * d2  # Corrected N806\n",
    "\n",
    "        return [dd1, dd2]\n",
    "\n",
    "    # Fill missing data\n",
    "    df['carbs'] = df['carbs'].fillna(0)\n",
    "\n",
    "    # Group by ID and process each group\n",
    "    for _, group in tqdm(df.groupby('ID'), desc='Processing RA', total=df['ID'].nunique()):  # Corrected N806, B007\n",
    "        u_t_values = group['carbs'].values\n",
    "        y0 = [0, 0]  # Initial conditions for D1 and D2\n",
    "        t = np.linspace(0, (len(group) - 1) * dt, len(group))  # Time vector\n",
    "\n",
    "        # Solve ODE for the current group\n",
    "        sol = odeint(system, y0, t, args=(params_ra, u_t_values), hmax=dt)\n",
    "\n",
    "        # Compute Ra from D2\n",
    "        d1, d2 = sol.T  # Corrected N806\n",
    "        ra = d2 / params_ra['tau_D']  # Corrected N806\n",
    "\n",
    "        # Store results in the group's dataframe\n",
    "        group['RA'] = ra\n",
    "        df.loc[group.index, 'RA'] = group['RA']\n",
    "\n",
    "    return df"
   ]
  },
  {
   "cell_type": "markdown",
   "id": "4ed5d380",
   "metadata": {
    "id": "4ed5d380"
   },
   "source": [
    "<h3 style=\"color:#4FC3F7; border-bottom:2px solid #4FC3F7; padding-bottom:4px;\">\n",
    "4.2 Parameters\n",
    "</h3>"
   ]
  },
  {
   "cell_type": "markdown",
   "id": "f3603a67",
   "metadata": {
    "id": "f3603a67"
   },
   "source": [
    "These two dictionaries contain the parameters for the PI and RA physiological models, extracted from [\\[1\\]](#ref1).\n",
    "- **params_pi**:  \n",
    "    Dictionary of parameters for the plasma insulin (PI) physiological model:  \n",
    "    - `VI`: Insulin distribution volume (L/kg)  \n",
    "    - `Ke`: Insulin elimination rate constant (1/min)  \n",
    "    - `tmaxI`: Time-to-maximum insulin absorption (min)  \n",
    "    - `dt`: Time step for simulation (min)  \n",
    "\n",
    "- **params_ra**:  \n",
    "    Dictionary of parameters for the rate of appearance (RA) of glucose model:  \n",
    "    - `tau_D`: Time constant for glucose absorption (min)  \n",
    "    - `A_G`: Fraction of carbohydrate absorbed  \n",
    "    - `dt`: Time step for simulation (min)"
   ]
  },
  {
   "cell_type": "code",
   "execution_count": null,
   "id": "c98fb1bc",
   "metadata": {
    "executionInfo": {
     "elapsed": 2,
     "status": "ok",
     "timestamp": 1758283242833,
     "user": {
      "displayName": "Oriol Bustos",
      "userId": "04552908976422917267"
     },
     "user_tz": -120
    },
    "id": "c98fb1bc"
   },
   "outputs": [],
   "source": [
    "params_pi: dict[str, float] = {'VI': 0.12,\n",
    "                               'Ke': 0.138,\n",
    "                               'tmaxI': 55,\n",
    "                               'dt': 5,\n",
    "                               }\n",
    "params_ra: dict[str, float] = {'tau_D': 40,\n",
    "                               'A_G': 0.8,\n",
    "                               'dt': 5\n",
    "                               }"
   ]
  },
  {
   "cell_type": "markdown",
   "id": "934eb1d7",
   "metadata": {
    "id": "934eb1d7"
   },
   "source": [
    "<h3 style=\"color:#4FC3F7; border-bottom:2px solid #4FC3F7; padding-bottom:4px;\">\n",
    "4.3 Let's solve\n",
    "</h3>"
   ]
  },
  {
   "cell_type": "code",
   "execution_count": null,
   "id": "7057829b",
   "metadata": {
    "colab": {
     "base_uri": "https://localhost:8080/"
    },
    "executionInfo": {
     "elapsed": 353,
     "status": "ok",
     "timestamp": 1758283244408,
     "user": {
      "displayName": "Oriol Bustos",
      "userId": "04552908976422917267"
     },
     "user_tz": -120
    },
    "id": "7057829b",
    "outputId": "d8782759-920f-4033-9800-eaf77e679407"
   },
   "outputs": [],
   "source": [
    "df = process_pi(df, params_pi)\n",
    "\n",
    "df = process_ra(df, params_ra)"
   ]
  },
  {
   "cell_type": "markdown",
   "id": "14f9869b",
   "metadata": {
    "id": "14f9869b"
   },
   "source": [
    "<h3 style=\"color:#4FC3F7; border-bottom:2px solid #4FC3F7; padding-bottom:4px;\">\n",
    "4.4 Plotting the Solved Equations\n",
    "</h3>\n",
    "Here we can see the original discrete signals (bolus and basal, and carbohydrate intake) plotted againsts the solved equations, which result in a continuus curve."
   ]
  },
  {
   "cell_type": "code",
   "execution_count": null,
   "id": "94190ea5",
   "metadata": {
    "colab": {
     "base_uri": "https://localhost:8080/",
     "height": 333
    },
    "executionInfo": {
     "elapsed": 367,
     "status": "ok",
     "timestamp": 1758283245867,
     "user": {
      "displayName": "Oriol Bustos",
      "userId": "04552908976422917267"
     },
     "user_tz": -120
    },
    "id": "94190ea5",
    "outputId": "ff8c8b22-88a6-4cb3-b9f4-38537b5efc3d"
   },
   "outputs": [],
   "source": [
    "length = 1000\n",
    "length = min(length, len(df))\n",
    "df_sliced = df.iloc[:length]\n",
    "df_sliced = df.iloc[:length]\n",
    "\n",
    "plt.figure(figsize=(6, 3))\n",
    "plt.plot(\n",
    "    df_sliced.index * 5,\n",
    "    df_sliced['PI'],\n",
    "    label='Solved PI',\n",
    "    color='blue',\n",
    ")\n",
    "plt.plot(df_sliced.index * 5, df_sliced['bolus'], label='Bolus', color='red')\n",
    "plt.plot(df_sliced.index * 5, df_sliced['basal'], label='Basal', color='green')\n",
    "\n",
    "plt.xlabel('Time (minutes)')\n",
    "plt.ylabel('Bolus Value')\n",
    "plt.title(f'Solved PI vs. Bolus and Basal for Patient 11 (First {length} Points / {length*5} minutes)')\n",
    "plt.legend(loc='best')\n",
    "plt.show()"
   ]
  },
  {
   "cell_type": "code",
   "execution_count": null,
   "id": "56eb4ee9",
   "metadata": {
    "colab": {
     "base_uri": "https://localhost:8080/",
     "height": 333
    },
    "executionInfo": {
     "elapsed": 294,
     "status": "ok",
     "timestamp": 1758283246858,
     "user": {
      "displayName": "Oriol Bustos",
      "userId": "04552908976422917267"
     },
     "user_tz": -120
    },
    "id": "56eb4ee9",
    "outputId": "bb75bbe9-5021-4e81-89d5-ed3860473612"
   },
   "outputs": [],
   "source": [
    "length = 1000\n",
    "length = min(length, len(df))\n",
    "df_sliced = df.iloc[:length]\n",
    "df_sliced = df.iloc[:length]\n",
    "\n",
    "plt.figure(figsize=(6, 3))\n",
    "plt.plot(\n",
    "    df_sliced.index * 5,\n",
    "    df_sliced['RA']*10,\n",
    "    label='Solved RA',\n",
    "    color='blue',\n",
    ")\n",
    "plt.plot(df_sliced.index * 5, df_sliced['carbs'], label='Carbohydrates', color='red')\n",
    "\n",
    "plt.xlabel('Time (minutes)')\n",
    "plt.ylabel('Bolus Value')\n",
    "plt.title(f'Solved RA (scaled x10) vs. Carbohydrate Intake for Patient 11 (First {length} Points / {length*5} minutes)')\n",
    "plt.legend(loc='best')\n",
    "plt.show()"
   ]
  },
  {
   "cell_type": "markdown",
   "id": "8b8bec1a",
   "metadata": {
    "id": "8b8bec1a"
   },
   "source": [
    "For visualization purposes we have upscaled the solved RA vector."
   ]
  },
  {
   "cell_type": "markdown",
   "id": "aa6ad9d6",
   "metadata": {
    "id": "aa6ad9d6"
   },
   "source": [
    "<h2 style=\"color:#4FC3F7; border-bottom:2px solid #4FC3F7; padding-bottom:4px;\">\n",
    "5. Save Processed Data for Modeling\n",
    "</h2>"
   ]
  },
  {
   "cell_type": "code",
   "execution_count": null,
   "id": "8c8eab1b",
   "metadata": {
    "colab": {
     "base_uri": "https://localhost:8080/",
     "height": 423
    },
    "executionInfo": {
     "elapsed": 308,
     "status": "ok",
     "timestamp": 1758283504076,
     "user": {
      "displayName": "Oriol Bustos",
      "userId": "04552908976422917267"
     },
     "user_tz": -120
    },
    "id": "8c8eab1b",
    "outputId": "e27d9711-e501-44cb-98cb-b13c0e49046c"
   },
   "outputs": [],
   "source": [
    "columns_to_save = ['ID', 'BG', 'PI', 'RA']\n",
    "display(df[columns_to_save])\n",
    "path_to_processed_data = \"/content/drive/MyDrive/Colab Notebooks/t1d-data-based-digital-twin/data/\"\n",
    "df[columns_to_save].to_csv(path_to_processed_data + 'data_processed.csv', index=False)"
   ]
  },
  {
   "cell_type": "markdown",
   "id": "febe8fd4",
   "metadata": {
    "id": "febe8fd4"
   },
   "source": [
    "<h2 style=\"color:#4FC3F7; border-bottom:2px solid #4FC3F7; padding-bottom:4px;\">\n",
    "References\n",
    "</h2>\n",
    "\n",
    "<a id=\"ref1\"></a> [1] Hovorka R, Canonico V, Chassin LJ, Haueter U, Massi-Benedetti M, Orsini Federici M, *et al.* (2004). Nonlinear model predictive control of glucose concentration in subjects with type 1 diabetes. *Physiological Measurement*, 25(4), 905–920."
   ]
  }
 ],
 "metadata": {
  "colab": {
   "provenance": []
  },
  "kernelspec": {
   "display_name": ".venv",
   "language": "python",
   "name": "python3"
  },
  "language_info": {
   "codemirror_mode": {
    "name": "ipython",
    "version": 3
   },
   "file_extension": ".py",
   "mimetype": "text/x-python",
   "name": "python",
   "nbconvert_exporter": "python",
   "pygments_lexer": "ipython3",
   "version": "3.13.3"
  }
 },
 "nbformat": 4,
 "nbformat_minor": 5
}
